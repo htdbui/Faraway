{
 "cells": [
  {
   "cell_type": "markdown",
   "id": "61335a7b-e34f-4cf3-afa9-c83f8b7e9bea",
   "metadata": {},
   "source": [
    "### 1. Datenbeschreibung\n",
    "\n",
    "*   Die Daten enthalten die monatliche Anzahl der Flugpassagiere aus den frühen Jahren des Flugverkehrs.\n",
    "*   Es gibt 144 Beobachtungen.\n",
    "*   Es gibt 2 Variablen:\n",
    "    *   **pass:** Anzahl der Passagiere\n",
    "    *   **Jahr:** Zeitpunkt in einem bestimmten Format (Januar = 0.083, Februar = 0.167, März = 0.250, April = 0.333, Mai = 0.417, Juni = 0.500, Juli = 0.583, August = 0.667, September = 0.750, Oktober = 0.833, November = 0.917, Dezember = 1.000) \n",
    "\n",
    "### 2. Pakete und Daten laden\n",
    "\n",
    "*   Zuerst müssen die notwendigen Pakete importiert werden, darunter pandas, numpy, scipy, matplotlib.pyplot, statsmodels.api und statsmodels.formula.api.\n",
    "*   Dann werden die Daten mit `faraway.datasets.air.load()` geladen.\n",
    "*   Die Spalte \"pass\" wird in \"passengers\" umbenannt, da \"pass\" ein Schlüsselwort ist.\n",
    "*   Die ersten paar Zeilen der Daten können mit `air.head()` angezeigt werden.\n",
    "*   Ein Diagramm der Passagierzahlen im Laufe der Zeit kann mit `plt.plot(air['year'], air['passengers'])` erstellt werden.\n",
    "\n",
    "### 3. Lineare Regression\n",
    "\n",
    "*   **Ziel:** Eine lineare Beziehung zwischen der Zeit und dem Logarithmus der Passagierzahlen modellieren.\n",
    "*   **Elemente für die Regression erstellen:**\n",
    "    *   **X:** Eine Datenmatrix mit einem Achsenabschnitt und dem Jahr.\n",
    "    *   **y:** Der Logarithmus der Passagierzahlen.\n",
    "*   **Regression durchführen:**\n",
    "    *   Dies kann mit `sm.OLS(y,X).fit()` aus `statsmodels.api` oder mit `smf.ols(formula='np.log(passengers) ~ year', data=air).fit()` aus `statsmodels.formula.api` erfolgen. \n",
    "*   **Ergebnisse ausgeben:** Die Zusammenfassung des Modells kann mit `lmod.summary()` oder `lmod2.summary()` angezeigt werden.\n",
    "*   **Modell visualisieren:** Ein Diagramm der angepassten Linie und der tatsächlichen Daten kann mit `plt.plot(air['year'], air['passengers'])` und `plt.plot(air['year'],np.exp(lmod.predict()))` erstellt werden. \n",
    "\n",
    "### 3.1 Autoregression\n",
    "\n",
    "*   **Ziel:** Die Passagierzahlen mit Verzögerungen der Passagierzahlen der vorherigen Monate modellieren.\n",
    "*   **Modell:**  \n",
    "    $y_t = β_0 + β_1 y_{t-1} + β_{12} y_{t-12} + β_{13} y_{t-13} + \\epsilon_t$\n",
    "    *   wobei $y_t$ die Passagierzahl im Monat $t$ ist.\n",
    "    *   $y_{t-1}$, $y_{t-12}$ und $y_{t-13}$ sind die Passagierzahlen ein, zwölf und dreizehn Monate vor dem Monat $t$.\n",
    "*   **Spalten mit Verzögerungen erstellen:** Neue Spalten im Datensatz werden für die Verzögerungen erstellt.\n",
    "*   **Elemente für die Regression erstellen:**\n",
    "    *   **X:** Eine Datenmatrix mit einem Achsenabschnitt und den Verzögerungen.\n",
    "    *   **y:** Der Logarithmus der Passagierzahlen.\n",
    "*   **Regression durchführen:** Die Regression wird mit `sm.OLS(y,X).fit()` durchgeführt.\n",
    "*   **Ergebnisse ausgeben:** Die Zusammenfassung des Modells kann mit `lmod.summary()` angezeigt werden.\n",
    "*   **Modell visualisieren:** Ein Diagramm der angepassten Linie und der tatsächlichen Daten kann mit `plt.plot(air['year'], air['passengers'])` und `plt.plot(airlag['year'],np.exp(lmod.predict()),linestyle='dashed')` erstellt werden. \n",
    "\n",
    "### 4. Vorhersage\n",
    "\n",
    "*   **Ziel:** Die Passagierzahl des nächsten Monats vorhersagen.\n",
    "*   **Werte der Verzögerungen abrufen:** Die Werte der Verzögerungen aus dem letzten Datenpunkt werden abgerufen.\n",
    "*   **Element für die Vorhersage erstellen:** Ein Datenrahmen mit dem Achsenabschnitt und den Verzögerungen wird erstellt.\n",
    "*   **Vorhersage durchführen:** Die Vorhersage wird mit `lmod.get_prediction(x0).summary_frame()` durchgeführt. \n"
   ]
  }
 ],
 "metadata": {
  "kernelspec": {
   "display_name": "Python 3 (ipykernel)",
   "language": "python",
   "name": "python3"
  },
  "language_info": {
   "codemirror_mode": {
    "name": "ipython",
    "version": 3
   },
   "file_extension": ".py",
   "mimetype": "text/x-python",
   "name": "python",
   "nbconvert_exporter": "python",
   "pygments_lexer": "ipython3",
   "version": "3.11.9"
  }
 },
 "nbformat": 4,
 "nbformat_minor": 5
}
