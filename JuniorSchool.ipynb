{
 "cells": [
  {
   "cell_type": "markdown",
   "id": "6cdf62ae-f195-40e0-8035-de1fd40192e7",
   "metadata": {},
   "source": [
    "# 1. Describe the data\n",
    "- It has 3236 rows.\n",
    "- There are 9 varialbes:\n",
    "    - school: A code representing 50 different schools (1-50).\n",
    "    - class: A factor indicating the class level (1, 2, 3, 4).\n",
    "    - gender: A factor with levels \"boy\" and \"girl\".\n",
    "    - social: The social class of the father, coded as:\n",
    "      - I = 1\n",
    "      - II = 2\n",
    "      - III nonmanual = 3\n",
    "      - III manual = 4\n",
    "      - IV = 5\n",
    "      - V = 6\n",
    "      - Long-term unemployed = 7\n",
    "      - Not currently employed = 8\n",
    "      - Father absent = 9\n",
    "    - raven: The test score from the Raven's Progressive Matrices.\n",
    "    - id: A unique student ID (coded 1-1402).\n",
    "    - english: The score in English.\n",
    "    - math: The score in Maths.\n",
    "    - year: The year of school.\n",
    "- Consider data from the Junior School Project collected from primary schools in inner London, detailed in Mortimore et al. (1988). We focus on two variables: the school (49 in total) and the mathematics test scores of their students."
   ]
  },
  {
   "cell_type": "markdown",
   "id": "b440c662-33e9-46ac-9b26-49663f690d78",
   "metadata": {},
   "source": [
    "# 2. Load packages and data"
   ]
  },
  {
   "cell_type": "code",
   "execution_count": 10,
   "id": "62511792-946a-4e8a-a9f8-dc28a3888738",
   "metadata": {},
   "outputs": [],
   "source": [
    "%%capture\n",
    "pip install faraway"
   ]
  },
  {
   "cell_type": "code",
   "execution_count": 11,
   "id": "8fbae807-05f0-4276-8bf4-b01438d93414",
   "metadata": {},
   "outputs": [],
   "source": [
    "import pandas as pd\n",
    "import numpy as np\n",
    "import matplotlib.pyplot as plt\n",
    "import statsmodels.api as sm\n",
    "import statsmodels.formula.api as smf\n",
    "import seaborn as sns\n",
    "from scipy import stats\n",
    "import faraway.utils"
   ]
  },
  {
   "cell_type": "code",
   "execution_count": 12,
   "id": "bd7200d9-4fb6-4155-83bf-d951d7daa626",
   "metadata": {},
   "outputs": [
    {
     "data": {
      "text/html": [
       "<div>\n",
       "<style scoped>\n",
       "    .dataframe tbody tr th:only-of-type {\n",
       "        vertical-align: middle;\n",
       "    }\n",
       "\n",
       "    .dataframe tbody tr th {\n",
       "        vertical-align: top;\n",
       "    }\n",
       "\n",
       "    .dataframe thead th {\n",
       "        text-align: right;\n",
       "    }\n",
       "</style>\n",
       "<table border=\"1\" class=\"dataframe\">\n",
       "  <thead>\n",
       "    <tr style=\"text-align: right;\">\n",
       "      <th></th>\n",
       "      <th>school</th>\n",
       "      <th>class</th>\n",
       "      <th>gender</th>\n",
       "      <th>social</th>\n",
       "      <th>raven</th>\n",
       "      <th>id</th>\n",
       "      <th>english</th>\n",
       "      <th>math</th>\n",
       "      <th>year</th>\n",
       "      <th>mathcent</th>\n",
       "    </tr>\n",
       "  </thead>\n",
       "  <tbody>\n",
       "    <tr>\n",
       "      <th>1</th>\n",
       "      <td>1</td>\n",
       "      <td>1</td>\n",
       "      <td>girl</td>\n",
       "      <td>9</td>\n",
       "      <td>23</td>\n",
       "      <td>1</td>\n",
       "      <td>72</td>\n",
       "      <td>23</td>\n",
       "      <td>0</td>\n",
       "      <td>-3.661928</td>\n",
       "    </tr>\n",
       "    <tr>\n",
       "      <th>2</th>\n",
       "      <td>1</td>\n",
       "      <td>1</td>\n",
       "      <td>girl</td>\n",
       "      <td>9</td>\n",
       "      <td>23</td>\n",
       "      <td>1</td>\n",
       "      <td>80</td>\n",
       "      <td>24</td>\n",
       "      <td>1</td>\n",
       "      <td>-2.661928</td>\n",
       "    </tr>\n",
       "    <tr>\n",
       "      <th>3</th>\n",
       "      <td>1</td>\n",
       "      <td>1</td>\n",
       "      <td>girl</td>\n",
       "      <td>9</td>\n",
       "      <td>23</td>\n",
       "      <td>1</td>\n",
       "      <td>39</td>\n",
       "      <td>23</td>\n",
       "      <td>2</td>\n",
       "      <td>-3.661928</td>\n",
       "    </tr>\n",
       "    <tr>\n",
       "      <th>4</th>\n",
       "      <td>1</td>\n",
       "      <td>1</td>\n",
       "      <td>boy</td>\n",
       "      <td>2</td>\n",
       "      <td>15</td>\n",
       "      <td>2</td>\n",
       "      <td>7</td>\n",
       "      <td>14</td>\n",
       "      <td>0</td>\n",
       "      <td>-12.661928</td>\n",
       "    </tr>\n",
       "    <tr>\n",
       "      <th>5</th>\n",
       "      <td>1</td>\n",
       "      <td>1</td>\n",
       "      <td>boy</td>\n",
       "      <td>2</td>\n",
       "      <td>15</td>\n",
       "      <td>2</td>\n",
       "      <td>17</td>\n",
       "      <td>11</td>\n",
       "      <td>1</td>\n",
       "      <td>-15.661928</td>\n",
       "    </tr>\n",
       "  </tbody>\n",
       "</table>\n",
       "</div>"
      ],
      "text/plain": [
       "   school  class gender  social  raven  id  english  math  year   mathcent\n",
       "1       1      1   girl       9     23   1       72    23     0  -3.661928\n",
       "2       1      1   girl       9     23   1       80    24     1  -2.661928\n",
       "3       1      1   girl       9     23   1       39    23     2  -3.661928\n",
       "4       1      1    boy       2     15   2        7    14     0 -12.661928\n",
       "5       1      1    boy       2     15   2       17    11     1 -15.661928"
      ]
     },
     "execution_count": 12,
     "metadata": {},
     "output_type": "execute_result"
    }
   ],
   "source": [
    "import faraway.datasets.jsp\n",
    "jsp = faraway.datasets.jsp.load()\n",
    "# We focus on deviations from the average, we center the scores:\n",
    "jsp['mathcent'] = jsp.math - np.mean(jsp.math)\n",
    "jsp.head()"
   ]
  },
  {
   "cell_type": "code",
   "execution_count": 13,
   "id": "f2ec58f3-47b0-4d60-84c4-d1a79e86e0aa",
   "metadata": {},
   "outputs": [
    {
     "data": {
      "image/png": "[encoded data removed]",
      "text/plain": [
       "<Figure size 1200x600 with 1 Axes>"
      ]
     },
     "metadata": {},
     "output_type": "display_data"
    }
   ],
   "source": [
    "# Set the figure size to increase the width (e.g., 12 inches wide by 6 inches high)\n",
    "plt.figure(figsize=(12, 6))\n",
    "# Create a boxplot to visualize the distribution of centered mathematics test scores (mathcent) for each school\n",
    "sns.boxplot(x=\"school\", y=\"mathcent\", data=jsp)\n",
    "# Adjust the x-axis tick labels to have a font size of 8 and rotate them 90 degrees for better readability\n",
    "plt.xticks(fontsize=8, rotation=90);"
   ]
  },
  {
   "cell_type": "markdown",
   "id": "8e85ee9f-c0bd-4c9b-b9dd-4ae723a508e8",
   "metadata": {},
   "source": [
    "# 3. False Discovery Rate"
   ]
  },
  {
   "cell_type": "code",
   "execution_count": 14,
   "id": "8269a46f-b436-4f46-9de0-ec8468ea5649",
   "metadata": {},
   "outputs": [
    {
     "data": {
      "text/html": [
       "<div>\n",
       "<style scoped>\n",
       "    .dataframe tbody tr th:only-of-type {\n",
       "        vertical-align: middle;\n",
       "    }\n",
       "\n",
       "    .dataframe tbody tr th {\n",
       "        vertical-align: top;\n",
       "    }\n",
       "\n",
       "    .dataframe thead th {\n",
       "        text-align: right;\n",
       "    }\n",
       "</style>\n",
       "<table border=\"1\" class=\"dataframe\">\n",
       "  <thead>\n",
       "    <tr style=\"text-align: right;\">\n",
       "      <th></th>\n",
       "      <th>0</th>\n",
       "      <th>1</th>\n",
       "      <th>2</th>\n",
       "      <th>3</th>\n",
       "      <th>4</th>\n",
       "      <th>5</th>\n",
       "      <th>6</th>\n",
       "    </tr>\n",
       "  </thead>\n",
       "  <tbody>\n",
       "    <tr>\n",
       "      <th>0</th>\n",
       "      <td></td>\n",
       "      <td>coef</td>\n",
       "      <td>std err</td>\n",
       "      <td>t</td>\n",
       "      <td>P&gt;|t|</td>\n",
       "      <td>[0.025</td>\n",
       "      <td>0.975]</td>\n",
       "    </tr>\n",
       "    <tr>\n",
       "      <th>1</th>\n",
       "      <td>C(school)[1]</td>\n",
       "      <td>-3.3685</td>\n",
       "      <td>0.769</td>\n",
       "      <td>-4.383</td>\n",
       "      <td>0.000</td>\n",
       "      <td>-4.875</td>\n",
       "      <td>-1.861</td>\n",
       "    </tr>\n",
       "    <tr>\n",
       "      <th>2</th>\n",
       "      <td>C(school)[2]</td>\n",
       "      <td>0.6714</td>\n",
       "      <td>1.229</td>\n",
       "      <td>0.546</td>\n",
       "      <td>0.585</td>\n",
       "      <td>-1.738</td>\n",
       "      <td>3.081</td>\n",
       "    </tr>\n",
       "    <tr>\n",
       "      <th>49</th>\n",
       "      <td>C(school)[50]</td>\n",
       "      <td>-2.6520</td>\n",
       "      <td>0.734</td>\n",
       "      <td>-3.615</td>\n",
       "      <td>0.000</td>\n",
       "      <td>-4.090</td>\n",
       "      <td>-1.214</td>\n",
       "    </tr>\n",
       "  </tbody>\n",
       "</table>\n",
       "</div>"
      ],
      "text/plain": [
       "                0           1          2          3       4          5  \\\n",
       "0                        coef    std err          t   P>|t|     [0.025   \n",
       "1    C(school)[1]     -3.3685      0.769     -4.383   0.000     -4.875   \n",
       "2    C(school)[2]      0.6714      1.229      0.546   0.585     -1.738   \n",
       "49  C(school)[50]     -2.6520      0.734     -3.615   0.000     -4.090   \n",
       "\n",
       "            6  \n",
       "0      0.975]  \n",
       "1      -1.861  \n",
       "2       3.081  \n",
       "49     -1.214  "
      ]
     },
     "execution_count": 14,
     "metadata": {},
     "output_type": "execute_result"
    }
   ],
   "source": [
    "# Choose the parameterization that omits the intercept term:\n",
    "lmod = smf.ols(\"mathcent ~ C(school) - 1\", jsp).fit()\n",
    "pd.DataFrame(lmod.summary().tables[1]).iloc[[0,1,2,49],:]"
   ]
  },
  {
   "cell_type": "markdown",
   "id": "df403acb-5a7f-4463-9a59-ca785fea37d8",
   "metadata": {},
   "source": [
    "- Since the response is centered, t-tests for differences from zero are meaningful. Schools 1 and 50 are significantly below average, while school 2 is not significantly above average. We can test for differences between schools:"
   ]
  },
  {
   "cell_type": "code",
   "execution_count": 15,
   "id": "77db1145-6bc8-4557-8b85-1c7a95d87f0a",
   "metadata": {},
   "outputs": [
    {
     "data": {
      "text/html": [
       "<div>\n",
       "<style scoped>\n",
       "    .dataframe tbody tr th:only-of-type {\n",
       "        vertical-align: middle;\n",
       "    }\n",
       "\n",
       "    .dataframe tbody tr th {\n",
       "        vertical-align: top;\n",
       "    }\n",
       "\n",
       "    .dataframe thead th {\n",
       "        text-align: right;\n",
       "    }\n",
       "</style>\n",
       "<table border=\"1\" class=\"dataframe\">\n",
       "  <thead>\n",
       "    <tr style=\"text-align: right;\">\n",
       "      <th></th>\n",
       "      <th>df</th>\n",
       "      <th>sum_sq</th>\n",
       "      <th>mean_sq</th>\n",
       "      <th>F</th>\n",
       "      <th>PR(&gt;F)</th>\n",
       "    </tr>\n",
       "  </thead>\n",
       "  <tbody>\n",
       "    <tr>\n",
       "      <th>C(school)</th>\n",
       "      <td>48.0</td>\n",
       "      <td>15483.816175</td>\n",
       "      <td>322.579504</td>\n",
       "      <td>5.935264</td>\n",
       "      <td>1.458040e-33</td>\n",
       "    </tr>\n",
       "    <tr>\n",
       "      <th>Residual</th>\n",
       "      <td>3187.0</td>\n",
       "      <td>173212.333393</td>\n",
       "      <td>54.349650</td>\n",
       "      <td>NaN</td>\n",
       "      <td>NaN</td>\n",
       "    </tr>\n",
       "  </tbody>\n",
       "</table>\n",
       "</div>"
      ],
      "text/plain": [
       "               df         sum_sq     mean_sq         F        PR(>F)\n",
       "C(school)    48.0   15483.816175  322.579504  5.935264  1.458040e-33\n",
       "Residual   3187.0  173212.333393   54.349650       NaN           NaN"
      ]
     },
     "execution_count": 15,
     "metadata": {},
     "output_type": "execute_result"
    }
   ],
   "source": [
    "sm.stats.anova_lm(smf.ols(\"mathcent ~ C(school)\", jsp).fit())"
   ]
  },
  {
   "cell_type": "markdown",
   "id": "b71e9726-0d8c-44b1-a6cc-094d3ed1b2e9",
   "metadata": {},
   "source": [
    "- We find a strongly significant difference, unsurprising given the large sample size and expected differences between schools. The more interesting question is which schools show clear evidence of under- or over-performance?\n",
    "- There are too many pairwise comparisons to focus on. Instead, let's identify schools with means significantly different from the average. Our parameterization simplifies these comparisons, but we expect about 5% of differences to be significant under the null hypothesis.\n",
    "- Some adjustment is necessary. One approach is to control the familywise error rate (FWER), the overall probability of falsely declaring a difference. The Bonferroni correction is a simple method: multiply the unadjusted p-values by the number of comparisons, truncating any value above one. Let's see which schools have adjusted p-values less than 5%.\n",
    "- The familywise error rate (FWER) is defined as the probability of making one or more Type I errors among a family of hypotheses tests. Mathematically: $ \\text{FWER} = P(\\text{At least one Type I error}) $. When conducting multiple comparisons, controlling the FWER ensures that the probability of at least one false positive remains below a specified significance level, typically denoted as $alpha$."
   ]
  },
  {
   "cell_type": "code",
   "execution_count": 16,
   "id": "2452c9ef-0e99-4892-8d2e-ed373394d5e1",
   "metadata": {},
   "outputs": [
    {
     "data": {
      "text/plain": [
       "C(school)[1]    -3.368450\n",
       "C(school)[16]   -3.737400\n",
       "C(school)[21]   -3.618450\n",
       "C(school)[28]   -5.828595\n",
       "C(school)[31]    3.824053\n",
       "C(school)[40]   -4.985458\n",
       "C(school)[45]   -4.639201\n",
       "C(school)[50]   -2.652027\n",
       "dtype: float64"
      ]
     },
     "execution_count": 16,
     "metadata": {},
     "output_type": "execute_result"
    }
   ],
   "source": [
    "from statsmodels.stats.multitest import multipletests\n",
    "\n",
    "# Perform multiple hypothesis testing correction using the Bonferroni method\n",
    "# reject: array of booleans indicating whether to reject the null hypothesis for each test\n",
    "# padj: array of adjusted p-values\n",
    "# The last two values (_ and _) are placeholders for unused outputs\n",
    "reject, padj, _, _ = multipletests(lmod.pvalues, method=\"bonferroni\")\n",
    "\n",
    "# Filter and display the model parameters where the null hypothesis is rejected\n",
    "lmod.params[reject]"
   ]
  },
  {
   "cell_type": "markdown",
   "id": "b51d1ad8-2b72-410c-a747-bc57ade4b316",
   "metadata": {},
   "source": [
    "- Eight schools are identified, with all except school 31 significantly above average.\n",
    "- The Bonferroni correction is conservative, and even more lenient methods impose stringent requirements as the number of comparisons increases.\n",
    "- An alternative is to control the false discovery rate (FDR), the proportion of falsely identified significant effects, using the Benjamini and Hochberg (1995) method.\n",
    "    - In this method, given sorted p-values $ p_{(i)} $ for $ i = 1, \\ldots, m $, the procedure finds the largest index $ i $ where $ p_{(i)} \\leq \\alpha \\frac{i}{m} $. All tests corresponding to p-values up to and including this index are considered significant."
   ]
  },
  {
   "cell_type": "code",
   "execution_count": 17,
   "id": "1964b084-b34a-46a5-9178-67f2a2c26817",
   "metadata": {},
   "outputs": [
    {
     "data": {
      "text/html": [
       "<div>\n",
       "<style scoped>\n",
       "    .dataframe tbody tr th:only-of-type {\n",
       "        vertical-align: middle;\n",
       "    }\n",
       "\n",
       "    .dataframe tbody tr th {\n",
       "        vertical-align: top;\n",
       "    }\n",
       "\n",
       "    .dataframe thead th {\n",
       "        text-align: right;\n",
       "    }\n",
       "</style>\n",
       "<table border=\"1\" class=\"dataframe\">\n",
       "  <thead>\n",
       "    <tr style=\"text-align: right;\">\n",
       "      <th></th>\n",
       "      <th>0</th>\n",
       "    </tr>\n",
       "  </thead>\n",
       "  <tbody>\n",
       "    <tr>\n",
       "      <th>0</th>\n",
       "      <td>C(school)[28]</td>\n",
       "    </tr>\n",
       "    <tr>\n",
       "      <th>1</th>\n",
       "      <td>C(school)[31]</td>\n",
       "    </tr>\n",
       "    <tr>\n",
       "      <th>2</th>\n",
       "      <td>C(school)[21]</td>\n",
       "    </tr>\n",
       "    <tr>\n",
       "      <th>3</th>\n",
       "      <td>C(school)[1]</td>\n",
       "    </tr>\n",
       "    <tr>\n",
       "      <th>4</th>\n",
       "      <td>C(school)[45]</td>\n",
       "    </tr>\n",
       "    <tr>\n",
       "      <th>5</th>\n",
       "      <td>C(school)[40]</td>\n",
       "    </tr>\n",
       "    <tr>\n",
       "      <th>6</th>\n",
       "      <td>C(school)[16]</td>\n",
       "    </tr>\n",
       "    <tr>\n",
       "      <th>7</th>\n",
       "      <td>C(school)[50]</td>\n",
       "    </tr>\n",
       "    <tr>\n",
       "      <th>8</th>\n",
       "      <td>C(school)[47]</td>\n",
       "    </tr>\n",
       "    <tr>\n",
       "      <th>9</th>\n",
       "      <td>C(school)[49]</td>\n",
       "    </tr>\n",
       "    <tr>\n",
       "      <th>10</th>\n",
       "      <td>C(school)[4]</td>\n",
       "    </tr>\n",
       "    <tr>\n",
       "      <th>11</th>\n",
       "      <td>C(school)[36]</td>\n",
       "    </tr>\n",
       "    <tr>\n",
       "      <th>12</th>\n",
       "      <td>C(school)[46]</td>\n",
       "    </tr>\n",
       "    <tr>\n",
       "      <th>13</th>\n",
       "      <td>C(school)[14]</td>\n",
       "    </tr>\n",
       "    <tr>\n",
       "      <th>14</th>\n",
       "      <td>C(school)[24]</td>\n",
       "    </tr>\n",
       "    <tr>\n",
       "      <th>15</th>\n",
       "      <td>C(school)[27]</td>\n",
       "    </tr>\n",
       "    <tr>\n",
       "      <th>16</th>\n",
       "      <td>C(school)[34]</td>\n",
       "    </tr>\n",
       "    <tr>\n",
       "      <th>17</th>\n",
       "      <td>C(school)[9]</td>\n",
       "    </tr>\n",
       "  </tbody>\n",
       "</table>\n",
       "</div>"
      ],
      "text/plain": [
       "                0\n",
       "0   C(school)[28]\n",
       "1   C(school)[31]\n",
       "2   C(school)[21]\n",
       "3    C(school)[1]\n",
       "4   C(school)[45]\n",
       "5   C(school)[40]\n",
       "6   C(school)[16]\n",
       "7   C(school)[50]\n",
       "8   C(school)[47]\n",
       "9   C(school)[49]\n",
       "10   C(school)[4]\n",
       "11  C(school)[36]\n",
       "12  C(school)[46]\n",
       "13  C(school)[14]\n",
       "14  C(school)[24]\n",
       "15  C(school)[27]\n",
       "16  C(school)[34]\n",
       "17   C(school)[9]"
      ]
     },
     "execution_count": 17,
     "metadata": {},
     "output_type": "execute_result"
    }
   ],
   "source": [
    "# Get the indices of p-values sorted in ascending order\n",
    "# Select indices where the sorted p-values are less than the corresponding threshold\n",
    "# determined by the False Discovery Rate (FDR) method (Benjamini-Hochberg procedure)\n",
    "selsch = np.argsort(lmod.pvalues)[np.sort(lmod.pvalues) < np.arange(1, 50) * 0.05 / 49]\n",
    "\n",
    "# Retrieve the parameter names (or indices) corresponding to the selected indices\n",
    "pd.DataFrame(lmod.params.index[selsch])"
   ]
  },
  {
   "cell_type": "markdown",
   "id": "970bec98-e29f-4c01-8976-414763ec6ad1",
   "metadata": {},
   "source": [
    "- Eighteen schools are identified compared to eight by the previous procedure.\n",
    "- FDR is less stringent than FWER in identifying significant effects.\n",
    "- A more convenient method of computing the adjusted p-values is:"
   ]
  },
  {
   "cell_type": "code",
   "execution_count": 18,
   "id": "b2368721-8ea8-426a-bf46-f50c8098fbbf",
   "metadata": {},
   "outputs": [
    {
     "data": {
      "text/plain": [
       "C(school)[1]    -3.368450\n",
       "C(school)[4]    -2.661928\n",
       "C(school)[9]     2.245764\n",
       "C(school)[14]   -3.289835\n",
       "C(school)[16]   -3.737400\n",
       "C(school)[21]   -3.618450\n",
       "C(school)[24]    2.623786\n",
       "C(school)[27]   -2.305764\n",
       "C(school)[28]   -5.828595\n",
       "C(school)[31]    3.824053\n",
       "C(school)[34]    1.935898\n",
       "C(school)[36]    2.360544\n",
       "C(school)[40]   -4.985458\n",
       "C(school)[45]   -4.639201\n",
       "C(school)[46]    3.063562\n",
       "C(school)[47]    2.396895\n",
       "C(school)[49]    2.796405\n",
       "C(school)[50]   -2.652027\n",
       "dtype: float64"
      ]
     },
     "execution_count": 18,
     "metadata": {},
     "output_type": "execute_result"
    }
   ],
   "source": [
    "# Perform multiple hypothesis testing correction using the False Discovery Rate (FDR) method (Benjamini-Hochberg procedure)\n",
    "# reject: array of booleans indicating whether to reject the null hypothesis for each test\n",
    "# padj: array of adjusted p-values\n",
    "# The last two values (_ and _) are placeholders for unused outputs\n",
    "reject, padj, _, _ = multipletests(lmod.pvalues, method=\"fdr_bh\")\n",
    "\n",
    "# Filter and display the model parameters where the null hypothesis is rejected\n",
    "lmod.params[reject]"
   ]
  },
  {
   "cell_type": "markdown",
   "id": "0bc2c382-ae90-4547-9283-3420762334bc",
   "metadata": {},
   "source": [
    "- FDR methods are common in imaging and bioinformatics, where large numbers of comparisons are necessary. They are useful for reliably identifying significant effects in such applications."
   ]
  }
 ],
 "metadata": {
  "kernelspec": {
   "display_name": "Python 3 (ipykernel)",
   "language": "python",
   "name": "python3"
  },
  "language_info": {
   "codemirror_mode": {
    "name": "ipython",
    "version": 3
   },
   "file_extension": ".py",
   "mimetype": "text/x-python",
   "name": "python",
   "nbconvert_exporter": "python",
   "pygments_lexer": "ipython3",
   "version": "3.11.9"
  }
 },
 "nbformat": 4,
 "nbformat_minor": 5
}
