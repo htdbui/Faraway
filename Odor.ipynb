{
 "cells": [
  {
   "cell_type": "markdown",
   "id": "39de84c6-a2bb-49dd-bab8-80b96ab1ccae",
   "metadata": {},
   "source": [
    "# 1. Describe the data\n",
    "- Here is an example of an experiment to determine the effects of temperature, gas/liquid ratio and packing height in reducing the unpleasant odor mùi of a chemical product that was sold for household use.\n",
    "- It has 15 observations.\n",
    "- There are 4 variables:\n",
    "    - Temperature. temp= (Fahrenheit-80)/40 so the original values of the predictor were 40, 80 and 120. \n",
    "    - Gas/liquid ratio is transformed from its original scale of measurement.\n",
    "    - Packing height is transformed from its original scale of measurement."
   ]
  },
  {
   "cell_type": "markdown",
   "id": "c5da7fb0-aa73-424b-8bd7-94920f357efe",
   "metadata": {},
   "source": [
    "# 2. Load packages and data"
   ]
  },
  {
   "cell_type": "code",
   "execution_count": 1,
   "id": "69192ba9-8fb7-4d37-9bf6-7a0a1b5bfcae",
   "metadata": {},
   "outputs": [],
   "source": [
    "%%capture\n",
    "pip install faraway"
   ]
  },
  {
   "cell_type": "code",
   "execution_count": 2,
   "id": "21f06823-1661-424a-b379-ef2f8040ae23",
   "metadata": {},
   "outputs": [],
   "source": [
    "import pandas as pd\n",
    "import numpy as np\n",
    "import matplotlib.pyplot as plt\n",
    "import scipy as sp\n",
    "import statsmodels.api as sm\n",
    "import statsmodels.formula.api as smf\n",
    "import seaborn as sns"
   ]
  },
  {
   "cell_type": "code",
   "execution_count": 4,
   "id": "29cf6822-4986-47e9-97a8-6002b818f2c8",
   "metadata": {},
   "outputs": [
    {
     "data": {
      "text/html": [
       "<div>\n",
       "<style scoped>\n",
       "    .dataframe tbody tr th:only-of-type {\n",
       "        vertical-align: middle;\n",
       "    }\n",
       "\n",
       "    .dataframe tbody tr th {\n",
       "        vertical-align: top;\n",
       "    }\n",
       "\n",
       "    .dataframe thead th {\n",
       "        text-align: right;\n",
       "    }\n",
       "</style>\n",
       "<table border=\"1\" class=\"dataframe\">\n",
       "  <thead>\n",
       "    <tr style=\"text-align: right;\">\n",
       "      <th></th>\n",
       "      <th>odor</th>\n",
       "      <th>temp</th>\n",
       "      <th>gas</th>\n",
       "      <th>pack</th>\n",
       "    </tr>\n",
       "  </thead>\n",
       "  <tbody>\n",
       "    <tr>\n",
       "      <th>0</th>\n",
       "      <td>66</td>\n",
       "      <td>-1</td>\n",
       "      <td>-1</td>\n",
       "      <td>0</td>\n",
       "    </tr>\n",
       "    <tr>\n",
       "      <th>1</th>\n",
       "      <td>39</td>\n",
       "      <td>1</td>\n",
       "      <td>-1</td>\n",
       "      <td>0</td>\n",
       "    </tr>\n",
       "    <tr>\n",
       "      <th>2</th>\n",
       "      <td>43</td>\n",
       "      <td>-1</td>\n",
       "      <td>1</td>\n",
       "      <td>0</td>\n",
       "    </tr>\n",
       "    <tr>\n",
       "      <th>3</th>\n",
       "      <td>49</td>\n",
       "      <td>1</td>\n",
       "      <td>1</td>\n",
       "      <td>0</td>\n",
       "    </tr>\n",
       "    <tr>\n",
       "      <th>4</th>\n",
       "      <td>58</td>\n",
       "      <td>-1</td>\n",
       "      <td>0</td>\n",
       "      <td>-1</td>\n",
       "    </tr>\n",
       "    <tr>\n",
       "      <th>5</th>\n",
       "      <td>17</td>\n",
       "      <td>1</td>\n",
       "      <td>0</td>\n",
       "      <td>-1</td>\n",
       "    </tr>\n",
       "    <tr>\n",
       "      <th>6</th>\n",
       "      <td>-5</td>\n",
       "      <td>-1</td>\n",
       "      <td>0</td>\n",
       "      <td>1</td>\n",
       "    </tr>\n",
       "    <tr>\n",
       "      <th>7</th>\n",
       "      <td>-40</td>\n",
       "      <td>1</td>\n",
       "      <td>0</td>\n",
       "      <td>1</td>\n",
       "    </tr>\n",
       "    <tr>\n",
       "      <th>8</th>\n",
       "      <td>65</td>\n",
       "      <td>0</td>\n",
       "      <td>-1</td>\n",
       "      <td>-1</td>\n",
       "    </tr>\n",
       "    <tr>\n",
       "      <th>9</th>\n",
       "      <td>7</td>\n",
       "      <td>0</td>\n",
       "      <td>1</td>\n",
       "      <td>-1</td>\n",
       "    </tr>\n",
       "    <tr>\n",
       "      <th>10</th>\n",
       "      <td>43</td>\n",
       "      <td>0</td>\n",
       "      <td>-1</td>\n",
       "      <td>1</td>\n",
       "    </tr>\n",
       "    <tr>\n",
       "      <th>11</th>\n",
       "      <td>-22</td>\n",
       "      <td>0</td>\n",
       "      <td>1</td>\n",
       "      <td>1</td>\n",
       "    </tr>\n",
       "    <tr>\n",
       "      <th>12</th>\n",
       "      <td>-31</td>\n",
       "      <td>0</td>\n",
       "      <td>0</td>\n",
       "      <td>0</td>\n",
       "    </tr>\n",
       "    <tr>\n",
       "      <th>13</th>\n",
       "      <td>-35</td>\n",
       "      <td>0</td>\n",
       "      <td>0</td>\n",
       "      <td>0</td>\n",
       "    </tr>\n",
       "    <tr>\n",
       "      <th>14</th>\n",
       "      <td>-26</td>\n",
       "      <td>0</td>\n",
       "      <td>0</td>\n",
       "      <td>0</td>\n",
       "    </tr>\n",
       "  </tbody>\n",
       "</table>\n",
       "</div>"
      ],
      "text/plain": [
       "    odor  temp  gas  pack\n",
       "0     66    -1   -1     0\n",
       "1     39     1   -1     0\n",
       "2     43    -1    1     0\n",
       "3     49     1    1     0\n",
       "4     58    -1    0    -1\n",
       "5     17     1    0    -1\n",
       "6     -5    -1    0     1\n",
       "7    -40     1    0     1\n",
       "8     65     0   -1    -1\n",
       "9      7     0    1    -1\n",
       "10    43     0   -1     1\n",
       "11   -22     0    1     1\n",
       "12   -31     0    0     0\n",
       "13   -35     0    0     0\n",
       "14   -26     0    0     0"
      ]
     },
     "execution_count": 4,
     "metadata": {},
     "output_type": "execute_result"
    }
   ],
   "source": [
    "import faraway.datasets.odor\n",
    "odor = faraway.datasets.odor.load()\n",
    "odor"
   ]
  },
  {
   "cell_type": "markdown",
   "id": "7e229c73-b1cc-4cf1-9da3-015e23f587cd",
   "metadata": {},
   "source": [
    "# 3. Orthogonality\n",
    "## 3.1. Theory\n",
    "- Suppose we can partition X in two $X=[X_1|X_2]$ such that $X_1'X_2=0$. Then $y=X\\beta + \\epsilon = X_1\\beta_1 + X_2\\beta_2 + \\epsilon$.\n",
    "- $\n",
    "X'X = \\begin{bmatrix}\n",
    "X_1'X_1 & X_1'X_2 \\\\\n",
    "X_2'X_1 & X_2'X_2\n",
    "\\end{bmatrix}\n",
    "= \\begin{bmatrix}\n",
    "X_1'X_1 & 0 \\\\\n",
    "0 & X_2'X_2\n",
    "\\end{bmatrix}\n",
    "$\n",
    "- $\\hat{\\beta}_1 = (X_1'X_1)^{-1}X_1'y$ and $\\hat{\\beta}_2 = (X_2'X_2)^{-1}X_2'y$\n",
    "- $\\hat{\\beta}_1$ will be the same regardless of whether $X_2$ is in the model or not.\n",
    "- However, $RSS/df = \\hat{\\sigma}^2$. $\\hat{\\sigma}^2$ depends on whether $X_2$ is in the model or not.\n",
    "- If the covariance between $X_1$ and $X_2$ is zero, then $\\sum_j(X_{j1}-\\bar{X_1})(X_{j2}-\\bar{X_2})=0$. If the predictors are centered, a covariance of zero implies orthogonality.\n",
    "- Orthogonality is a desirable property, but occur when X is chosen by experimenter. It is a feature of a good design."
   ]
  },
  {
   "cell_type": "markdown",
   "id": "a3c873f1-8821-4264-9fbf-9fac083de257",
   "metadata": {},
   "source": [
    "## 3.2 Application"
   ]
  },
  {
   "cell_type": "code",
   "execution_count": 13,
   "id": "9544161b-76cb-4767-9b7c-4067c184c2f4",
   "metadata": {},
   "outputs": [
    {
     "data": {
      "text/html": [
       "<div>\n",
       "<style scoped>\n",
       "    .dataframe tbody tr th:only-of-type {\n",
       "        vertical-align: middle;\n",
       "    }\n",
       "\n",
       "    .dataframe tbody tr th {\n",
       "        vertical-align: top;\n",
       "    }\n",
       "\n",
       "    .dataframe thead th {\n",
       "        text-align: right;\n",
       "    }\n",
       "</style>\n",
       "<table border=\"1\" class=\"dataframe\">\n",
       "  <thead>\n",
       "    <tr style=\"text-align: right;\">\n",
       "      <th></th>\n",
       "      <th>temp</th>\n",
       "      <th>gas</th>\n",
       "      <th>pack</th>\n",
       "    </tr>\n",
       "  </thead>\n",
       "  <tbody>\n",
       "    <tr>\n",
       "      <th>temp</th>\n",
       "      <td>0.571</td>\n",
       "      <td>0.000</td>\n",
       "      <td>0.000</td>\n",
       "    </tr>\n",
       "    <tr>\n",
       "      <th>gas</th>\n",
       "      <td>0.000</td>\n",
       "      <td>0.571</td>\n",
       "      <td>0.000</td>\n",
       "    </tr>\n",
       "    <tr>\n",
       "      <th>pack</th>\n",
       "      <td>0.000</td>\n",
       "      <td>0.000</td>\n",
       "      <td>0.571</td>\n",
       "    </tr>\n",
       "  </tbody>\n",
       "</table>\n",
       "</div>"
      ],
      "text/plain": [
       "       temp    gas   pack\n",
       "temp  0.571  0.000  0.000\n",
       "gas   0.000  0.571  0.000\n",
       "pack  0.000  0.000  0.571"
      ]
     },
     "execution_count": 13,
     "metadata": {},
     "output_type": "execute_result"
    }
   ],
   "source": [
    "# Covariance\n",
    "odor.iloc[:,1:].cov().round(3)"
   ]
  },
  {
   "cell_type": "code",
   "execution_count": 12,
   "id": "67e30c88-b9cc-41bf-82b7-96eaa009abe3",
   "metadata": {},
   "outputs": [
    {
     "data": {
      "text/html": [
       "<div>\n",
       "<style scoped>\n",
       "    .dataframe tbody tr th:only-of-type {\n",
       "        vertical-align: middle;\n",
       "    }\n",
       "\n",
       "    .dataframe tbody tr th {\n",
       "        vertical-align: top;\n",
       "    }\n",
       "\n",
       "    .dataframe thead th {\n",
       "        text-align: right;\n",
       "    }\n",
       "</style>\n",
       "<table border=\"1\" class=\"dataframe\">\n",
       "  <thead>\n",
       "    <tr style=\"text-align: right;\">\n",
       "      <th></th>\n",
       "      <th>temp</th>\n",
       "      <th>gas</th>\n",
       "      <th>pack</th>\n",
       "    </tr>\n",
       "  </thead>\n",
       "  <tbody>\n",
       "    <tr>\n",
       "      <th>temp</th>\n",
       "      <td>1.0</td>\n",
       "      <td>-0.0</td>\n",
       "      <td>-0.0</td>\n",
       "    </tr>\n",
       "    <tr>\n",
       "      <th>gas</th>\n",
       "      <td>-0.0</td>\n",
       "      <td>1.0</td>\n",
       "      <td>0.0</td>\n",
       "    </tr>\n",
       "    <tr>\n",
       "      <th>pack</th>\n",
       "      <td>-0.0</td>\n",
       "      <td>0.0</td>\n",
       "      <td>1.0</td>\n",
       "    </tr>\n",
       "  </tbody>\n",
       "</table>\n",
       "</div>"
      ],
      "text/plain": [
       "      temp  gas  pack\n",
       "temp   1.0 -0.0  -0.0\n",
       "gas   -0.0  1.0   0.0\n",
       "pack  -0.0  0.0   1.0"
      ]
     },
     "execution_count": 12,
     "metadata": {},
     "output_type": "execute_result"
    }
   ],
   "source": [
    "# Correlation\n",
    "odor.iloc[:,1:].corr().round(3)"
   ]
  },
  {
   "cell_type": "code",
   "execution_count": 18,
   "id": "33f678ef-7c1d-4e95-ab4b-217177d5cad3",
   "metadata": {},
   "outputs": [
    {
     "data": {
      "text/plain": [
       "Intercept    15.200\n",
       "temp        -12.125\n",
       "gas         -17.000\n",
       "pack        -21.375\n",
       "dtype: float64"
      ]
     },
     "execution_count": 18,
     "metadata": {},
     "output_type": "execute_result"
    }
   ],
   "source": [
    "# Linear model 1\n",
    "lmod = smf.ols('odor ~ temp + gas + pack', odor).fit()\n",
    "lmod.params"
   ]
  },
  {
   "cell_type": "code",
   "execution_count": 16,
   "id": "cdebca25-64c4-48fd-aec0-1ad3c34ffb29",
   "metadata": {},
   "outputs": [
    {
     "data": {
      "text/html": [
       "<div>\n",
       "<style scoped>\n",
       "    .dataframe tbody tr th:only-of-type {\n",
       "        vertical-align: middle;\n",
       "    }\n",
       "\n",
       "    .dataframe tbody tr th {\n",
       "        vertical-align: top;\n",
       "    }\n",
       "\n",
       "    .dataframe thead th {\n",
       "        text-align: right;\n",
       "    }\n",
       "</style>\n",
       "<table border=\"1\" class=\"dataframe\">\n",
       "  <thead>\n",
       "    <tr style=\"text-align: right;\">\n",
       "      <th></th>\n",
       "      <th>Intercept</th>\n",
       "      <th>temp</th>\n",
       "      <th>gas</th>\n",
       "      <th>pack</th>\n",
       "    </tr>\n",
       "  </thead>\n",
       "  <tbody>\n",
       "    <tr>\n",
       "      <th>Intercept</th>\n",
       "      <td>86.455</td>\n",
       "      <td>-0.000</td>\n",
       "      <td>-0.000</td>\n",
       "      <td>0.000</td>\n",
       "    </tr>\n",
       "    <tr>\n",
       "      <th>temp</th>\n",
       "      <td>-0.000</td>\n",
       "      <td>162.104</td>\n",
       "      <td>0.000</td>\n",
       "      <td>0.000</td>\n",
       "    </tr>\n",
       "    <tr>\n",
       "      <th>gas</th>\n",
       "      <td>-0.000</td>\n",
       "      <td>0.000</td>\n",
       "      <td>162.104</td>\n",
       "      <td>0.000</td>\n",
       "    </tr>\n",
       "    <tr>\n",
       "      <th>pack</th>\n",
       "      <td>0.000</td>\n",
       "      <td>0.000</td>\n",
       "      <td>0.000</td>\n",
       "      <td>162.104</td>\n",
       "    </tr>\n",
       "  </tbody>\n",
       "</table>\n",
       "</div>"
      ],
      "text/plain": [
       "           Intercept     temp      gas     pack\n",
       "Intercept     86.455   -0.000   -0.000    0.000\n",
       "temp          -0.000  162.104    0.000    0.000\n",
       "gas           -0.000    0.000  162.104    0.000\n",
       "pack           0.000    0.000    0.000  162.104"
      ]
     },
     "execution_count": 16,
     "metadata": {},
     "output_type": "execute_result"
    }
   ],
   "source": [
    "lmod.cov_params().round(3)"
   ]
  },
  {
   "cell_type": "markdown",
   "id": "ee1c0c1f-6cb3-4958-be3d-99b6c28dbce4",
   "metadata": {},
   "source": [
    "The standard errors for the coefficients are equal due to the balanced design."
   ]
  },
  {
   "cell_type": "code",
   "execution_count": 17,
   "id": "bbcfd5aa-cf60-4f5f-9924-db36ef9fd1c5",
   "metadata": {},
   "outputs": [
    {
     "data": {
      "text/plain": [
       "Intercept    15.200\n",
       "gas         -17.000\n",
       "pack        -21.375\n",
       "dtype: float64"
      ]
     },
     "execution_count": 17,
     "metadata": {},
     "output_type": "execute_result"
    }
   ],
   "source": [
    "# Linear model 2: drop temp\n",
    "lmod = smf.ols('odor ~ gas + pack', odor).fit()\n",
    "lmod.params"
   ]
  }
 ],
 "metadata": {
  "kernelspec": {
   "display_name": "Python 3 (ipykernel)",
   "language": "python",
   "name": "python3"
  },
  "language_info": {
   "codemirror_mode": {
    "name": "ipython",
    "version": 3
   },
   "file_extension": ".py",
   "mimetype": "text/x-python",
   "name": "python",
   "nbconvert_exporter": "python",
   "pygments_lexer": "ipython3",
   "version": "3.11.9"
  }
 },
 "nbformat": 4,
 "nbformat_minor": 5
}
