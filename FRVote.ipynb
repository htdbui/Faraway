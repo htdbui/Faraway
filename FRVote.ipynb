{
 "cells": [
  {
   "cell_type": "markdown",
   "id": "4c77de26-b864-4d75-8667-0b92738bfd06",
   "metadata": {},
   "source": [
    "# 1. Describe the data\n",
    "- It has 24 observations.\n",
    "- There are 14 variables, all are in thousands:\n",
    "    - El denotes electeur inscrits or registered voters.\n",
    "    - A stand for Mitterand’s in the first round.\n",
    "    - B stand for Giscard’s in the first round.\n",
    "    - A2 stand for Mitterand’s in the second round.\n",
    "    - B2 stand for Giscard’s in the first round.\n",
    "    - C-K are the ﬁrst round votes of the other candidates.\n",
    "    - The total number of voters in the second round exceeded that of the first round — we can denote this difference as N. We will treat this group as if it were another first-round candidate, although there are other reasonable ways to handle this.\n",
    "- French presidential elections are held in two rounds. In 1981, there were 10 candidates in the first round. The top two candidates advanced to the second round, where François Mitterrand defeated Valéry Giscard-d’Estaing. Candidates who lost in the first round can gain political favors by encouraging their supporters to vote for one of the finalists. Since voting is private, we can’t know exactly how these votes were transferred, but we can infer patterns from the published vote totals. Anderson and Loynes (1987) provided data on these vote totals for every fourth department in France."
   ]
  },
  {
   "cell_type": "markdown",
   "id": "aaf9e820-b58e-4ba5-a735-8ea5de101279",
   "metadata": {},
   "source": [
    "# 2. Load package and data"
   ]
  },
  {
   "cell_type": "code",
   "execution_count": 3,
   "id": "e6ee8d8c-b584-4cdc-bedc-d9dbe7cb8785",
   "metadata": {},
   "outputs": [],
   "source": [
    "import pandas as pd\n",
    "import numpy as np\n",
    "import matplotlib.pyplot as plt\n",
    "import scipy as sp\n",
    "import seaborn as sns\n",
    "import statsmodels.api as sm\n",
    "import statsmodels.formula.api as smf\n",
    "import faraway.utils"
   ]
  },
  {
   "cell_type": "code",
   "execution_count": 4,
   "id": "c23f6dda-d035-4e22-87ba-55f731fa976e",
   "metadata": {},
   "outputs": [
    {
     "data": {
      "text/html": [
       "<div>\n",
       "<style scoped>\n",
       "    .dataframe tbody tr th:only-of-type {\n",
       "        vertical-align: middle;\n",
       "    }\n",
       "\n",
       "    .dataframe tbody tr th {\n",
       "        vertical-align: top;\n",
       "    }\n",
       "\n",
       "    .dataframe thead th {\n",
       "        text-align: right;\n",
       "    }\n",
       "</style>\n",
       "<table border=\"1\" class=\"dataframe\">\n",
       "  <thead>\n",
       "    <tr style=\"text-align: right;\">\n",
       "      <th></th>\n",
       "      <th>EI</th>\n",
       "      <th>A</th>\n",
       "      <th>B</th>\n",
       "      <th>C</th>\n",
       "      <th>D</th>\n",
       "      <th>E</th>\n",
       "      <th>F</th>\n",
       "      <th>G</th>\n",
       "      <th>H</th>\n",
       "      <th>J</th>\n",
       "      <th>K</th>\n",
       "      <th>A2</th>\n",
       "      <th>B2</th>\n",
       "      <th>N</th>\n",
       "    </tr>\n",
       "  </thead>\n",
       "  <tbody>\n",
       "    <tr>\n",
       "      <th>Ain</th>\n",
       "      <td>260</td>\n",
       "      <td>51</td>\n",
       "      <td>64</td>\n",
       "      <td>36</td>\n",
       "      <td>23</td>\n",
       "      <td>9</td>\n",
       "      <td>5</td>\n",
       "      <td>4</td>\n",
       "      <td>4</td>\n",
       "      <td>3</td>\n",
       "      <td>3</td>\n",
       "      <td>105</td>\n",
       "      <td>114</td>\n",
       "      <td>17</td>\n",
       "    </tr>\n",
       "    <tr>\n",
       "      <th>Alpes</th>\n",
       "      <td>75</td>\n",
       "      <td>14</td>\n",
       "      <td>17</td>\n",
       "      <td>9</td>\n",
       "      <td>9</td>\n",
       "      <td>3</td>\n",
       "      <td>1</td>\n",
       "      <td>2</td>\n",
       "      <td>1</td>\n",
       "      <td>1</td>\n",
       "      <td>1</td>\n",
       "      <td>32</td>\n",
       "      <td>31</td>\n",
       "      <td>5</td>\n",
       "    </tr>\n",
       "    <tr>\n",
       "      <th>Ariege</th>\n",
       "      <td>107</td>\n",
       "      <td>27</td>\n",
       "      <td>18</td>\n",
       "      <td>13</td>\n",
       "      <td>17</td>\n",
       "      <td>2</td>\n",
       "      <td>2</td>\n",
       "      <td>2</td>\n",
       "      <td>1</td>\n",
       "      <td>1</td>\n",
       "      <td>1</td>\n",
       "      <td>57</td>\n",
       "      <td>33</td>\n",
       "      <td>6</td>\n",
       "    </tr>\n",
       "    <tr>\n",
       "      <th>Bouches.du.Rhone</th>\n",
       "      <td>1036</td>\n",
       "      <td>191</td>\n",
       "      <td>204</td>\n",
       "      <td>119</td>\n",
       "      <td>205</td>\n",
       "      <td>29</td>\n",
       "      <td>13</td>\n",
       "      <td>13</td>\n",
       "      <td>10</td>\n",
       "      <td>10</td>\n",
       "      <td>6</td>\n",
       "      <td>466</td>\n",
       "      <td>364</td>\n",
       "      <td>30</td>\n",
       "    </tr>\n",
       "    <tr>\n",
       "      <th>Charente.Maritime</th>\n",
       "      <td>367</td>\n",
       "      <td>71</td>\n",
       "      <td>76</td>\n",
       "      <td>47</td>\n",
       "      <td>37</td>\n",
       "      <td>8</td>\n",
       "      <td>34</td>\n",
       "      <td>5</td>\n",
       "      <td>4</td>\n",
       "      <td>4</td>\n",
       "      <td>2</td>\n",
       "      <td>163</td>\n",
       "      <td>142</td>\n",
       "      <td>17</td>\n",
       "    </tr>\n",
       "  </tbody>\n",
       "</table>\n",
       "</div>"
      ],
      "text/plain": [
       "                     EI    A    B    C    D   E   F   G   H   J  K   A2   B2  \\\n",
       "Ain                 260   51   64   36   23   9   5   4   4   3  3  105  114   \n",
       "Alpes                75   14   17    9    9   3   1   2   1   1  1   32   31   \n",
       "Ariege              107   27   18   13   17   2   2   2   1   1  1   57   33   \n",
       "Bouches.du.Rhone   1036  191  204  119  205  29  13  13  10  10  6  466  364   \n",
       "Charente.Maritime   367   71   76   47   37   8  34   5   4   4  2  163  142   \n",
       "\n",
       "                    N  \n",
       "Ain                17  \n",
       "Alpes               5  \n",
       "Ariege              6  \n",
       "Bouches.du.Rhone   30  \n",
       "Charente.Maritime  17  "
      ]
     },
     "execution_count": 4,
     "metadata": {},
     "output_type": "execute_result"
    }
   ],
   "source": [
    "import faraway.datasets.fpe\n",
    "fpe_df = faraway.datasets.fpe.load()\n",
    "fpe_df.head()"
   ]
  },
  {
   "cell_type": "code",
   "execution_count": 5,
   "id": "7379f383-acd2-4b48-9236-29f3e514cb4d",
   "metadata": {},
   "outputs": [
    {
     "data": {
      "text/plain": [
       "(24, 14)"
      ]
     },
     "execution_count": 5,
     "metadata": {},
     "output_type": "execute_result"
    }
   ],
   "source": [
    "fpe_df.shape"
   ]
  },
  {
   "cell_type": "markdown",
   "id": "84c2d31d-e877-483a-9d62-388f20b748cb",
   "metadata": {},
   "source": [
    "# 3. Weighted Least Squares\n",
    "- Sometimes the errors are uncorrelated but have unequal variance where the form of the inequality is known. In such cases, Σ is diagonal but the entries are not equal. Weighted least squares (WLS) is a special case of GLS and can be used in this situation.\n",
    "- We have ${\\Sigma}=\\left(\\begin{matrix}\\frac{1}{w_1}&\\cdots&0\\\\\\vdots&\\ddots&\\vdots\\\\0&\\cdots&\\frac{1}{w_n}\\\\\\end{matrix}\\right)$ where $w_i$ are the weights.\n",
    "- Then $S=\\left(\\begin{matrix}\\frac{1}{\\sqrt{w_1}}&\\cdots&0\\\\\\vdots&\\ddots&\\vdots\\\\0&\\cdots&\\frac{1}{\\sqrt{w_n}}\\\\\\end{matrix}\\right).$\n",
    "- We regress $\\sqrt{w_i}y_i$ on $\\sqrt{w_i}x_i$\n",
    "- The first column of model matrix X is replaced with $\\sqrt{w_i}.$\n",
    "- The residuals become $\\sqrt{w_i}{\\hat{\\varepsilon}}_i.$\n",
    "- Some examples:\n",
    "    - If the variance of the errors $ε_i$ is proportional to the predictor variable $x_i (var{\\varepsilon_i\\propto x_i})$, then it might be appropriate to use the inverse of the predictor variable $(w_i\\ =\\ x_i^{-1})$ as a way to estimate the errors. This approach can be chosen when there is a positive relationship between $\\left|{\\hat{\\varepsilon}}_i\\right|$ and $x_i$ in a plot.\n",
    "    - When we have a group data with each group having $n_i$ observations. We calculate the average of each group $Y_i$. Then $var{Y_i=var{\\varepsilon_i=\\frac{\\sigma^2}{n_i}.}}$ It is common to encounter situations where the responses we are analyzing are actually averages. For example, when studying life expectancies in different countries, we might calculate the average life expectancy for each country. However, it is important to be cautious and ensure that the variance in the life expectancies is truly proportional to the group size (number of people in each country). If we were to set the weights (importance) of each country's average life expectancy equal to the population size of the country, it might seem reasonable at first. However, there are many other factors that contribute to the variation in life expectancies, and these factors could overshadow the effect of population size. Therefore, it is important to consider all sources of variation when determining the weights for averages.\n",
    "    - When we have observed responses that have different levels of quality. To account for this, we can assign weights to each response $w_i=\\frac{1}{var{y_i}}$. By assigning higher weights to responses with lower variance (indicating higher quality), we can give more importance to those responses in our analysis or calculations."
   ]
  },
  {
   "cell_type": "markdown",
   "id": "a9f10ea7-f0ca-4bab-9491-150d11804b6a",
   "metadata": {},
   "source": [
    "- $A2 = β_A A + β_B B + β_C C + β_D D + β_E E + β_F F + β_G G + β_H H + β_J J + β_K K + β_N N$\n",
    "- $β_i$ represents the proportion of votes transferred from candidate i to Mitterand in the second round.\n",
    "- We can do the same for Giscard-d’Estaing, but the β's will just be the remaining proportions, so it’s unnecessary. Our first model uses -1 in the formula to indicate no intercept."
   ]
  },
  {
   "cell_type": "code",
   "execution_count": 6,
   "id": "ac861fe0-70d5-43f3-9bb1-0d8be741d02c",
   "metadata": {},
   "outputs": [],
   "source": [
    "# Normal linear regression\n",
    "lmod = smf.wls(\"A2 ~ A + B + C + D + E + F + G + H + J + K + N - 1\", fpe_df).fit()"
   ]
  },
  {
   "cell_type": "markdown",
   "id": "a94fb19c-6431-4d6c-8115-08d858633215",
   "metadata": {},
   "source": [
    "- We expect transfer proportions to vary between departments.\n",
    "- If we consider the above as a regression equation, there will be some error varying from department to department. The error’s variance will be proportional to the number of voters, resembling the variance of a sum rather than a mean.\n",
    "- Since the weights should be inversely proportional to the variance, they should be set to 1/EI."
   ]
  },
  {
   "cell_type": "code",
   "execution_count": 7,
   "id": "850c6fd7-5a51-4c2f-9adc-72bc856edbda",
   "metadata": {},
   "outputs": [],
   "source": [
    "wmod = smf.wls(\"A2 ~ A + B + C + D + E + F + G + H + J + K + N - 1\", fpe_df, weights = 1/fpe_df.EI ).fit()"
   ]
  },
  {
   "cell_type": "markdown",
   "id": "46df8b26-5b07-4ce7-9f80-ba3d8029e542",
   "metadata": {},
   "source": [
    "- Only the relative proportions of the weights matter. For instance, if we multiply the weights by an arbitrary factor, such as 53, the results remain unchanged."
   ]
  },
  {
   "cell_type": "code",
   "execution_count": 8,
   "id": "abc54f69-ecee-4d60-ac65-3db03071f819",
   "metadata": {},
   "outputs": [],
   "source": [
    "wmod53 = smf.wls(\"A2 ~ A + B + C + D + E + F + G + H + J + K+ N - 1\", fpe_df, weights = 53/fpe_df.EI ).fit()"
   ]
  },
  {
   "cell_type": "code",
   "execution_count": 9,
   "id": "200ba4e6-3f37-4f5e-87c0-496982a69c84",
   "metadata": {},
   "outputs": [
    {
     "data": {
      "text/html": [
       "<div>\n",
       "<style scoped>\n",
       "    .dataframe tbody tr th:only-of-type {\n",
       "        vertical-align: middle;\n",
       "    }\n",
       "\n",
       "    .dataframe tbody tr th {\n",
       "        vertical-align: top;\n",
       "    }\n",
       "\n",
       "    .dataframe thead th {\n",
       "        text-align: right;\n",
       "    }\n",
       "</style>\n",
       "<table border=\"1\" class=\"dataframe\">\n",
       "  <thead>\n",
       "    <tr style=\"text-align: right;\">\n",
       "      <th></th>\n",
       "      <th>A</th>\n",
       "      <th>B</th>\n",
       "      <th>C</th>\n",
       "      <th>D</th>\n",
       "      <th>E</th>\n",
       "      <th>F</th>\n",
       "      <th>G</th>\n",
       "      <th>H</th>\n",
       "      <th>J</th>\n",
       "      <th>K</th>\n",
       "      <th>N</th>\n",
       "    </tr>\n",
       "  </thead>\n",
       "  <tbody>\n",
       "    <tr>\n",
       "      <th>no weights</th>\n",
       "      <td>1.075</td>\n",
       "      <td>-0.125</td>\n",
       "      <td>0.257</td>\n",
       "      <td>0.905</td>\n",
       "      <td>0.671</td>\n",
       "      <td>0.783</td>\n",
       "      <td>2.166</td>\n",
       "      <td>-0.854</td>\n",
       "      <td>0.144</td>\n",
       "      <td>0.518</td>\n",
       "      <td>0.558</td>\n",
       "    </tr>\n",
       "    <tr>\n",
       "      <th>weights</th>\n",
       "      <td>1.067</td>\n",
       "      <td>-0.105</td>\n",
       "      <td>0.246</td>\n",
       "      <td>0.926</td>\n",
       "      <td>0.249</td>\n",
       "      <td>0.755</td>\n",
       "      <td>1.972</td>\n",
       "      <td>-0.566</td>\n",
       "      <td>0.612</td>\n",
       "      <td>1.211</td>\n",
       "      <td>0.529</td>\n",
       "    </tr>\n",
       "    <tr>\n",
       "      <th>weights*53</th>\n",
       "      <td>1.067</td>\n",
       "      <td>-0.105</td>\n",
       "      <td>0.246</td>\n",
       "      <td>0.926</td>\n",
       "      <td>0.249</td>\n",
       "      <td>0.755</td>\n",
       "      <td>1.972</td>\n",
       "      <td>-0.566</td>\n",
       "      <td>0.612</td>\n",
       "      <td>1.211</td>\n",
       "      <td>0.529</td>\n",
       "    </tr>\n",
       "  </tbody>\n",
       "</table>\n",
       "</div>"
      ],
      "text/plain": [
       "                A      B      C      D      E      F      G      H      J  \\\n",
       "no weights  1.075 -0.125  0.257  0.905  0.671  0.783  2.166 -0.854  0.144   \n",
       "weights     1.067 -0.105  0.246  0.926  0.249  0.755  1.972 -0.566  0.612   \n",
       "weights*53  1.067 -0.105  0.246  0.926  0.249  0.755  1.972 -0.566  0.612   \n",
       "\n",
       "                K      N  \n",
       "no weights  0.518  0.558  \n",
       "weights     1.211  0.529  \n",
       "weights*53  1.211  0.529  "
      ]
     },
     "execution_count": 9,
     "metadata": {},
     "output_type": "execute_result"
    }
   ],
   "source": [
    "# Examine the coefficients from these three models\n",
    "pd.DataFrame([lmod.params, wmod.params, wmod53.params],\n",
    "             index=['no weights','weights','weights*53']).round(3)"
   ]
  },
  {
   "cell_type": "markdown",
   "id": "d11edac1-f75b-4bf5-89dd-1e42a8304caf",
   "metadata": {},
   "source": [
    "- We see that using weights makes a difference but only the relative size of the weights matters.\n",
    "- One remaining issue, unrelated to weighting, is that proportions should be between zero and one. We can address this by truncating any coefficients that fall outside this range to either zero or one. This is done by modifying the response (using variables with a fixed coefficient of one) and omitting variables with a fixed coefficient of zero."
   ]
  },
  {
   "cell_type": "code",
   "execution_count": 10,
   "id": "dff6d4b1-ac12-4fd9-8f65-ea0ff5b6a66c",
   "metadata": {},
   "outputs": [
    {
     "data": {
      "text/plain": [
       "C    0.225773\n",
       "D    0.969977\n",
       "E    0.390204\n",
       "F    0.744240\n",
       "N    0.608539\n",
       "dtype: float64"
      ]
     },
     "execution_count": 10,
     "metadata": {},
     "output_type": "execute_result"
    }
   ],
   "source": [
    "y = fpe_df.A2 - fpe_df.A - fpe_df.G - fpe_df.K\n",
    "X = fpe_df.loc[:,[\"C\",\"D\",\"E\",\"F\",\"N\"]]\n",
    "wmod = sm.WLS(y, X, weights = 1/fpe_df.EI ).fit()\n",
    "wmod.params"
   ]
  },
  {
   "cell_type": "markdown",
   "id": "f4a2200e-e6dd-418e-9d89-dabd96491f87",
   "metadata": {},
   "source": [
    "- We see that voters for the Communist candidate D apparently almost all voted for the Socialist Mitterand in the second round.\n",
    "- However, we see that around 20% of the voters for the Gaullist candidate C voted for Mitterand. This is surprising since these \n",
    "voters would normally favor the more right wing candidate, Giscard.\n",
    "- This appears to be the decisive factor. We see that of the larger blocks of smaller candidates, the Ecology party voters, E, roughly split their votes as did the first round non-voters.\n",
    "- The other candidates had very few voters, and so their behavior is less interesting."
   ]
  },
  {
   "cell_type": "code",
   "execution_count": 11,
   "id": "6c2a8272-44ff-4a74-9c40-b7d0fdf2c4b9",
   "metadata": {},
   "outputs": [],
   "source": [
    "# Alternative methods to constrain the coefficients\n",
    "# Bake the weights into the variables first\n",
    "y = fpe_df.A2\n",
    "X = fpe_df.loc[:,[\"A\",\"B\",\"C\",\"D\",\"E\",\"F\",\"G\",\"H\",\"J\",\"K\",\"N\"]]\n",
    "weights = 1/fpe_df.EI\n",
    "Xw = (X.T * np.sqrt(weights)).T\n",
    "yw = y * np.sqrt(weights)"
   ]
  },
  {
   "cell_type": "code",
   "execution_count": 17,
   "id": "b62aa7e0-c10d-4bd7-b072-49626b40e60c",
   "metadata": {},
   "outputs": [
    {
     "data": {
      "text/plain": [
       "A    1.000\n",
       "B    0.000\n",
       "C    0.208\n",
       "D    0.969\n",
       "E    0.359\n",
       "F    0.743\n",
       "G    1.000\n",
       "H    0.367\n",
       "J    0.000\n",
       "K    1.000\n",
       "N    0.575\n",
       "dtype: float64"
      ]
     },
     "execution_count": 17,
     "metadata": {},
     "output_type": "execute_result"
    }
   ],
   "source": [
    "# Use a constrained optimization\n",
    "res= sp.optimize.lsq_linear(Xw, yw, bounds=(0, 1)) \n",
    "pd.Series(np.round(res.x,3),index=lmod.params.index)"
   ]
  },
  {
   "cell_type": "markdown",
   "id": "eeeefe42-71d0-4e9c-aed2-10ea1f66a9cf",
   "metadata": {},
   "source": [
    "- The results are quite similar for the candidates C, D, E and N who have substantial numbers of votes, but the coefficients for small party candidates vary much more. "
   ]
  }
 ],
 "metadata": {
  "kernelspec": {
   "display_name": "Python 3 (ipykernel)",
   "language": "python",
   "name": "python3"
  },
  "language_info": {
   "codemirror_mode": {
    "name": "ipython",
    "version": 3
   },
   "file_extension": ".py",
   "mimetype": "text/x-python",
   "name": "python",
   "nbconvert_exporter": "python",
   "pygments_lexer": "ipython3",
   "version": "3.11.9"
  }
 },
 "nbformat": 4,
 "nbformat_minor": 5
}
