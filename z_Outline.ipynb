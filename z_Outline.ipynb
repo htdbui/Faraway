{
 "cells": [
  {
   "cell_type": "code",
   "execution_count": 30,
   "id": "767f5d49-6066-4757-a78c-10744e8d17ad",
   "metadata": {},
   "outputs": [
    {
     "name": "stdout",
     "output_type": "stream",
     "text": [
      "1. Describe the data\n",
      "\n",
      "2. Load packages and data\n",
      "\n",
      "3. Two Factors with an Interaction\n",
      "\n"
     ]
    }
   ],
   "source": [
    "import nbformat\n",
    "# Load the notebook\n",
    "with open('Warpbreak.ipynb', ##### \n",
    "          'r', encoding='utf-8') as f:\n",
    "    notebook = nbformat.read(f, as_version=4)\n",
    "# Extract markdown cells\n",
    "headings = []\n",
    "for cell in notebook.cells:\n",
    "    if cell.cell_type == 'markdown':\n",
    "        lines = cell.source.split('\\n')\n",
    "        for line in lines:\n",
    "            if line.startswith('#'):\n",
    "                # Remove leading '#' characters and any leading whitespace\n",
    "                cleaned_heading = line.lstrip('#').strip()\n",
    "                headings.append(cleaned_heading)\n",
    "for heading in headings:\n",
    "    print(heading + '\\n')"
   ]
  },
  {
   "cell_type": "code",
   "execution_count": 1,
   "id": "1b4ac3da-5ccb-45cc-8ddb-2f8dc53c7f5c",
   "metadata": {},
   "outputs": [],
   "source": [
    "import nbformat\n",
    "# Load the notebook\n",
    "with open('Airplane.ipynb', ##### \n",
    "          'r', encoding='utf-8') as f:\n",
    "    notebook = nbformat.read(f, as_version=4)\n",
    "# Extract markdown cells\n",
    "headings = []\n",
    "for cell in notebook.cells:\n",
    "    if cell.cell_type == 'markdown':\n",
    "        lines = cell.source.split('\\n')\n",
    "        for line in lines:\n",
    "            if line.startswith('#'):\n",
    "                # Remove leading '#' characters and any leading whitespace\n",
    "                cleaned_heading = line.lstrip('#').strip()\n",
    "                headings.append(cleaned_heading)\n",
    "# Save the headings to a text file\n",
    "with open('z_outline.txt', 'w', encoding='utf-8') as f:\n",
    "    for heading in headings:\n",
    "        f.write(heading + '\\n')"
   ]
  }
 ],
 "metadata": {
  "kernelspec": {
   "display_name": "Python 3 (ipykernel)",
   "language": "python",
   "name": "python3"
  },
  "language_info": {
   "codemirror_mode": {
    "name": "ipython",
    "version": 3
   },
   "file_extension": ".py",
   "mimetype": "text/x-python",
   "name": "python",
   "nbconvert_exporter": "python",
   "pygments_lexer": "ipython3",
   "version": "3.11.9"
  }
 },
 "nbformat": 4,
 "nbformat_minor": 5
}
