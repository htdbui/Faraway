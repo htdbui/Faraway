{
 "cells": [
  {
   "cell_type": "markdown",
   "id": "6b4ae444-addc-4996-94e9-d5b664ae445a",
   "metadata": {},
   "source": [
    "# 1. Describe the data\n",
    "- It has 38 observations.\n",
    "- There are 9 variables:\n",
    "    - Age in years.\n",
    "    - Weight in pound.\n",
    "    - HtShoes: height with shoes in centimeters.\n",
    "    - Ht: height without shoes in centimeters.\n",
    "    - Seated: distance from the top of the head to the seat when sitting in centimeters.\n",
    "    - Arm: measurement from the shoulder to the tip of the fingers in centimeters.\n",
    "    - Thigh: distance from the hip to the knee in centimeters.\n",
    "    - Leg: measurement from the knee to the ankle in centimeters.\n",
    "    - hipcenter: horizontal distance from the midpoint of the hips to a fixed point in the car, measured in millimeters\n",
    "-  Drivers adjust their seats for comfort. Car designers benefit from knowing seat positions based on drivers’ size and age. Researchers at the University of Michigan’s HuMoSim lab gathered data from 38 drivers."
   ]
  },
  {
   "cell_type": "markdown",
   "id": "1991fe1e-8949-46cd-8751-fb3d17298038",
   "metadata": {},
   "source": [
    "# 2. Load packages and data"
   ]
  },
  {
   "cell_type": "code",
   "execution_count": 2,
   "id": "2037bcad-3bdb-4154-9f6f-2d31a9b846ee",
   "metadata": {},
   "outputs": [],
   "source": [
    "%%capture\n",
    "pip install faraway"
   ]
  },
  {
   "cell_type": "code",
   "execution_count": 3,
   "id": "47d74a79-660b-48af-8214-6b4c831f00a6",
   "metadata": {},
   "outputs": [],
   "source": [
    "import pandas as pd\n",
    "import numpy as np\n",
    "import matplotlib.pyplot as plt\n",
    "import scipy as sp\n",
    "import statsmodels.api as sm\n",
    "import statsmodels.formula.api as smf\n",
    "import seaborn as sns\n",
    "import faraway.utils\n",
    "from patsy import dmatrix\n",
    "from statsmodels.stats.outliers_influence import variance_inflation_factor"
   ]
  },
  {
   "cell_type": "code",
   "execution_count": 4,
   "id": "ce5fb849-a128-4d54-9a96-4d1ccaa1a66e",
   "metadata": {},
   "outputs": [
    {
     "data": {
      "text/html": [
       "<div>\n",
       "<style scoped>\n",
       "    .dataframe tbody tr th:only-of-type {\n",
       "        vertical-align: middle;\n",
       "    }\n",
       "\n",
       "    .dataframe tbody tr th {\n",
       "        vertical-align: top;\n",
       "    }\n",
       "\n",
       "    .dataframe thead th {\n",
       "        text-align: right;\n",
       "    }\n",
       "</style>\n",
       "<table border=\"1\" class=\"dataframe\">\n",
       "  <thead>\n",
       "    <tr style=\"text-align: right;\">\n",
       "      <th></th>\n",
       "      <th>Age</th>\n",
       "      <th>Weight</th>\n",
       "      <th>HtShoes</th>\n",
       "      <th>Ht</th>\n",
       "      <th>Seated</th>\n",
       "      <th>Arm</th>\n",
       "      <th>Thigh</th>\n",
       "      <th>Leg</th>\n",
       "      <th>hipcenter</th>\n",
       "    </tr>\n",
       "  </thead>\n",
       "  <tbody>\n",
       "    <tr>\n",
       "      <th>0</th>\n",
       "      <td>46</td>\n",
       "      <td>180</td>\n",
       "      <td>187.2</td>\n",
       "      <td>184.9</td>\n",
       "      <td>95.2</td>\n",
       "      <td>36.1</td>\n",
       "      <td>45.3</td>\n",
       "      <td>41.3</td>\n",
       "      <td>-206.300</td>\n",
       "    </tr>\n",
       "    <tr>\n",
       "      <th>1</th>\n",
       "      <td>31</td>\n",
       "      <td>175</td>\n",
       "      <td>167.5</td>\n",
       "      <td>165.5</td>\n",
       "      <td>83.8</td>\n",
       "      <td>32.9</td>\n",
       "      <td>36.5</td>\n",
       "      <td>35.9</td>\n",
       "      <td>-178.210</td>\n",
       "    </tr>\n",
       "    <tr>\n",
       "      <th>2</th>\n",
       "      <td>23</td>\n",
       "      <td>100</td>\n",
       "      <td>153.6</td>\n",
       "      <td>152.2</td>\n",
       "      <td>82.9</td>\n",
       "      <td>26.0</td>\n",
       "      <td>36.6</td>\n",
       "      <td>31.0</td>\n",
       "      <td>-71.673</td>\n",
       "    </tr>\n",
       "    <tr>\n",
       "      <th>3</th>\n",
       "      <td>19</td>\n",
       "      <td>185</td>\n",
       "      <td>190.3</td>\n",
       "      <td>187.4</td>\n",
       "      <td>97.3</td>\n",
       "      <td>37.4</td>\n",
       "      <td>44.1</td>\n",
       "      <td>41.0</td>\n",
       "      <td>-257.720</td>\n",
       "    </tr>\n",
       "    <tr>\n",
       "      <th>4</th>\n",
       "      <td>23</td>\n",
       "      <td>159</td>\n",
       "      <td>178.0</td>\n",
       "      <td>174.1</td>\n",
       "      <td>93.9</td>\n",
       "      <td>29.5</td>\n",
       "      <td>40.1</td>\n",
       "      <td>36.9</td>\n",
       "      <td>-173.230</td>\n",
       "    </tr>\n",
       "  </tbody>\n",
       "</table>\n",
       "</div>"
      ],
      "text/plain": [
       "   Age  Weight  HtShoes     Ht  Seated   Arm  Thigh   Leg  hipcenter\n",
       "0   46     180    187.2  184.9    95.2  36.1   45.3  41.3   -206.300\n",
       "1   31     175    167.5  165.5    83.8  32.9   36.5  35.9   -178.210\n",
       "2   23     100    153.6  152.2    82.9  26.0   36.6  31.0    -71.673\n",
       "3   19     185    190.3  187.4    97.3  37.4   44.1  41.0   -257.720\n",
       "4   23     159    178.0  174.1    93.9  29.5   40.1  36.9   -173.230"
      ]
     },
     "execution_count": 4,
     "metadata": {},
     "output_type": "execute_result"
    }
   ],
   "source": [
    "import faraway.datasets.seatpos\n",
    "seatpos = faraway.datasets.seatpos.load()\n",
    "seatpos.head()"
   ]
  },
  {
   "cell_type": "markdown",
   "id": "e8497a80-dcd3-453e-ba32-7c390eb89935",
   "metadata": {},
   "source": [
    "# 3. Collinearity\n",
    "- When certain predictors in a regression model are linear combinations of others, it leads to a problem called exact collinearity. In this case, the matrix $ \\mathbf{X'X} $ becomes singular, and there are no unique least squares estimates of the coefficients $ \\boldsymbol{\\beta} $. To resolve this issue, it may be necessary to remove some of the predictors from the model.\n",
    "- Collinearity, also known as multicollinearity, occurs when the predictors in a regression model are highly correlated with each other. This leads to imprecise estimates of the regression coefficients (β). The signs of the coefficients may be opposite to what we would intuitively expect. The standard errors of the coefficients are inflated, making it difficult to determine which predictors are statistically significant. Additionally, the model becomes highly sensitive to measurement errors, where small changes in the response variable (y) can result in large changes in the estimated coefficients $(\\hat{{\\beta}})$.\n",
    "- Collinearity can be detected in several ways:\n",
    "    - By analyzing the correlation matrix of the predictors, we can spot values near -1 or +1, which indicate strong pairwise collinearities between them.\n",
    "    - Perform regression analyses of each predictor against all other predictors. If the coefficient of determination (R$^2$) for a predictor is close to one, it indicates that the predictor can be nearly perfectly predicted by a linear combination of the other predictors, suggesting collinearity. By examining the coefficients from these regressions, you can identify which combination of variables is causing the issue.\n",
    "    - Look at the eigenvalues of 0 , $λ_1 ≥ … ≥ λ_p ≥ 0$. If we see zero eigenvalues, it means there's exact collinearity. Small eigenvalues suggest multicollinearity.\n",
    "        - The condition number κ measures the relative sizes of the eigenvalues. $\\kappa=\\sqrt{\\frac{\\lambda_1}{\\lambda_p}}$. If it's 30 or more, it's considered large, which could indicate a problem.\n",
    "        - Other condition numbers $\\sqrt{\\frac{\\lambda_1}{\\lambda_i}}$ can help us figure out if there's more than one combination of variables causing the problem.\n",
    "    - The effect of collinearity on the variance of the estimated regression coefficients:\n",
    "        - $var{{\\hat{\\beta}}_j=\\sigma^2\\left(\\frac{1}{1-R_j^2}\\right)}\\frac{1}{\\sum_{i=1}^{n}{\\left(x_{ij}-{\\bar{x}}_j\\right)^2\\ }}\\ $\n",
    "        - The variance inflation factor $\\left(1-R_j^2\\right)^{-1}$\n",
    "        - If a predictor variable does not vary much, it means $\\sum_{i=1}^{n}{\\left(x_{ij}-{\\bar{x}}_j\\right)^2\\ }$ is small, the variance of the estimated coefficient for that variable will be large.\n",
    "        - If the correlation between a predictor variable and the other predictor variables is high (indicated by a value of $R_j^2$ close to one), the variance inflation factor will be large, leading to a larger variance of the estimated coefficient.\n",
    "- Certain designs can minimize the variance of the regression coefficients. Orthogonality, which means that the correlation between predictor variables is zero, minimizes the variance. Additionally, spreading the predictor variables as much as possible can maximize the sum of squares of the predictor variables. The maximum is achieved by placing half the points at the minimum practical value and half at the maximum. However, this design assumes linearity and makes it impossible to check for curvature. Therefore, in practice, we place some design points in the middle of the range to allow for checking the fit."
   ]
  },
  {
   "cell_type": "code",
   "execution_count": 6,
   "id": "16a4799c-933e-4bdd-95b7-8c5cbe42ef07",
   "metadata": {},
   "outputs": [
    {
     "name": "stdout",
     "output_type": "stream",
     "text": [
      "            coefs  stderr tvalues pvalues\n",
      "Intercept 436.432 166.572    2.62  0.0138\n",
      "Age         0.776   0.570    1.36  0.1843\n",
      "Weight      0.026   0.331    0.08  0.9372\n",
      "HtShoes    -2.692   9.753   -0.28  0.7845\n",
      "Ht          0.601  10.130    0.06  0.9531\n",
      "Seated      0.534   3.762    0.14  0.8882\n",
      "Arm        -1.328   3.900   -0.34  0.7359\n",
      "Thigh      -1.143   2.660   -0.43  0.6706\n",
      "Leg        -6.439   4.714   -1.37  0.1824\n",
      "\n",
      "n=38 p=9 Residual SD=37.720 R-squared=0.69\n"
     ]
    }
   ],
   "source": [
    "lmod = smf.ols('hipcenter ~ Age+Weight+HtShoes+Ht+Seated+Arm+Thigh+Leg', seatpos).fit()\n",
    "lmod.sumary()"
   ]
  },
  {
   "cell_type": "markdown",
   "id": "08cd514b-94c3-4e33-a47e-5b0649941b2e",
   "metadata": {},
   "source": [
    "- This model already shows the signs of collinearity. The R2 is not small, but none of the individual predictors is significant."
   ]
  },
  {
   "cell_type": "code",
   "execution_count": 7,
   "id": "7f1f021f-1ec7-4f54-9f71-7bce53d9fadb",
   "metadata": {},
   "outputs": [
    {
     "data": {
      "text/html": [
       "<div>\n",
       "<style scoped>\n",
       "    .dataframe tbody tr th:only-of-type {\n",
       "        vertical-align: middle;\n",
       "    }\n",
       "\n",
       "    .dataframe tbody tr th {\n",
       "        vertical-align: top;\n",
       "    }\n",
       "\n",
       "    .dataframe thead th {\n",
       "        text-align: right;\n",
       "    }\n",
       "</style>\n",
       "<table border=\"1\" class=\"dataframe\">\n",
       "  <thead>\n",
       "    <tr style=\"text-align: right;\">\n",
       "      <th></th>\n",
       "      <th>Age</th>\n",
       "      <th>Weight</th>\n",
       "      <th>HtShoes</th>\n",
       "      <th>Ht</th>\n",
       "      <th>Seated</th>\n",
       "      <th>Arm</th>\n",
       "      <th>Thigh</th>\n",
       "      <th>Leg</th>\n",
       "    </tr>\n",
       "  </thead>\n",
       "  <tbody>\n",
       "    <tr>\n",
       "      <th>Age</th>\n",
       "      <td>1.000</td>\n",
       "      <td>0.081</td>\n",
       "      <td>-0.079</td>\n",
       "      <td>-0.090</td>\n",
       "      <td>-0.170</td>\n",
       "      <td>0.360</td>\n",
       "      <td>0.091</td>\n",
       "      <td>-0.042</td>\n",
       "    </tr>\n",
       "    <tr>\n",
       "      <th>Weight</th>\n",
       "      <td>0.081</td>\n",
       "      <td>1.000</td>\n",
       "      <td>0.828</td>\n",
       "      <td>0.829</td>\n",
       "      <td>0.776</td>\n",
       "      <td>0.698</td>\n",
       "      <td>0.573</td>\n",
       "      <td>0.784</td>\n",
       "    </tr>\n",
       "    <tr>\n",
       "      <th>HtShoes</th>\n",
       "      <td>-0.079</td>\n",
       "      <td>0.828</td>\n",
       "      <td>1.000</td>\n",
       "      <td>0.998</td>\n",
       "      <td>0.930</td>\n",
       "      <td>0.752</td>\n",
       "      <td>0.725</td>\n",
       "      <td>0.908</td>\n",
       "    </tr>\n",
       "    <tr>\n",
       "      <th>Ht</th>\n",
       "      <td>-0.090</td>\n",
       "      <td>0.829</td>\n",
       "      <td>0.998</td>\n",
       "      <td>1.000</td>\n",
       "      <td>0.928</td>\n",
       "      <td>0.752</td>\n",
       "      <td>0.735</td>\n",
       "      <td>0.910</td>\n",
       "    </tr>\n",
       "    <tr>\n",
       "      <th>Seated</th>\n",
       "      <td>-0.170</td>\n",
       "      <td>0.776</td>\n",
       "      <td>0.930</td>\n",
       "      <td>0.928</td>\n",
       "      <td>1.000</td>\n",
       "      <td>0.625</td>\n",
       "      <td>0.607</td>\n",
       "      <td>0.812</td>\n",
       "    </tr>\n",
       "    <tr>\n",
       "      <th>Arm</th>\n",
       "      <td>0.360</td>\n",
       "      <td>0.698</td>\n",
       "      <td>0.752</td>\n",
       "      <td>0.752</td>\n",
       "      <td>0.625</td>\n",
       "      <td>1.000</td>\n",
       "      <td>0.671</td>\n",
       "      <td>0.754</td>\n",
       "    </tr>\n",
       "    <tr>\n",
       "      <th>Thigh</th>\n",
       "      <td>0.091</td>\n",
       "      <td>0.573</td>\n",
       "      <td>0.725</td>\n",
       "      <td>0.735</td>\n",
       "      <td>0.607</td>\n",
       "      <td>0.671</td>\n",
       "      <td>1.000</td>\n",
       "      <td>0.650</td>\n",
       "    </tr>\n",
       "    <tr>\n",
       "      <th>Leg</th>\n",
       "      <td>-0.042</td>\n",
       "      <td>0.784</td>\n",
       "      <td>0.908</td>\n",
       "      <td>0.910</td>\n",
       "      <td>0.812</td>\n",
       "      <td>0.754</td>\n",
       "      <td>0.650</td>\n",
       "      <td>1.000</td>\n",
       "    </tr>\n",
       "  </tbody>\n",
       "</table>\n",
       "</div>"
      ],
      "text/plain": [
       "           Age  Weight  HtShoes     Ht  Seated    Arm  Thigh    Leg\n",
       "Age      1.000   0.081   -0.079 -0.090  -0.170  0.360  0.091 -0.042\n",
       "Weight   0.081   1.000    0.828  0.829   0.776  0.698  0.573  0.784\n",
       "HtShoes -0.079   0.828    1.000  0.998   0.930  0.752  0.725  0.908\n",
       "Ht      -0.090   0.829    0.998  1.000   0.928  0.752  0.735  0.910\n",
       "Seated  -0.170   0.776    0.930  0.928   1.000  0.625  0.607  0.812\n",
       "Arm      0.360   0.698    0.752  0.752   0.625  1.000  0.671  0.754\n",
       "Thigh    0.091   0.573    0.725  0.735   0.607  0.671  1.000  0.650\n",
       "Leg     -0.042   0.784    0.908  0.910   0.812  0.754  0.650  1.000"
      ]
     },
     "execution_count": 7,
     "metadata": {},
     "output_type": "execute_result"
    }
   ],
   "source": [
    "# Correlation matrix of predictors\n",
    "seatpos.iloc[:,:-1].corr().round(3)"
   ]
  },
  {
   "cell_type": "markdown",
   "id": "92264d8e-2532-463d-b79b-689881e52d40",
   "metadata": {},
   "source": [
    "- There are several large pairwise correlations between predictors. "
   ]
  },
  {
   "cell_type": "code",
   "execution_count": 8,
   "id": "a850d23f-01e9-4e2c-9445-e6004ecffdb4",
   "metadata": {},
   "outputs": [
    {
     "data": {
      "text/plain": [
       "array([3.65367136e+06, 2.14794802e+04, 9.04322529e+03, 2.98952599e+02,\n",
       "       1.48394821e+02, 8.11739742e+01, 5.33619434e+01, 7.29820918e+00])"
      ]
     },
     "execution_count": 8,
     "metadata": {},
     "output_type": "execute_result"
    }
   ],
   "source": [
    "# Show eigenvalues \n",
    "X = lmod.model.wexog[:,1:]\n",
    "XTX = X.T @ X\n",
    "evals, evecs = np.linalg.eig(XTX)\n",
    "evals = np.flip(np.sort(evals))\n",
    "evals"
   ]
  },
  {
   "cell_type": "code",
   "execution_count": 10,
   "id": "862ea4cf-3957-458d-99f6-de32b5de56d2",
   "metadata": {},
   "outputs": [
    {
     "data": {
      "text/plain": [
       "array([ 13.04226011,  20.10032434, 110.55122882, 156.91171478,\n",
       "       212.15649705, 261.66697969, 707.5491072 ])"
      ]
     },
     "execution_count": 10,
     "metadata": {},
     "output_type": "execute_result"
    }
   ],
   "source": [
    "# Condition numbers\n",
    "np.sqrt(evals[0]/evals[1:])"
   ]
  },
  {
   "cell_type": "markdown",
   "id": "9e427657-d2f9-49d7-a684-d556ebaf183d",
   "metadata": {},
   "source": [
    "- There is a wide range in the eigenvalues, and several condition numbers are large. This means that problems are being caused by more than just one linear combination."
   ]
  },
  {
   "cell_type": "code",
   "execution_count": 8,
   "id": "09280e01-e017-4b6d-8232-518845d4abe3",
   "metadata": {},
   "outputs": [
    {
     "data": {
      "text/plain": [
       "(0.49948233386392227, 1.9979314770642402)"
      ]
     },
     "execution_count": 8,
     "metadata": {},
     "output_type": "execute_result"
    }
   ],
   "source": [
    "# VIF\n",
    "X = dmatrix(\"Age+Weight+HtShoes+Ht+Seated+Arm+Thigh+Leg\", \n",
    "    seatpos, return_type='dataframe')\n",
    "lmod = sm.OLS(X['Age'],X.drop('Age',axis=1)).fit()\n",
    "lmod.rsquared, 1/(1-lmod.rsquared)"
   ]
  },
  {
   "cell_type": "markdown",
   "id": "a4979e74-6883-4412-85b9-232d87bb23af",
   "metadata": {},
   "source": [
    "- This is moderate in size. VIF for orthogonal predictors is one."
   ]
  },
  {
   "cell_type": "code",
   "execution_count": 15,
   "id": "cda61040-6a45-450a-a08b-a57019b966c3",
   "metadata": {},
   "outputs": [
    {
     "data": {
      "text/plain": [
       "Intercept    741.029693\n",
       "Age            1.997931\n",
       "Weight         3.647030\n",
       "HtShoes      307.429378\n",
       "Ht           333.137832\n",
       "Seated         8.951054\n",
       "Arm            4.496368\n",
       "Thigh          2.762886\n",
       "Leg            6.694291\n",
       "dtype: float64"
      ]
     },
     "execution_count": 15,
     "metadata": {},
     "output_type": "execute_result"
    }
   ],
   "source": [
    "vif = [variance_inflation_factor(X.values, i) for i in range(X.shape[1])]\n",
    "pd.Series(vif, X.columns)"
   ]
  },
  {
   "cell_type": "markdown",
   "id": "3078026b-f72b-4a0c-a7c0-01b544a62a0b",
   "metadata": {},
   "source": [
    "- The intercept value should always be ignored since it makes little sense for a VIF.\n",
    "- There is much variance inflation.\n",
    "- For example, we can interpret $\\sqrt{307.4} = 17.5$ as indicating that the standard error for height with shoes is 17.5 times larger than it would have been without collinearity.\n",
    "- We cannot use this as a correction since we did not observe orthogonal data. However, it does provide an idea of the magnitude of the effect."
   ]
  },
  {
   "cell_type": "markdown",
   "id": "39bd44f6-3b9a-4d81-b245-161d83ba75a7",
   "metadata": {},
   "source": [
    "- These estimates are quite unstable. Accurately measuring the hip center is challenging, leading to expected variations in the values. For instance, if the measurement error had a standard deviation of 10 mm, this would contribute to the instability."
   ]
  },
  {
   "cell_type": "code",
   "execution_count": 5,
   "id": "0e537b06-c173-4367-9063-137d7bdcfd1e",
   "metadata": {},
   "outputs": [
    {
     "data": {
      "text/html": [
       "<div>\n",
       "<style scoped>\n",
       "    .dataframe tbody tr th:only-of-type {\n",
       "        vertical-align: middle;\n",
       "    }\n",
       "\n",
       "    .dataframe tbody tr th {\n",
       "        vertical-align: top;\n",
       "    }\n",
       "\n",
       "    .dataframe thead th {\n",
       "        text-align: right;\n",
       "    }\n",
       "</style>\n",
       "<table border=\"1\" class=\"dataframe\">\n",
       "  <thead>\n",
       "    <tr style=\"text-align: right;\">\n",
       "      <th></th>\n",
       "      <th>Intercept</th>\n",
       "      <th>Age</th>\n",
       "      <th>Weight</th>\n",
       "      <th>HtShoes</th>\n",
       "      <th>Ht</th>\n",
       "      <th>Seated</th>\n",
       "      <th>Arm</th>\n",
       "      <th>Thigh</th>\n",
       "      <th>Leg</th>\n",
       "    </tr>\n",
       "  </thead>\n",
       "  <tbody>\n",
       "    <tr>\n",
       "      <th>original</th>\n",
       "      <td>436.432</td>\n",
       "      <td>0.776</td>\n",
       "      <td>0.026</td>\n",
       "      <td>-2.692</td>\n",
       "      <td>0.601</td>\n",
       "      <td>0.534</td>\n",
       "      <td>-1.328</td>\n",
       "      <td>-1.143</td>\n",
       "      <td>-6.439</td>\n",
       "    </tr>\n",
       "    <tr>\n",
       "      <th>perturbed</th>\n",
       "      <td>401.188</td>\n",
       "      <td>1.106</td>\n",
       "      <td>0.003</td>\n",
       "      <td>-1.887</td>\n",
       "      <td>-0.662</td>\n",
       "      <td>1.279</td>\n",
       "      <td>-2.465</td>\n",
       "      <td>-1.356</td>\n",
       "      <td>-4.170</td>\n",
       "    </tr>\n",
       "  </tbody>\n",
       "</table>\n",
       "</div>"
      ],
      "text/plain": [
       "           Intercept    Age  Weight  HtShoes     Ht  Seated    Arm  Thigh  \\\n",
       "original     436.432  0.776   0.026   -2.692  0.601   0.534 -1.328 -1.143   \n",
       "perturbed    401.188  1.106   0.003   -1.887 -0.662   1.279 -2.465 -1.356   \n",
       "\n",
       "             Leg  \n",
       "original  -6.439  \n",
       "perturbed -4.170  "
      ]
     },
     "execution_count": 5,
     "metadata": {},
     "output_type": "execute_result"
    }
   ],
   "source": [
    "seatpos['hiperb'] = seatpos.hipcenter+ np.random.normal(scale=10,size=38)\n",
    "lmod = smf.ols('hipcenter ~ Age+Weight+HtShoes+Ht+Seated+Arm+Thigh+Leg', \n",
    "    seatpos).fit()\n",
    "lmodp = smf.ols('hiperb ~ Age+Weight+HtShoes+Ht+Seated+Arm+Thigh+Leg', \n",
    "    seatpos).fit()\n",
    "pd.DataFrame([lmod.params, lmodp.params],\n",
    "    index=['original','perturbed']).round(3)"
   ]
  },
  {
   "cell_type": "markdown",
   "id": "50559dcf-515c-464d-8dd1-15a7c440e46b",
   "metadata": {},
   "source": [
    "- We see large changes in some of the coefficients, indicating their sensitivity to the response values caused by the collinearity.\n",
    "- We compare the $R^2$'s for the two models:"
   ]
  },
  {
   "cell_type": "code",
   "execution_count": 6,
   "id": "c37323b6-c52d-474b-8676-423853dad3ca",
   "metadata": {},
   "outputs": [
    {
     "data": {
      "text/plain": [
       "(0.6865534760253376, 0.7066983421367856)"
      ]
     },
     "execution_count": 6,
     "metadata": {},
     "output_type": "execute_result"
    }
   ],
   "source": [
    "lmod.rsquared, lmodp.rsquared"
   ]
  },
  {
   "cell_type": "code",
   "execution_count": 9,
   "id": "c640f923-898d-4397-a80c-ec5fbc8fc648",
   "metadata": {},
   "outputs": [
    {
     "data": {
      "text/html": [
       "<div>\n",
       "<style scoped>\n",
       "    .dataframe tbody tr th:only-of-type {\n",
       "        vertical-align: middle;\n",
       "    }\n",
       "\n",
       "    .dataframe tbody tr th {\n",
       "        vertical-align: top;\n",
       "    }\n",
       "\n",
       "    .dataframe thead th {\n",
       "        text-align: right;\n",
       "    }\n",
       "</style>\n",
       "<table border=\"1\" class=\"dataframe\">\n",
       "  <thead>\n",
       "    <tr style=\"text-align: right;\">\n",
       "      <th></th>\n",
       "      <th>HtShoes</th>\n",
       "      <th>Ht</th>\n",
       "      <th>Seated</th>\n",
       "      <th>Arm</th>\n",
       "      <th>Thigh</th>\n",
       "      <th>Leg</th>\n",
       "    </tr>\n",
       "  </thead>\n",
       "  <tbody>\n",
       "    <tr>\n",
       "      <th>HtShoes</th>\n",
       "      <td>1.000</td>\n",
       "      <td>0.998</td>\n",
       "      <td>0.930</td>\n",
       "      <td>0.722</td>\n",
       "      <td>0.710</td>\n",
       "      <td>0.896</td>\n",
       "    </tr>\n",
       "    <tr>\n",
       "      <th>Ht</th>\n",
       "      <td>0.998</td>\n",
       "      <td>1.000</td>\n",
       "      <td>0.929</td>\n",
       "      <td>0.724</td>\n",
       "      <td>0.720</td>\n",
       "      <td>0.898</td>\n",
       "    </tr>\n",
       "    <tr>\n",
       "      <th>Seated</th>\n",
       "      <td>0.930</td>\n",
       "      <td>0.929</td>\n",
       "      <td>1.000</td>\n",
       "      <td>0.603</td>\n",
       "      <td>0.576</td>\n",
       "      <td>0.803</td>\n",
       "    </tr>\n",
       "    <tr>\n",
       "      <th>Arm</th>\n",
       "      <td>0.722</td>\n",
       "      <td>0.724</td>\n",
       "      <td>0.603</td>\n",
       "      <td>1.000</td>\n",
       "      <td>0.670</td>\n",
       "      <td>0.723</td>\n",
       "    </tr>\n",
       "    <tr>\n",
       "      <th>Thigh</th>\n",
       "      <td>0.710</td>\n",
       "      <td>0.720</td>\n",
       "      <td>0.576</td>\n",
       "      <td>0.670</td>\n",
       "      <td>1.000</td>\n",
       "      <td>0.626</td>\n",
       "    </tr>\n",
       "    <tr>\n",
       "      <th>Leg</th>\n",
       "      <td>0.896</td>\n",
       "      <td>0.898</td>\n",
       "      <td>0.803</td>\n",
       "      <td>0.723</td>\n",
       "      <td>0.626</td>\n",
       "      <td>1.000</td>\n",
       "    </tr>\n",
       "  </tbody>\n",
       "</table>\n",
       "</div>"
      ],
      "text/plain": [
       "         HtShoes     Ht  Seated    Arm  Thigh    Leg\n",
       "HtShoes    1.000  0.998   0.930  0.722  0.710  0.896\n",
       "Ht         0.998  1.000   0.929  0.724  0.720  0.898\n",
       "Seated     0.930  0.929   1.000  0.603  0.576  0.803\n",
       "Arm        0.722  0.724   0.603  1.000  0.670  0.723\n",
       "Thigh      0.710  0.720   0.576  0.670  1.000  0.626\n",
       "Leg        0.896  0.898   0.803  0.723  0.626  1.000"
      ]
     },
     "execution_count": 9,
     "metadata": {},
     "output_type": "execute_result"
    }
   ],
   "source": [
    "pd.DataFrame.corr(X.iloc[3:,3:]).round(3)"
   ]
  },
  {
   "cell_type": "markdown",
   "id": "161ae23d-aa74-4f25-9d2b-a2f747485408",
   "metadata": {},
   "source": [
    "- These six variables are highly correlated, so any one can represent the others. We choose height for its simplicity in measurement. \n",
    "- This doesn’t mean the other predictors aren’t related to the response, just that we don’t need them all for prediction."
   ]
  },
  {
   "cell_type": "code",
   "execution_count": 10,
   "id": "3d918c8e-089e-468e-ab4e-30eadc49baa5",
   "metadata": {},
   "outputs": [
    {
     "name": "stdout",
     "output_type": "stream",
     "text": [
      "            coefs  stderr tvalues pvalues\n",
      "Intercept 528.298 135.313    3.90  0.0004\n",
      "Age         0.520   0.408    1.27  0.2116\n",
      "Weight      0.004   0.312    0.01  0.9891\n",
      "Ht         -4.212   0.999   -4.22  0.0002\n",
      "\n",
      "n=38 p=4 Residual SD=36.486 R-squared=0.66\n"
     ]
    }
   ],
   "source": [
    "smf.ols('hipcenter ~ Age+Weight+Ht', seatpos).fit().sumary()"
   ]
  },
  {
   "cell_type": "markdown",
   "id": "2395aa8e-beb2-4835-b975-7bd74f7b7b69",
   "metadata": {},
   "source": [
    "- Comparing this with the original fit, we see that the fit is very similar in terms of R$^2$, but many fewer predictors are used.\n",
    "- Collinearity has a minor impact on prediction accuracy, which depends on the prediction’s distance from observed data. Predictions become more unstable the further they are from the data. While this applies to all data, collinear data spans a smaller predictor space, leading to greater extrapolations compared to orthogonal data."
   ]
  }
 ],
 "metadata": {
  "kernelspec": {
   "display_name": "Python 3 (ipykernel)",
   "language": "python",
   "name": "python3"
  },
  "language_info": {
   "codemirror_mode": {
    "name": "ipython",
    "version": 3
   },
   "file_extension": ".py",
   "mimetype": "text/x-python",
   "name": "python",
   "nbconvert_exporter": "python",
   "pygments_lexer": "ipython3",
   "version": "3.11.9"
  }
 },
 "nbformat": 4,
 "nbformat_minor": 5
}
