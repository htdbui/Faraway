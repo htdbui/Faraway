{
 "cells": [
  {
   "cell_type": "code",
   "execution_count": 1,
   "id": "f1e03ce3-d01c-497c-a5c9-f0819f27d681",
   "metadata": {},
   "outputs": [],
   "source": [
    "%%capture\n",
    "pip install nbformat"
   ]
  },
  {
   "cell_type": "code",
   "execution_count": 2,
   "id": "1b4ac3da-5ccb-45cc-8ddb-2f8dc53c7f5c",
   "metadata": {},
   "outputs": [],
   "source": [
    "import nbformat\n",
    "\n",
    "# Load the notebook\n",
    "with open('Galapagos_Islands.ipynb', 'r', encoding='utf-8') as f:\n",
    "    notebook = nbformat.read(f, as_version=4)\n",
    "\n",
    "# Extract markdown cells\n",
    "headings = []\n",
    "for cell in notebook.cells:\n",
    "    if cell.cell_type == 'markdown':\n",
    "        lines = cell.source.split('\\n')\n",
    "        for line in lines:\n",
    "            if line.startswith('#'):\n",
    "                # Remove leading '#' characters and any leading whitespace\n",
    "                cleaned_heading = line.lstrip('#').strip()\n",
    "                headings.append(cleaned_heading)\n",
    "\n",
    "# Save the headings to a text file\n",
    "with open('z_outline.txt', 'w', encoding='utf-8') as f:\n",
    "    for heading in headings:\n",
    "        f.write(heading + '\\n')"
   ]
  }
 ],
 "metadata": {
  "kernelspec": {
   "display_name": "Python 3 (ipykernel)",
   "language": "python",
   "name": "python3"
  },
  "language_info": {
   "codemirror_mode": {
    "name": "ipython",
    "version": 3
   },
   "file_extension": ".py",
   "mimetype": "text/x-python",
   "name": "python",
   "nbconvert_exporter": "python",
   "pygments_lexer": "ipython3",
   "version": "3.11.9"
  }
 },
 "nbformat": 4,
 "nbformat_minor": 5
}
