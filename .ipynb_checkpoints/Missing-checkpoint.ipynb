{
 "cells": [
  {
   "cell_type": "markdown",
   "id": "ca00f07d-2472-48b7-8b50-374276dc7891",
   "metadata": {},
   "source": [
    "# Load packages"
   ]
  },
  {
   "cell_type": "code",
   "execution_count": 2,
   "id": "11f5248a-4313-4ab4-84a4-3209142bcda5",
   "metadata": {},
   "outputs": [],
   "source": [
    "%%capture\n",
    "pip install faraway"
   ]
  },
  {
   "cell_type": "code",
   "execution_count": 3,
   "id": "6a63a45a-29b8-459e-9d99-17c5e1c2272d",
   "metadata": {},
   "outputs": [],
   "source": [
    "import pandas as pd\n",
    "import numpy as np\n",
    "import matplotlib.pyplot as plt\n",
    "import statsmodels.api as sm\n",
    "import statsmodels.formula.api as smf\n",
    "import seaborn as sns\n",
    "from scipy import stats\n",
    "import faraway.utils"
   ]
  },
  {
   "cell_type": "markdown",
   "id": "1349dff2-652b-427f-8cee-482cf3d018be",
   "metadata": {},
   "source": [
    "# Theory\n",
    "- Missing Cases: Sometimes we fail to observe a complete case $(x_i, y_i)$. When drawing a sample, unsampled cases are naturally unobserved, which is standard in statistics. However, occasionally, intended samples are missed. If this failure is unrelated to the observations, we simply have a smaller sample and can proceed normally. Conversely, if the failure is related to the observations, it results in a biased sample. With enough information about the missingness mechanism, corrections can be made to achieve valid inferences.\n",
    "- Incomplete Values: In an experiment studying light bulb lifetimes, we might end the experiment before all bulbs die. These incomplete cases only show that a bulb lasted at least a certain time, but not the exact duration. Similar situations occur in medical trials with unknown patient outcomes. Such cases are censored, and methods like survival analysis or reliability analysis can handle them.\n",
    "- Missing Values: Sometimes, we observe only some components of a case. We might see values for some predictors but not others, or observe predictors without the response.\n",
    "- In this chapter, we address missing values. Biased sampling can be mitigated by covariate adjustment. Methods for censored data are available in other books. The best option is finding the missing values, though this might not be possible. Next, we ask why the data are missing and distinguish several kinds of missingness.\n",
    "- Missing Completely at Random (MCAR): The probability of a value being missing is the same for all cases. Deleting cases with missing values causes no bias but may result in a loss of information.\n",
    "- Missing at Random (MAR): The probability of a value being missing depends on a known mechanism. For example, in social surveys, certain groups may be less likely to provide information. If we know the group membership, we can adjust for it in the regression model and delete the missing cases. Better methods than deletion will be discussed later.\n",
    "- Missing Not at Random (MNAR): The probability of a value being missing depends on an unobserved variable or the value itself. For example, individuals hiding something might not provide certain information. Handling MNAR is difficult, so we focus on MAR. Determining the type of missingness often relies on judgment, as data-based diagnostics are unavailable."
   ]
  },
  {
   "cell_type": "markdown",
   "id": "56a3c9c4-e6fc-476c-b46d-7792f07172a0",
   "metadata": {},
   "source": [
    "# Representation and Detection of Missing Values "
   ]
  },
  {
   "cell_type": "markdown",
   "id": "babedb76-dabd-4d72-8f25-92cc99acd8f3",
   "metadata": {},
   "source": [
    "## Chicago Insurance\n",
    "- It has 47 rows.\n",
    "- There are 8 variables:\n",
    "    - race racial composition in percentage of minority. For example, if the value of the race variable is 30, it means that 30% of the population in that area is from racial minority groups.\n",
    "    - fire fires per 100 housing units.\n",
    "    - theft thefts per 1000 population.\n",
    "    - age percentage of housing units built before 1939.\n",
    "    - involact new FAIR (Fair Access to Insurance Requirements) plan policies and renewals per 100 housing units. Specifically, it counts the number of new policies and renewals issued per 100 housing units. The FAIR plan is designed to provide insurance to individuals who might otherwise be unable to obtain it due to factors like redlining, which is the discriminatory practice of denying services (such as insurance) to residents of certain areas based on their race or ethnicity. So, a higher involact value indicates more FAIR plan policies and renewals in that area, suggesting that more residents are relying on this plan for their insurance needs. In other words, a higher involact value reflects a greater dependence on the FAIR plan, which could be due to factors like economic challenges or discriminatory practices in the regular insurance market.\n",
    "    - income median family income in thousands of dollars.\n",
    "    - side north or south side of Chicago.\n",
    "- Insurance redlining is the practice of denying insurance to specific people or areas. The term comes from drawing red lines on maps. While refusing auto insurance to frequent drunk drivers is generally accepted, other types of discrimination are not.\n",
    "- In the late 1970s, the US Commission on Civil Rights investigated claims from Chicago community groups that insurance companies were redlining their neighborhoods. Due to a lack of data on individuals denied homeowners insurance, they recorded the number of FAIR plan policies issued and renewed by zip code from December 1977 to May 1978. The FAIR plan was a default policy for homeowners rejected by the voluntary market. They also collected data on other factors like fire and theft rates at the zip code level."
   ]
  },
  {
   "cell_type": "code",
   "execution_count": 4,
   "id": "67a52e06-6655-42ac-8bfc-ab7407501e52",
   "metadata": {},
   "outputs": [
    {
     "data": {
      "text/html": [
       "<div>\n",
       "<style scoped>\n",
       "    .dataframe tbody tr th:only-of-type {\n",
       "        vertical-align: middle;\n",
       "    }\n",
       "\n",
       "    .dataframe tbody tr th {\n",
       "        vertical-align: top;\n",
       "    }\n",
       "\n",
       "    .dataframe thead th {\n",
       "        text-align: right;\n",
       "    }\n",
       "</style>\n",
       "<table border=\"1\" class=\"dataframe\">\n",
       "  <thead>\n",
       "    <tr style=\"text-align: right;\">\n",
       "      <th></th>\n",
       "      <th>race</th>\n",
       "      <th>fire</th>\n",
       "      <th>theft</th>\n",
       "      <th>age</th>\n",
       "      <th>involact</th>\n",
       "      <th>income</th>\n",
       "    </tr>\n",
       "    <tr>\n",
       "      <th>zip</th>\n",
       "      <th></th>\n",
       "      <th></th>\n",
       "      <th></th>\n",
       "      <th></th>\n",
       "      <th></th>\n",
       "      <th></th>\n",
       "    </tr>\n",
       "  </thead>\n",
       "  <tbody>\n",
       "    <tr>\n",
       "      <th>60626</th>\n",
       "      <td>10.0</td>\n",
       "      <td>6.2</td>\n",
       "      <td>29.0</td>\n",
       "      <td>60.4</td>\n",
       "      <td>NaN</td>\n",
       "      <td>11.744</td>\n",
       "    </tr>\n",
       "    <tr>\n",
       "      <th>60640</th>\n",
       "      <td>22.2</td>\n",
       "      <td>9.5</td>\n",
       "      <td>44.0</td>\n",
       "      <td>76.5</td>\n",
       "      <td>0.1</td>\n",
       "      <td>9.323</td>\n",
       "    </tr>\n",
       "    <tr>\n",
       "      <th>60613</th>\n",
       "      <td>19.6</td>\n",
       "      <td>10.5</td>\n",
       "      <td>36.0</td>\n",
       "      <td>NaN</td>\n",
       "      <td>1.2</td>\n",
       "      <td>9.948</td>\n",
       "    </tr>\n",
       "    <tr>\n",
       "      <th>60657</th>\n",
       "      <td>17.3</td>\n",
       "      <td>7.7</td>\n",
       "      <td>37.0</td>\n",
       "      <td>NaN</td>\n",
       "      <td>0.5</td>\n",
       "      <td>10.656</td>\n",
       "    </tr>\n",
       "    <tr>\n",
       "      <th>60614</th>\n",
       "      <td>24.5</td>\n",
       "      <td>8.6</td>\n",
       "      <td>53.0</td>\n",
       "      <td>81.4</td>\n",
       "      <td>0.7</td>\n",
       "      <td>9.730</td>\n",
       "    </tr>\n",
       "  </tbody>\n",
       "</table>\n",
       "</div>"
      ],
      "text/plain": [
       "       race  fire  theft   age  involact  income\n",
       "zip                                             \n",
       "60626  10.0   6.2   29.0  60.4       NaN  11.744\n",
       "60640  22.2   9.5   44.0  76.5       0.1   9.323\n",
       "60613  19.6  10.5   36.0   NaN       1.2   9.948\n",
       "60657  17.3   7.7   37.0   NaN       0.5  10.656\n",
       "60614  24.5   8.6   53.0  81.4       0.7   9.730"
      ]
     },
     "execution_count": 4,
     "metadata": {},
     "output_type": "execute_result"
    }
   ],
   "source": [
    "import faraway.datasets.chmiss\n",
    "chmiss = faraway.datasets.chmiss.load()\n",
    "chmiss.index = chmiss.zip\n",
    "chmiss.drop(columns=['zip'],inplace=True)\n",
    "chmiss.head()"
   ]
  },
  {
   "cell_type": "markdown",
   "id": "a1edcb41-0c2a-48d3-9aa6-a2c7fbb73b0b",
   "metadata": {},
   "source": [
    "- Some of the observations missing in this modified dataset are randomly.\n",
    "- We moved the zip column to the row label, with missing values as NaN. While NaN is suitable for numerical data, Python uses None for other types like categorical variables. Different software and even different parts of Python represent missing values differently. Data creators may also use their own codes, such as 999 or O, which can be misinterpreted as observed values. Always check for missing values and their representations. In initial data analysis, be vigilant for missing values. For small datasets, inspect the data directly; for larger datasets, use standard descriptions."
   ]
  },
  {
   "cell_type": "code",
   "execution_count": 5,
   "id": "46d61aed-9d38-4e5a-a949-c87ce949997a",
   "metadata": {},
   "outputs": [
    {
     "data": {
      "text/html": [
       "<div>\n",
       "<style scoped>\n",
       "    .dataframe tbody tr th:only-of-type {\n",
       "        vertical-align: middle;\n",
       "    }\n",
       "\n",
       "    .dataframe tbody tr th {\n",
       "        vertical-align: top;\n",
       "    }\n",
       "\n",
       "    .dataframe thead th {\n",
       "        text-align: right;\n",
       "    }\n",
       "</style>\n",
       "<table border=\"1\" class=\"dataframe\">\n",
       "  <thead>\n",
       "    <tr style=\"text-align: right;\">\n",
       "      <th></th>\n",
       "      <th>race</th>\n",
       "      <th>fire</th>\n",
       "      <th>theft</th>\n",
       "      <th>age</th>\n",
       "      <th>involact</th>\n",
       "      <th>income</th>\n",
       "    </tr>\n",
       "  </thead>\n",
       "  <tbody>\n",
       "    <tr>\n",
       "      <th>count</th>\n",
       "      <td>43.00</td>\n",
       "      <td>45.00</td>\n",
       "      <td>43.00</td>\n",
       "      <td>42.00</td>\n",
       "      <td>44.00</td>\n",
       "      <td>45.00</td>\n",
       "    </tr>\n",
       "    <tr>\n",
       "      <th>mean</th>\n",
       "      <td>35.61</td>\n",
       "      <td>11.42</td>\n",
       "      <td>32.65</td>\n",
       "      <td>59.97</td>\n",
       "      <td>0.65</td>\n",
       "      <td>10.74</td>\n",
       "    </tr>\n",
       "    <tr>\n",
       "      <th>std</th>\n",
       "      <td>33.26</td>\n",
       "      <td>8.36</td>\n",
       "      <td>23.12</td>\n",
       "      <td>23.62</td>\n",
       "      <td>0.64</td>\n",
       "      <td>2.79</td>\n",
       "    </tr>\n",
       "    <tr>\n",
       "      <th>min</th>\n",
       "      <td>1.00</td>\n",
       "      <td>2.00</td>\n",
       "      <td>3.00</td>\n",
       "      <td>2.00</td>\n",
       "      <td>0.00</td>\n",
       "      <td>5.58</td>\n",
       "    </tr>\n",
       "    <tr>\n",
       "      <th>25%</th>\n",
       "      <td>3.75</td>\n",
       "      <td>5.60</td>\n",
       "      <td>22.00</td>\n",
       "      <td>48.30</td>\n",
       "      <td>0.00</td>\n",
       "      <td>8.56</td>\n",
       "    </tr>\n",
       "    <tr>\n",
       "      <th>50%</th>\n",
       "      <td>24.50</td>\n",
       "      <td>9.50</td>\n",
       "      <td>29.00</td>\n",
       "      <td>64.40</td>\n",
       "      <td>0.50</td>\n",
       "      <td>10.69</td>\n",
       "    </tr>\n",
       "    <tr>\n",
       "      <th>75%</th>\n",
       "      <td>57.65</td>\n",
       "      <td>15.10</td>\n",
       "      <td>38.00</td>\n",
       "      <td>78.25</td>\n",
       "      <td>0.92</td>\n",
       "      <td>12.10</td>\n",
       "    </tr>\n",
       "    <tr>\n",
       "      <th>max</th>\n",
       "      <td>99.70</td>\n",
       "      <td>36.20</td>\n",
       "      <td>147.00</td>\n",
       "      <td>90.10</td>\n",
       "      <td>2.20</td>\n",
       "      <td>21.48</td>\n",
       "    </tr>\n",
       "  </tbody>\n",
       "</table>\n",
       "</div>"
      ],
      "text/plain": [
       "        race   fire   theft    age  involact  income\n",
       "count  43.00  45.00   43.00  42.00     44.00   45.00\n",
       "mean   35.61  11.42   32.65  59.97      0.65   10.74\n",
       "std    33.26   8.36   23.12  23.62      0.64    2.79\n",
       "min     1.00   2.00    3.00   2.00      0.00    5.58\n",
       "25%     3.75   5.60   22.00  48.30      0.00    8.56\n",
       "50%    24.50   9.50   29.00  64.40      0.50   10.69\n",
       "75%    57.65  15.10   38.00  78.25      0.92   12.10\n",
       "max    99.70  36.20  147.00  90.10      2.20   21.48"
      ]
     },
     "execution_count": 5,
     "metadata": {},
     "output_type": "execute_result"
    }
   ],
   "source": [
    "chmiss.describe().round(2)"
   ]
  },
  {
   "cell_type": "markdown",
   "id": "32b5a304-2da8-4faa-9146-adc2c953d8a4",
   "metadata": {},
   "source": [
    "- but the only clue is the varying numbers in the count row indicating the number of complete observations. To find the number of missing values for each variable:"
   ]
  },
  {
   "cell_type": "code",
   "execution_count": 6,
   "id": "50e6f13b-e05e-472e-84fc-5be66fb595e3",
   "metadata": {},
   "outputs": [
    {
     "data": {
      "text/html": [
       "<div>\n",
       "<style scoped>\n",
       "    .dataframe tbody tr th:only-of-type {\n",
       "        vertical-align: middle;\n",
       "    }\n",
       "\n",
       "    .dataframe tbody tr th {\n",
       "        vertical-align: top;\n",
       "    }\n",
       "\n",
       "    .dataframe thead th {\n",
       "        text-align: right;\n",
       "    }\n",
       "</style>\n",
       "<table border=\"1\" class=\"dataframe\">\n",
       "  <thead>\n",
       "    <tr style=\"text-align: right;\">\n",
       "      <th></th>\n",
       "      <th>race</th>\n",
       "      <th>fire</th>\n",
       "      <th>theft</th>\n",
       "      <th>age</th>\n",
       "      <th>involact</th>\n",
       "      <th>income</th>\n",
       "    </tr>\n",
       "  </thead>\n",
       "  <tbody>\n",
       "    <tr>\n",
       "      <th>0</th>\n",
       "      <td>4</td>\n",
       "      <td>2</td>\n",
       "      <td>4</td>\n",
       "      <td>5</td>\n",
       "      <td>3</td>\n",
       "      <td>2</td>\n",
       "    </tr>\n",
       "  </tbody>\n",
       "</table>\n",
       "</div>"
      ],
      "text/plain": [
       "   race  fire  theft  age  involact  income\n",
       "0     4     2      4    5         3       2"
      ]
     },
     "execution_count": 6,
     "metadata": {},
     "output_type": "execute_result"
    }
   ],
   "source": [
    "chmiss.isna().sum(axis=0).to_frame().T"
   ]
  },
  {
   "cell_type": "code",
   "execution_count": 7,
   "id": "e04fb54c-5daf-4134-af11-8409b9074836",
   "metadata": {},
   "outputs": [
    {
     "data": {
      "text/html": [
       "<div>\n",
       "<style scoped>\n",
       "    .dataframe tbody tr th:only-of-type {\n",
       "        vertical-align: middle;\n",
       "    }\n",
       "\n",
       "    .dataframe tbody tr th {\n",
       "        vertical-align: top;\n",
       "    }\n",
       "\n",
       "    .dataframe thead th {\n",
       "        text-align: right;\n",
       "    }\n",
       "</style>\n",
       "<table border=\"1\" class=\"dataframe\">\n",
       "  <thead>\n",
       "    <tr style=\"text-align: right;\">\n",
       "      <th>zip</th>\n",
       "      <th>60626</th>\n",
       "      <th>60640</th>\n",
       "      <th>60613</th>\n",
       "      <th>60657</th>\n",
       "      <th>60614</th>\n",
       "      <th>60610</th>\n",
       "      <th>60611</th>\n",
       "      <th>60625</th>\n",
       "      <th>60618</th>\n",
       "      <th>60647</th>\n",
       "      <th>...</th>\n",
       "      <th>60620</th>\n",
       "      <th>60619</th>\n",
       "      <th>60649</th>\n",
       "      <th>60617</th>\n",
       "      <th>60655</th>\n",
       "      <th>60643</th>\n",
       "      <th>60628</th>\n",
       "      <th>60627</th>\n",
       "      <th>60633</th>\n",
       "      <th>60645</th>\n",
       "    </tr>\n",
       "  </thead>\n",
       "  <tbody>\n",
       "    <tr>\n",
       "      <th>0</th>\n",
       "      <td>1</td>\n",
       "      <td>0</td>\n",
       "      <td>1</td>\n",
       "      <td>1</td>\n",
       "      <td>0</td>\n",
       "      <td>0</td>\n",
       "      <td>0</td>\n",
       "      <td>0</td>\n",
       "      <td>1</td>\n",
       "      <td>1</td>\n",
       "      <td>...</td>\n",
       "      <td>1</td>\n",
       "      <td>0</td>\n",
       "      <td>1</td>\n",
       "      <td>1</td>\n",
       "      <td>0</td>\n",
       "      <td>0</td>\n",
       "      <td>1</td>\n",
       "      <td>0</td>\n",
       "      <td>0</td>\n",
       "      <td>1</td>\n",
       "    </tr>\n",
       "  </tbody>\n",
       "</table>\n",
       "<p>1 rows × 47 columns</p>\n",
       "</div>"
      ],
      "text/plain": [
       "zip  60626  60640  60613  60657  60614  60610  60611  60625  60618  60647  \\\n",
       "0        1      0      1      1      0      0      0      0      1      1   \n",
       "\n",
       "zip  ...  60620  60619  60649  60617  60655  60643  60628  60627  60633  60645  \n",
       "0    ...      1      0      1      1      0      0      1      0      0      1  \n",
       "\n",
       "[1 rows x 47 columns]"
      ]
     },
     "execution_count": 7,
     "metadata": {},
     "output_type": "execute_result"
    }
   ],
   "source": [
    "# see how many missing values appear in each case\n",
    "chmiss.isna().sum(axis=1).to_frame().T"
   ]
  },
  {
   "cell_type": "markdown",
   "id": "faa6fd8a-67a4-494f-85b0-929df40cd636",
   "metadata": {},
   "source": [
    "- Each row has at most one missing value. We can plot the missing value information, showing that missing cases are evenly scattered. Sometimes, missing values concentrate in specific variables or cases, making it easier to drop them without losing much information. In this example, deleting missing cases would lose 20 out of 47 observations."
   ]
  },
  {
   "cell_type": "code",
   "execution_count": 8,
   "id": "eea7fe97-2471-430a-b980-fc1d166ace6b",
   "metadata": {},
   "outputs": [
    {
     "data": {
      "image/png": "[encoded data removed]",
      "text/plain": [
       "<Figure size 640x480 with 1 Axes>"
      ]
     },
     "metadata": {},
     "output_type": "display_data"
    }
   ],
   "source": [
    "plt.imshow(~chmiss.isna(), aspect='auto')\n",
    "plt.xlabel(\"variables\"); plt.ylabel(\"cases\");\n",
    "plt.xticks(np.arange(0,6), chmiss.columns);"
   ]
  },
  {
   "cell_type": "markdown",
   "id": "7b2c1d5f-a5fa-4889-9a12-f0c615049fd7",
   "metadata": {},
   "source": [
    "# Deletion\n",
    "- The easiest way to handle missing values is to delete them. If a case has a missing value for any variable, you delete that case. Many statistical procedures do not explicitly handle missing values, so case deletion allows you to fit your model if enough data remain. This method is called complete case analysis.\n",
    "- Let's compare results using a deletion strategy to the full data fit."
   ]
  },
  {
   "cell_type": "code",
   "execution_count": 9,
   "id": "6cc9b85a-234c-46c8-9b8f-d7c7af3ba214",
   "metadata": {},
   "outputs": [
    {
     "name": "stdout",
     "output_type": "stream",
     "text": [
      "                coefs stderr tvalues pvalues\n",
      "Intercept      -1.186  1.100   -1.08  0.2876\n",
      "race            0.010  0.002    3.82  0.0004\n",
      "fire            0.040  0.009    4.55  0.0000\n",
      "theft          -0.010  0.003   -3.65  0.0007\n",
      "age             0.008  0.003    3.04  0.0041\n",
      "np.log(income)  0.346  0.400    0.86  0.3925\n",
      "\n",
      "n=47 p=6 Residual SD=0.335 R-squared=0.75\n"
     ]
    }
   ],
   "source": [
    "import faraway.datasets.chredlin\n",
    "chredlin = faraway.datasets.chredlin.load()\n",
    "lmod = smf.ols('involact ~ race + fire + theft + age + np.log(income)', chredlin).fit()\n",
    "lmod.sumary()"
   ]
  },
  {
   "cell_type": "markdown",
   "id": "c524b8e1-97ac-4459-9268-4e434fa6e811",
   "metadata": {},
   "source": [
    "- If we had missing values, such output would be unseen in practice. Now, compare this to a fit using the data with missing values:"
   ]
  },
  {
   "cell_type": "code",
   "execution_count": 10,
   "id": "a66c78fe-d916-4c1b-83b6-db8cd367b5fc",
   "metadata": {},
   "outputs": [
    {
     "name": "stdout",
     "output_type": "stream",
     "text": [
      "                coefs stderr tvalues pvalues\n",
      "Intercept      -2.407  1.419   -1.70  0.1046\n",
      "race            0.011  0.003    3.23  0.0040\n",
      "fire            0.045  0.011    4.21  0.0004\n",
      "theft          -0.016  0.006   -2.89  0.0087\n",
      "age             0.009  0.003    2.65  0.0149\n",
      "np.log(income)  0.844  0.532    1.59  0.1272\n",
      "\n",
      "n=27 p=6 Residual SD=0.339 R-squared=0.79\n"
     ]
    }
   ],
   "source": [
    "lmodm = smf.ols('involact ~ race + fire + theft + age + np.log(income)', chmiss).fit()\n",
    "lmodm.sumary()"
   ]
  },
  {
   "cell_type": "markdown",
   "id": "870760f1-a7bc-469b-8c14-c2a197566d88",
   "metadata": {},
   "source": [
    "- The default behavior of the `smf.ols` function is to omit cases with missing values, leaving only 27 complete cases for regression. The only indication of dropped cases is the reduced number of observations. Adding `missing='drop'` to the call will cause the fit to fail if there are missing values, which is wise if you haven't checked for missing values. The standard errors are larger for the model with missing data due to fewer observations, making estimates less precise. The ratio of the standard errors between the two models can be computed as:"
   ]
  },
  {
   "cell_type": "code",
   "execution_count": 11,
   "id": "072c05af-0ab1-400d-b318-bff1bd03a610",
   "metadata": {},
   "outputs": [
    {
     "data": {
      "text/plain": [
       "Intercept         1.289846\n",
       "race              1.383112\n",
       "fire              1.220096\n",
       "theft             1.969479\n",
       "age               1.254731\n",
       "np.log(income)    1.328592\n",
       "dtype: float64"
      ]
     },
     "execution_count": 11,
     "metadata": {},
     "output_type": "execute_result"
    }
   ],
   "source": [
    "lmodm.bse/lmod.bse"
   ]
  },
  {
   "cell_type": "markdown",
   "id": "747bcf2b-40ad-4529-bae9-e7b30384c3f0",
   "metadata": {},
   "source": [
    "- Given that standard errors are proportional to $\\sqrt{n}$, we expect a ratio around $\\sqrt{47 / 27} = 1.32$. This is roughly correct, but correcting standard errors based on this ratio is not sensible. However, it does indicate how much precision is lost due to missing data and whether retrieving missing data, collecting more data, or using advanced methods might be worthwhile. Deleting missing cases is the simplest strategy, avoiding complexity and potential biases from sophisticated methods, but sacrifices information that could lead to more precise inference. The decision to delete depends on the context, such as the number of cases with missing values and the remaining dataset size."
   ]
  },
  {
   "cell_type": "markdown",
   "id": "8e1075bd-c609-4d66-a2d0-d12da442d118",
   "metadata": {},
   "source": [
    "# Single Imputation\n",
    "- A simple solution is to impute the missing values, for example, by filling them with the variable means:"
   ]
  },
  {
   "cell_type": "code",
   "execution_count": 12,
   "id": "ffb9d57b-e298-472c-92b5-0f65fcc1e3dd",
   "metadata": {},
   "outputs": [
    {
     "data": {
      "text/html": [
       "<div>\n",
       "<style scoped>\n",
       "    .dataframe tbody tr th:only-of-type {\n",
       "        vertical-align: middle;\n",
       "    }\n",
       "\n",
       "    .dataframe tbody tr th {\n",
       "        vertical-align: top;\n",
       "    }\n",
       "\n",
       "    .dataframe thead th {\n",
       "        text-align: right;\n",
       "    }\n",
       "</style>\n",
       "<table border=\"1\" class=\"dataframe\">\n",
       "  <thead>\n",
       "    <tr style=\"text-align: right;\">\n",
       "      <th></th>\n",
       "      <th>race</th>\n",
       "      <th>fire</th>\n",
       "      <th>theft</th>\n",
       "      <th>age</th>\n",
       "      <th>involact</th>\n",
       "      <th>income</th>\n",
       "    </tr>\n",
       "  </thead>\n",
       "  <tbody>\n",
       "    <tr>\n",
       "      <th>0</th>\n",
       "      <td>35.61</td>\n",
       "      <td>11.42</td>\n",
       "      <td>32.65</td>\n",
       "      <td>59.97</td>\n",
       "      <td>0.65</td>\n",
       "      <td>10.74</td>\n",
       "    </tr>\n",
       "  </tbody>\n",
       "</table>\n",
       "</div>"
      ],
      "text/plain": [
       "    race   fire  theft    age  involact  income\n",
       "0  35.61  11.42  32.65  59.97      0.65   10.74"
      ]
     },
     "execution_count": 12,
     "metadata": {},
     "output_type": "execute_result"
    }
   ],
   "source": [
    "cmeans = chmiss.mean(axis=0); cmeans.to_frame().T.round(2)"
   ]
  },
  {
   "cell_type": "markdown",
   "id": "9047db4f-8c0a-4d89-a9d9-76bb8fc2e31e",
   "metadata": {},
   "source": [
    "- We do not impute missing response values, as they are the target of our model. However, cases with missing responses can still help impute other missing predictors. Now refit:"
   ]
  },
  {
   "cell_type": "code",
   "execution_count": 14,
   "id": "a884a84a-3538-45bc-911a-bd872c7e4b85",
   "metadata": {},
   "outputs": [
    {
     "name": "stdout",
     "output_type": "stream",
     "text": [
      "                coefs stderr tvalues pvalues\n",
      "Intercept       0.530  1.088    0.49  0.6292\n",
      "race            0.007  0.003    2.45  0.0189\n",
      "fire            0.028  0.010    2.96  0.0053\n",
      "theft          -0.003  0.003   -1.21  0.2354\n",
      "age             0.006  0.003    1.98  0.0554\n",
      "np.log(income) -0.316  0.390   -0.81  0.4234\n",
      "\n",
      "n=44 p=6 Residual SD=0.385 R-squared=0.68\n"
     ]
    }
   ],
   "source": [
    "# Create a copy of the dataframe with missing values\n",
    "mchm = chmiss.copy()\n",
    "\n",
    "# Fill missing values in the columns with the mean values from 'cmeans'\n",
    "mchm['race'] = mchm['race'].fillna(cmeans['race'])\n",
    "mchm['fire'] = mchm['fire'].fillna(cmeans['fire'])\n",
    "mchm['theft'] = mchm['theft'].fillna(cmeans['theft'])\n",
    "mchm['age'] = mchm['age'].fillna(cmeans['age'])\n",
    "mchm['income'] = mchm['income'].fillna(cmeans['income'])\n",
    "\n",
    "imod = smf.ols('involact ~ race + fire + theft + age + np.log(income)', mchm).fit()\n",
    "imod.sumary()"
   ]
  },
  {
   "cell_type": "markdown",
   "id": "7a8432ea-332f-4de3-bc39-624e29908458",
   "metadata": {},
   "source": [
    "- There are notable differences between these fits: theft and age are significant in the first but not in the second, and coefficients are closer to zero. The bias from mean imputation can be substantial, and it is not recommended unless few values are missing. For categorical variables, impute with the most common level or treat missing values as an additional level, e.g., male, female, unknown.\n",
    "- A more advanced method than mean imputation is using regression to predict missing covariate values. Let's fill in the missing race values:"
   ]
  },
  {
   "cell_type": "code",
   "execution_count": 15,
   "id": "6e2fa20c-c446-4be5-ba6b-fafde9767c23",
   "metadata": {},
   "outputs": [
    {
     "data": {
      "text/plain": [
       "zip\n",
       "60646   -15.945180\n",
       "60651    21.418063\n",
       "60616    72.607239\n",
       "60617    27.977170\n",
       "dtype: float64"
      ]
     },
     "execution_count": 15,
     "metadata": {},
     "output_type": "execute_result"
    }
   ],
   "source": [
    "lmodr = smf.ols('race ~ fire + theft + age + np.log(income)', chmiss).fit()\n",
    "mv = chmiss.race.isna()\n",
    "lmodr.predict(chmiss)[mv]"
   ]
  },
  {
   "cell_type": "markdown",
   "id": "8f7102f0-c4b3-4c09-87da-f152f729bc44",
   "metadata": {},
   "source": [
    "- Notice the first prediction is negative. To handle a response bounded between zero and one, use the logit transformation, which maps the interval to the entire real line. $y \\rightarrow \\log(y/(1-y))$ .The logit function and its inverse can be defined:"
   ]
  },
  {
   "cell_type": "code",
   "execution_count": 16,
   "id": "5fbcc1f6-5e26-4e83-8400-911c4db317a5",
   "metadata": {},
   "outputs": [],
   "source": [
    "# Define the logit function, which applies the logit transformation\n",
    "# The logit transformation is log(x / (1 - x))\n",
    "def logit(x):\n",
    "    return np.log(x / (1 - x))\n",
    "\n",
    "# Define the inverse logit function, which applies the inverse of the logit transformation\n",
    "# The inverse logit transformation is exp(x) / (1 + exp(x))\n",
    "def ilogit(x):\n",
    "    return np.exp(x) / (1 + np.exp(x))"
   ]
  },
  {
   "cell_type": "code",
   "execution_count": 17,
   "id": "96dfe9fa-2772-4844-bcd9-ad02a5d83a9c",
   "metadata": {},
   "outputs": [
    {
     "data": {
      "text/plain": [
       "zip\n",
       "60646     0.456738\n",
       "60651    10.142346\n",
       "60616    87.219223\n",
       "60617    15.781989\n",
       "dtype: float64"
      ]
     },
     "execution_count": 17,
     "metadata": {},
     "output_type": "execute_result"
    }
   ],
   "source": [
    "lmodr = smf.ols('logit(race/100) ~ fire + theft + age + np.log(income)', chmiss).fit()\n",
    "(ilogit(lmodr.predict(chmiss))*100)[mv]"
   ]
  },
  {
   "cell_type": "code",
   "execution_count": 18,
   "id": "d9d9b1da-7a9e-4e78-8da5-daf30a1fff06",
   "metadata": {},
   "outputs": [
    {
     "data": {
      "text/plain": [
       "12     1.0\n",
       "19    13.4\n",
       "26    62.3\n",
       "40    36.4\n",
       "Name: race, dtype: float64"
      ]
     },
     "execution_count": 18,
     "metadata": {},
     "output_type": "execute_result"
    }
   ],
   "source": [
    "# compare to the actual values\n",
    "# Select the 'race' column from the 'chredlin' DataFrame, specifically the rows where the 'race' column in the 'chmiss' DataFrame is NaN (missing).\n",
    "# 'np.where(chmiss.race.isna())' returns the indices of the rows with NaN values in the 'race' column of 'chmiss'.\n",
    "# 'chredlin.race.iloc[...]' then uses these indices to select the corresponding rows from the 'race' column of 'chredlin'.\n",
    "chredlin.race.iloc[np.where(chmiss.race.isna())]"
   ]
  },
  {
   "cell_type": "markdown",
   "id": "937c6550-52e5-4b4d-ae27-caf95ebbecfe",
   "metadata": {},
   "source": [
    "- Our first two predictions are good, but the others are not. We need to manually impute missing values for other predictors.\n",
    "- Like mean fill-in, regression fill-in introduces bias toward zero in coefficients while reducing variance. Success depends on predictor collinearity; more collinear predictors yield more accurate filled values. For collinear data, consider deleting predictors with many missing values.\n",
    "- There is debate on using response values to impute predictors, but it seems unreasonable since the goal is to predict the response using predictors."
   ]
  },
  {
   "cell_type": "markdown",
   "id": "2add0587-30b1-4e24-b98c-ac13d2bb36c1",
   "metadata": {},
   "source": [
    "# Multiple Imputation\n",
    "- Single imputation methods cause bias, while deletion loses information. Multiple imputation reduces bias by adding variation back to the imputed value. Hot deck imputation uses a randomly sampled value from complete data. With more computing power, we can improve this. We describe the Multiple Imputation Chained Equation (MICE) method:\n",
    "- Use mean single imputation to temporarily fill missing values.\n",
    "- For each variable with missing values, build a regression model to predict these using other variables. Instead of the mean predicted value, generate a randomly perturbed value. Sensible methods include using a predictive distribution, bootstrap-based method, or perturbing parameter estimates with a Gaussian distribution based on standard error. The default implementation uses the latter method.\n",
    "- Cycle through all variables, imputing missing values using perturbed model samples. For categorical variables, use appropriate models such as logistic regression for two-level factors.\n",
    "- After one cycle, all missing data will be imputed, but results depend on imputation order. To mitigate this, repeat the cycle multiple times (burn-in period). Ten cycles are recommended.\n",
    "- After the setup period, generate multiple complete imputed datasets. Skip a few cycles before making imputations. For each set, fit the original model and save coefficients and standard errors. Around 50 imputed datasets typically suffice, but more can be used if the dataset is small and the model is simple.\n",
    "- Combine the imputed estimates by averaging them for the point estimate. Use the variances from the imputed estimates to form a single estimated standard error.\n",
    "- We demonstrate the method by using 10 skips for burn-in and 50 imputations."
   ]
  },
  {
   "cell_type": "code",
   "execution_count": 19,
   "id": "a8d376d9-47ce-4271-ba0a-4f0705eb7f5e",
   "metadata": {},
   "outputs": [
    {
     "name": "stdout",
     "output_type": "stream",
     "text": [
      "                           Results: MICE\n",
      "====================================================================\n",
      "Method:                   MICE           Sample size:           47  \n",
      "Model:                    OLS            Scale                  0.14\n",
      "Dependent variable:       involact       Num. imputations       50  \n",
      "--------------------------------------------------------------------\n",
      "                Coef.  Std.Err.    t    P>|t|   [0.025 0.975]  FMI  \n",
      "--------------------------------------------------------------------\n",
      "Intercept       0.2288   1.1468  0.1995 0.8418 -2.0188 2.4764 0.0947\n",
      "race            0.0069   0.0028  2.4722 0.0134  0.0014 0.0123 0.0918\n",
      "fire            0.0313   0.0097  3.2092 0.0013  0.0122 0.0504 0.0894\n",
      "theft          -0.0046   0.0031 -1.4876 0.1369 -0.0107 0.0015 0.2761\n",
      "age             0.0065   0.0031  2.1093 0.0349  0.0005 0.0126 0.1392\n",
      "np.log(income) -0.1931   0.4159 -0.4643 0.6424 -1.0082 0.6220 0.0995\n",
      "====================================================================\n",
      "\n"
     ]
    }
   ],
   "source": [
    "import statsmodels.imputation.mice as smi\n",
    "\n",
    "# Create a MICEData object to handle the multiple imputation process\n",
    "imp = smi.MICEData(chmiss)\n",
    "\n",
    "# Define the formula for the regression model\n",
    "fm = 'involact ~ race + fire + theft + age + np.log(income)'\n",
    "\n",
    "# Create a MICE model using the formula and Ordinary Least Squares (OLS) regression\n",
    "mmod = smi.MICE(fm, sm.OLS, imp)\n",
    "\n",
    "# Fit the MICE model over 10 imputations with 50 iterations each\n",
    "results = mmod.fit(10, 50)\n",
    "print(results.summary())"
   ]
  },
  {
   "cell_type": "markdown",
   "id": "3b4c2e50-dfe5-410f-9721-240b3438d492",
   "metadata": {},
   "source": [
    "- The FMI column shows the fraction of missing information. It is larger for predictors with more variable imputed variances, indicating greater uncertainty due to missing values. The theft predictor is most affected and is not statistically significant as it was with complete data. There are other multiple imputation methods, but fewer Python implementations."
   ]
  },
  {
   "cell_type": "markdown",
   "id": "f12c6ac1-1694-4000-9031-e1462893ff80",
   "metadata": {},
   "source": [
    "# Discussion\n",
    "- Complete case analysis is suitable if the proportion of missing data is low. Discarding predictors with high missing data limits cases with missing values.\n",
    "- Single imputation is simple and works well with low missing data, but its drawbacks may outweigh benefits.\n",
    "- Multiple imputation extracts maximum information but is costly in human and computing time.\n",
    "- For prediction tasks, missing values in future cases must be considered. A complete case approach fails if any predictors are missing, necessitating imputation. Multiple imputation complicates implementation, especially if done later. An alternative is the pattern submodel method, predicting for every missing value pattern. With $p$ predictors, this could mean up to $2^p$ models, which is impractical for large $p$."
   ]
  },
  {
   "cell_type": "code",
   "execution_count": null,
   "id": "53e276f5-62b6-49ee-ba6a-938e2b837dea",
   "metadata": {},
   "outputs": [],
   "source": []
  },
  {
   "cell_type": "code",
   "execution_count": null,
   "id": "d942e20b-b7a8-4e30-9933-9bc6c65c4593",
   "metadata": {},
   "outputs": [],
   "source": []
  }
 ],
 "metadata": {
  "kernelspec": {
   "display_name": "Python 3 (ipykernel)",
   "language": "python",
   "name": "python3"
  },
  "language_info": {
   "codemirror_mode": {
    "name": "ipython",
    "version": 3
   },
   "file_extension": ".py",
   "mimetype": "text/x-python",
   "name": "python",
   "nbconvert_exporter": "python",
   "pygments_lexer": "ipython3",
   "version": "3.11.9"
  }
 },
 "nbformat": 4,
 "nbformat_minor": 5
}
