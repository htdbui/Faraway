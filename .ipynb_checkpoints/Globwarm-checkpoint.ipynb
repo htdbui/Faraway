{
 "cells": [
  {
   "cell_type": "markdown",
   "id": "c3bb6f51-e19f-42f5-8286-df2ac41574db",
   "metadata": {
    "jp-MarkdownHeadingCollapsed": true
   },
   "source": [
    "# 1. Describe the data\n",
    "- It has 1001 observations.\n",
    "- There are 10 variables:\n",
    "    - nhtemp: Northern Hemisphere temperature anomaly, representing the deviation from a long-term average.\n",
    "    - wusa: Western USA temperature anomaly, indicating the temperature deviation for the Western United States.\n",
    "    - jasper: Jasper temperature anomaly, showing the temperature deviation for the Jasper region.\n",
    "    - westgreen: Western Greenland temperature anomaly, representing the temperature deviation for Western Greenland.\n",
    "    - chesapeake: Chesapeake temperature anomaly, indicating the temperature deviation for the Chesapeake region.\n",
    "    - tornetrask: Torneträsk temperature anomaly, showing the temperature deviation for the Torneträsk region.\n",
    "    - urals: Urals temperature anomaly, representing the temperature deviation for the Urals region.\n",
    "    - mongolia: Mongolia temperature anomaly, indicating the temperature deviation for Mongolia.\n",
    "    - tasman: Tasman temperature anomaly, showing the temperature deviation for the Tasman region.\n",
    "    - year: The year of the observation, representing the specific year for which the temperature anomalies are recorded.\n",
    "- Temperature anomalies are usually measured in degrees Celsius (°C).\n",
    "- Reliable thermometer records of annual temperatures only go back to the 1850s. To estimate temperatures before this period, we can use proxies like tree rings. By building a linear model to predict temperatures from 1856 onwards, we can then use this model to estimate earlier temperatures based on proxy data. The data used here is derived from Jones and Mann (2004). Faraway have selected proxies with mostly complete data, imputed some missing values, and applied smoothing for demonstration purposes. We start by fitting a model with temperature as the response variable and the eight proxies as predictors.\n",
    "- There are missing values for nhtemp prior to 1856. In the package statsmodels, the default behavior when performing a regression with missing values is to omit any case that contains a missing value. Therefore, this model uses only data from 1856 through 2000."
   ]
  },
  {
   "cell_type": "markdown",
   "id": "fed20243-0267-4e2d-8443-f0b80b4da5c4",
   "metadata": {},
   "source": [
    "# 2. Load package and data"
   ]
  },
  {
   "cell_type": "code",
   "execution_count": 1,
   "id": "6618910b-1bae-4637-9878-2837cb40645c",
   "metadata": {},
   "outputs": [],
   "source": [
    "%%capture\n",
    "pip install faraway"
   ]
  },
  {
   "cell_type": "code",
   "execution_count": 2,
   "id": "98c37c94-233c-4843-b46b-387891ee4c3d",
   "metadata": {},
   "outputs": [],
   "source": [
    "import pandas as pd\n",
    "import numpy as np\n",
    "import matplotlib.pyplot as plt\n",
    "import scipy as sp\n",
    "import seaborn as sns\n",
    "import statsmodels.api as sm\n",
    "import statsmodels.formula.api as smf\n",
    "import faraway.utils"
   ]
  },
  {
   "cell_type": "code",
   "execution_count": 4,
   "id": "e3a7149c-2d5d-4c87-82be-3f20aab7a4dc",
   "metadata": {},
   "outputs": [
    {
     "data": {
      "text/html": [
       "<div>\n",
       "<style scoped>\n",
       "    .dataframe tbody tr th:only-of-type {\n",
       "        vertical-align: middle;\n",
       "    }\n",
       "\n",
       "    .dataframe tbody tr th {\n",
       "        vertical-align: top;\n",
       "    }\n",
       "\n",
       "    .dataframe thead th {\n",
       "        text-align: right;\n",
       "    }\n",
       "</style>\n",
       "<table border=\"1\" class=\"dataframe\">\n",
       "  <thead>\n",
       "    <tr style=\"text-align: right;\">\n",
       "      <th></th>\n",
       "      <th>nhtemp</th>\n",
       "      <th>wusa</th>\n",
       "      <th>jasper</th>\n",
       "      <th>westgreen</th>\n",
       "      <th>chesapeake</th>\n",
       "      <th>tornetrask</th>\n",
       "      <th>urals</th>\n",
       "      <th>mongolia</th>\n",
       "      <th>tasman</th>\n",
       "      <th>year</th>\n",
       "    </tr>\n",
       "  </thead>\n",
       "  <tbody>\n",
       "    <tr>\n",
       "      <th>0</th>\n",
       "      <td>NaN</td>\n",
       "      <td>-0.66</td>\n",
       "      <td>-0.03</td>\n",
       "      <td>0.03</td>\n",
       "      <td>-0.66</td>\n",
       "      <td>0.33</td>\n",
       "      <td>-1.49</td>\n",
       "      <td>0.83</td>\n",
       "      <td>-0.12</td>\n",
       "      <td>1000</td>\n",
       "    </tr>\n",
       "    <tr>\n",
       "      <th>1</th>\n",
       "      <td>NaN</td>\n",
       "      <td>-0.63</td>\n",
       "      <td>-0.07</td>\n",
       "      <td>0.09</td>\n",
       "      <td>-0.67</td>\n",
       "      <td>0.21</td>\n",
       "      <td>-1.44</td>\n",
       "      <td>0.96</td>\n",
       "      <td>-0.17</td>\n",
       "      <td>1001</td>\n",
       "    </tr>\n",
       "    <tr>\n",
       "      <th>2</th>\n",
       "      <td>NaN</td>\n",
       "      <td>-0.60</td>\n",
       "      <td>-0.11</td>\n",
       "      <td>0.18</td>\n",
       "      <td>-0.67</td>\n",
       "      <td>0.13</td>\n",
       "      <td>-1.39</td>\n",
       "      <td>0.99</td>\n",
       "      <td>-0.22</td>\n",
       "      <td>1002</td>\n",
       "    </tr>\n",
       "    <tr>\n",
       "      <th>3</th>\n",
       "      <td>NaN</td>\n",
       "      <td>-0.55</td>\n",
       "      <td>-0.14</td>\n",
       "      <td>0.30</td>\n",
       "      <td>-0.68</td>\n",
       "      <td>0.08</td>\n",
       "      <td>-1.34</td>\n",
       "      <td>0.95</td>\n",
       "      <td>-0.26</td>\n",
       "      <td>1003</td>\n",
       "    </tr>\n",
       "    <tr>\n",
       "      <th>4</th>\n",
       "      <td>NaN</td>\n",
       "      <td>-0.51</td>\n",
       "      <td>-0.15</td>\n",
       "      <td>0.41</td>\n",
       "      <td>-0.68</td>\n",
       "      <td>0.06</td>\n",
       "      <td>-1.30</td>\n",
       "      <td>0.87</td>\n",
       "      <td>-0.31</td>\n",
       "      <td>1004</td>\n",
       "    </tr>\n",
       "  </tbody>\n",
       "</table>\n",
       "</div>"
      ],
      "text/plain": [
       "   nhtemp  wusa  jasper  westgreen  chesapeake  tornetrask  urals  mongolia  \\\n",
       "0     NaN -0.66   -0.03       0.03       -0.66        0.33  -1.49      0.83   \n",
       "1     NaN -0.63   -0.07       0.09       -0.67        0.21  -1.44      0.96   \n",
       "2     NaN -0.60   -0.11       0.18       -0.67        0.13  -1.39      0.99   \n",
       "3     NaN -0.55   -0.14       0.30       -0.68        0.08  -1.34      0.95   \n",
       "4     NaN -0.51   -0.15       0.41       -0.68        0.06  -1.30      0.87   \n",
       "\n",
       "   tasman  year  \n",
       "0   -0.12  1000  \n",
       "1   -0.17  1001  \n",
       "2   -0.22  1002  \n",
       "3   -0.26  1003  \n",
       "4   -0.31  1004  "
      ]
     },
     "execution_count": 4,
     "metadata": {},
     "output_type": "execute_result"
    }
   ],
   "source": [
    "import faraway.datasets.globwarm\n",
    "globwarm_df = faraway.datasets.globwarm.load()\n",
    "globwarm_df.head()"
   ]
  },
  {
   "cell_type": "markdown",
   "id": "581ccfde-964a-45de-ada0-adc36991cc40",
   "metadata": {},
   "source": [
    "# 3. Linear regression"
   ]
  },
  {
   "cell_type": "code",
   "execution_count": 5,
   "id": "9706601c-a906-4744-b7d0-d8d842b384c1",
   "metadata": {},
   "outputs": [
    {
     "name": "stdout",
     "output_type": "stream",
     "text": [
      "            coefs stderr tvalues pvalues\n",
      "Intercept  -0.243  0.027   -8.98  0.0000\n",
      "wusa        0.077  0.043    1.80  0.0736\n",
      "jasper     -0.229  0.078   -2.93  0.0040\n",
      "westgreen   0.010  0.042    0.23  0.8192\n",
      "chesapeake -0.032  0.034   -0.94  0.3473\n",
      "tornetrask  0.093  0.045    2.06  0.0416\n",
      "urals       0.185  0.091    2.03  0.0446\n",
      "mongolia    0.042  0.046    0.92  0.3610\n",
      "tasman      0.115  0.030    3.83  0.0002\n",
      "\n",
      "n=145 p=9 Residual SD=0.176 R-squared=0.48\n"
     ]
    }
   ],
   "source": [
    "lmod = smf.ols('nhtemp ~ wusa + jasper + westgreen + chesapeake + \\\n",
    "        tornetrask + urals + mongolia + tasman', globwarm_df).fit()\n",
    "lmod.sumary()"
   ]
  },
  {
   "cell_type": "markdown",
   "id": "b07442e8-39ea-472a-ad7f-de18b8eb1091",
   "metadata": {},
   "source": [
    "# 4. Diagnosis"
   ]
  },
  {
   "cell_type": "markdown",
   "id": "b373789b-dcc3-4577-bcd3-9b5f77bef704",
   "metadata": {},
   "source": [
    "## 4.1. Correlated errors\n",
    "- To analyze correlated errors in temporal data, it’s common to plot the residuals against the time index. This visual approach helps identify any patterns or trends in the errors over time. If the errors are not correlated, the points should be randomly scattered above and below the zero-error line."
   ]
  },
  {
   "cell_type": "code",
   "execution_count": 8,
   "id": "0eab0063-c23e-4316-b4b0-8f4209deec56",
   "metadata": {},
   "outputs": [
    {
     "data": {
      "image/png": "[encoded data removed]",
      "text/plain": [
       "<Figure size 640x480 with 1 Axes>"
      ]
     },
     "metadata": {},
     "output_type": "display_data"
    }
   ],
   "source": [
    "plt.scatter(globwarm.year[lmod.resid.keys()], lmod.resid); plt.axhline(0);"
   ]
  },
  {
   "cell_type": "markdown",
   "id": "fb8536e6-91a7-40c3-8854-5907f0ae3f74",
   "metadata": {},
   "source": [
    "- In this plot, we see long sequences of points above or below the line. This is an indication of positive serial correlation.\n",
    "- Another method to check for serial correlation is to plot the residuals of successive pairs. If we suspect a more complex dependence, we can plot more than just successive pairs."
   ]
  },
  {
   "cell_type": "code",
   "execution_count": 10,
   "id": "8fa083b2-422d-4b09-9965-16f6b88b26c5",
   "metadata": {},
   "outputs": [
    {
     "data": {
      "image/png": "[encoded data removed]",
      "text/plain": [
       "<Figure size 640x480 with 1 Axes>"
      ]
     },
     "metadata": {},
     "output_type": "display_data"
    }
   ],
   "source": [
    "plt.scatter(lmod.resid.iloc[:-1], lmod.resid.iloc[1:])\n",
    "plt.axhline(0, alpha=0.5); plt.axvline(0, alpha=0.5);"
   ]
  },
  {
   "cell_type": "markdown",
   "id": "efcad200-35b0-4058-8e71-28e3205759e4",
   "metadata": {},
   "source": [
    "- We can see a positive correlation again indicating positive serial correlation.\n",
    "- The Durbin–Watson test is used to assess the significance of correlation in errors. The null hypothesis states that the errors are uncorrelated. Under this assumption, the null distribution follows a linear combination of χ² distributions.\n",
    "    - $DW = \\frac{\\sum_{i=2}^{n}{(\\hat{ε}_i - \\hat{ε}_{i-1})^2} }{\\sum_{i=1}^{n}{\\hat{ε}_i^2}}$\n",
    "    - Under the null hypothesis, a test statistic value of 2 is expected. A value less than 1 indicates a potential issue."
   ]
  },
  {
   "cell_type": "code",
   "execution_count": 11,
   "id": "4b225f81-b103-4ba1-ada0-bb527cab22b9",
   "metadata": {},
   "outputs": [
    {
     "data": {
      "text/plain": [
       "0.8166063726402727"
      ]
     },
     "execution_count": 11,
     "metadata": {},
     "output_type": "execute_result"
    }
   ],
   "source": [
    "sm.stats.stattools.durbin_watson(lmod.resid)"
   ]
  },
  {
   "cell_type": "markdown",
   "id": "5340407c-7d6a-4b8d-91b1-5156f1d6181d",
   "metadata": {},
   "source": [
    "- We see that the errors are correlated.\n",
    "- We don’t expect the proxies to model temperature perfectly, and higher or lower temperatures in one year might influence the next year.\n",
    "- Serial correlation can sometimes result from missing covariates in the model. For instance, if there’s a quadratic relationship between a predictor and the response, but only a linear term is included, diagnostics might show serial correlation in the residuals. In such cases, the missing quadratic term is the actual source of the problem, and including it in the model can help address the serial correlation."
   ]
  },
  {
   "cell_type": "code",
   "execution_count": 8,
   "id": "e4d69a5f-a61b-4acb-8a94-8086b48c0e21",
   "metadata": {},
   "outputs": [
    {
     "data": {
      "text/plain": [
       "array([[1.   , 0.583],\n",
       "       [0.583, 1.   ]])"
      ]
     },
     "execution_count": 8,
     "metadata": {},
     "output_type": "execute_result"
    }
   ],
   "source": [
    "# Calculate the correlation between the residual vector, first excluding the initial term \n",
    "# and then excluding the final term.\n",
    "np.corrcoef(lmod.resid.iloc[:-1] ,lmod.resid.iloc[1:]).round(3)"
   ]
  },
  {
   "cell_type": "code",
   "execution_count": 10,
   "id": "8000273b-0b80-4ecf-92f8-c2cfb26ede21",
   "metadata": {},
   "outputs": [
    {
     "data": {
      "text/plain": [
       "0.5833389850124189"
      ]
     },
     "execution_count": 10,
     "metadata": {},
     "output_type": "execute_result"
    }
   ],
   "source": [
    "# Other way to calculate the correlation\n",
    "lmod.resid.autocorr()"
   ]
  },
  {
   "cell_type": "markdown",
   "id": "8b737cfe-0118-4063-b220-1d051196a554",
   "metadata": {},
   "source": [
    "# 5. Autoregressive model\n",
    "$$ ε_{i+1} = ϕε_i + δ_i $ where $δ_i \\sim N(0, τ^2 )$$"
   ]
  },
  {
   "cell_type": "code",
   "execution_count": 11,
   "id": "b6f3a19b-f249-41d8-897d-2770c07da132",
   "metadata": {},
   "outputs": [
    {
     "data": {
      "text/plain": [
       "array([0.582])"
      ]
     },
     "execution_count": 11,
     "metadata": {},
     "output_type": "execute_result"
    }
   ],
   "source": [
    "X = lmod.model.wexog\n",
    "y = lmod.model.wendog\n",
    "gmod = sm.GLSAR(y, X, rho=1)\n",
    "res = gmod.iterative_fit(maxiter=6)\n",
    "gmod.rho.round(3)"
   ]
  },
  {
   "cell_type": "markdown",
   "id": "87ed3920-b7c0-4e7e-b821-da65393a4701",
   "metadata": {},
   "source": [
    "- The estimated value of p closely matches the calculation of the OLS residuals."
   ]
  },
  {
   "cell_type": "code",
   "execution_count": 15,
   "id": "d9a441ec-eca7-4ccc-aa79-ac8dc512b8bf",
   "metadata": {},
   "outputs": [
    {
     "data": {
      "text/html": [
       "<table class=\"simpletable\">\n",
       "<tr>\n",
       "    <td></td>       <th>coef</th>     <th>std err</th>      <th>t</th>      <th>P>|t|</th>  <th>[0.025</th>    <th>0.975]</th>  \n",
       "</tr>\n",
       "<tr>\n",
       "  <th>const</th> <td>   -0.2315</td> <td>    0.050</td> <td>   -4.658</td> <td> 0.000</td> <td>   -0.330</td> <td>   -0.133</td>\n",
       "</tr>\n",
       "<tr>\n",
       "  <th>x1</th>    <td>    0.0634</td> <td>    0.077</td> <td>    0.823</td> <td> 0.412</td> <td>   -0.089</td> <td>    0.216</td>\n",
       "</tr>\n",
       "<tr>\n",
       "  <th>x2</th>    <td>   -0.2120</td> <td>    0.143</td> <td>   -1.488</td> <td> 0.139</td> <td>   -0.494</td> <td>    0.070</td>\n",
       "</tr>\n",
       "<tr>\n",
       "  <th>x3</th>    <td>    0.0066</td> <td>    0.072</td> <td>    0.092</td> <td> 0.927</td> <td>   -0.136</td> <td>    0.149</td>\n",
       "</tr>\n",
       "<tr>\n",
       "  <th>x4</th>    <td>   -0.0144</td> <td>    0.058</td> <td>   -0.247</td> <td> 0.805</td> <td>   -0.130</td> <td>    0.101</td>\n",
       "</tr>\n",
       "<tr>\n",
       "  <th>x5</th>    <td>    0.0577</td> <td>    0.076</td> <td>    0.760</td> <td> 0.448</td> <td>   -0.092</td> <td>    0.208</td>\n",
       "</tr>\n",
       "<tr>\n",
       "  <th>x6</th>    <td>    0.2321</td> <td>    0.170</td> <td>    1.366</td> <td> 0.174</td> <td>   -0.104</td> <td>    0.568</td>\n",
       "</tr>\n",
       "<tr>\n",
       "  <th>x7</th>    <td>    0.0490</td> <td>    0.082</td> <td>    0.596</td> <td> 0.552</td> <td>   -0.114</td> <td>    0.212</td>\n",
       "</tr>\n",
       "<tr>\n",
       "  <th>x8</th>    <td>    0.1249</td> <td>    0.055</td> <td>    2.266</td> <td> 0.025</td> <td>    0.016</td> <td>    0.234</td>\n",
       "</tr>\n",
       "</table>"
      ],
      "text/latex": [
       "\\begin{center}\n",
       "\\begin{tabular}{lcccccc}\n",
       "\\toprule\n",
       "               & \\textbf{coef} & \\textbf{std err} & \\textbf{t} & \\textbf{P$> |$t$|$} & \\textbf{[0.025} & \\textbf{0.975]}  \\\\\n",
       "\\midrule\n",
       "\\textbf{const} &      -0.2315  &        0.050     &    -4.658  &         0.000        &       -0.330    &       -0.133     \\\\\n",
       "\\textbf{x1}    &       0.0634  &        0.077     &     0.823  &         0.412        &       -0.089    &        0.216     \\\\\n",
       "\\textbf{x2}    &      -0.2120  &        0.143     &    -1.488  &         0.139        &       -0.494    &        0.070     \\\\\n",
       "\\textbf{x3}    &       0.0066  &        0.072     &     0.092  &         0.927        &       -0.136    &        0.149     \\\\\n",
       "\\textbf{x4}    &      -0.0144  &        0.058     &    -0.247  &         0.805        &       -0.130    &        0.101     \\\\\n",
       "\\textbf{x5}    &       0.0577  &        0.076     &     0.760  &         0.448        &       -0.092    &        0.208     \\\\\n",
       "\\textbf{x6}    &       0.2321  &        0.170     &     1.366  &         0.174        &       -0.104    &        0.568     \\\\\n",
       "\\textbf{x7}    &       0.0490  &        0.082     &     0.596  &         0.552        &       -0.114    &        0.212     \\\\\n",
       "\\textbf{x8}    &       0.1249  &        0.055     &     2.266  &         0.025        &        0.016    &        0.234     \\\\\n",
       "\\bottomrule\n",
       "\\end{tabular}\n",
       "\\end{center}"
      ],
      "text/plain": [
       "<class 'statsmodels.iolib.table.SimpleTable'>"
      ]
     },
     "execution_count": 15,
     "metadata": {},
     "output_type": "execute_result"
    }
   ],
   "source": [
    "res.summary().tables[1]"
   ]
  },
  {
   "cell_type": "markdown",
   "id": "4af29744-78b4-4ee1-9154-550e042953bb",
   "metadata": {},
   "source": [
    "- The standard errors of $\\hat{β}$ are significantly larger, and only one predictor is statistically significant in the output. However, due to substantial collinearity among the predictors, this should not be interpreted as indicating ‘no predictor effect.’\n",
    "- It’s important to understand that correlation between predictors and correlation between errors are distinct phenomena with no necessary link between them. Significant autocorrelation is expected in this example because the proxies can only partially predict the temperature, leading to a natural carryover effect from one year to the next."
   ]
  },
  {
   "cell_type": "markdown",
   "id": "e9be7213-3e48-417b-bdb8-2eef81f35027",
   "metadata": {},
   "source": [
    "- Correlation between errors can also be expected when observations are grouped. In spatial data, for example, the relative locations of observations can model error correlation.\n",
    "- Sometimes, correlation between errors is suspected without a clear structure to suggest a parameterized form, such as serial correlation or compound symmetry. The challenge is that there are too many pairwise correlations to estimate and insufficient data to do so.\n",
    "    - In some cases, errors in observations might be correlated. For example, in an experiment comparing eight oat varieties, the growing area was divided into five blocks, with each variety planted once per block. The yield was recorded in grams per 16-ft row. It’s reasonable to expect correlated errors within each block, meaning errors for observations in the same block might be related. Errors for observations in different blocks are assumed to be uncorrelated. This is known as the compound symmetry assumption."
   ]
  },
  {
   "cell_type": "code",
   "execution_count": null,
   "id": "0e7878c1-03c6-4efc-8479-d6e056d34d6b",
   "metadata": {},
   "outputs": [],
   "source": []
  },
  {
   "cell_type": "code",
   "execution_count": null,
   "id": "11d897c9-c63f-49e8-b672-28259fa51657",
   "metadata": {},
   "outputs": [],
   "source": []
  },
  {
   "cell_type": "code",
   "execution_count": null,
   "id": "b6d4a760-7695-4d39-bf24-5eda9bc4a08b",
   "metadata": {},
   "outputs": [],
   "source": []
  },
  {
   "cell_type": "code",
   "execution_count": null,
   "id": "3dc30ca8-01aa-497b-8a6f-6e0b6790fdf6",
   "metadata": {},
   "outputs": [],
   "source": []
  },
  {
   "cell_type": "code",
   "execution_count": null,
   "id": "7a3c2210-7fb7-4d7c-b0d5-7bd61991d4bf",
   "metadata": {},
   "outputs": [],
   "source": []
  }
 ],
 "metadata": {
  "kernelspec": {
   "display_name": "Python 3 (ipykernel)",
   "language": "python",
   "name": "python3"
  },
  "language_info": {
   "codemirror_mode": {
    "name": "ipython",
    "version": 3
   },
   "file_extension": ".py",
   "mimetype": "text/x-python",
   "name": "python",
   "nbconvert_exporter": "python",
   "pygments_lexer": "ipython3",
   "version": "3.11.9"
  }
 },
 "nbformat": 4,
 "nbformat_minor": 5
}
