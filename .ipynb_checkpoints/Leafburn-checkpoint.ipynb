{
 "cells": [
  {
   "cell_type": "markdown",
   "id": "3e2d2f06-7981-42db-88dc-7f46538aaa07",
   "metadata": {},
   "source": [
    "# 1. Describe the data\n",
    "- It has 30 observations.\n",
    "- There are 4 variables:\n",
    "    - nitrogen: nitrogen content in the leaves (%)\n",
    "    - chlorine: chlorine content in the leaves (%)\n",
    "    - potassium: potassium content in the leaves (%)\n",
    "    - burntime: time it takes for the leaves to burn (minute)\n",
    "- The burn time of tobacco leaves depends on three chemical constituents: nitrogen, chlorine, and potassium."
   ]
  },
  {
   "cell_type": "markdown",
   "id": "d418958c-9c79-47a8-9662-b4dae683373f",
   "metadata": {},
   "source": [
    "# 2. Load packages and data"
   ]
  },
  {
   "cell_type": "code",
   "execution_count": 1,
   "id": "6ab1a15d-1d20-4b53-b3ee-e7bf8f4a817b",
   "metadata": {},
   "outputs": [],
   "source": [
    "%%capture\n",
    "pip install faraway"
   ]
  },
  {
   "cell_type": "code",
   "execution_count": 2,
   "id": "c35f02a9-75fe-499c-966d-92bc1280e3bb",
   "metadata": {},
   "outputs": [],
   "source": [
    "import pandas as pd\n",
    "import numpy as np\n",
    "import matplotlib.pyplot as plt\n",
    "import scipy as sp\n",
    "import statsmodels.api as sm\n",
    "import statsmodels.formula.api as smf\n",
    "import seaborn as sns\n",
    "import faraway.utils"
   ]
  },
  {
   "cell_type": "code",
   "execution_count": 3,
   "id": "3e6ceff7-3f53-4b16-835f-3a5e73b70a9a",
   "metadata": {},
   "outputs": [
    {
     "data": {
      "text/html": [
       "<div>\n",
       "<style scoped>\n",
       "    .dataframe tbody tr th:only-of-type {\n",
       "        vertical-align: middle;\n",
       "    }\n",
       "\n",
       "    .dataframe tbody tr th {\n",
       "        vertical-align: top;\n",
       "    }\n",
       "\n",
       "    .dataframe thead th {\n",
       "        text-align: right;\n",
       "    }\n",
       "</style>\n",
       "<table border=\"1\" class=\"dataframe\">\n",
       "  <thead>\n",
       "    <tr style=\"text-align: right;\">\n",
       "      <th></th>\n",
       "      <th>nitrogen</th>\n",
       "      <th>chlorine</th>\n",
       "      <th>potassium</th>\n",
       "      <th>burntime</th>\n",
       "    </tr>\n",
       "  </thead>\n",
       "  <tbody>\n",
       "    <tr>\n",
       "      <th>0</th>\n",
       "      <td>3.05</td>\n",
       "      <td>1.45</td>\n",
       "      <td>5.67</td>\n",
       "      <td>2.2</td>\n",
       "    </tr>\n",
       "    <tr>\n",
       "      <th>1</th>\n",
       "      <td>4.22</td>\n",
       "      <td>1.35</td>\n",
       "      <td>4.86</td>\n",
       "      <td>1.3</td>\n",
       "    </tr>\n",
       "    <tr>\n",
       "      <th>2</th>\n",
       "      <td>3.34</td>\n",
       "      <td>0.26</td>\n",
       "      <td>4.19</td>\n",
       "      <td>2.4</td>\n",
       "    </tr>\n",
       "    <tr>\n",
       "      <th>3</th>\n",
       "      <td>3.77</td>\n",
       "      <td>0.23</td>\n",
       "      <td>4.42</td>\n",
       "      <td>4.8</td>\n",
       "    </tr>\n",
       "    <tr>\n",
       "      <th>4</th>\n",
       "      <td>3.52</td>\n",
       "      <td>1.10</td>\n",
       "      <td>3.17</td>\n",
       "      <td>1.5</td>\n",
       "    </tr>\n",
       "  </tbody>\n",
       "</table>\n",
       "</div>"
      ],
      "text/plain": [
       "   nitrogen  chlorine  potassium  burntime\n",
       "0      3.05      1.45       5.67       2.2\n",
       "1      4.22      1.35       4.86       1.3\n",
       "2      3.34      0.26       4.19       2.4\n",
       "3      3.77      0.23       4.42       4.8\n",
       "4      3.52      1.10       3.17       1.5"
      ]
     },
     "execution_count": 3,
     "metadata": {},
     "output_type": "execute_result"
    }
   ],
   "source": [
    "import faraway.datasets.leafburn\n",
    "leafburn = faraway.datasets.leafburn.load()\n",
    "leafburn.head()"
   ]
  },
  {
   "cell_type": "markdown",
   "id": "4dce919b-a1de-4028-9d18-ac5728a31298",
   "metadata": {},
   "source": [
    "# 3. Transformation\n",
    "- When you use a log transformation on the response, the regression coefficients have a particular interpretation:\n",
    "    - $\\log{\\hat{y}}={\\hat{\\beta}}_0+{\\hat{\\beta}}_1x_1+\\ldots+{\\hat{\\beta}}_px_p$\n",
    "    - $\\hat{y}=e^{{\\hat{\\beta}}_0}e^{{\\hat{\\beta}}_1x_1}\\ldots e^{{\\hat{\\beta}}_px_p}$\n",
    "    - If we increase $x_1$ by one, the predicted response (in the original scale) is multiplied by ( $e^{\\hat{\\beta}_1}$ ). In a log scale, regression coefficients multiply the response. For small x, ( $\\log(1 + x) \\approx x $). For example, if ( $\\beta_1 = 0.09$ ), increasing ( $x_1$ ) by one raises ( $\\log(y)$ ) by 0.09, or y by 9%. This works well for x up to about ($\\pm 0.25$).\n",
    "- The Box-Cox method transforms positive responses y to $g_λ(y)$, with transformations based on λ:\n",
    "    - $g_\\lambda\\left(y\\right)=\\left\\{\\begin{matrix}\\frac{y^\\lambda-1}{\\lambda}&\\lambda\\neq0\\\\\\log{y}&\\lambda=0\\\\\\end{matrix}\\right.$\n",
    "    - For a fixed $y > 0$, $g_\\lambda(y)$ changes smoothly with $\\lambda$. We can choose the optimal $\\lambda$ using maximum likelihood, which assumes model errors follow a normal distribution. The profile log-likelihood measures how well the model fits the data under this assumption:\n",
    "        - $L\\left(\\lambda\\right)=\\ -\\frac{n}{2}\\log{\\left(\\frac{RSS_\\lambda}{n}\\right)}+\\left(\\lambda-1\\right)\\sum\\log{y_i}$\n",
    "            - RSS$_λ$ is the residual sum of squares when $g_λ(y)$ is the response.\n",
    "            - We find the best value $\\hat{\\lambda}$ using a numerical method to maximize the profile log-likelihood.\n",
    "        - If using the regression model for prediction, we can take $y^\\lambda$ as the response. The expression $\\frac{y^\\lambda - 1}{\\lambda}$ is not required, as it's only used to ensure $g_\\lambda$ smoothly transitions to the natural logarithm as $\\lambda \\to 0$.\n",
    "        - To make the model easier to explain, we may round $\\lambda$ to a more interpretable value. For instance, if $\\hat{\\lambda} = 0.46$, the transformed response might be difficult to explain. However, rounding $\\lambda$ to 0.5 allows us to describe the response as $\\sqrt{y}$, which is simpler to understand.\n",
    "- Transforming the response complicates the model, so it should only be done if necessary. One way to check is by constructing a confidence interval for $\\lambda$. A $100(1-\\alpha)%$ confidence interval for $\\lambda$ is:\n",
    "    - $\\left\\{\\lambda:L\\left(\\lambda\\right)>L\\left(\\hat{\\lambda}\\right)-1/2\\chi_{1,1-\\alpha}^2\\right\\}$\n",
    "    - The interval is derived by inverting the likelihood ratio test for the hypothesis $H_0: \\lambda = \\lambda_0$. The test uses the statistic $2\\left(L\\left(\\hat{\\lambda}\\right) - L\\left(\\lambda_0\\right)\\right)$, which follows an approximate $\\chi_1^2$ distribution under the null. The confidence interval also indicates how much rounding $\\lambda$ for interpretability is reasonable.\n",
    "- Another family of transformations is given by $g_α(y) = log(y+α)$\n",
    "    - The profile log-likelihood: $L\\left(α\\right)=\\ -\\frac{n}{2}\\log{\\left(RSS_α\\right)}+\\sum\\log{(y_i + α)}$"
   ]
  },
  {
   "cell_type": "code",
   "execution_count": 5,
   "id": "774d339f-0ac4-455b-ac86-8bc0ee9aab81",
   "metadata": {},
   "outputs": [],
   "source": [
    "# Creating the Design Matrix\n",
    "# Uses the patsy to create X with the specified independent variables\n",
    "from patsy import dmatrix\n",
    "X = dmatrix('nitrogen + chlorine + potassium',data=leafburn)"
   ]
  },
  {
   "cell_type": "code",
   "execution_count": 7,
   "id": "3cdb42b8-dc70-4008-8870-963fa1e595fb",
   "metadata": {},
   "outputs": [],
   "source": [
    "# Setting Up Variables for Box-Cox Transformation\n",
    "n = leafburn.shape[0] # number of observations in the dataset\n",
    "alpha = np.linspace(-0.999, 0, 100) # array of 100 lambda values ranging from -0.999 to 0\n",
    "llk = np.empty(100) # empty array to store log-likelihood values"
   ]
  },
  {
   "cell_type": "code",
   "execution_count": 12,
   "id": "d62a45b1-f0e9-4c98-8152-2215c47b28ef",
   "metadata": {},
   "outputs": [],
   "source": [
    "# Calculating Log-Likelihood for Each Alpha\n",
    "# Iterates over each alpha value\n",
    "# Applies log transformation to the burntime with the current alpha value\n",
    "# Fits an OLS model with transformed burntime and calculates the log-likelihood\n",
    "# Here log transformation with an added alpha parameter\n",
    "for i in range(0, 100):\n",
    "    lmod = sm.OLS(np.log(leafburn.burntime + alpha[i]), X).fit()\n",
    "    llk[i] = -(n/2)*np.log(lmod.ssr) - np.sum(np.log(leafburn.burntime + alpha[i]))"
   ]
  },
  {
   "cell_type": "code",
   "execution_count": 15,
   "id": "9d9a22c6-178a-47a6-84b1-90e6441a46b2",
   "metadata": {},
   "outputs": [
    {
     "data": {
      "image/png": "[encoded data removed]",
      "text/plain": [
       "<Figure size 640x480 with 1 Axes>"
      ]
     },
     "metadata": {},
     "output_type": "display_data"
    }
   ],
   "source": [
    "# Plotting the Log-Likelihood Values\n",
    "fig, ax = plt.subplots()\n",
    "ax.plot(alpha, llk)\n",
    "ax.set_xlabel(r'$\\alpha$'); ax.set_ylabel('log likelihood')\n",
    "# Highlighting the Maximum Log-Likelihood\n",
    "maxi = llk.argmax()\n",
    "ax.vlines(alpha[maxi], ymin=min(llk), ymax=max(llk), linestyle='dashed')\n",
    "# Calculates the cutoff for the 95% confidence interval\n",
    "cicut = max(llk) - sp.stats.chi2.ppf(0.95, 1) / 2\n",
    "# Identifies the range of alpha values within this confidence interval\n",
    "ralp = alpha[llk > cicut]\n",
    "# Draws horizontal and vertical dashed lines to indicate the confidence interval\n",
    "ax.hlines(cicut, xmin=ralp[0], xmax=ralp[-1], linestyle='dashed')\n",
    "ax.vlines([ralp[0], ralp[-1]], ymin=min(llk), ymax=cicut, linestyle='dashed');"
   ]
  },
  {
   "cell_type": "markdown",
   "id": "51eb0a7e-df46-4a2b-8b49-e4d506f7dceb",
   "metadata": {},
   "source": [
    "- The plot shows that a log transformation works if we subtract approximately 0.85 from the response, which could be interpreted as a start-up time for the fire to ignite."
   ]
  },
  {
   "cell_type": "code",
   "execution_count": null,
   "id": "82ac52ce-6081-462c-9d75-549fccf2cad6",
   "metadata": {},
   "outputs": [],
   "source": []
  },
  {
   "cell_type": "code",
   "execution_count": null,
   "id": "b6c1ad1a-f52d-4aa7-80b1-9d2741c896c0",
   "metadata": {},
   "outputs": [],
   "source": []
  },
  {
   "cell_type": "code",
   "execution_count": null,
   "id": "c28a23de-d203-4a57-a58a-debda603a3f0",
   "metadata": {},
   "outputs": [],
   "source": []
  },
  {
   "cell_type": "code",
   "execution_count": null,
   "id": "5f7293b9-62c7-4c1f-89bf-3994154d1939",
   "metadata": {},
   "outputs": [],
   "source": []
  }
 ],
 "metadata": {
  "kernelspec": {
   "display_name": "Python 3 (ipykernel)",
   "language": "python",
   "name": "python3"
  },
  "language_info": {
   "codemirror_mode": {
    "name": "ipython",
    "version": 3
   },
   "file_extension": ".py",
   "mimetype": "text/x-python",
   "name": "python",
   "nbconvert_exporter": "python",
   "pygments_lexer": "ipython3",
   "version": "3.11.9"
  }
 },
 "nbformat": 4,
 "nbformat_minor": 5
}
