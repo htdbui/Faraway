{
 "cells": [
  {
   "cell_type": "code",
   "execution_count": 1,
   "id": "fc0edd01-635b-49a4-943d-6f74d9767a9f",
   "metadata": {},
   "outputs": [],
   "source": [
    "import json\n",
    "import os\n",
    "\n",
    "# Function to extract markdown cells from a Jupyter notebook\n",
    "def extract_markdown_cells(notebook_path, output_path):\n",
    "    with open(notebook_path, 'r', encoding='utf-8') as file:\n",
    "        notebook = json.load(file)\n",
    "    \n",
    "    markdown_cells = []\n",
    "    for cell in notebook['cells']:\n",
    "        if cell['cell_type'] == 'markdown':\n",
    "            markdown_cells.append(''.join(cell['source']))\n",
    "\n",
    "    with open(output_path, 'w', encoding='utf-8') as file:\n",
    "        file.write('\\n\\n'.join(markdown_cells))\n",
    "\n",
    "# Replace 'your_notebook.ipynb' with the path to your Jupyter notebook\n",
    "notebook_path = 'JuniorSchool.ipynb'\n",
    "# Replace 'output.txt' with the desired output file path\n",
    "output_path = 'z_markdown.txt'\n",
    "\n",
    "extract_markdown_cells(notebook_path, output_path)"
   ]
  }
 ],
 "metadata": {
  "kernelspec": {
   "display_name": "Python 3 (ipykernel)",
   "language": "python",
   "name": "python3"
  },
  "language_info": {
   "codemirror_mode": {
    "name": "ipython",
    "version": 3
   },
   "file_extension": ".py",
   "mimetype": "text/x-python",
   "name": "python",
   "nbconvert_exporter": "python",
   "pygments_lexer": "ipython3",
   "version": "3.11.9"
  }
 },
 "nbformat": 4,
 "nbformat_minor": 5
}
