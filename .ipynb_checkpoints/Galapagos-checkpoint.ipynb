{
 "cells": [
  {
   "cell_type": "markdown",
   "id": "dc59bfbe-0f14-4963-a099-fdb5bc774418",
   "metadata": {},
   "source": [
    "# 1. Describe the data\n",
    "- It has 30 observations\n",
    "- There are 6 variables:\n",
    "    - Species: the number of species found on the island\n",
    "    - Area: the area of the island (km$^2$)\n",
    "    - Elevation: the highest elevation of the island (m)\n",
    "    - Nearest: the distance from the nearest island (km)\n",
    "    - Scruz: the distance from Santa Cruz Island (km)\n",
    "    - Adjacent - the area of the adjacent island (km$^2$)"
   ]
  },
  {
   "cell_type": "markdown",
   "id": "737328d4-b3d8-4a44-803d-d6cf9fbb0750",
   "metadata": {},
   "source": [
    "# 2. Load packages and data"
   ]
  },
  {
   "cell_type": "code",
   "execution_count": 1,
   "id": "db648dfa-301b-441c-a07d-f7c2451ce8b0",
   "metadata": {},
   "outputs": [],
   "source": [
    "import pandas as pd\n",
    "import numpy as np\n",
    "import matplotlib.pyplot as plt\n",
    "import scipy as sp\n",
    "import statsmodels.api as sm\n",
    "import statsmodels.formula.api as smf\n",
    "import seaborn as sns\n",
    "import faraway.utils\n",
    "np.set_printoptions(suppress=True)"
   ]
  },
  {
   "cell_type": "code",
   "execution_count": 2,
   "id": "1e1e7816-16c9-49b1-89a2-8e83ab9ba199",
   "metadata": {},
   "outputs": [
    {
     "data": {
      "text/html": [
       "<div>\n",
       "<style scoped>\n",
       "    .dataframe tbody tr th:only-of-type {\n",
       "        vertical-align: middle;\n",
       "    }\n",
       "\n",
       "    .dataframe tbody tr th {\n",
       "        vertical-align: top;\n",
       "    }\n",
       "\n",
       "    .dataframe thead th {\n",
       "        text-align: right;\n",
       "    }\n",
       "</style>\n",
       "<table border=\"1\" class=\"dataframe\">\n",
       "  <thead>\n",
       "    <tr style=\"text-align: right;\">\n",
       "      <th></th>\n",
       "      <th>Species</th>\n",
       "      <th>Area</th>\n",
       "      <th>Elevation</th>\n",
       "      <th>Nearest</th>\n",
       "      <th>Scruz</th>\n",
       "      <th>Adjacent</th>\n",
       "    </tr>\n",
       "  </thead>\n",
       "  <tbody>\n",
       "    <tr>\n",
       "      <th>Baltra</th>\n",
       "      <td>58</td>\n",
       "      <td>25.09</td>\n",
       "      <td>346</td>\n",
       "      <td>0.6</td>\n",
       "      <td>0.6</td>\n",
       "      <td>1.84</td>\n",
       "    </tr>\n",
       "    <tr>\n",
       "      <th>Bartolome</th>\n",
       "      <td>31</td>\n",
       "      <td>1.24</td>\n",
       "      <td>109</td>\n",
       "      <td>0.6</td>\n",
       "      <td>26.3</td>\n",
       "      <td>572.33</td>\n",
       "    </tr>\n",
       "    <tr>\n",
       "      <th>Caldwell</th>\n",
       "      <td>3</td>\n",
       "      <td>0.21</td>\n",
       "      <td>114</td>\n",
       "      <td>2.8</td>\n",
       "      <td>58.7</td>\n",
       "      <td>0.78</td>\n",
       "    </tr>\n",
       "  </tbody>\n",
       "</table>\n",
       "</div>"
      ],
      "text/plain": [
       "           Species   Area  Elevation  Nearest  Scruz  Adjacent\n",
       "Baltra          58  25.09        346      0.6    0.6      1.84\n",
       "Bartolome       31   1.24        109      0.6   26.3    572.33\n",
       "Caldwell         3   0.21        114      2.8   58.7      0.78"
      ]
     },
     "execution_count": 2,
     "metadata": {},
     "output_type": "execute_result"
    }
   ],
   "source": [
    "import faraway.datasets.galapagos\n",
    "galapagos = faraway.datasets.galapagos.load()\n",
    "galapagos.head(3)"
   ]
  },
  {
   "cell_type": "code",
   "execution_count": 3,
   "id": "aeb8d94d-8bb9-4c0c-8a8f-036a8e2d396f",
   "metadata": {},
   "outputs": [
    {
     "name": "stdout",
     "output_type": "stream",
     "text": [
      "Area: km², Elevation: m, Nearest: km, Scruz: km, Adjacent: km²\n"
     ]
    },
    {
     "data": {
      "text/html": [
       "<div>\n",
       "<style scoped>\n",
       "    .dataframe tbody tr th:only-of-type {\n",
       "        vertical-align: middle;\n",
       "    }\n",
       "\n",
       "    .dataframe tbody tr th {\n",
       "        vertical-align: top;\n",
       "    }\n",
       "\n",
       "    .dataframe thead th {\n",
       "        text-align: right;\n",
       "    }\n",
       "</style>\n",
       "<table border=\"1\" class=\"dataframe\">\n",
       "  <thead>\n",
       "    <tr style=\"text-align: right;\">\n",
       "      <th></th>\n",
       "      <th>Species</th>\n",
       "      <th>Area</th>\n",
       "      <th>Elevation</th>\n",
       "      <th>Nearest</th>\n",
       "      <th>Scruz</th>\n",
       "      <th>Adjacent</th>\n",
       "    </tr>\n",
       "  </thead>\n",
       "  <tbody>\n",
       "    <tr>\n",
       "      <th>mean</th>\n",
       "      <td>85.233</td>\n",
       "      <td>261.709</td>\n",
       "      <td>368.033</td>\n",
       "      <td>10.060</td>\n",
       "      <td>56.977</td>\n",
       "      <td>261.098</td>\n",
       "    </tr>\n",
       "    <tr>\n",
       "      <th>std</th>\n",
       "      <td>114.633</td>\n",
       "      <td>864.111</td>\n",
       "      <td>421.605</td>\n",
       "      <td>14.275</td>\n",
       "      <td>68.032</td>\n",
       "      <td>864.519</td>\n",
       "    </tr>\n",
       "    <tr>\n",
       "      <th>min</th>\n",
       "      <td>2.000</td>\n",
       "      <td>0.010</td>\n",
       "      <td>25.000</td>\n",
       "      <td>0.200</td>\n",
       "      <td>0.000</td>\n",
       "      <td>0.030</td>\n",
       "    </tr>\n",
       "    <tr>\n",
       "      <th>25%</th>\n",
       "      <td>13.000</td>\n",
       "      <td>0.258</td>\n",
       "      <td>97.750</td>\n",
       "      <td>0.800</td>\n",
       "      <td>11.025</td>\n",
       "      <td>0.520</td>\n",
       "    </tr>\n",
       "    <tr>\n",
       "      <th>50%</th>\n",
       "      <td>42.000</td>\n",
       "      <td>2.590</td>\n",
       "      <td>192.000</td>\n",
       "      <td>3.050</td>\n",
       "      <td>46.650</td>\n",
       "      <td>2.590</td>\n",
       "    </tr>\n",
       "    <tr>\n",
       "      <th>75%</th>\n",
       "      <td>96.000</td>\n",
       "      <td>59.238</td>\n",
       "      <td>435.250</td>\n",
       "      <td>10.025</td>\n",
       "      <td>81.075</td>\n",
       "      <td>59.238</td>\n",
       "    </tr>\n",
       "    <tr>\n",
       "      <th>max</th>\n",
       "      <td>444.000</td>\n",
       "      <td>4669.320</td>\n",
       "      <td>1707.000</td>\n",
       "      <td>47.400</td>\n",
       "      <td>290.200</td>\n",
       "      <td>4669.320</td>\n",
       "    </tr>\n",
       "  </tbody>\n",
       "</table>\n",
       "</div>"
      ],
      "text/plain": [
       "      Species      Area  Elevation  Nearest    Scruz  Adjacent\n",
       "mean   85.233   261.709    368.033   10.060   56.977   261.098\n",
       "std   114.633   864.111    421.605   14.275   68.032   864.519\n",
       "min     2.000     0.010     25.000    0.200    0.000     0.030\n",
       "25%    13.000     0.258     97.750    0.800   11.025     0.520\n",
       "50%    42.000     2.590    192.000    3.050   46.650     2.590\n",
       "75%    96.000    59.238    435.250   10.025   81.075    59.238\n",
       "max   444.000  4669.320   1707.000   47.400  290.200  4669.320"
      ]
     },
     "execution_count": 3,
     "metadata": {},
     "output_type": "execute_result"
    }
   ],
   "source": [
    "print(\"Area: km², Elevation: m, Nearest: km, Scruz: km, Adjacent: km²\")\n",
    "galapagos.describe().iloc[1:,:].round(3)"
   ]
  },
  {
   "cell_type": "markdown",
   "id": "e22f8685-c6db-4b41-85b2-5bc5f2ba15e8",
   "metadata": {},
   "source": [
    "# 3. Linear Regression"
   ]
  },
  {
   "cell_type": "code",
   "execution_count": 4,
   "id": "7488e875-5633-41b2-a256-0e6bbc228f4b",
   "metadata": {},
   "outputs": [
    {
     "data": {
      "text/html": [
       "<table class=\"simpletable\">\n",
       "<caption>OLS Regression Results</caption>\n",
       "<tr>\n",
       "  <th>Dep. Variable:</th>         <td>Species</td>     <th>  R-squared:         </th> <td>   0.766</td>\n",
       "</tr>\n",
       "<tr>\n",
       "  <th>Model:</th>                   <td>OLS</td>       <th>  Adj. R-squared:    </th> <td>   0.717</td>\n",
       "</tr>\n",
       "<tr>\n",
       "  <th>Method:</th>             <td>Least Squares</td>  <th>  F-statistic:       </th> <td>   15.70</td>\n",
       "</tr>\n",
       "<tr>\n",
       "  <th>Date:</th>             <td>Mon, 09 Dec 2024</td> <th>  Prob (F-statistic):</th> <td>6.84e-07</td>\n",
       "</tr>\n",
       "<tr>\n",
       "  <th>Time:</th>                 <td>21:03:06</td>     <th>  Log-Likelihood:    </th> <td> -162.54</td>\n",
       "</tr>\n",
       "<tr>\n",
       "  <th>No. Observations:</th>      <td>    30</td>      <th>  AIC:               </th> <td>   337.1</td>\n",
       "</tr>\n",
       "<tr>\n",
       "  <th>Df Residuals:</th>          <td>    24</td>      <th>  BIC:               </th> <td>   345.5</td>\n",
       "</tr>\n",
       "<tr>\n",
       "  <th>Df Model:</th>              <td>     5</td>      <th>                     </th>     <td> </td>   \n",
       "</tr>\n",
       "<tr>\n",
       "  <th>Covariance Type:</th>      <td>nonrobust</td>    <th>                     </th>     <td> </td>   \n",
       "</tr>\n",
       "</table>\n",
       "<table class=\"simpletable\">\n",
       "<tr>\n",
       "      <td></td>         <th>coef</th>     <th>std err</th>      <th>t</th>      <th>P>|t|</th>  <th>[0.025</th>    <th>0.975]</th>  \n",
       "</tr>\n",
       "<tr>\n",
       "  <th>Intercept</th> <td>    7.0682</td> <td>   19.154</td> <td>    0.369</td> <td> 0.715</td> <td>  -32.464</td> <td>   46.601</td>\n",
       "</tr>\n",
       "<tr>\n",
       "  <th>Area</th>      <td>   -0.0239</td> <td>    0.022</td> <td>   -1.068</td> <td> 0.296</td> <td>   -0.070</td> <td>    0.022</td>\n",
       "</tr>\n",
       "<tr>\n",
       "  <th>Elevation</th> <td>    0.3195</td> <td>    0.054</td> <td>    5.953</td> <td> 0.000</td> <td>    0.209</td> <td>    0.430</td>\n",
       "</tr>\n",
       "<tr>\n",
       "  <th>Nearest</th>   <td>    0.0091</td> <td>    1.054</td> <td>    0.009</td> <td> 0.993</td> <td>   -2.166</td> <td>    2.185</td>\n",
       "</tr>\n",
       "<tr>\n",
       "  <th>Scruz</th>     <td>   -0.2405</td> <td>    0.215</td> <td>   -1.117</td> <td> 0.275</td> <td>   -0.685</td> <td>    0.204</td>\n",
       "</tr>\n",
       "<tr>\n",
       "  <th>Adjacent</th>  <td>   -0.0748</td> <td>    0.018</td> <td>   -4.226</td> <td> 0.000</td> <td>   -0.111</td> <td>   -0.038</td>\n",
       "</tr>\n",
       "</table>\n",
       "<table class=\"simpletable\">\n",
       "<tr>\n",
       "  <th>Omnibus:</th>       <td>12.683</td> <th>  Durbin-Watson:     </th> <td>   2.476</td>\n",
       "</tr>\n",
       "<tr>\n",
       "  <th>Prob(Omnibus):</th> <td> 0.002</td> <th>  Jarque-Bera (JB):  </th> <td>  13.498</td>\n",
       "</tr>\n",
       "<tr>\n",
       "  <th>Skew:</th>          <td> 1.136</td> <th>  Prob(JB):          </th> <td> 0.00117</td>\n",
       "</tr>\n",
       "<tr>\n",
       "  <th>Kurtosis:</th>      <td> 5.374</td> <th>  Cond. No.          </th> <td>1.90e+03</td>\n",
       "</tr>\n",
       "</table><br/><br/>Notes:<br/>[1] Standard Errors assume that the covariance matrix of the errors is correctly specified.<br/>[2] The condition number is large, 1.9e+03. This might indicate that there are<br/>strong multicollinearity or other numerical problems."
      ],
      "text/latex": [
       "\\begin{center}\n",
       "\\begin{tabular}{lclc}\n",
       "\\toprule\n",
       "\\textbf{Dep. Variable:}    &     Species      & \\textbf{  R-squared:         } &     0.766   \\\\\n",
       "\\textbf{Model:}            &       OLS        & \\textbf{  Adj. R-squared:    } &     0.717   \\\\\n",
       "\\textbf{Method:}           &  Least Squares   & \\textbf{  F-statistic:       } &     15.70   \\\\\n",
       "\\textbf{Date:}             & Mon, 09 Dec 2024 & \\textbf{  Prob (F-statistic):} &  6.84e-07   \\\\\n",
       "\\textbf{Time:}             &     21:03:06     & \\textbf{  Log-Likelihood:    } &   -162.54   \\\\\n",
       "\\textbf{No. Observations:} &          30      & \\textbf{  AIC:               } &     337.1   \\\\\n",
       "\\textbf{Df Residuals:}     &          24      & \\textbf{  BIC:               } &     345.5   \\\\\n",
       "\\textbf{Df Model:}         &           5      & \\textbf{                     } &             \\\\\n",
       "\\textbf{Covariance Type:}  &    nonrobust     & \\textbf{                     } &             \\\\\n",
       "\\bottomrule\n",
       "\\end{tabular}\n",
       "\\begin{tabular}{lcccccc}\n",
       "                   & \\textbf{coef} & \\textbf{std err} & \\textbf{t} & \\textbf{P$> |$t$|$} & \\textbf{[0.025} & \\textbf{0.975]}  \\\\\n",
       "\\midrule\n",
       "\\textbf{Intercept} &       7.0682  &       19.154     &     0.369  &         0.715        &      -32.464    &       46.601     \\\\\n",
       "\\textbf{Area}      &      -0.0239  &        0.022     &    -1.068  &         0.296        &       -0.070    &        0.022     \\\\\n",
       "\\textbf{Elevation} &       0.3195  &        0.054     &     5.953  &         0.000        &        0.209    &        0.430     \\\\\n",
       "\\textbf{Nearest}   &       0.0091  &        1.054     &     0.009  &         0.993        &       -2.166    &        2.185     \\\\\n",
       "\\textbf{Scruz}     &      -0.2405  &        0.215     &    -1.117  &         0.275        &       -0.685    &        0.204     \\\\\n",
       "\\textbf{Adjacent}  &      -0.0748  &        0.018     &    -4.226  &         0.000        &       -0.111    &       -0.038     \\\\\n",
       "\\bottomrule\n",
       "\\end{tabular}\n",
       "\\begin{tabular}{lclc}\n",
       "\\textbf{Omnibus:}       & 12.683 & \\textbf{  Durbin-Watson:     } &    2.476  \\\\\n",
       "\\textbf{Prob(Omnibus):} &  0.002 & \\textbf{  Jarque-Bera (JB):  } &   13.498  \\\\\n",
       "\\textbf{Skew:}          &  1.136 & \\textbf{  Prob(JB):          } &  0.00117  \\\\\n",
       "\\textbf{Kurtosis:}      &  5.374 & \\textbf{  Cond. No.          } & 1.90e+03  \\\\\n",
       "\\bottomrule\n",
       "\\end{tabular}\n",
       "%\\caption{OLS Regression Results}\n",
       "\\end{center}\n",
       "\n",
       "Notes: \\newline\n",
       " [1] Standard Errors assume that the covariance matrix of the errors is correctly specified. \\newline\n",
       " [2] The condition number is large, 1.9e+03. This might indicate that there are \\newline\n",
       " strong multicollinearity or other numerical problems."
      ],
      "text/plain": [
       "<class 'statsmodels.iolib.summary.Summary'>\n",
       "\"\"\"\n",
       "                            OLS Regression Results                            \n",
       "==============================================================================\n",
       "Dep. Variable:                Species   R-squared:                       0.766\n",
       "Model:                            OLS   Adj. R-squared:                  0.717\n",
       "Method:                 Least Squares   F-statistic:                     15.70\n",
       "Date:                Mon, 09 Dec 2024   Prob (F-statistic):           6.84e-07\n",
       "Time:                        21:03:06   Log-Likelihood:                -162.54\n",
       "No. Observations:                  30   AIC:                             337.1\n",
       "Df Residuals:                      24   BIC:                             345.5\n",
       "Df Model:                           5                                         \n",
       "Covariance Type:            nonrobust                                         \n",
       "==============================================================================\n",
       "                 coef    std err          t      P>|t|      [0.025      0.975]\n",
       "------------------------------------------------------------------------------\n",
       "Intercept      7.0682     19.154      0.369      0.715     -32.464      46.601\n",
       "Area          -0.0239      0.022     -1.068      0.296      -0.070       0.022\n",
       "Elevation      0.3195      0.054      5.953      0.000       0.209       0.430\n",
       "Nearest        0.0091      1.054      0.009      0.993      -2.166       2.185\n",
       "Scruz         -0.2405      0.215     -1.117      0.275      -0.685       0.204\n",
       "Adjacent      -0.0748      0.018     -4.226      0.000      -0.111      -0.038\n",
       "==============================================================================\n",
       "Omnibus:                       12.683   Durbin-Watson:                   2.476\n",
       "Prob(Omnibus):                  0.002   Jarque-Bera (JB):               13.498\n",
       "Skew:                           1.136   Prob(JB):                      0.00117\n",
       "Kurtosis:                       5.374   Cond. No.                     1.90e+03\n",
       "==============================================================================\n",
       "\n",
       "Notes:\n",
       "[1] Standard Errors assume that the covariance matrix of the errors is correctly specified.\n",
       "[2] The condition number is large, 1.9e+03. This might indicate that there are\n",
       "strong multicollinearity or other numerical problems.\n",
       "\"\"\""
      ]
     },
     "execution_count": 4,
     "metadata": {},
     "output_type": "execute_result"
    }
   ],
   "source": [
    "lmod = smf.ols(formula='Species ~ Area + Elevation + Nearest + Scruz  + Adjacent', data=galapagos).fit()\n",
    "lmod.summary()"
   ]
  },
  {
   "cell_type": "code",
   "execution_count": 5,
   "id": "38a94bf9-4efa-43de-a1d9-30cde53f6993",
   "metadata": {},
   "outputs": [
    {
     "name": "stdout",
     "output_type": "stream",
     "text": [
      "           coefs stderr tvalues pvalues\n",
      "Intercept  7.068 19.154    0.37  0.7154\n",
      "Area      -0.024  0.022   -1.07  0.2963\n",
      "Elevation  0.319  0.054    5.95  0.0000\n",
      "Nearest    0.009  1.054    0.01  0.9932\n",
      "Scruz     -0.241  0.215   -1.12  0.2752\n",
      "Adjacent  -0.075  0.018   -4.23  0.0003\n",
      "\n",
      "n=30 p=6 Residual SD=60.975 R-squared=0.77\n"
     ]
    }
   ],
   "source": [
    "# Shorter version of summary from the package faraway\n",
    "lmod.sumary()"
   ]
  },
  {
   "cell_type": "markdown",
   "id": "4f0e1a34-121a-43c4-b8c1-53f1432e2186",
   "metadata": {},
   "source": [
    "## 3.1. Extract the regression quantities"
   ]
  },
  {
   "cell_type": "markdown",
   "id": "6a062f11-bfac-4289-9a43-9d8c5151081b",
   "metadata": {},
   "source": [
    "### 3.1.1. Basics"
   ]
  },
  {
   "cell_type": "code",
   "execution_count": 6,
   "id": "3020136c-f6f9-438e-9414-d6c233876d46",
   "metadata": {},
   "outputs": [
    {
     "data": {
      "text/plain": [
       "Intercept    7.068221\n",
       "Area        -0.023938\n",
       "Elevation    0.319465\n",
       "Nearest      0.009144\n",
       "Scruz       -0.240524\n",
       "Adjacent    -0.074805\n",
       "dtype: float64"
      ]
     },
     "execution_count": 6,
     "metadata": {},
     "output_type": "execute_result"
    }
   ],
   "source": [
    "# Estimates of the coefficients\n",
    "lmod.params"
   ]
  },
  {
   "cell_type": "code",
   "execution_count": 7,
   "id": "0267fa29-b17f-4013-a881-42895ec084dc",
   "metadata": {},
   "outputs": [
    {
     "data": {
      "text/plain": [
       "Intercept    19.154198\n",
       "Area          0.022422\n",
       "Elevation     0.053663\n",
       "Nearest       1.054136\n",
       "Scruz         0.215402\n",
       "Adjacent      0.017700\n",
       "dtype: float64"
      ]
     },
     "execution_count": 7,
     "metadata": {},
     "output_type": "execute_result"
    }
   ],
   "source": [
    "# Beta standard errors\n",
    "lmod.bse"
   ]
  },
  {
   "cell_type": "code",
   "execution_count": 8,
   "id": "011e1f37-4ad7-4eaf-87b4-059fe0899f9b",
   "metadata": {},
   "outputs": [
    {
     "data": {
      "text/plain": [
       "Intercept    0.715351\n",
       "Area         0.296318\n",
       "Elevation    0.000004\n",
       "Nearest      0.993151\n",
       "Scruz        0.275208\n",
       "Adjacent     0.000297\n",
       "dtype: float64"
      ]
     },
     "execution_count": 8,
     "metadata": {},
     "output_type": "execute_result"
    }
   ],
   "source": [
    "# p-values\n",
    "lmod.pvalues"
   ]
  },
  {
   "cell_type": "code",
   "execution_count": 9,
   "id": "6a6afc3f-b66f-427f-a7eb-e2321da66b3d",
   "metadata": {},
   "outputs": [
    {
     "data": {
      "text/plain": [
       "Intercept    0.369017\n",
       "Area        -1.067611\n",
       "Elevation    5.953188\n",
       "Nearest      0.008674\n",
       "Scruz       -1.116628\n",
       "Adjacent    -4.226217\n",
       "dtype: float64"
      ]
     },
     "execution_count": 9,
     "metadata": {},
     "output_type": "execute_result"
    }
   ],
   "source": [
    "# T-statistics for the coefficients\n",
    "lmod.tvalues"
   ]
  },
  {
   "cell_type": "markdown",
   "id": "a8d49466-5a62-4f1f-849f-c6001ee5f900",
   "metadata": {},
   "source": [
    "### 3.1.2. F-values"
   ]
  },
  {
   "cell_type": "code",
   "execution_count": 10,
   "id": "e9687547-230a-4fbe-8bf5-b613658a25d8",
   "metadata": {},
   "outputs": [
    {
     "data": {
      "text/plain": [
       "(15.699412204831033, 6.83789299511231e-07)"
      ]
     },
     "execution_count": 10,
     "metadata": {},
     "output_type": "execute_result"
    }
   ],
   "source": [
    "# F-statistic and its p-value\n",
    "lmod.fvalue, lmod.f_pvalue"
   ]
  },
  {
   "cell_type": "markdown",
   "id": "9c19b663-08cb-4f62-b8d9-9162cce25935",
   "metadata": {},
   "source": [
    "### 3.1.3. Confidence intervals"
   ]
  },
  {
   "cell_type": "code",
   "execution_count": 11,
   "id": "6680ce46-9664-49ad-ad3e-c6417dc5922d",
   "metadata": {},
   "outputs": [
    {
     "data": {
      "text/html": [
       "<div>\n",
       "<style scoped>\n",
       "    .dataframe tbody tr th:only-of-type {\n",
       "        vertical-align: middle;\n",
       "    }\n",
       "\n",
       "    .dataframe tbody tr th {\n",
       "        vertical-align: top;\n",
       "    }\n",
       "\n",
       "    .dataframe thead th {\n",
       "        text-align: right;\n",
       "    }\n",
       "</style>\n",
       "<table border=\"1\" class=\"dataframe\">\n",
       "  <thead>\n",
       "    <tr style=\"text-align: right;\">\n",
       "      <th></th>\n",
       "      <th>0</th>\n",
       "      <th>1</th>\n",
       "    </tr>\n",
       "  </thead>\n",
       "  <tbody>\n",
       "    <tr>\n",
       "      <th>Intercept</th>\n",
       "      <td>-32.464101</td>\n",
       "      <td>46.600542</td>\n",
       "    </tr>\n",
       "    <tr>\n",
       "      <th>Area</th>\n",
       "      <td>-0.070216</td>\n",
       "      <td>0.022339</td>\n",
       "    </tr>\n",
       "    <tr>\n",
       "      <th>Elevation</th>\n",
       "      <td>0.208710</td>\n",
       "      <td>0.430219</td>\n",
       "    </tr>\n",
       "    <tr>\n",
       "      <th>Nearest</th>\n",
       "      <td>-2.166486</td>\n",
       "      <td>2.184774</td>\n",
       "    </tr>\n",
       "    <tr>\n",
       "      <th>Scruz</th>\n",
       "      <td>-0.685093</td>\n",
       "      <td>0.204044</td>\n",
       "    </tr>\n",
       "    <tr>\n",
       "      <th>Adjacent</th>\n",
       "      <td>-0.111336</td>\n",
       "      <td>-0.038273</td>\n",
       "    </tr>\n",
       "  </tbody>\n",
       "</table>\n",
       "</div>"
      ],
      "text/plain": [
       "                   0          1\n",
       "Intercept -32.464101  46.600542\n",
       "Area       -0.070216   0.022339\n",
       "Elevation   0.208710   0.430219\n",
       "Nearest    -2.166486   2.184774\n",
       "Scruz      -0.685093   0.204044\n",
       "Adjacent   -0.111336  -0.038273"
      ]
     },
     "execution_count": 11,
     "metadata": {},
     "output_type": "execute_result"
    }
   ],
   "source": [
    "# Confident intervals of the coefficients\n",
    "lmod.conf_int()"
   ]
  },
  {
   "cell_type": "code",
   "execution_count": 12,
   "id": "eeafc4ba-f79b-416c-b41d-4f1390d6b36d",
   "metadata": {},
   "outputs": [
    {
     "data": {
      "text/plain": [
       "True"
      ]
     },
     "execution_count": 12,
     "metadata": {},
     "output_type": "execute_result"
    }
   ],
   "source": [
    "# Whether the t-distribution should be used for inference\n",
    "# True: The t-distribution is used for inference\n",
    "# False: The normal distribution is used for inference\n",
    "lmod.use_t"
   ]
  },
  {
   "cell_type": "markdown",
   "id": "d7ff0635-5fec-4ab6-85e4-5f31cfd37017",
   "metadata": {},
   "source": [
    "### 3.1.4. Goodness of fitness"
   ]
  },
  {
   "cell_type": "code",
   "execution_count": 13,
   "id": "761640fe-e295-493c-96ed-bf69da7226d8",
   "metadata": {},
   "outputs": [
    {
     "data": {
      "text/plain": [
       "0.7658469446812334"
      ]
     },
     "execution_count": 13,
     "metadata": {},
     "output_type": "execute_result"
    }
   ],
   "source": [
    "# R-squared\n",
    "lmod.rsquared"
   ]
  },
  {
   "cell_type": "code",
   "execution_count": 14,
   "id": "e85c4259-f71c-47a7-b32b-e2ebb5892aeb",
   "metadata": {},
   "outputs": [
    {
     "data": {
      "text/plain": [
       "0.7170650581564904"
      ]
     },
     "execution_count": 14,
     "metadata": {},
     "output_type": "execute_result"
    }
   ],
   "source": [
    "# Adjusted R-squared\n",
    "lmod.rsquared_adj"
   ]
  },
  {
   "cell_type": "code",
   "execution_count": 15,
   "id": "147d171e-75d7-4b41-a55d-13ba80af420a",
   "metadata": {},
   "outputs": [
    {
     "data": {
      "text/plain": [
       "337.0700274592709"
      ]
     },
     "execution_count": 15,
     "metadata": {},
     "output_type": "execute_result"
    }
   ],
   "source": [
    "# Akaike Information Criterion AIC\n",
    "lmod.aic"
   ]
  },
  {
   "cell_type": "code",
   "execution_count": 16,
   "id": "36d3797e-616d-41bd-a441-95fa754c1410",
   "metadata": {},
   "outputs": [
    {
     "data": {
      "text/plain": [
       "345.4772117492438"
      ]
     },
     "execution_count": 16,
     "metadata": {},
     "output_type": "execute_result"
    }
   ],
   "source": [
    "# Bayesian Information Criterion BIC\n",
    "lmod.bic"
   ]
  },
  {
   "cell_type": "markdown",
   "id": "8ea70e94-6906-49ea-9a90-ed0c8b338cf4",
   "metadata": {},
   "source": [
    "### 3.1.5. Sum of squares\n",
    "| Source     | Degree of freedom | Sum of squares | Mean square                |\n",
    "|------------|-------------------|----------------|----------------------------|\n",
    "| Regression | \\(p-1\\)           | ESS            | $\\frac{\\text{ESS}}{p-1}$|\n",
    "| Residual   | \\(n-p\\)           | RSS            | $\\frac{\\text{RSS}}{n-p}$|\n",
    "| Total      | \\(n-1\\)           | TSS            | $\\frac{\\text{TSS}}{n-1}$|"
   ]
  },
  {
   "cell_type": "code",
   "execution_count": 17,
   "id": "28ff13c4-2d4c-417f-82ff-9e8671fed140",
   "metadata": {},
   "outputs": [
    {
     "data": {
      "text/plain": [
       "89231.36633005118"
      ]
     },
     "execution_count": 17,
     "metadata": {},
     "output_type": "execute_result"
    }
   ],
   "source": [
    "# Residual sum of squares RSS \n",
    "# Sum of squares for the residuals SSR\n",
    "lmod.ssr"
   ]
  },
  {
   "cell_type": "code",
   "execution_count": 18,
   "id": "ac0c3903-6ca4-456c-905a-3d8e17e2aa41",
   "metadata": {},
   "outputs": [
    {
     "data": {
      "text/plain": [
       "291850.0003366155"
      ]
     },
     "execution_count": 18,
     "metadata": {},
     "output_type": "execute_result"
    }
   ],
   "source": [
    "# Explained sum of squares ESS\n",
    "lmod.ess"
   ]
  },
  {
   "cell_type": "code",
   "execution_count": 19,
   "id": "62313764-afbf-496e-9706-034a980b21a6",
   "metadata": {},
   "outputs": [
    {
     "data": {
      "text/plain": [
       "(381081.36666666664, 381081.3666666667)"
      ]
     },
     "execution_count": 19,
     "metadata": {},
     "output_type": "execute_result"
    }
   ],
   "source": [
    "# The centered TSS = sum(observed value - mean(observed variable))²\n",
    "lmod.centered_tss, lmod.ssr + lmod.ess"
   ]
  },
  {
   "cell_type": "code",
   "execution_count": 20,
   "id": "432ed8a5-4cd7-4e61-9f10-275b10423b7b",
   "metadata": {},
   "outputs": [
    {
     "data": {
      "text/plain": [
       "(599023.0, 599023.0)"
      ]
     },
     "execution_count": 20,
     "metadata": {},
     "output_type": "execute_result"
    }
   ],
   "source": [
    "# The uncentered TSS = sum(observed value²)\n",
    "lmod.uncentered_tss, sum(lmod.model.endog**2)"
   ]
  },
  {
   "cell_type": "code",
   "execution_count": 21,
   "id": "f069d59f-a1ca-47c6-a7de-c73477915b82",
   "metadata": {},
   "outputs": [
    {
     "data": {
      "text/plain": [
       "5.0"
      ]
     },
     "execution_count": 21,
     "metadata": {},
     "output_type": "execute_result"
    }
   ],
   "source": [
    "# Degrees of freedom of the model\n",
    "lmod.df_model"
   ]
  },
  {
   "cell_type": "code",
   "execution_count": 22,
   "id": "89977e5d-40a6-456e-b3d4-456dba950195",
   "metadata": {},
   "outputs": [
    {
     "data": {
      "text/plain": [
       "24.0"
      ]
     },
     "execution_count": 22,
     "metadata": {},
     "output_type": "execute_result"
    }
   ],
   "source": [
    "# Degrees of freedom of the residuals\n",
    "lmod.df_resid"
   ]
  },
  {
   "cell_type": "code",
   "execution_count": 23,
   "id": "113a75bf-2963-4f17-b001-3dbb5a954c2d",
   "metadata": {},
   "outputs": [
    {
     "data": {
      "text/plain": [
       "30.0"
      ]
     },
     "execution_count": 23,
     "metadata": {},
     "output_type": "execute_result"
    }
   ],
   "source": [
    "# Number of observations\n",
    "lmod.nobs"
   ]
  },
  {
   "cell_type": "code",
   "execution_count": 24,
   "id": "35443cc7-7b0c-4eeb-868a-436da1eaea65",
   "metadata": {},
   "outputs": [
    {
     "data": {
      "text/plain": [
       "(58370.0000673231, 58370.0000673231)"
      ]
     },
     "execution_count": 24,
     "metadata": {},
     "output_type": "execute_result"
    }
   ],
   "source": [
    "# Mean squared error of the model\n",
    "lmod.mse_model, lmod.ess / lmod.df_model"
   ]
  },
  {
   "cell_type": "code",
   "execution_count": 25,
   "id": "16a94211-b69f-458d-816c-8d382c587abc",
   "metadata": {},
   "outputs": [
    {
     "name": "stdout",
     "output_type": "stream",
     "text": [
      "3717.973597085466 , 3717.973597085466\n"
     ]
    },
    {
     "data": {
      "text/plain": [
       "3717.973597085466"
      ]
     },
     "execution_count": 25,
     "metadata": {},
     "output_type": "execute_result"
    }
   ],
   "source": [
    "# Mean squared error of the residuals\n",
    "print(lmod.mse_resid, ',', lmod.scale)\n",
    "sum((lmod.model.endog - lmod.fittedvalues)**2) / lmod.df_resid"
   ]
  },
  {
   "cell_type": "code",
   "execution_count": 26,
   "id": "b43a0188-62e2-44cb-860f-f22cc04ebccd",
   "metadata": {},
   "outputs": [
    {
     "data": {
      "text/plain": [
       "(13140.736781609194, 13140.736781609194)"
      ]
     },
     "execution_count": 26,
     "metadata": {},
     "output_type": "execute_result"
    }
   ],
   "source": [
    "# Total mean squared error\n",
    "lmod.mse_total, lmod.centered_tss / (lmod.df_model + lmod.df_resid)"
   ]
  },
  {
   "cell_type": "markdown",
   "id": "79a1c3aa-0f91-487e-af37-5ba954e0d2e7",
   "metadata": {},
   "source": [
    "### 3.1.6. Fitted values and residuals"
   ]
  },
  {
   "cell_type": "code",
   "execution_count": 27,
   "id": "a8fc5b2b-e3a9-4c88-a10a-dcb1e824d718",
   "metadata": {},
   "outputs": [
    {
     "data": {
      "text/plain": [
       "Baltra       116.725946\n",
       "Bartolome     -7.273154\n",
       "Caldwell      29.330659\n",
       "dtype: float64"
      ]
     },
     "execution_count": 27,
     "metadata": {},
     "output_type": "execute_result"
    }
   ],
   "source": [
    "# Fitted values\n",
    "lmod.fittedvalues.head(3)"
   ]
  },
  {
   "cell_type": "code",
   "execution_count": 28,
   "id": "0f1c4613-b751-46d8-b5fc-039cf0429506",
   "metadata": {},
   "outputs": [
    {
     "data": {
      "text/plain": [
       "Baltra      -58.725946\n",
       "Bartolome    38.273154\n",
       "Caldwell    -26.330659\n",
       "dtype: float64"
      ]
     },
     "execution_count": 28,
     "metadata": {},
     "output_type": "execute_result"
    }
   ],
   "source": [
    "# Residuals\n",
    "lmod.resid.head(3)"
   ]
  },
  {
   "cell_type": "code",
   "execution_count": 29,
   "id": "b9c7ea64-bfb5-471a-a351-175e01a92882",
   "metadata": {},
   "outputs": [
    {
     "data": {
      "text/plain": [
       "Baltra      -58.725946\n",
       "Bartolome    38.273154\n",
       "Caldwell    -26.330659\n",
       "dtype: float64"
      ]
     },
     "execution_count": 29,
     "metadata": {},
     "output_type": "execute_result"
    }
   ],
   "source": [
    "# Self-calculate residuals\n",
    "(lmod.model.endog - lmod.fittedvalues).head(3)"
   ]
  },
  {
   "cell_type": "code",
   "execution_count": 30,
   "id": "9c7c1308-9c64-4581-8dd9-170b510aad19",
   "metadata": {},
   "outputs": [
    {
     "name": "stdout",
     "output_type": "stream",
     "text": [
      "[-0.963  0.628 -0.432  0.24   0.63  -0.411 -0.163  0.312 -0.333 -0.472\n",
      "  0.809 -0.065  1.017 -0.978  0.664 -0.646 -0.618 -0.033 -1.832 -0.697\n",
      " -0.378 -0.091  1.198 -0.667  2.994 -0.383  1.466 -0.095 -0.606 -0.093]\n"
     ]
    }
   ],
   "source": [
    "# Pearson residuals are a type of standardized residual\n",
    "print(lmod.resid_pearson.round(3))"
   ]
  },
  {
   "cell_type": "code",
   "execution_count": 31,
   "id": "7d3bfcff-ab65-4a71-8f71-6c484f40d439",
   "metadata": {},
   "outputs": [
    {
     "data": {
      "text/plain": [
       "Baltra      -0.963112\n",
       "Bartolome    0.627684\n",
       "Caldwell    -0.431826\n",
       "dtype: float64"
      ]
     },
     "execution_count": 31,
     "metadata": {},
     "output_type": "execute_result"
    }
   ],
   "source": [
    "# Pearson residuals = raw residuals / their standard deviation\n",
    "( lmod.resid / np.sqrt(lmod.mse_resid) ).head(3)"
   ]
  },
  {
   "cell_type": "markdown",
   "id": "8d5b7597-81e1-4f5a-9974-c24aff70f5ce",
   "metadata": {},
   "source": [
    "### 3.1.7. Covariance matrix"
   ]
  },
  {
   "cell_type": "code",
   "execution_count": 32,
   "id": "8d86bb98-364d-4198-b1e6-9fb088a73850",
   "metadata": {},
   "outputs": [
    {
     "data": {
      "text/html": [
       "<div>\n",
       "<style scoped>\n",
       "    .dataframe tbody tr th:only-of-type {\n",
       "        vertical-align: middle;\n",
       "    }\n",
       "\n",
       "    .dataframe tbody tr th {\n",
       "        vertical-align: top;\n",
       "    }\n",
       "\n",
       "    .dataframe thead th {\n",
       "        text-align: right;\n",
       "    }\n",
       "</style>\n",
       "<table border=\"1\" class=\"dataframe\">\n",
       "  <thead>\n",
       "    <tr style=\"text-align: right;\">\n",
       "      <th></th>\n",
       "      <th>Intercept</th>\n",
       "      <th>Area</th>\n",
       "      <th>Elevation</th>\n",
       "      <th>Nearest</th>\n",
       "      <th>Scruz</th>\n",
       "      <th>Adjacent</th>\n",
       "    </tr>\n",
       "  </thead>\n",
       "  <tbody>\n",
       "    <tr>\n",
       "      <th>Intercept</th>\n",
       "      <td>366.883294</td>\n",
       "      <td>0.140474</td>\n",
       "      <td>-0.580739</td>\n",
       "      <td>-0.869644</td>\n",
       "      <td>-1.398067</td>\n",
       "      <td>0.085879</td>\n",
       "    </tr>\n",
       "    <tr>\n",
       "      <th>Area</th>\n",
       "      <td>0.140474</td>\n",
       "      <td>0.000503</td>\n",
       "      <td>-0.000964</td>\n",
       "      <td>0.004811</td>\n",
       "      <td>-0.000183</td>\n",
       "      <td>0.000172</td>\n",
       "    </tr>\n",
       "    <tr>\n",
       "      <th>Elevation</th>\n",
       "      <td>-0.580739</td>\n",
       "      <td>-0.000964</td>\n",
       "      <td>0.002880</td>\n",
       "      <td>-0.013196</td>\n",
       "      <td>0.001145</td>\n",
       "      <td>-0.000610</td>\n",
       "    </tr>\n",
       "    <tr>\n",
       "      <th>Nearest</th>\n",
       "      <td>-0.869644</td>\n",
       "      <td>0.004811</td>\n",
       "      <td>-0.013196</td>\n",
       "      <td>1.111203</td>\n",
       "      <td>-0.142067</td>\n",
       "      <td>0.005297</td>\n",
       "    </tr>\n",
       "    <tr>\n",
       "      <th>Scruz</th>\n",
       "      <td>-1.398067</td>\n",
       "      <td>-0.000183</td>\n",
       "      <td>0.001145</td>\n",
       "      <td>-0.142067</td>\n",
       "      <td>0.046398</td>\n",
       "      <td>-0.000728</td>\n",
       "    </tr>\n",
       "    <tr>\n",
       "      <th>Adjacent</th>\n",
       "      <td>0.085879</td>\n",
       "      <td>0.000172</td>\n",
       "      <td>-0.000610</td>\n",
       "      <td>0.005297</td>\n",
       "      <td>-0.000728</td>\n",
       "      <td>0.000313</td>\n",
       "    </tr>\n",
       "  </tbody>\n",
       "</table>\n",
       "</div>"
      ],
      "text/plain": [
       "            Intercept      Area  Elevation   Nearest     Scruz  Adjacent\n",
       "Intercept  366.883294  0.140474  -0.580739 -0.869644 -1.398067  0.085879\n",
       "Area         0.140474  0.000503  -0.000964  0.004811 -0.000183  0.000172\n",
       "Elevation   -0.580739 -0.000964   0.002880 -0.013196  0.001145 -0.000610\n",
       "Nearest     -0.869644  0.004811  -0.013196  1.111203 -0.142067  0.005297\n",
       "Scruz       -1.398067 -0.000183   0.001145 -0.142067  0.046398 -0.000728\n",
       "Adjacent     0.085879  0.000172  -0.000610  0.005297 -0.000728  0.000313"
      ]
     },
     "execution_count": 32,
     "metadata": {},
     "output_type": "execute_result"
    }
   ],
   "source": [
    "# Covariance matrix of the coefficients\n",
    "lmod.cov_params()"
   ]
  },
  {
   "cell_type": "code",
   "execution_count": 33,
   "id": "449fc6c0-5b53-4dab-9416-a5b592ea8e60",
   "metadata": {},
   "outputs": [
    {
     "data": {
      "text/plain": [
       "'nonrobust'"
      ]
     },
     "execution_count": 33,
     "metadata": {},
     "output_type": "execute_result"
    }
   ],
   "source": [
    "# Type of covariance matrix\n",
    "lmod.cov_type"
   ]
  },
  {
   "cell_type": "code",
   "execution_count": 34,
   "id": "d9bc661a-f43b-46e9-94f8-2d9b0d05e23f",
   "metadata": {},
   "outputs": [
    {
     "data": {
      "text/html": [
       "<div>\n",
       "<style scoped>\n",
       "    .dataframe tbody tr th:only-of-type {\n",
       "        vertical-align: middle;\n",
       "    }\n",
       "\n",
       "    .dataframe tbody tr th {\n",
       "        vertical-align: top;\n",
       "    }\n",
       "\n",
       "    .dataframe thead th {\n",
       "        text-align: right;\n",
       "    }\n",
       "</style>\n",
       "<table border=\"1\" class=\"dataframe\">\n",
       "  <thead>\n",
       "    <tr style=\"text-align: right;\">\n",
       "      <th></th>\n",
       "      <th>Intercept</th>\n",
       "      <th>Area</th>\n",
       "      <th>Elevation</th>\n",
       "      <th>Nearest</th>\n",
       "      <th>Scruz</th>\n",
       "      <th>Adjacent</th>\n",
       "    </tr>\n",
       "  </thead>\n",
       "  <tbody>\n",
       "    <tr>\n",
       "      <th>Intercept</th>\n",
       "      <td>0.098678</td>\n",
       "      <td>3.778242e-05</td>\n",
       "      <td>-1.561976e-04</td>\n",
       "      <td>-0.000234</td>\n",
       "      <td>-3.760293e-04</td>\n",
       "      <td>2.309832e-05</td>\n",
       "    </tr>\n",
       "    <tr>\n",
       "      <th>Area</th>\n",
       "      <td>0.000038</td>\n",
       "      <td>1.352247e-07</td>\n",
       "      <td>-2.593617e-07</td>\n",
       "      <td>0.000001</td>\n",
       "      <td>-4.913149e-08</td>\n",
       "      <td>4.620303e-08</td>\n",
       "    </tr>\n",
       "    <tr>\n",
       "      <th>Elevation</th>\n",
       "      <td>-0.000156</td>\n",
       "      <td>-2.593617e-07</td>\n",
       "      <td>7.745339e-07</td>\n",
       "      <td>-0.000004</td>\n",
       "      <td>3.080831e-07</td>\n",
       "      <td>-1.640241e-07</td>\n",
       "    </tr>\n",
       "    <tr>\n",
       "      <th>Nearest</th>\n",
       "      <td>-0.000234</td>\n",
       "      <td>1.294003e-06</td>\n",
       "      <td>-3.549366e-06</td>\n",
       "      <td>0.000299</td>\n",
       "      <td>-3.821077e-05</td>\n",
       "      <td>1.424729e-06</td>\n",
       "    </tr>\n",
       "    <tr>\n",
       "      <th>Scruz</th>\n",
       "      <td>-0.000376</td>\n",
       "      <td>-4.913149e-08</td>\n",
       "      <td>3.080831e-07</td>\n",
       "      <td>-0.000038</td>\n",
       "      <td>1.247941e-05</td>\n",
       "      <td>-1.958356e-07</td>\n",
       "    </tr>\n",
       "    <tr>\n",
       "      <th>Adjacent</th>\n",
       "      <td>0.000023</td>\n",
       "      <td>4.620303e-08</td>\n",
       "      <td>-1.640241e-07</td>\n",
       "      <td>0.000001</td>\n",
       "      <td>-1.958356e-07</td>\n",
       "      <td>8.426543e-08</td>\n",
       "    </tr>\n",
       "  </tbody>\n",
       "</table>\n",
       "</div>"
      ],
      "text/plain": [
       "           Intercept          Area     Elevation   Nearest         Scruz  \\\n",
       "Intercept   0.098678  3.778242e-05 -1.561976e-04 -0.000234 -3.760293e-04   \n",
       "Area        0.000038  1.352247e-07 -2.593617e-07  0.000001 -4.913149e-08   \n",
       "Elevation  -0.000156 -2.593617e-07  7.745339e-07 -0.000004  3.080831e-07   \n",
       "Nearest    -0.000234  1.294003e-06 -3.549366e-06  0.000299 -3.821077e-05   \n",
       "Scruz      -0.000376 -4.913149e-08  3.080831e-07 -0.000038  1.247941e-05   \n",
       "Adjacent    0.000023  4.620303e-08 -1.640241e-07  0.000001 -1.958356e-07   \n",
       "\n",
       "               Adjacent  \n",
       "Intercept  2.309832e-05  \n",
       "Area       4.620303e-08  \n",
       "Elevation -1.640241e-07  \n",
       "Nearest    1.424729e-06  \n",
       "Scruz     -1.958356e-07  \n",
       "Adjacent   8.426543e-08  "
      ]
     },
     "execution_count": 34,
     "metadata": {},
     "output_type": "execute_result"
    }
   ],
   "source": [
    "# Normalized covariance matrix = covariance matrix / residual variance.\n",
    "lmod.normalized_cov_params"
   ]
  },
  {
   "cell_type": "code",
   "execution_count": 35,
   "id": "f3f50e6a-9e1c-41a8-a49e-31c1122525e1",
   "metadata": {},
   "outputs": [
    {
     "data": {
      "text/plain": [
       "0.09867829461930586"
      ]
     },
     "execution_count": 35,
     "metadata": {},
     "output_type": "execute_result"
    }
   ],
   "source": [
    "# Top left element of the table\n",
    "366.883294 / lmod.scale"
   ]
  },
  {
   "cell_type": "code",
   "execution_count": 36,
   "id": "cb274063-8777-4a40-98da-04bef8e015be",
   "metadata": {},
   "outputs": [
    {
     "name": "stdout",
     "output_type": "stream",
     "text": [
      "[[150.478   0.147  -0.486  -2.567  -0.123   0.101]\n",
      " [  0.147   0.001  -0.002   0.006  -0.      0.   ]\n",
      " [ -0.486  -0.002   0.005  -0.021  -0.     -0.001]\n",
      " [ -2.567   0.006  -0.021   1.012  -0.089   0.007]\n",
      " [ -0.123  -0.     -0.     -0.089   0.018  -0.   ]\n",
      " [  0.101   0.     -0.001   0.007  -0.      0.   ]]\n",
      "Intercept    12.266967\n",
      "Area          0.023658\n",
      "Elevation     0.074149\n",
      "Nearest       1.005805\n",
      "Scruz         0.134058\n",
      "Adjacent      0.019015\n",
      "dtype: float64\n"
     ]
    }
   ],
   "source": [
    "# HC0 is the basic heteroscedasticity-consistent covariance matrix.\n",
    "# It does not apply any additional scaling factors.\n",
    "print(lmod.cov_HC0.round(3)); print(lmod.HC0_se)"
   ]
  },
  {
   "cell_type": "code",
   "execution_count": 37,
   "id": "c6f62d4f-533e-44d1-98c8-581aaa38aeaf",
   "metadata": {},
   "outputs": [
    {
     "name": "stdout",
     "output_type": "stream",
     "text": [
      "[[188.098   0.184  -0.608  -3.209  -0.153   0.127]\n",
      " [  0.184   0.001  -0.002   0.008  -0.      0.   ]\n",
      " [ -0.608  -0.002   0.007  -0.026  -0.     -0.002]\n",
      " [ -3.209   0.008  -0.026   1.265  -0.111   0.009]\n",
      " [ -0.153  -0.     -0.     -0.111   0.022  -0.   ]\n",
      " [  0.127   0.     -0.002   0.009  -0.      0.   ]]\n",
      "Intercept    13.714887\n",
      "Area          0.026451\n",
      "Elevation     0.082901\n",
      "Nearest       1.124524\n",
      "Scruz         0.149881\n",
      "Adjacent      0.021259\n",
      "dtype: float64\n"
     ]
    }
   ],
   "source": [
    "# HC1 applies a degrees-of-freedom correction to the HC0 matrix.\n",
    "# It scales the residuals by n/(n-k), where n is the number of observations and k is the number of parameters.\n",
    "print(lmod.cov_HC1.round(3)); print(lmod.HC1_se)"
   ]
  },
  {
   "cell_type": "code",
   "execution_count": 38,
   "id": "a0996434-e043-4386-bf9b-0f711b739498",
   "metadata": {},
   "outputs": [
    {
     "name": "stdout",
     "output_type": "stream",
     "text": [
      "[[193.49    0.346  -0.723  -3.25   -0.112   0.138]\n",
      " [  0.346   0.004  -0.004   0.005   0.001   0.001]\n",
      " [ -0.723  -0.004   0.008  -0.023  -0.001  -0.002]\n",
      " [ -3.25    0.005  -0.023   1.479  -0.136   0.009]\n",
      " [ -0.112   0.001  -0.001  -0.136   0.026  -0.   ]\n",
      " [  0.138   0.001  -0.002   0.009  -0.      0.   ]]\n",
      "Intercept    13.910063\n",
      "Area          0.061646\n",
      "Elevation     0.088997\n",
      "Nearest       1.216093\n",
      "Scruz         0.162272\n",
      "Adjacent      0.021587\n",
      "dtype: float64\n"
     ]
    }
   ],
   "source": [
    "# HC2 adjusts the residuals by dividing by (1 - h_i), \n",
    "# where h_i are the leverage values (diagonal elements of the hat matrix).\n",
    "print(lmod.cov_HC2.round(3)); print(lmod.HC2_se)"
   ]
  },
  {
   "cell_type": "code",
   "execution_count": 39,
   "id": "ba9a8d35-3b90-44e8-8ae7-536095728486",
   "metadata": {},
   "outputs": [
    {
     "name": "stdout",
     "output_type": "stream",
     "text": [
      "[[483.185   5.226  -3.642  -7.809   2.019   0.286]\n",
      " [  5.226   0.103  -0.06   -0.074   0.048   0.004]\n",
      " [ -3.642  -0.06    0.041   0.016  -0.027  -0.004]\n",
      " [ -7.809  -0.074   0.016   2.283  -0.251   0.009]\n",
      " [  2.019   0.048  -0.027  -0.251   0.061   0.001]\n",
      " [  0.286   0.004  -0.004   0.009   0.001   0.001]]\n",
      "Intercept    21.981460\n",
      "Area          0.320872\n",
      "Elevation     0.202246\n",
      "Nearest       1.510917\n",
      "Scruz         0.246310\n",
      "Adjacent      0.029791\n",
      "dtype: float64\n"
     ]
    }
   ],
   "source": [
    "# HC3 adjusts the residuals by dividing by (1 - h_i)^2, \n",
    "# where h_i are the leverage values (diagonal elements of the hat matrix).\n",
    "print(lmod.cov_HC3.round(3)); print(lmod.HC3_se)"
   ]
  },
  {
   "cell_type": "markdown",
   "id": "5da74c6c-661a-4c19-b2a8-2b1606a874ea",
   "metadata": {},
   "source": [
    "### 3.1.8. Outlier test"
   ]
  },
  {
   "cell_type": "code",
   "execution_count": 40,
   "id": "4e0abb94-9bff-47a7-95bd-89b57f43ec7c",
   "metadata": {},
   "outputs": [
    {
     "data": {
      "text/html": [
       "<div>\n",
       "<style scoped>\n",
       "    .dataframe tbody tr th:only-of-type {\n",
       "        vertical-align: middle;\n",
       "    }\n",
       "\n",
       "    .dataframe tbody tr th {\n",
       "        vertical-align: top;\n",
       "    }\n",
       "\n",
       "    .dataframe thead th {\n",
       "        text-align: right;\n",
       "    }\n",
       "</style>\n",
       "<table border=\"1\" class=\"dataframe\">\n",
       "  <thead>\n",
       "    <tr style=\"text-align: right;\">\n",
       "      <th></th>\n",
       "      <th>student_resid</th>\n",
       "      <th>unadj_p</th>\n",
       "      <th>bonf(p)</th>\n",
       "    </tr>\n",
       "  </thead>\n",
       "  <tbody>\n",
       "    <tr>\n",
       "      <th>Baltra</th>\n",
       "      <td>-1.003565</td>\n",
       "      <td>0.326030</td>\n",
       "      <td>1.000000</td>\n",
       "    </tr>\n",
       "    <tr>\n",
       "      <th>Bartolome</th>\n",
       "      <td>0.650520</td>\n",
       "      <td>0.521802</td>\n",
       "      <td>1.000000</td>\n",
       "    </tr>\n",
       "    <tr>\n",
       "      <th>Caldwell</th>\n",
       "      <td>-0.438374</td>\n",
       "      <td>0.665205</td>\n",
       "      <td>1.000000</td>\n",
       "    </tr>\n",
       "    <tr>\n",
       "      <th>Champion</th>\n",
       "      <td>0.244285</td>\n",
       "      <td>0.809176</td>\n",
       "      <td>1.000000</td>\n",
       "    </tr>\n",
       "    <tr>\n",
       "      <th>Coamano</th>\n",
       "      <td>0.682738</td>\n",
       "      <td>0.501592</td>\n",
       "      <td>1.000000</td>\n",
       "    </tr>\n",
       "    <tr>\n",
       "      <th>Daphne.Major</th>\n",
       "      <td>-0.419627</td>\n",
       "      <td>0.678652</td>\n",
       "      <td>1.000000</td>\n",
       "    </tr>\n",
       "    <tr>\n",
       "      <th>Daphne.Minor</th>\n",
       "      <td>-0.165089</td>\n",
       "      <td>0.870316</td>\n",
       "      <td>1.000000</td>\n",
       "    </tr>\n",
       "    <tr>\n",
       "      <th>Darwin</th>\n",
       "      <td>0.419256</td>\n",
       "      <td>0.678919</td>\n",
       "      <td>1.000000</td>\n",
       "    </tr>\n",
       "    <tr>\n",
       "      <th>Eden</th>\n",
       "      <td>-0.340925</td>\n",
       "      <td>0.736255</td>\n",
       "      <td>1.000000</td>\n",
       "    </tr>\n",
       "    <tr>\n",
       "      <th>Enderby</th>\n",
       "      <td>-0.478874</td>\n",
       "      <td>0.636549</td>\n",
       "      <td>1.000000</td>\n",
       "    </tr>\n",
       "    <tr>\n",
       "      <th>Espanola</th>\n",
       "      <td>0.847156</td>\n",
       "      <td>0.405638</td>\n",
       "      <td>1.000000</td>\n",
       "    </tr>\n",
       "    <tr>\n",
       "      <th>Fernandina</th>\n",
       "      <td>-0.286026</td>\n",
       "      <td>0.777418</td>\n",
       "      <td>1.000000</td>\n",
       "    </tr>\n",
       "    <tr>\n",
       "      <th>Gardner1</th>\n",
       "      <td>1.087352</td>\n",
       "      <td>0.288145</td>\n",
       "      <td>1.000000</td>\n",
       "    </tr>\n",
       "    <tr>\n",
       "      <th>Gardner2</th>\n",
       "      <td>-1.005068</td>\n",
       "      <td>0.325321</td>\n",
       "      <td>1.000000</td>\n",
       "    </tr>\n",
       "    <tr>\n",
       "      <th>Genovesa</th>\n",
       "      <td>0.875459</td>\n",
       "      <td>0.390376</td>\n",
       "      <td>1.000000</td>\n",
       "    </tr>\n",
       "    <tr>\n",
       "      <th>Isabela</th>\n",
       "      <td>-5.333694</td>\n",
       "      <td>0.000020</td>\n",
       "      <td>0.000614</td>\n",
       "    </tr>\n",
       "    <tr>\n",
       "      <th>Marchena</th>\n",
       "      <td>-0.644928</td>\n",
       "      <td>0.525355</td>\n",
       "      <td>1.000000</td>\n",
       "    </tr>\n",
       "    <tr>\n",
       "      <th>Onslow</th>\n",
       "      <td>-0.033979</td>\n",
       "      <td>0.973187</td>\n",
       "      <td>1.000000</td>\n",
       "    </tr>\n",
       "    <tr>\n",
       "      <th>Pinta</th>\n",
       "      <td>-2.289468</td>\n",
       "      <td>0.031560</td>\n",
       "      <td>0.946802</td>\n",
       "    </tr>\n",
       "    <tr>\n",
       "      <th>Pinzon</th>\n",
       "      <td>-0.726110</td>\n",
       "      <td>0.475096</td>\n",
       "      <td>1.000000</td>\n",
       "    </tr>\n",
       "    <tr>\n",
       "      <th>Las.Plazas</th>\n",
       "      <td>-0.386601</td>\n",
       "      <td>0.702605</td>\n",
       "      <td>1.000000</td>\n",
       "    </tr>\n",
       "    <tr>\n",
       "      <th>Rabida</th>\n",
       "      <td>-0.091661</td>\n",
       "      <td>0.927761</td>\n",
       "      <td>1.000000</td>\n",
       "    </tr>\n",
       "    <tr>\n",
       "      <th>SanCristobal</th>\n",
       "      <td>1.560300</td>\n",
       "      <td>0.132344</td>\n",
       "      <td>1.000000</td>\n",
       "    </tr>\n",
       "    <tr>\n",
       "      <th>SanSalvador</th>\n",
       "      <td>-0.772903</td>\n",
       "      <td>0.447451</td>\n",
       "      <td>1.000000</td>\n",
       "    </tr>\n",
       "    <tr>\n",
       "      <th>SantaCruz</th>\n",
       "      <td>4.378143</td>\n",
       "      <td>0.000219</td>\n",
       "      <td>0.006581</td>\n",
       "    </tr>\n",
       "    <tr>\n",
       "      <th>SantaFe</th>\n",
       "      <td>-0.393780</td>\n",
       "      <td>0.697371</td>\n",
       "      <td>1.000000</td>\n",
       "    </tr>\n",
       "    <tr>\n",
       "      <th>SantaMaria</th>\n",
       "      <td>1.665702</td>\n",
       "      <td>0.109337</td>\n",
       "      <td>1.000000</td>\n",
       "    </tr>\n",
       "    <tr>\n",
       "      <th>Seymour</th>\n",
       "      <td>-0.096302</td>\n",
       "      <td>0.924115</td>\n",
       "      <td>1.000000</td>\n",
       "    </tr>\n",
       "    <tr>\n",
       "      <th>Tortuga</th>\n",
       "      <td>-0.610816</td>\n",
       "      <td>0.547311</td>\n",
       "      <td>1.000000</td>\n",
       "    </tr>\n",
       "    <tr>\n",
       "      <th>Wolf</th>\n",
       "      <td>-0.112133</td>\n",
       "      <td>0.911691</td>\n",
       "      <td>1.000000</td>\n",
       "    </tr>\n",
       "  </tbody>\n",
       "</table>\n",
       "</div>"
      ],
      "text/plain": [
       "              student_resid   unadj_p   bonf(p)\n",
       "Baltra            -1.003565  0.326030  1.000000\n",
       "Bartolome          0.650520  0.521802  1.000000\n",
       "Caldwell          -0.438374  0.665205  1.000000\n",
       "Champion           0.244285  0.809176  1.000000\n",
       "Coamano            0.682738  0.501592  1.000000\n",
       "Daphne.Major      -0.419627  0.678652  1.000000\n",
       "Daphne.Minor      -0.165089  0.870316  1.000000\n",
       "Darwin             0.419256  0.678919  1.000000\n",
       "Eden              -0.340925  0.736255  1.000000\n",
       "Enderby           -0.478874  0.636549  1.000000\n",
       "Espanola           0.847156  0.405638  1.000000\n",
       "Fernandina        -0.286026  0.777418  1.000000\n",
       "Gardner1           1.087352  0.288145  1.000000\n",
       "Gardner2          -1.005068  0.325321  1.000000\n",
       "Genovesa           0.875459  0.390376  1.000000\n",
       "Isabela           -5.333694  0.000020  0.000614\n",
       "Marchena          -0.644928  0.525355  1.000000\n",
       "Onslow            -0.033979  0.973187  1.000000\n",
       "Pinta             -2.289468  0.031560  0.946802\n",
       "Pinzon            -0.726110  0.475096  1.000000\n",
       "Las.Plazas        -0.386601  0.702605  1.000000\n",
       "Rabida            -0.091661  0.927761  1.000000\n",
       "SanCristobal       1.560300  0.132344  1.000000\n",
       "SanSalvador       -0.772903  0.447451  1.000000\n",
       "SantaCruz          4.378143  0.000219  0.006581\n",
       "SantaFe           -0.393780  0.697371  1.000000\n",
       "SantaMaria         1.665702  0.109337  1.000000\n",
       "Seymour           -0.096302  0.924115  1.000000\n",
       "Tortuga           -0.610816  0.547311  1.000000\n",
       "Wolf              -0.112133  0.911691  1.000000"
      ]
     },
     "execution_count": 40,
     "metadata": {},
     "output_type": "execute_result"
    }
   ],
   "source": [
    "# Performs an outlier test on the fitted model\n",
    "# student_resid: The studentized residuals\n",
    "# unadj_p: The unadjusted p-values for the test\n",
    "# bonf(p): The Bonferroni-adjusted p-values\n",
    "lmod.outlier_test()"
   ]
  },
  {
   "cell_type": "markdown",
   "id": "fc146dfa-6a7e-4315-874d-6e1114b548c9",
   "metadata": {},
   "source": [
    "## 3.2. Step-by-step calculation for the estimates of beta"
   ]
  },
  {
   "cell_type": "code",
   "execution_count": 41,
   "id": "878b50af-8e80-4a69-8753-45c72df627f7",
   "metadata": {},
   "outputs": [
    {
     "data": {
      "text/html": [
       "<div>\n",
       "<style scoped>\n",
       "    .dataframe tbody tr th:only-of-type {\n",
       "        vertical-align: middle;\n",
       "    }\n",
       "\n",
       "    .dataframe tbody tr th {\n",
       "        vertical-align: top;\n",
       "    }\n",
       "\n",
       "    .dataframe thead th {\n",
       "        text-align: right;\n",
       "    }\n",
       "</style>\n",
       "<table border=\"1\" class=\"dataframe\">\n",
       "  <thead>\n",
       "    <tr style=\"text-align: right;\">\n",
       "      <th></th>\n",
       "      <th>Area</th>\n",
       "      <th>Elevation</th>\n",
       "      <th>Nearest</th>\n",
       "      <th>Scruz</th>\n",
       "      <th>Adjacent</th>\n",
       "    </tr>\n",
       "  </thead>\n",
       "  <tbody>\n",
       "    <tr>\n",
       "      <th>Baltra</th>\n",
       "      <td>25.09</td>\n",
       "      <td>346</td>\n",
       "      <td>0.6</td>\n",
       "      <td>0.6</td>\n",
       "      <td>1.84</td>\n",
       "    </tr>\n",
       "    <tr>\n",
       "      <th>Bartolome</th>\n",
       "      <td>1.24</td>\n",
       "      <td>109</td>\n",
       "      <td>0.6</td>\n",
       "      <td>26.3</td>\n",
       "      <td>572.33</td>\n",
       "    </tr>\n",
       "    <tr>\n",
       "      <th>Caldwell</th>\n",
       "      <td>0.21</td>\n",
       "      <td>114</td>\n",
       "      <td>2.8</td>\n",
       "      <td>58.7</td>\n",
       "      <td>0.78</td>\n",
       "    </tr>\n",
       "    <tr>\n",
       "      <th>Champion</th>\n",
       "      <td>0.10</td>\n",
       "      <td>46</td>\n",
       "      <td>1.9</td>\n",
       "      <td>47.4</td>\n",
       "      <td>0.18</td>\n",
       "    </tr>\n",
       "    <tr>\n",
       "      <th>Coamano</th>\n",
       "      <td>0.05</td>\n",
       "      <td>77</td>\n",
       "      <td>1.9</td>\n",
       "      <td>1.9</td>\n",
       "      <td>903.82</td>\n",
       "    </tr>\n",
       "  </tbody>\n",
       "</table>\n",
       "</div>"
      ],
      "text/plain": [
       "            Area  Elevation  Nearest  Scruz  Adjacent\n",
       "Baltra     25.09        346      0.6    0.6      1.84\n",
       "Bartolome   1.24        109      0.6   26.3    572.33\n",
       "Caldwell    0.21        114      2.8   58.7      0.78\n",
       "Champion    0.10         46      1.9   47.4      0.18\n",
       "Coamano     0.05         77      1.9    1.9    903.82"
      ]
     },
     "execution_count": 41,
     "metadata": {},
     "output_type": "execute_result"
    }
   ],
   "source": [
    "# X matrix\n",
    "X = galapagos.iloc[:,1:]; X.head()"
   ]
  },
  {
   "cell_type": "code",
   "execution_count": 42,
   "id": "616f5b28-2f4d-4207-962b-a87e48870688",
   "metadata": {},
   "outputs": [
    {
     "data": {
      "text/html": [
       "<div>\n",
       "<style scoped>\n",
       "    .dataframe tbody tr th:only-of-type {\n",
       "        vertical-align: middle;\n",
       "    }\n",
       "\n",
       "    .dataframe tbody tr th {\n",
       "        vertical-align: top;\n",
       "    }\n",
       "\n",
       "    .dataframe thead th {\n",
       "        text-align: right;\n",
       "    }\n",
       "</style>\n",
       "<table border=\"1\" class=\"dataframe\">\n",
       "  <thead>\n",
       "    <tr style=\"text-align: right;\">\n",
       "      <th></th>\n",
       "      <th>intercept</th>\n",
       "      <th>Area</th>\n",
       "      <th>Elevation</th>\n",
       "      <th>Nearest</th>\n",
       "      <th>Scruz</th>\n",
       "      <th>Adjacent</th>\n",
       "    </tr>\n",
       "  </thead>\n",
       "  <tbody>\n",
       "    <tr>\n",
       "      <th>Baltra</th>\n",
       "      <td>1</td>\n",
       "      <td>25.09</td>\n",
       "      <td>346</td>\n",
       "      <td>0.6</td>\n",
       "      <td>0.6</td>\n",
       "      <td>1.84</td>\n",
       "    </tr>\n",
       "    <tr>\n",
       "      <th>Bartolome</th>\n",
       "      <td>1</td>\n",
       "      <td>1.24</td>\n",
       "      <td>109</td>\n",
       "      <td>0.6</td>\n",
       "      <td>26.3</td>\n",
       "      <td>572.33</td>\n",
       "    </tr>\n",
       "    <tr>\n",
       "      <th>Caldwell</th>\n",
       "      <td>1</td>\n",
       "      <td>0.21</td>\n",
       "      <td>114</td>\n",
       "      <td>2.8</td>\n",
       "      <td>58.7</td>\n",
       "      <td>0.78</td>\n",
       "    </tr>\n",
       "    <tr>\n",
       "      <th>Champion</th>\n",
       "      <td>1</td>\n",
       "      <td>0.10</td>\n",
       "      <td>46</td>\n",
       "      <td>1.9</td>\n",
       "      <td>47.4</td>\n",
       "      <td>0.18</td>\n",
       "    </tr>\n",
       "    <tr>\n",
       "      <th>Coamano</th>\n",
       "      <td>1</td>\n",
       "      <td>0.05</td>\n",
       "      <td>77</td>\n",
       "      <td>1.9</td>\n",
       "      <td>1.9</td>\n",
       "      <td>903.82</td>\n",
       "    </tr>\n",
       "  </tbody>\n",
       "</table>\n",
       "</div>"
      ],
      "text/plain": [
       "           intercept   Area  Elevation  Nearest  Scruz  Adjacent\n",
       "Baltra             1  25.09        346      0.6    0.6      1.84\n",
       "Bartolome          1   1.24        109      0.6   26.3    572.33\n",
       "Caldwell           1   0.21        114      2.8   58.7      0.78\n",
       "Champion           1   0.10         46      1.9   47.4      0.18\n",
       "Coamano            1   0.05         77      1.9    1.9    903.82"
      ]
     },
     "execution_count": 42,
     "metadata": {},
     "output_type": "execute_result"
    }
   ],
   "source": [
    "X.insert(0,'intercept',1); X.head()"
   ]
  },
  {
   "cell_type": "code",
   "execution_count": 43,
   "id": "479c4cdc-d4c9-474f-af58-c11d2a8597e5",
   "metadata": {},
   "outputs": [
    {
     "data": {
      "text/plain": [
       "array([[  1.  ,  25.09, 346.  ,   0.6 ,   0.6 ,   1.84],\n",
       "       [  1.  ,   1.24, 109.  ,   0.6 ,  26.3 , 572.33],\n",
       "       [  1.  ,   0.21, 114.  ,   2.8 ,  58.7 ,   0.78],\n",
       "       [  1.  ,   0.1 ,  46.  ,   1.9 ,  47.4 ,   0.18],\n",
       "       [  1.  ,   0.05,  77.  ,   1.9 ,   1.9 , 903.82]])"
      ]
     },
     "execution_count": 43,
     "metadata": {},
     "output_type": "execute_result"
    }
   ],
   "source": [
    "lmod.model.exog[0:5,:]"
   ]
  },
  {
   "cell_type": "code",
   "execution_count": 44,
   "id": "9c6550ad-da89-41f1-b53f-45efef96e081",
   "metadata": {},
   "outputs": [
    {
     "data": {
      "text/html": [
       "<div>\n",
       "<style scoped>\n",
       "    .dataframe tbody tr th:only-of-type {\n",
       "        vertical-align: middle;\n",
       "    }\n",
       "\n",
       "    .dataframe tbody tr th {\n",
       "        vertical-align: top;\n",
       "    }\n",
       "\n",
       "    .dataframe thead th {\n",
       "        text-align: right;\n",
       "    }\n",
       "</style>\n",
       "<table border=\"1\" class=\"dataframe\">\n",
       "  <thead>\n",
       "    <tr style=\"text-align: right;\">\n",
       "      <th></th>\n",
       "      <th>intercept</th>\n",
       "      <th>Area</th>\n",
       "      <th>Elevation</th>\n",
       "      <th>Nearest</th>\n",
       "      <th>Scruz</th>\n",
       "      <th>Adjacent</th>\n",
       "    </tr>\n",
       "  </thead>\n",
       "  <tbody>\n",
       "    <tr>\n",
       "      <th>intercept</th>\n",
       "      <td>30.00</td>\n",
       "      <td>7.851260e+03</td>\n",
       "      <td>11041.00</td>\n",
       "      <td>301.800</td>\n",
       "      <td>1709.300</td>\n",
       "      <td>7.832950e+03</td>\n",
       "    </tr>\n",
       "    <tr>\n",
       "      <th>Area</th>\n",
       "      <td>7851.26</td>\n",
       "      <td>2.370867e+07</td>\n",
       "      <td>10852798.53</td>\n",
       "      <td>39240.836</td>\n",
       "      <td>275516.835</td>\n",
       "      <td>5.950314e+06</td>\n",
       "    </tr>\n",
       "    <tr>\n",
       "      <th>Elevation</th>\n",
       "      <td>11041.00</td>\n",
       "      <td>1.085280e+07</td>\n",
       "      <td>9218227.00</td>\n",
       "      <td>109139.200</td>\n",
       "      <td>616237.800</td>\n",
       "      <td>8.553188e+06</td>\n",
       "    </tr>\n",
       "    <tr>\n",
       "      <th>Nearest</th>\n",
       "      <td>301.80</td>\n",
       "      <td>3.924084e+04</td>\n",
       "      <td>109139.20</td>\n",
       "      <td>8945.300</td>\n",
       "      <td>34527.340</td>\n",
       "      <td>3.719667e+04</td>\n",
       "    </tr>\n",
       "    <tr>\n",
       "      <th>Scruz</th>\n",
       "      <td>1709.30</td>\n",
       "      <td>2.755168e+05</td>\n",
       "      <td>616237.80</td>\n",
       "      <td>34527.340</td>\n",
       "      <td>231613.770</td>\n",
       "      <td>5.344100e+05</td>\n",
       "    </tr>\n",
       "    <tr>\n",
       "      <th>Adjacent</th>\n",
       "      <td>7832.95</td>\n",
       "      <td>5.950314e+06</td>\n",
       "      <td>8553187.95</td>\n",
       "      <td>37196.670</td>\n",
       "      <td>534409.981</td>\n",
       "      <td>2.371957e+07</td>\n",
       "    </tr>\n",
       "  </tbody>\n",
       "</table>\n",
       "</div>"
      ],
      "text/plain": [
       "           intercept          Area    Elevation     Nearest       Scruz  \\\n",
       "intercept      30.00  7.851260e+03     11041.00     301.800    1709.300   \n",
       "Area         7851.26  2.370867e+07  10852798.53   39240.836  275516.835   \n",
       "Elevation   11041.00  1.085280e+07   9218227.00  109139.200  616237.800   \n",
       "Nearest       301.80  3.924084e+04    109139.20    8945.300   34527.340   \n",
       "Scruz        1709.30  2.755168e+05    616237.80   34527.340  231613.770   \n",
       "Adjacent     7832.95  5.950314e+06   8553187.95   37196.670  534409.981   \n",
       "\n",
       "               Adjacent  \n",
       "intercept  7.832950e+03  \n",
       "Area       5.950314e+06  \n",
       "Elevation  8.553188e+06  \n",
       "Nearest    3.719667e+04  \n",
       "Scruz      5.344100e+05  \n",
       "Adjacent   2.371957e+07  "
      ]
     },
     "execution_count": 44,
     "metadata": {},
     "output_type": "execute_result"
    }
   ],
   "source": [
    "# X'X\n",
    "X.T @ X"
   ]
  },
  {
   "cell_type": "code",
   "execution_count": 45,
   "id": "56490185-989a-4d19-be04-40bdd714944f",
   "metadata": {},
   "outputs": [
    {
     "data": {
      "text/plain": [
       "array([[ 0.09867829,  0.00003778, -0.0001562 , -0.0002339 , -0.00037603,\n",
       "         0.0000231 ],\n",
       "       [ 0.00003778,  0.00000014, -0.00000026,  0.00000129, -0.00000005,\n",
       "         0.00000005],\n",
       "       [-0.0001562 , -0.00000026,  0.00000077, -0.00000355,  0.00000031,\n",
       "        -0.00000016],\n",
       "       [-0.0002339 ,  0.00000129, -0.00000355,  0.00029887, -0.00003821,\n",
       "         0.00000142],\n",
       "       [-0.00037603, -0.00000005,  0.00000031, -0.00003821,  0.00001248,\n",
       "        -0.0000002 ],\n",
       "       [ 0.0000231 ,  0.00000005, -0.00000016,  0.00000142, -0.0000002 ,\n",
       "         0.00000008]])"
      ]
     },
     "execution_count": 45,
     "metadata": {},
     "output_type": "execute_result"
    }
   ],
   "source": [
    "# (X'X)^-1\n",
    "XtXi = np.linalg.inv(X.T @ X); XtXi"
   ]
  },
  {
   "cell_type": "code",
   "execution_count": 46,
   "id": "bdb4259a-354b-483f-bfd5-cceae3a03a27",
   "metadata": {},
   "outputs": [
    {
     "data": {
      "text/plain": [
       "0    7.068221\n",
       "1   -0.023938\n",
       "2    0.319465\n",
       "3    0.009144\n",
       "4   -0.240524\n",
       "5   -0.074805\n",
       "dtype: float64"
      ]
     },
     "execution_count": 46,
     "metadata": {},
     "output_type": "execute_result"
    }
   ],
   "source": [
    "# (X'X)^-1 X'y\n",
    "(XtXi @ X.T) @ galapagos.Species"
   ]
  },
  {
   "cell_type": "code",
   "execution_count": 47,
   "id": "2e347419-300d-4208-8799-b1f3d1a808cc",
   "metadata": {},
   "outputs": [
    {
     "data": {
      "text/plain": [
       "array([ 7.06822071, -0.02393834,  0.31946476,  0.00914396, -0.24052423,\n",
       "       -0.07480483])"
      ]
     },
     "execution_count": 47,
     "metadata": {},
     "output_type": "execute_result"
    }
   ],
   "source": [
    "# Another way to calculate the estimates by (X'X)^-1 beta = X'y\n",
    "np.linalg.solve(X.T @ X, X.T @ galapagos.Species)"
   ]
  },
  {
   "cell_type": "markdown",
   "id": "1896b888-4942-4286-897c-1e58a394a6d7",
   "metadata": {},
   "source": [
    "### 3.2.1. Using Moore-Penrose inverse to calculate the estimates"
   ]
  },
  {
   "cell_type": "code",
   "execution_count": 48,
   "id": "6b252203-cd05-4a89-933c-1162cd47ce8d",
   "metadata": {},
   "outputs": [
    {
     "data": {
      "text/plain": [
       "(6, 30)"
      ]
     },
     "execution_count": 48,
     "metadata": {},
     "output_type": "execute_result"
    }
   ],
   "source": [
    "# Moore-Penrose inverse X^- = (X'X)^-1 X' \n",
    "Xmp = np.linalg.pinv(X); Xmp.shape"
   ]
  },
  {
   "cell_type": "code",
   "execution_count": 49,
   "id": "739255c7-ffa1-43e5-a7e2-430c370bd42c",
   "metadata": {},
   "outputs": [
    {
     "data": {
      "text/plain": [
       "array([ 7.06822071, -0.02393834,  0.31946476,  0.00914396, -0.24052423,\n",
       "       -0.07480483])"
      ]
     },
     "execution_count": 49,
     "metadata": {},
     "output_type": "execute_result"
    }
   ],
   "source": [
    "# Calculate the estimates\n",
    "Xmp @ galapagos.Species"
   ]
  },
  {
   "cell_type": "markdown",
   "id": "ee1aecd1-fe45-4a81-9663-70cc021bfa38",
   "metadata": {},
   "source": [
    "### 3.2.2. Using QR Decomposition to calculate the estimates"
   ]
  },
  {
   "cell_type": "code",
   "execution_count": 50,
   "id": "6ca92493-ac01-4eea-a879-a1cef9311228",
   "metadata": {},
   "outputs": [],
   "source": [
    "q, r = np.linalg.qr(X)\n",
    "# q, r"
   ]
  },
  {
   "cell_type": "code",
   "execution_count": 51,
   "id": "3ec6209c-b3a3-410c-ba68-8ae4a41927af",
   "metadata": {},
   "outputs": [
    {
     "data": {
      "text/plain": [
       "array([-466.84219318,  381.40557435,  256.25047255,    5.40764552,\n",
       "       -119.49834019,  257.69436853])"
      ]
     },
     "execution_count": 51,
     "metadata": {},
     "output_type": "execute_result"
    }
   ],
   "source": [
    "f = q.T @ galapagos.Species; f"
   ]
  },
  {
   "cell_type": "code",
   "execution_count": 52,
   "id": "252170d8-b7a8-41d2-bd6a-6c9551987c60",
   "metadata": {},
   "outputs": [
    {
     "data": {
      "text/plain": [
       "array([ 7.06822071, -0.02393834,  0.31946476,  0.00914396, -0.24052423,\n",
       "       -0.07480483])"
      ]
     },
     "execution_count": 52,
     "metadata": {},
     "output_type": "execute_result"
    }
   ],
   "source": [
    "# Calculate the estimates\n",
    "sp.linalg.solve_triangular(r, f)"
   ]
  },
  {
   "cell_type": "code",
   "execution_count": 53,
   "id": "be0a0ad5-fef9-4194-b504-dfd65575e8fa",
   "metadata": {},
   "outputs": [],
   "source": [
    "lmod_qr = smf.ols('Species ~ Area + Elevation + Nearest + Scruz  + Adjacent', galapagos).fit(method=\"qr\")"
   ]
  },
  {
   "cell_type": "code",
   "execution_count": 54,
   "id": "ed790192-96cd-477f-abef-ab76936841c9",
   "metadata": {},
   "outputs": [
    {
     "data": {
      "text/plain": [
       "Intercept    7.068221\n",
       "Area        -0.023938\n",
       "Elevation    0.319465\n",
       "Nearest      0.009144\n",
       "Scruz       -0.240524\n",
       "Adjacent    -0.074805\n",
       "dtype: float64"
      ]
     },
     "execution_count": 54,
     "metadata": {},
     "output_type": "execute_result"
    }
   ],
   "source": [
    "lmod_qr.params"
   ]
  },
  {
   "cell_type": "markdown",
   "id": "d91641ad-88f6-4d0a-8356-91f011a17e70",
   "metadata": {},
   "source": [
    "### 3.2.3. Using the general least squares problem solver\n",
    "- res: The sum of the squared residuals of the solution. \n",
    "- If the rank of X is less than the number of columns in X, this is an empty array.\n",
    "- rnk: The effective rank of matrix X. \n",
    "- This is the number of singular values of X that are greater than a certain tolerance.\n",
    "- s: The singular values of X."
   ]
  },
  {
   "cell_type": "code",
   "execution_count": 55,
   "id": "b5d08ce7-009a-4253-bbc7-803eb4a3efc5",
   "metadata": {},
   "outputs": [],
   "source": [
    "params, res, rnk, s = sp.linalg.lstsq(X, galapagos['Species'])"
   ]
  },
  {
   "cell_type": "markdown",
   "id": "819f297b-198d-4a5a-a0aa-4b455a5eae70",
   "metadata": {},
   "source": [
    "## 3.3. Identifiability"
   ]
  },
  {
   "cell_type": "code",
   "execution_count": 56,
   "id": "8bf453dd-b86a-40be-a653-4bb23b1e8433",
   "metadata": {},
   "outputs": [
    {
     "name": "stdout",
     "output_type": "stream",
     "text": [
      "           coefs stderr tvalues pvalues\n",
      "Intercept  7.068 19.154    0.37  0.7154\n",
      "Area      -0.041  0.018   -2.24  0.0349\n",
      "Elevation  0.319  0.054    5.95  0.0000\n",
      "Nearest    0.009  1.054    0.01  0.9932\n",
      "Scruz     -0.241  0.215   -1.12  0.2752\n",
      "Adjacent  -0.058  0.016   -3.51  0.0018\n",
      "Adiff      0.017  0.007    2.34  0.0279\n",
      "\n",
      "n=30 p=6 Residual SD=60.975 R-squared=0.77\n",
      "Warning: Strong collinearity - design may be singular\n"
     ]
    }
   ],
   "source": [
    "# Completed unidentifiability\n",
    "galapagos['Adiff'] = galapagos.Area - galapagos.Adjacent\n",
    "lmod_ide = smf.ols('Species ~ Area+Elevation+Nearest+Scruz+Adjacent+Adiff', galapagos).fit()\n",
    "lmod_ide.sumary()"
   ]
  },
  {
   "cell_type": "code",
   "execution_count": 57,
   "id": "dea09a4c-b4d1-41d4-b179-378d25412db8",
   "metadata": {},
   "outputs": [
    {
     "data": {
      "text/plain": [
       "8.321662134740243e-25"
      ]
     },
     "execution_count": 57,
     "metadata": {},
     "output_type": "execute_result"
    }
   ],
   "source": [
    "# Show the smallest eigenvalue\n",
    "lmod_ide.eigenvals[-1]"
   ]
  },
  {
   "cell_type": "code",
   "execution_count": 58,
   "id": "2d3e2e84-ce66-4126-8d92-f28ad365f8c5",
   "metadata": {},
   "outputs": [
    {
     "name": "stdout",
     "output_type": "stream",
     "text": [
      "                            coefs      stderr        tvalues pvalues\n",
      "Intercept                  12.415      19.436           0.64  0.5290\n",
      "Area      -22,481,317,321,578.414 716,820.311 -31,362,556.25  0.0000\n",
      "Elevation                   0.305       0.054           5.61  0.0000\n",
      "Nearest                     0.159       1.070           0.15  0.8831\n",
      "Scruz                      -0.264       0.219          -1.21  0.2397\n",
      "Adjacent   22,481,317,321,578.320 716,820.311  31,362,556.25  0.0000\n",
      "Adiff      22,481,317,321,578.387 716,820.311  31,362,556.25  0.0000\n",
      "\n",
      "n=30 p=6 Residual SD=61.874 R-squared=0.76\n",
      "Warning: Strong collinearity - design may be singular\n"
     ]
    }
   ],
   "source": [
    "# Using QR Decomposition\n",
    "lmod_ide_qr = smf.ols('Species ~ Area+Elevation+Nearest+Scruz+Adjacent+Adiff', galapagos).fit(method=\"qr\")\n",
    "lmod_ide_qr.sumary()"
   ]
  },
  {
   "cell_type": "code",
   "execution_count": 59,
   "id": "da39f66a-1cae-4429-92e0-a6beb15ef69f",
   "metadata": {},
   "outputs": [
    {
     "name": "stdout",
     "output_type": "stream",
     "text": [
      "                coefs     stderr tvalues pvalues\n",
      "Intercept      10.492     19.726    0.53  0.5999\n",
      "Area      -45,266.870 54,925.786   -0.82  0.4183\n",
      "Elevation       0.313      0.055    5.73  0.0000\n",
      "Nearest        -0.065      1.065   -0.06  0.9518\n",
      "Scruz          -0.234      0.217   -1.08  0.2914\n",
      "Adjacent   45,266.769 54,925.783    0.82  0.4183\n",
      "Adiffe     45,266.846 54,925.785    0.82  0.4183\n",
      "\n",
      "n=30 p=7 Residual SD=61.387 R-squared=0.77\n"
     ]
    }
   ],
   "source": [
    "# Experiment for close unidentifiability\n",
    "np.random.seed(123)\n",
    "galapagos['Adiffe'] = galapagos.Adiff + (np.random.rand(30)-0.5)*0.001\n",
    "lmod_ide_ex = smf.ols('Species ~ Area+Elevation+Nearest+Scruz+Adjacent+Adiffe', galapagos).fit()\n",
    "lmod_ide_ex.sumary()"
   ]
  },
  {
   "cell_type": "code",
   "execution_count": 60,
   "id": "8e8da02d-3d04-4bc6-ad91-948bfaff28a8",
   "metadata": {},
   "outputs": [
    {
     "name": "stdout",
     "output_type": "stream",
     "text": [
      "                coefs     stderr tvalues pvalues\n",
      "Intercept      10.492     19.724    0.53  0.5998\n",
      "Area      -45,266.870 54,787.326   -0.83  0.4172\n",
      "Elevation       0.313      0.055    5.73  0.0000\n",
      "Nearest        -0.065      1.065   -0.06  0.9518\n",
      "Scruz          -0.234      0.217   -1.08  0.2914\n",
      "Adjacent   45,266.769 54,787.323    0.83  0.4172\n",
      "Adiffe     45,266.846 54,787.325    0.83  0.4172\n",
      "\n",
      "n=30 p=7 Residual SD=61.387 R-squared=0.77\n"
     ]
    }
   ],
   "source": [
    "lmod_ide_ex_qr = smf.ols('Species ~ Area+Elevation+Nearest+Scruz+Adjacent+Adiffe', galapagos).fit(method=\"qr\")\n",
    "lmod_ide_ex_qr.sumary()"
   ]
  },
  {
   "cell_type": "markdown",
   "id": "1d74bfca-dacb-42cd-838c-672cce1a3881",
   "metadata": {},
   "source": [
    "## 3.4 Explaination\n",
    "We want to understand the effect of Elevation"
   ]
  },
  {
   "cell_type": "code",
   "execution_count": 61,
   "id": "497ddabb-3291-4dcc-8091-159634b4cfa3",
   "metadata": {},
   "outputs": [
    {
     "name": "stdout",
     "output_type": "stream",
     "text": [
      "           coefs stderr tvalues pvalues\n",
      "Intercept  7.068 19.154    0.37  0.7154\n",
      "Area      -0.024  0.022   -1.07  0.2963\n",
      "Elevation  0.319  0.054    5.95  0.0000\n",
      "Nearest    0.009  1.054    0.01  0.9932\n",
      "Scruz     -0.241  0.215   -1.12  0.2752\n",
      "Adjacent  -0.075  0.018   -4.23  0.0003\n",
      "\n",
      "n=30 p=6 Residual SD=60.975 R-squared=0.77\n"
     ]
    }
   ],
   "source": [
    "# Full model\n",
    "lmod.sumary()"
   ]
  },
  {
   "cell_type": "code",
   "execution_count": 62,
   "id": "e990806b-47e5-4489-ad61-98ae79f729b5",
   "metadata": {},
   "outputs": [
    {
     "name": "stdout",
     "output_type": "stream",
     "text": [
      "           coefs stderr tvalues pvalues\n",
      "Intercept 11.335 19.205    0.59  0.5598\n",
      "Elevation  0.201  0.035    5.80  0.0000\n",
      "\n",
      "n=30 p=2 Residual SD=78.662 R-squared=0.55\n"
     ]
    }
   ],
   "source": [
    "# Reduced model\n",
    "lmodr = smf.ols('Species~Elevation', galapagos).fit()\n",
    "lmodr.sumary()"
   ]
  },
  {
   "cell_type": "code",
   "execution_count": 63,
   "id": "eb03c00b-f686-4c5a-bbbe-25886722079e",
   "metadata": {},
   "outputs": [
    {
     "data": {
      "text/plain": [
       "Species       85.233333\n",
       "Area         261.708667\n",
       "Elevation    368.033333\n",
       "Nearest       10.060000\n",
       "Scruz         56.976667\n",
       "Adjacent     261.098333\n",
       "dtype: float64"
      ]
     },
     "execution_count": 63,
     "metadata": {},
     "output_type": "execute_result"
    }
   ],
   "source": [
    "# Fixed rest predictors at their mean\n",
    "xf = galapagos.iloc[:,:6].mean(); xf"
   ]
  },
  {
   "cell_type": "code",
   "execution_count": 64,
   "id": "92a85ef3-674a-4539-93db-2f00089b7223",
   "metadata": {},
   "outputs": [
    {
     "data": {
      "text/html": [
       "<div>\n",
       "<style scoped>\n",
       "    .dataframe tbody tr th:only-of-type {\n",
       "        vertical-align: middle;\n",
       "    }\n",
       "\n",
       "    .dataframe tbody tr th {\n",
       "        vertical-align: top;\n",
       "    }\n",
       "\n",
       "    .dataframe thead th {\n",
       "        text-align: right;\n",
       "    }\n",
       "</style>\n",
       "<table border=\"1\" class=\"dataframe\">\n",
       "  <thead>\n",
       "    <tr style=\"text-align: right;\">\n",
       "      <th></th>\n",
       "      <th>Species</th>\n",
       "      <th>Area</th>\n",
       "      <th>Elevation</th>\n",
       "      <th>Nearest</th>\n",
       "      <th>Scruz</th>\n",
       "      <th>Adjacent</th>\n",
       "    </tr>\n",
       "  </thead>\n",
       "  <tbody>\n",
       "    <tr>\n",
       "      <th>0</th>\n",
       "      <td>85.233333</td>\n",
       "      <td>261.708667</td>\n",
       "      <td>368.033333</td>\n",
       "      <td>10.06</td>\n",
       "      <td>56.976667</td>\n",
       "      <td>261.098333</td>\n",
       "    </tr>\n",
       "    <tr>\n",
       "      <th>1</th>\n",
       "      <td>85.233333</td>\n",
       "      <td>261.708667</td>\n",
       "      <td>368.033333</td>\n",
       "      <td>10.06</td>\n",
       "      <td>56.976667</td>\n",
       "      <td>261.098333</td>\n",
       "    </tr>\n",
       "  </tbody>\n",
       "</table>\n",
       "</div>"
      ],
      "text/plain": [
       "     Species        Area   Elevation  Nearest      Scruz    Adjacent\n",
       "0  85.233333  261.708667  368.033333    10.06  56.976667  261.098333\n",
       "1  85.233333  261.708667  368.033333    10.06  56.976667  261.098333"
      ]
     },
     "execution_count": 64,
     "metadata": {},
     "output_type": "execute_result"
    }
   ],
   "source": [
    "# Concatenate their mean\n",
    "xdf = pd.concat([xf,xf], axis=1).T; xdf"
   ]
  },
  {
   "cell_type": "code",
   "execution_count": 65,
   "id": "f0c9e7df-fa41-441a-b08e-c2302179ed97",
   "metadata": {},
   "outputs": [
    {
     "data": {
      "text/html": [
       "<div>\n",
       "<style scoped>\n",
       "    .dataframe tbody tr th:only-of-type {\n",
       "        vertical-align: middle;\n",
       "    }\n",
       "\n",
       "    .dataframe tbody tr th {\n",
       "        vertical-align: top;\n",
       "    }\n",
       "\n",
       "    .dataframe thead th {\n",
       "        text-align: right;\n",
       "    }\n",
       "</style>\n",
       "<table border=\"1\" class=\"dataframe\">\n",
       "  <thead>\n",
       "    <tr style=\"text-align: right;\">\n",
       "      <th></th>\n",
       "      <th>Species</th>\n",
       "      <th>Area</th>\n",
       "      <th>Elevation</th>\n",
       "      <th>Nearest</th>\n",
       "      <th>Scruz</th>\n",
       "      <th>Adjacent</th>\n",
       "    </tr>\n",
       "  </thead>\n",
       "  <tbody>\n",
       "    <tr>\n",
       "      <th>0</th>\n",
       "      <td>85.233333</td>\n",
       "      <td>261.708667</td>\n",
       "      <td>25</td>\n",
       "      <td>10.06</td>\n",
       "      <td>56.976667</td>\n",
       "      <td>261.098333</td>\n",
       "    </tr>\n",
       "    <tr>\n",
       "      <th>1</th>\n",
       "      <td>85.233333</td>\n",
       "      <td>261.708667</td>\n",
       "      <td>1707</td>\n",
       "      <td>10.06</td>\n",
       "      <td>56.976667</td>\n",
       "      <td>261.098333</td>\n",
       "    </tr>\n",
       "  </tbody>\n",
       "</table>\n",
       "</div>"
      ],
      "text/plain": [
       "     Species        Area  Elevation  Nearest      Scruz    Adjacent\n",
       "0  85.233333  261.708667         25    10.06  56.976667  261.098333\n",
       "1  85.233333  261.708667       1707    10.06  56.976667  261.098333"
      ]
     },
     "execution_count": 65,
     "metadata": {},
     "output_type": "execute_result"
    }
   ],
   "source": [
    "# Replace values of Elevation with its minimum and maximum\n",
    "xrange = [np.min(galapagos.Elevation), np.max(galapagos.Elevation)] # minimum and maximum\n",
    "xdf['Elevation'] = xrange; xdf # replace values"
   ]
  },
  {
   "cell_type": "code",
   "execution_count": 66,
   "id": "a1b3b079-3aee-4fa8-9926-aa9cb599bb3c",
   "metadata": {},
   "outputs": [
    {
     "data": {
      "image/png": "[encoded data removed]",
      "text/plain": [
       "<Figure size 640x480 with 1 Axes>"
      ]
     },
     "metadata": {},
     "output_type": "display_data"
    }
   ],
   "source": [
    "# Draw the effect plot\n",
    "plt.scatter(galapagos.Elevation, galapagos.Species)\n",
    "plt.xlabel(\"Elevation\"); plt.ylabel(\"Species\")\n",
    "plt.plot(xrange, lmodr.predict(xdf),\"-\")\n",
    "plt.plot(xrange, lmod.predict(xdf),\"--\");"
   ]
  },
  {
   "cell_type": "markdown",
   "id": "220da295-9f3c-437a-9f8e-a31828a4be20",
   "metadata": {},
   "source": [
    "- A unit increase in $x_i$ with the other (named) predictors held constant will produce a change \n",
    "of $\\hat{β_i}$ in the response y. It should be mentioned that in a model with only one predictor variable, changes in other variables can also affect the predictions. This is why the predictions can be different when there are multiple predictors involved.\n",
    "- The effect plot is a useful way to understand the meaning of the model for a specific predictor, in this case, Elevation. It allows for visual comparison of the effects of elevation on the response variable across different models. \n",
    "- The concept of holding variables constant does not make sense in this context of the Galápagos data. Observational data refers to data that is collected by observing natural phenomena, rather than through controlled experiments. In the case of the Galápagos Islands, the variables being observed are not within our control. We cannot change them unless we have some extraordinary ability to manipulate the environment. Additionally, there may be other variables that we have not measured or are not aware of, which could also be related to the diversity of species. It is impossible for us to keep these variables constant because we may not even know they exist. Therefore, there are difficulties in analyzing observational data and emphasizes the limitations of trying to control variables in such scenarios.\n",
    "- We don’t claim causation in our explanation. For instance, while we can predict that higher islands have more species diversity, we can’t say higher altitude causes this. However, we can still make predictions and comparisons to gain insights. These comparisons lend some significance to the regression coefficients, but the information isn’t absolute and may change."
   ]
  },
  {
   "cell_type": "markdown",
   "id": "aa51a463-9fd2-49c2-8a06-11ec2543bfe6",
   "metadata": {},
   "source": [
    "# 4. Hypothesis Tests\n",
    "- $\\hat{\\beta} = (X'X)^{-1}X'y \\sim N(\\beta, (X'X)^{-1}\\sigma^2)$\n",
    "- Explanation of larger model (Ω) and smaller model (ω):\n",
    "    - The larger model contains all predictors, while the smaller model contains a subset of predictors.\n",
    "    - The smaller model represents the null hypothesis, and the larger model represents the alternative hypothesis.\n",
    "- Conclude the test result based on fit difference:\n",
    "    - The difference in fit is measured using the residual sum of squares (RSS).\n",
    "    - If the difference between $RSS_Ω$ and $RSS_ω$ is small, the fit of the smaller model is as good as the larger model, then the smaller model is preferred for its simplicity. If the difference is large, the larger model is preferred.\n",
    "- A potential test statistic: $(RSS_ω-RSS_Ω)/(RSS_Ω )$. The denominator is used for scaling purposes.\n",
    "- A likelihood-ratio statistic: $\\frac{\\max_{(β,σ∈Ω)}⁡L(β,σ|y)}{\\max_{(β,σ∈ω)⁡}L(β,σ|y)}$\n",
    "$$ L(\\hat{β},\\hat{σ}│y)∝ \\hat{σ}^{-n}$$\n",
    "- Derivation of the F-statistic:\n",
    "    - The dimension of the larger model is the number of parameters p. The dimension of the smaller model is the number of parameters q.\n",
    "    - The degree of freedom of the larger model is $df_Ω = n – p$. The degree of freedom of the smaller model is $df_ω = n – q$.\n",
    "    - $F=\\frac{(RSS_ω-RSS_Ω⁄(df_ω-df_Ω)}{(RSS_Ω)⁄df_Ω)}=\\frac{(RSS_ω-RSS_Ω)⁄((p-q)}{(RSS_Ω)⁄(n-p)} \\stackrel{H_0}{\\sim}  F_(p-q,n-p)$"
   ]
  },
  {
   "cell_type": "markdown",
   "id": "2df680e8-c502-4162-845c-62d0c95e25fd",
   "metadata": {},
   "source": [
    "## 4.1. Test of all the predictors\n",
    "- The full model (Ω) is y = Xβ + ε. The reduced model (ω) is y = μ + ε.\n",
    "- $H_0: \\beta_1 = \\cdots = \\beta_{p-1}=0$\n",
    "- $RSS_Ω = (y-X\\hat{β})' (y-X\\hat{β})=\\hat{ε}'\\hat{ε}$\n",
    "- $RSS_ω = (y-\\bar{y})'(y-\\bar{y})=TSS$\n",
    "- $F=\\frac{(TSS-RSS)/(p-1)}{RSS/(n-p)} \\stackrel{H_0}{\\sim} F_(p-1,n-p)$\n",
    "- If it fails to reject the null hypothesis, then investigate the possibility of nonlinear transformation of the variables and of outliers.\n",
    "| Source     | Degree of freedom | Sum of squares | Mean square                |\n",
    "|------------|-------------------|----------------|----------------------------|\n",
    "| Regression | \\(p-1\\)           | ESS            | $\\frac{\\text{ESS}}{p-1}$|\n",
    "| Residual   | \\(n-p\\)           | RSS            | $\\frac{\\text{RSS}}{n-p}$|\n",
    "| Total      | \\(n-1\\)           | TSS            | $\\frac{\\text{TSS}}{n-1}$|"
   ]
  },
  {
   "cell_type": "code",
   "execution_count": 67,
   "id": "0de37a3a-fe0b-4e5d-8c5b-c3b5225e6f60",
   "metadata": {},
   "outputs": [
    {
     "data": {
      "text/plain": [
       "(15.699, 6.83789299511231e-07)"
      ]
     },
     "execution_count": 67,
     "metadata": {},
     "output_type": "execute_result"
    }
   ],
   "source": [
    "# Show F-statistics, p-value of F-statistics\n",
    "lmod.fvalue.round(3), lmod.f_pvalue"
   ]
  },
  {
   "cell_type": "code",
   "execution_count": 68,
   "id": "55a74051-49f8-4975-9998-771c488dd645",
   "metadata": {},
   "outputs": [
    {
     "data": {
      "text/plain": [
       "(15.699412204831033, 6.83789299511231e-07, 5.0)"
      ]
     },
     "execution_count": 68,
     "metadata": {},
     "output_type": "execute_result"
    }
   ],
   "source": [
    "# ANOVA way\n",
    "lmodr = smf.ols('Species ~ 1', galapagos).fit()\n",
    "lmod.compare_f_test(lmodr)"
   ]
  },
  {
   "cell_type": "markdown",
   "id": "8a76f473-97fd-48c6-8dc7-b4f97f09595b",
   "metadata": {},
   "source": [
    "### Step-by-step calculation of F-statistics, p-value of F-statistics"
   ]
  },
  {
   "cell_type": "code",
   "execution_count": 69,
   "id": "cefd890c-aaa2-4bc4-81ff-57a195c94381",
   "metadata": {},
   "outputs": [
    {
     "data": {
      "text/plain": [
       "381081.36666666664"
      ]
     },
     "execution_count": 69,
     "metadata": {},
     "output_type": "execute_result"
    }
   ],
   "source": [
    "# RSS reduced\n",
    "lmod.centered_tss"
   ]
  },
  {
   "cell_type": "code",
   "execution_count": 70,
   "id": "fb8566cb-acce-4e1f-b6c5-e1403abb5bc3",
   "metadata": {},
   "outputs": [
    {
     "data": {
      "text/plain": [
       "89231.36633005118"
      ]
     },
     "execution_count": 70,
     "metadata": {},
     "output_type": "execute_result"
    }
   ],
   "source": [
    "# RSS full\n",
    "lmod.ssr"
   ]
  },
  {
   "cell_type": "code",
   "execution_count": 71,
   "id": "3b1861fd-6097-4985-ad28-ae58076da422",
   "metadata": {},
   "outputs": [
    {
     "data": {
      "text/plain": [
       "24.0"
      ]
     },
     "execution_count": 71,
     "metadata": {},
     "output_type": "execute_result"
    }
   ],
   "source": [
    "# Degrees of freedom full\n",
    "lmod.df_resid"
   ]
  },
  {
   "cell_type": "code",
   "execution_count": 72,
   "id": "bb75ec79-b5b1-4921-bdf2-95114e5f3267",
   "metadata": {},
   "outputs": [
    {
     "data": {
      "text/plain": [
       "15.699412204831033"
      ]
     },
     "execution_count": 72,
     "metadata": {},
     "output_type": "execute_result"
    }
   ],
   "source": [
    "# F-statistics\n",
    "lmod.mse_model / lmod.mse_resid"
   ]
  },
  {
   "cell_type": "code",
   "execution_count": 73,
   "id": "4f5daef2-c182-4417-9e0d-a5743ce77bb3",
   "metadata": {},
   "outputs": [
    {
     "data": {
      "text/plain": [
       "6.837892995159578e-07"
      ]
     },
     "execution_count": 73,
     "metadata": {},
     "output_type": "execute_result"
    }
   ],
   "source": [
    "# p-value of F-statistics\n",
    "1-sp.stats.f.cdf(lmod.fvalue, lmod.df_model, lmod.df_resid)"
   ]
  },
  {
   "cell_type": "markdown",
   "id": "94117314-c75c-4a3f-9003-e43c251b9b7b",
   "metadata": {},
   "source": [
    "## 4.2 Testing one predictor\n",
    "- The full model (Ω) is $y = Xβ + ε$. The reduced model (ω) is $y = X_{-i} β + ε$. Where $X_{-i}$ is the model matrix except predictor i.\n",
    "- $F=\\frac{(RSS_ω-RSS_Ω⁄(1)}{(RSS_Ω)⁄(n-p))} \\stackrel{H_0}{\\sim} F_(1,n-p)$\n",
    "- $t_i = \\frac{\\hat{\\beta}_i}{se(\\hat{\\beta}_i)} \\stackrel{H_0}{\\sim} t(n-p)$\n",
    "- $t_i^2 = F_i$\n",
    "- Hypothesis testing provides a p-value, which helps us determine whether to accept or reject the null hypothesis based on the chosen significance level. However, it is wrong to reply only on the relative sizes of p-values to determine the practical importance of a predictor. For example, there is a tendency to interpret small p-values as indicating a significant effect, rather than just a statistically significant one."
   ]
  },
  {
   "cell_type": "code",
   "execution_count": 74,
   "id": "13d86c01-b605-458a-9542-ee10c4ab2d22",
   "metadata": {},
   "outputs": [
    {
     "data": {
      "text/html": [
       "<div>\n",
       "<style scoped>\n",
       "    .dataframe tbody tr th:only-of-type {\n",
       "        vertical-align: middle;\n",
       "    }\n",
       "\n",
       "    .dataframe tbody tr th {\n",
       "        vertical-align: top;\n",
       "    }\n",
       "\n",
       "    .dataframe thead th {\n",
       "        text-align: right;\n",
       "    }\n",
       "</style>\n",
       "<table border=\"1\" class=\"dataframe\">\n",
       "  <thead>\n",
       "    <tr style=\"text-align: right;\">\n",
       "      <th></th>\n",
       "      <th>df_resid</th>\n",
       "      <th>ssr</th>\n",
       "      <th>df_diff</th>\n",
       "      <th>ss_diff</th>\n",
       "      <th>F</th>\n",
       "      <th>Pr(&gt;F)</th>\n",
       "    </tr>\n",
       "  </thead>\n",
       "  <tbody>\n",
       "    <tr>\n",
       "      <th>0</th>\n",
       "      <td>25.0</td>\n",
       "      <td>93469.08399</td>\n",
       "      <td>0.0</td>\n",
       "      <td>NaN</td>\n",
       "      <td>NaN</td>\n",
       "      <td>NaN</td>\n",
       "    </tr>\n",
       "    <tr>\n",
       "      <th>1</th>\n",
       "      <td>24.0</td>\n",
       "      <td>89231.36633</td>\n",
       "      <td>1.0</td>\n",
       "      <td>4237.71766</td>\n",
       "      <td>1.139792</td>\n",
       "      <td>0.296318</td>\n",
       "    </tr>\n",
       "  </tbody>\n",
       "</table>\n",
       "</div>"
      ],
      "text/plain": [
       "   df_resid          ssr  df_diff     ss_diff         F    Pr(>F)\n",
       "0      25.0  93469.08399      0.0         NaN       NaN       NaN\n",
       "1      24.0  89231.36633      1.0  4237.71766  1.139792  0.296318"
      ]
     },
     "execution_count": 74,
     "metadata": {},
     "output_type": "execute_result"
    }
   ],
   "source": [
    "lmods = smf.ols('Species ~ Elevation + Nearest + Scruz + Adjacent', galapagos).fit()\n",
    "sm.stats.anova_lm(lmods, lmod)"
   ]
  },
  {
   "cell_type": "code",
   "execution_count": 75,
   "id": "551c137c-bedb-4889-a056-8f40b6135847",
   "metadata": {},
   "outputs": [
    {
     "data": {
      "text/plain": [
       "1.1397922951448873"
      ]
     },
     "execution_count": 75,
     "metadata": {},
     "output_type": "execute_result"
    }
   ],
   "source": [
    "lmod.tvalues[\"Area\"]**2"
   ]
  },
  {
   "cell_type": "markdown",
   "id": "596a91c4-8e55-4f80-b837-55006f669a17",
   "metadata": {},
   "source": [
    "## 4.3 Test of a pair of predictors\n",
    "- The full model (Ω) is $y = Xβ + ε$. The reduced model (ω) is $y = X_{-i,j} β + ε$. Where $X_{-i,j}$ is the model matrix except predictor i, j.\n",
    "- $F=\\frac{(RSS_ω-RSS_Ω⁄(2)}{(RSS_Ω)⁄(n-p))} \\stackrel{H_0}{\\sim} F_(2,n-p)$\n",
    "- There is an issue of making decisions based on multiple p-values of t-tests. Each p-value corresponds to a test where the other predictor is included in the model. Hence, there is no straightforward way to combine these p-values. Therefore, if you want to test multiple predictors, it is recommended to use a single F-test instead of relying on individual t-tests."
   ]
  },
  {
   "cell_type": "code",
   "execution_count": 76,
   "id": "4a09ba53-802e-4854-8c49-fadff11de322",
   "metadata": {},
   "outputs": [
    {
     "data": {
      "text/html": [
       "<div>\n",
       "<style scoped>\n",
       "    .dataframe tbody tr th:only-of-type {\n",
       "        vertical-align: middle;\n",
       "    }\n",
       "\n",
       "    .dataframe tbody tr th {\n",
       "        vertical-align: top;\n",
       "    }\n",
       "\n",
       "    .dataframe thead th {\n",
       "        text-align: right;\n",
       "    }\n",
       "</style>\n",
       "<table border=\"1\" class=\"dataframe\">\n",
       "  <thead>\n",
       "    <tr style=\"text-align: right;\">\n",
       "      <th></th>\n",
       "      <th>df_resid</th>\n",
       "      <th>ssr</th>\n",
       "      <th>df_diff</th>\n",
       "      <th>ss_diff</th>\n",
       "      <th>F</th>\n",
       "      <th>Pr(&gt;F)</th>\n",
       "    </tr>\n",
       "  </thead>\n",
       "  <tbody>\n",
       "    <tr>\n",
       "      <th>0</th>\n",
       "      <td>26.0</td>\n",
       "      <td>158291.628568</td>\n",
       "      <td>0.0</td>\n",
       "      <td>NaN</td>\n",
       "      <td>NaN</td>\n",
       "      <td>NaN</td>\n",
       "    </tr>\n",
       "    <tr>\n",
       "      <th>1</th>\n",
       "      <td>24.0</td>\n",
       "      <td>89231.366330</td>\n",
       "      <td>2.0</td>\n",
       "      <td>69060.262238</td>\n",
       "      <td>9.287352</td>\n",
       "      <td>0.00103</td>\n",
       "    </tr>\n",
       "  </tbody>\n",
       "</table>\n",
       "</div>"
      ],
      "text/plain": [
       "   df_resid            ssr  df_diff       ss_diff         F   Pr(>F)\n",
       "0      26.0  158291.628568      0.0           NaN       NaN      NaN\n",
       "1      24.0   89231.366330      2.0  69060.262238  9.287352  0.00103"
      ]
     },
     "execution_count": 76,
     "metadata": {},
     "output_type": "execute_result"
    }
   ],
   "source": [
    "lmods = smf.ols('Species ~ Elevation + Nearest + Scruz',galapagos).fit()\n",
    "sm.stats.anova_lm(lmods,lmod)"
   ]
  },
  {
   "cell_type": "markdown",
   "id": "f7e0b7c6-9855-41c3-bec7-4a54e242b05d",
   "metadata": {},
   "source": [
    "## 4.4 Test of a subspace\n",
    "- $H_0: β_{Area}=β_{Adjacent}$\n",
    "- $H_0: β_{Elevation}=0.5$"
   ]
  },
  {
   "cell_type": "code",
   "execution_count": 77,
   "id": "eaed45e7-2d32-41a8-9627-7c25a9193688",
   "metadata": {},
   "outputs": [
    {
     "data": {
      "text/html": [
       "<div>\n",
       "<style scoped>\n",
       "    .dataframe tbody tr th:only-of-type {\n",
       "        vertical-align: middle;\n",
       "    }\n",
       "\n",
       "    .dataframe tbody tr th {\n",
       "        vertical-align: top;\n",
       "    }\n",
       "\n",
       "    .dataframe thead th {\n",
       "        text-align: right;\n",
       "    }\n",
       "</style>\n",
       "<table border=\"1\" class=\"dataframe\">\n",
       "  <thead>\n",
       "    <tr style=\"text-align: right;\">\n",
       "      <th></th>\n",
       "      <th>df_resid</th>\n",
       "      <th>ssr</th>\n",
       "      <th>df_diff</th>\n",
       "      <th>ss_diff</th>\n",
       "      <th>F</th>\n",
       "      <th>Pr(&gt;F)</th>\n",
       "    </tr>\n",
       "  </thead>\n",
       "  <tbody>\n",
       "    <tr>\n",
       "      <th>0</th>\n",
       "      <td>25.0</td>\n",
       "      <td>109591.120801</td>\n",
       "      <td>0.0</td>\n",
       "      <td>NaN</td>\n",
       "      <td>NaN</td>\n",
       "      <td>NaN</td>\n",
       "    </tr>\n",
       "    <tr>\n",
       "      <th>1</th>\n",
       "      <td>24.0</td>\n",
       "      <td>89231.366330</td>\n",
       "      <td>1.0</td>\n",
       "      <td>20359.754471</td>\n",
       "      <td>5.476035</td>\n",
       "      <td>0.027926</td>\n",
       "    </tr>\n",
       "  </tbody>\n",
       "</table>\n",
       "</div>"
      ],
      "text/plain": [
       "   df_resid            ssr  df_diff       ss_diff         F    Pr(>F)\n",
       "0      25.0  109591.120801      0.0           NaN       NaN       NaN\n",
       "1      24.0   89231.366330      1.0  20359.754471  5.476035  0.027926"
      ]
     },
     "execution_count": 77,
     "metadata": {},
     "output_type": "execute_result"
    }
   ],
   "source": [
    "lmods = smf.ols('Species ~ I(Area+Adjacent) + Elevation + Nearest + Scruz', galapagos).fit()\n",
    "sm.stats.anova_lm(lmods,lmod)"
   ]
  },
  {
   "cell_type": "code",
   "execution_count": 78,
   "id": "e34ca4d4-addb-420c-a63c-7f30a791ba0c",
   "metadata": {},
   "outputs": [],
   "source": [
    "lmod2 = smf.glm('Species ~ Area + Elevation + Nearest + Scruz + Adjacent', galapagos).fit()\n",
    "lmods = smf.glm('Species ~ Area + Nearest + Scruz + Adjacent', offset=(0.5*galapagos['Elevation']), \\\n",
    "                data=galapagos).fit()"
   ]
  },
  {
   "cell_type": "code",
   "execution_count": 79,
   "id": "6344b6d8-0bf7-47bc-a47a-2ed206b8a285",
   "metadata": {},
   "outputs": [
    {
     "data": {
      "text/plain": [
       "11.318196837955584"
      ]
     },
     "execution_count": 79,
     "metadata": {},
     "output_type": "execute_result"
    }
   ],
   "source": [
    "fstat = (lmods.deviance-lmod2.deviance)/ \\\n",
    "        (lmod2.deviance/lmod2.df_resid); fstat"
   ]
  },
  {
   "cell_type": "code",
   "execution_count": 80,
   "id": "387a12a7-3312-4491-9639-b774ef4eec1b",
   "metadata": {},
   "outputs": [
    {
     "data": {
      "text/plain": [
       "0.002573836486092662"
      ]
     },
     "execution_count": 80,
     "metadata": {},
     "output_type": "execute_result"
    }
   ],
   "source": [
    "1-sp.stats.f.cdf(fstat, 1, lmod2.df_resid)"
   ]
  },
  {
   "cell_type": "code",
   "execution_count": 81,
   "id": "f03c24bd-8005-4328-83bd-f417db78ff8e",
   "metadata": {},
   "outputs": [
    {
     "data": {
      "text/plain": [
       "(-3.364252790435874, 11.318196837955565, 0.0025738364860927103)"
      ]
     },
     "execution_count": 81,
     "metadata": {},
     "output_type": "execute_result"
    }
   ],
   "source": [
    "lmod = smf.ols('Species ~ Area + Elevation + Nearest + Scruz  + Adjacent', galapagos).fit()\n",
    "tstat=(lmod.params['Elevation']-0.5)/lmod.bse['Elevation']\n",
    "tstat, tstat**2, 2*sp.stats.t.cdf(tstat, lmod.df_resid)"
   ]
  },
  {
   "cell_type": "markdown",
   "id": "da021786-fd1b-422f-9448-933690e52c59",
   "metadata": {},
   "source": [
    "## 4.5 Limitations of test\n",
    "- Certain types of hypotheses, such as non-linear ones, cannot be tested using the F-testing method.\n",
    "- Comparing models that are not nested or have different predictors is not possible using an F-test.\n",
    "- If the models being compared use different datasets or have missing values, F-tests are not directly applicable."
   ]
  },
  {
   "cell_type": "markdown",
   "id": "175edf3f-7f09-4a51-9c8c-04fc72bf8adc",
   "metadata": {},
   "source": [
    "## 4.6 Permutation tests\n",
    "- Permutation tests is an alternative test that needs no assumption of normal errors.\n",
    "- Interpretation: if the response is not related to the predictors, then the observed response values would be randomly distributed across the cases without any relation to the predictors.\n",
    "- The F-statistic is a measure of the association between the predictors and the response. Larger values of the F-statistic indicate stronger associations between the predictors and the response.\n",
    "- What is the chance, under the assumption that there is no relationship between the predictors and the response, that we would observe an F-statistic as large or larger than the one we actually observed? \n",
    "- Permutation test involve computing the F-statistic for all possible permutations of the response variable and seeing what proportion of those permutations exceed the observed F-statistic. If the observed proportion is small, it suggests that the response is related to the predictors, and we reject the assumption of no relationship.\n",
    "- Interestingly, this proportion is estimated using a p-value calculated in the usual way based on the assumption of normal errors.\n",
    "- Permutation tests can be used for test of one predictor. In this test, instead of shuffling or permuting the response variable, we shuffle or permute one of the predictor variables."
   ]
  },
  {
   "cell_type": "code",
   "execution_count": 82,
   "id": "09aeb8e8-9894-41b4-a313-24ec22a5d8d9",
   "metadata": {},
   "outputs": [],
   "source": [
    "lmod_pe = smf.ols('Species ~ Nearest + Scruz', galapagos).fit()"
   ]
  },
  {
   "cell_type": "code",
   "execution_count": 83,
   "id": "2fed7d56-3472-4539-957e-49e0569f8957",
   "metadata": {},
   "outputs": [
    {
     "data": {
      "text/plain": [
       "(0.601955832665219, 0.5549254563908432)"
      ]
     },
     "execution_count": 83,
     "metadata": {},
     "output_type": "execute_result"
    }
   ],
   "source": [
    "lmod_pe.fvalue, lmod_pe.f_pvalue"
   ]
  },
  {
   "cell_type": "code",
   "execution_count": 84,
   "id": "3da6726f-5ba9-4252-bad7-faf0c3926734",
   "metadata": {},
   "outputs": [
    {
     "data": {
      "text/plain": [
       "0.56575"
      ]
     },
     "execution_count": 84,
     "metadata": {},
     "output_type": "execute_result"
    }
   ],
   "source": [
    "fstats = np.zeros(4000)\n",
    "np.random.seed(123)\n",
    "for i in range(0,4000):\n",
    "    galapagos['ysamp'] = np.random.permutation(np.copy(galapagos.Species))\n",
    "    lmodi = smf.ols('ysamp ~ Nearest + Scruz', galapagos).fit()\n",
    "    fstats[i] = lmodi.fvalue\n",
    "np.mean(fstats > lmod_pe.fvalue)"
   ]
  },
  {
   "cell_type": "code",
   "execution_count": 85,
   "id": "96a4de0f-f648-4642-9112-5cdd0ebe4c26",
   "metadata": {},
   "outputs": [
    {
     "data": {
      "text/plain": [
       "(-1.0946730850617028, 0.2833295186486555)"
      ]
     },
     "execution_count": 85,
     "metadata": {},
     "output_type": "execute_result"
    }
   ],
   "source": [
    "lmod_pe.tvalues[\"Scruz\"], lmod_pe.pvalues[\"Scruz\"]"
   ]
  },
  {
   "cell_type": "code",
   "execution_count": 86,
   "id": "36cf02aa-48e4-4e9f-b629-757816543c74",
   "metadata": {},
   "outputs": [
    {
     "data": {
      "text/plain": [
       "1.0946730850617028"
      ]
     },
     "execution_count": 86,
     "metadata": {},
     "output_type": "execute_result"
    }
   ],
   "source": [
    "np.fabs(lmod_pe.tvalues.iloc[2])"
   ]
  },
  {
   "cell_type": "code",
   "execution_count": 87,
   "id": "220df7b2-4ec8-45aa-ae3e-7fadaa561b50",
   "metadata": {},
   "outputs": [
    {
     "data": {
      "text/plain": [
       "0.262"
      ]
     },
     "execution_count": 87,
     "metadata": {},
     "output_type": "execute_result"
    }
   ],
   "source": [
    "tstats = np.zeros(4000)\n",
    "np.random.seed(123)\n",
    "for i in range(0, 4000):\n",
    "    galapagos['ssamp'] = np.random.permutation(galapagos.Scruz)\n",
    "    lmodi = smf.ols('Species ~ Nearest + ssamp', galapagos).fit()\n",
    "    tstats[i] = lmodi.tvalues[\"ssamp\"]\n",
    "np.mean(np.fabs(tstats) > np.fabs(lmod_pe.tvalues[\"Scruz\"]))"
   ]
  },
  {
   "cell_type": "markdown",
   "id": "262ef028-721e-4a49-b4f0-8d0fde5f281f",
   "metadata": {},
   "source": [
    "# 5. Confidence Intervals for $\\beta$\n",
    "- $\\hat{β}_i \\pm t_{\\alpha/2, t-n} se(\\hat{β})$\n",
    "- Regarding the concept of confidence levels and hypothesis testing, when we choose a particular confidence level, such as 95%, it means that we can only perform tests at the 5% significance level.\n",
    "- If the confidence interval mentioned is relatively wide, it indicates that there is not a high level of confidence in the exact effect of the predictor, even though there is statistical significance suggesting a relationship.\n",
    "- The advantage of using a confidence interval is that it gives us more information about the possible values of the parameter, rather than just a single point estimate. This is especially useful when the parameter has a direct interpretation, such as the difference between two treatments in a study. By having a range of values, we can have a better understanding of the uncertainty associated with the parameter estimate. This allows us to make more informed decisions and draw conclusions based on the data.\n",
    "- Confidence intervals are better for understanding the size of the effect."
   ]
  },
  {
   "cell_type": "code",
   "execution_count": 88,
   "id": "fd9ddf4c-81ef-4afe-8ab7-e787e0a84560",
   "metadata": {},
   "outputs": [],
   "source": [
    "# The linear model: Species ~ Area + Elevation + Nearest + Scruz  + Adjacent"
   ]
  },
  {
   "cell_type": "code",
   "execution_count": 89,
   "id": "4f075125-61de-425d-9b25-28d01f388ff3",
   "metadata": {},
   "outputs": [
    {
     "data": {
      "text/plain": [
       "array([-2.06389856,  2.06389856])"
      ]
     },
     "execution_count": 89,
     "metadata": {},
     "output_type": "execute_result"
    }
   ],
   "source": [
    "# Critical values\n",
    "qt = np.array(sp.stats.t.interval(0.95,24)); qt"
   ]
  },
  {
   "cell_type": "code",
   "execution_count": 90,
   "id": "27e64491-74cb-4b10-9db3-35fc5671cdcd",
   "metadata": {},
   "outputs": [
    {
     "data": {
      "text/plain": [
       "array([-0.0702158 ,  0.02233912])"
      ]
     },
     "execution_count": 90,
     "metadata": {},
     "output_type": "execute_result"
    }
   ],
   "source": [
    "# Calculate the confidence interval for the first coefficient\n",
    "lmod.params[\"Area\"] + lmod.bse[\"Area\"]*qt"
   ]
  },
  {
   "cell_type": "code",
   "execution_count": 91,
   "id": "2041ced7-d8f3-42ed-a836-7d5fff8e7210",
   "metadata": {},
   "outputs": [
    {
     "data": {
      "text/plain": [
       "array([-0.11133622, -0.03827344])"
      ]
     },
     "execution_count": 91,
     "metadata": {},
     "output_type": "execute_result"
    }
   ],
   "source": [
    "# Calculate the confidence interval for the fifth coefficient\n",
    "lmod.params[\"Adjacent\"] + lmod.bse[\"Adjacent\"]*qt"
   ]
  },
  {
   "cell_type": "code",
   "execution_count": 92,
   "id": "f84bc631-4354-403e-bb47-b5351dfde27a",
   "metadata": {},
   "outputs": [
    {
     "data": {
      "text/html": [
       "<div>\n",
       "<style scoped>\n",
       "    .dataframe tbody tr th:only-of-type {\n",
       "        vertical-align: middle;\n",
       "    }\n",
       "\n",
       "    .dataframe tbody tr th {\n",
       "        vertical-align: top;\n",
       "    }\n",
       "\n",
       "    .dataframe thead th {\n",
       "        text-align: right;\n",
       "    }\n",
       "</style>\n",
       "<table border=\"1\" class=\"dataframe\">\n",
       "  <thead>\n",
       "    <tr style=\"text-align: right;\">\n",
       "      <th></th>\n",
       "      <th>0</th>\n",
       "      <th>1</th>\n",
       "    </tr>\n",
       "  </thead>\n",
       "  <tbody>\n",
       "    <tr>\n",
       "      <th>Intercept</th>\n",
       "      <td>-32.464101</td>\n",
       "      <td>46.600542</td>\n",
       "    </tr>\n",
       "    <tr>\n",
       "      <th>Area</th>\n",
       "      <td>-0.070216</td>\n",
       "      <td>0.022339</td>\n",
       "    </tr>\n",
       "    <tr>\n",
       "      <th>Elevation</th>\n",
       "      <td>0.208710</td>\n",
       "      <td>0.430219</td>\n",
       "    </tr>\n",
       "    <tr>\n",
       "      <th>Nearest</th>\n",
       "      <td>-2.166486</td>\n",
       "      <td>2.184774</td>\n",
       "    </tr>\n",
       "    <tr>\n",
       "      <th>Scruz</th>\n",
       "      <td>-0.685093</td>\n",
       "      <td>0.204044</td>\n",
       "    </tr>\n",
       "    <tr>\n",
       "      <th>Adjacent</th>\n",
       "      <td>-0.111336</td>\n",
       "      <td>-0.038273</td>\n",
       "    </tr>\n",
       "  </tbody>\n",
       "</table>\n",
       "</div>"
      ],
      "text/plain": [
       "                   0          1\n",
       "Intercept -32.464101  46.600542\n",
       "Area       -0.070216   0.022339\n",
       "Elevation   0.208710   0.430219\n",
       "Nearest    -2.166486   2.184774\n",
       "Scruz      -0.685093   0.204044\n",
       "Adjacent   -0.111336  -0.038273"
      ]
     },
     "execution_count": 92,
     "metadata": {},
     "output_type": "execute_result"
    }
   ],
   "source": [
    "# Show all confidence interval of all coefficients\n",
    "lmod.conf_int()"
   ]
  },
  {
   "cell_type": "markdown",
   "id": "42b146fd-bb32-46a4-80fd-603ff282ddb9",
   "metadata": {},
   "source": [
    "## Bootstrap Confidence Intervals\n",
    "- This method allows us to construct confidence statements without assuming that the data follows a normal distribution.\n",
    "- In the bootstrap method, instead of using the true model or population, we repeatedly sample from the observed data. This sampling process is similar to running simulations. By doing this, we can create multiple datasets that are similar to the original data.\n",
    "- The method can be quite effective even when theoretical calculations are difficult or impossible. It allows us to bypass the need for complex mathematical calculations:\n",
    "    - Generate $\\bf{ε}^*$ by sampling with replacement from $\\hat{ε}_1,\\cdots,\\hat{ε}_n$. This step involves creating a new set of values called $\\bf{ε}^*$ by randomly selecting values from a set of values $\\hat{ε}_1,\\cdots,\\hat{ε}_n$. The selection is done with replacement, which means that the same value can be chosen multiple times.\n",
    "    - Form $\\bf{y}^* = \\bf{X\\hat{\\beta}} + \\bf{ε}^*$\n",
    "    - Compute $\\bf{\\hat{\\beta}}$ from $(\\bf{X,~y^*})$\n",
    "- The number of bootstrap samples taken can be as small as 50 if we only need an estimate of the variability of our statistic. However, if we want to calculate confidence intervals, we need to take a larger number of bootstrap samples.\n",
    "- Bootstrap methods can be used for hypothesis testing, but permutation tests are generally considered better for this purpose.\n",
    "- Alternative resampling methods: where instead of resampling the residuals, we can resample pairs of variables (X and Y). However, this approach may be less attractive, especially when X is considered fixed, as in designed experiments."
   ]
  },
  {
   "cell_type": "code",
   "execution_count": 93,
   "id": "bad43a4c-7bf0-42a3-826b-fc035962b3b2",
   "metadata": {},
   "outputs": [
    {
     "data": {
      "text/plain": [
       "array([3, 1, 2, 6, 8, 2, 8, 6, 7, 1])"
      ]
     },
     "execution_count": 93,
     "metadata": {},
     "output_type": "execute_result"
    }
   ],
   "source": [
    "# Learn the function choice\n",
    "np.random.choice(np.arange(10),10)"
   ]
  },
  {
   "cell_type": "code",
   "execution_count": 94,
   "id": "91a8860c-0dbc-4dde-8008-d49c1ac3dfaf",
   "metadata": {},
   "outputs": [
    {
     "data": {
      "text/html": [
       "<div>\n",
       "<style scoped>\n",
       "    .dataframe tbody tr th:only-of-type {\n",
       "        vertical-align: middle;\n",
       "    }\n",
       "\n",
       "    .dataframe tbody tr th {\n",
       "        vertical-align: top;\n",
       "    }\n",
       "\n",
       "    .dataframe thead th {\n",
       "        text-align: right;\n",
       "    }\n",
       "</style>\n",
       "<table border=\"1\" class=\"dataframe\">\n",
       "  <thead>\n",
       "    <tr style=\"text-align: right;\">\n",
       "      <th></th>\n",
       "      <th>intercept</th>\n",
       "      <th>area</th>\n",
       "      <th>elevation</th>\n",
       "      <th>nearest</th>\n",
       "      <th>Scruz</th>\n",
       "      <th>adjacent</th>\n",
       "    </tr>\n",
       "  </thead>\n",
       "  <tbody>\n",
       "    <tr>\n",
       "      <th>0.025</th>\n",
       "      <td>-25.038904</td>\n",
       "      <td>-0.060947</td>\n",
       "      <td>0.229760</td>\n",
       "      <td>-1.695215</td>\n",
       "      <td>-0.60020</td>\n",
       "      <td>-0.104559</td>\n",
       "    </tr>\n",
       "    <tr>\n",
       "      <th>0.975</th>\n",
       "      <td>41.086507</td>\n",
       "      <td>0.019573</td>\n",
       "      <td>0.416171</td>\n",
       "      <td>2.073810</td>\n",
       "      <td>0.17929</td>\n",
       "      <td>-0.041675</td>\n",
       "    </tr>\n",
       "  </tbody>\n",
       "</table>\n",
       "</div>"
      ],
      "text/plain": [
       "       intercept      area  elevation   nearest    Scruz  adjacent\n",
       "0.025 -25.038904 -0.060947   0.229760 -1.695215 -0.60020 -0.104559\n",
       "0.975  41.086507  0.019573   0.416171  2.073810  0.17929 -0.041675"
      ]
     },
     "execution_count": 94,
     "metadata": {},
     "output_type": "execute_result"
    }
   ],
   "source": [
    "# Calculate bootstrap confidence interval\n",
    "np.random.seed(123)\n",
    "breps = 4000\n",
    "coefmat = np.empty((breps, 6))\n",
    "resids = lmod.resid\n",
    "preds = lmod.predict()\n",
    "for i in range(0, breps):\n",
    "    galapagos['ysamp'] = preds + np.random.choice(resids,30)\n",
    "    lmodi = smf.ols('ysamp ~ Area + Elevation + \\\n",
    "        Nearest + Scruz  + Adjacent', galapagos).fit()\n",
    "    coefmat[i,:] = lmodi.params\n",
    "coefmat = pd.DataFrame(coefmat, columns=(\"intercept\", \n",
    "        \"area\", \"elevation\", \"nearest\", \"Scruz\", \"adjacent\"))\n",
    "coefmat.quantile((0.025,0.975))"
   ]
  },
  {
   "cell_type": "code",
   "execution_count": 95,
   "id": "c3bbc5ca-7df2-4960-a273-1e542cfc08d1",
   "metadata": {},
   "outputs": [
    {
     "data": {
      "text/plain": [
       "-0.060947212588650886"
      ]
     },
     "execution_count": 95,
     "metadata": {},
     "output_type": "execute_result"
    }
   ],
   "source": [
    "coefmat.area.quantile((0.025,0.975))[0.025]"
   ]
  },
  {
   "cell_type": "code",
   "execution_count": 96,
   "id": "60067a67-87db-44ba-a546-39f1562a1a8c",
   "metadata": {},
   "outputs": [
    {
     "data": {
      "image/png": "[encoded data removed]",
      "text/plain": [
       "<Figure size 640x480 with 1 Axes>"
      ]
     },
     "metadata": {},
     "output_type": "display_data"
    }
   ],
   "source": [
    "# Plot the bootstrap confidence interval of Area\n",
    "coefmat.area.plot.density()\n",
    "xci = coefmat.area.quantile((0.025,0.975))\n",
    "plt.axvline(x=xci[0.025], linestyle='--')\n",
    "plt.axvline(x=xci[0.975], linestyle='--');"
   ]
  },
  {
   "cell_type": "markdown",
   "id": "6cc752ea-22bb-47c2-96e6-b98f683b18fb",
   "metadata": {},
   "source": [
    "# 6 Diagnosis\n",
    "## 6.1 Constant variance"
   ]
  },
  {
   "cell_type": "code",
   "execution_count": 97,
   "id": "30a97b21-b083-4243-ae5c-c3fa70523e6b",
   "metadata": {},
   "outputs": [
    {
     "data": {
      "image/png": "[encoded data removed]",
      "text/plain": [
       "<Figure size 640x480 with 1 Axes>"
      ]
     },
     "metadata": {},
     "output_type": "display_data"
    }
   ],
   "source": [
    "plt.scatter(lmod.fittedvalues, lmod.resid)\n",
    "plt.ylabel(\"Residuals\"); plt.xlabel(\"Fitted values\"); plt.axhline(0);"
   ]
  },
  {
   "cell_type": "markdown",
   "id": "fda3a2cc-621f-4dab-92b9-035b192b08e0",
   "metadata": {},
   "source": [
    "- We notice that the variance isn’t constant and there’s an evidence of nonlinearity. For count data, using a square root transformation can help. The Poisson distribution, which is good for counts, has equal mean and variance, supporting the use of the square root transformation."
   ]
  },
  {
   "cell_type": "code",
   "execution_count": 98,
   "id": "41081e61-4a10-4f37-91b4-ec49d10def01",
   "metadata": {},
   "outputs": [
    {
     "data": {
      "image/png": "[encoded data removed]",
      "text/plain": [
       "<Figure size 640x480 with 1 Axes>"
      ]
     },
     "metadata": {},
     "output_type": "display_data"
    }
   ],
   "source": [
    "gmod = smf.ols('np.sqrt(Species) ~ Area+Elevation+Nearest+Scruz+Adjacent', galapagos).fit()\n",
    "plt.scatter(gmod.fittedvalues, gmod.resid)\n",
    "plt.ylabel(\"Residuals\"); plt.xlabel(\"Fitted values\"); plt.axhline(0);"
   ]
  },
  {
   "cell_type": "markdown",
   "id": "90c6f344-4ad1-4013-befb-ef68c295202a",
   "metadata": {},
   "source": [
    "- We see that the variance is now constant and the signs of nonlinearity have gone."
   ]
  },
  {
   "cell_type": "markdown",
   "id": "e7ac69ec-1ca0-4fd2-98d4-8c5efddfdcd1",
   "metadata": {},
   "source": [
    "# 7. Robust regression\n",
    "- Least squares regression works best with normally distributed errors. For other distributions, different methods might be needed. Short-tailed errors aren’t a big issue, but long-tailed errors can be problematic due to the impact of extreme cases.\n",
    "- We need to understand the cause of extreme values. If they are errors, we should remove them. If they are real observations, they are part of the process. Robust regression estimates the average relationship between predictors and response, $\\mathbb{E}\\left({y}\\right)={X\\beta}$, without considering the source of outliers. As an analyst, you need to consider this.\n",
    "- We developed methods to detect and remove outliers before applying least squares regression. However, this doesn’t work well with multiple outliers, as they can distort the model and hide each other. Additionally, outlier rejection methods aren’t efficient for estimating β. Thus, robust regression is better for handling multiple outliers.\n",
    "- M-Estimation: choose β to minimize $\\sum_{i=1}^{n}\\rho\\left(y_i-{x}_i^\\prime{\\beta}\\right)$\n",
    "    - $\\rho\\left(x\\right)=x^2$ is simple least squares.\n",
    "    - $\\rho\\left(x\\right)=\\left|x\\right|$ is called least absolute deviation (LAD) regression or L1 regression.\n",
    "    - $\\rho\\left(x\\right)=\\left\\{\\begin{matrix}\\frac{x^2}{2}&if\\ \\left|x\\right|\\le c\\\\c\\left|x\\right|-c^2/2&otherwise\\\\\\end{matrix}\\right.$ is called Huber’s method and a compromise between least squares and LAD regression. c should be a robust estimate of σ. A value proportional to the median of $\\left|\\hat{\\varepsilon}\\right|$ is suitable.\n",
    "- M-Estimation is related to weighted least squares. We have normal equation: ${X}’(y-Xβ)=0$\n",
    "    - With weights, this becomes $\\sum_{i=1}^{n}{w_ix_{ij}\\left(y_i-\\sum_{j=1}^{p}{x_{ij}\\beta_j}\\right)=0}$\n",
    "    - M-estimate criterion $\\sum_{i=1}^{n}{\\rho^\\prime\\left(y_i-\\sum_{j=1}^{p}{x_{ij}\\beta_j}\\right)x_{ij}=0}$\n",
    "    - Let $u_i=y_i-\\sum_{j=1}^{p}{x_{ij}\\beta_j}$, then the criterion becomes $\\sum_{i=1}^{n}{\\frac{\\rho^\\prime(u_i)}{u_i}x_{ij}\\left(y_i-\\sum_{j=1}^{p}{x_{ij}\\beta_j}\\right)=0}$.\n",
    "    - Then we can see $w\\left(u\\right)=\\frac{\\rho^\\prime(u)}{u}$\n",
    "    - For three choices of ρ:\n",
    "        - LS: w(u) is constant, and the estimator is simply ordinary least squares.\n",
    "        - LAD: w(u) = 1/|u|. The weight decreases as u deviates from zero, meaning that more extreme observations are given less importance. However, there's a limit to this, as the weight can't go below zero. This makes it impossible to fit a Least Absolute Deviations (LAD) regression using a weighting approach without making some adjustments.\n",
    "        - Huber: $w\\left(u\\right)=\\left\\{\\begin{matrix}1&if\\ \\left|u\\right|\\le c\\\\\\frac{c}{\\left|u\\right|}&otherwise\\\\\\end{matrix}\\right.$. This approach logically balances the reduction of importance for extreme cases with equal importance for average cases.\n",
    "- There are various methods to select the function ρ. Calculating an M estimate requires iterative steps, as the weights are dependent on the residuals. This process involves alternating between fitting a Weighted Least Squares (WLS) model and recalculating the weights based on the residuals, continuing until the results converge. We can get standard errors through WLS by using variance $\\widehat{var}{\\hat{\\beta}={\\hat{\\sigma}}^2\\left(X^\\prime W X\\right)^{-1}}$, but we need to use a robust estimate $σ^2$."
   ]
  },
  {
   "cell_type": "code",
   "execution_count": 99,
   "id": "c680882e-4a15-4813-9756-5297cd1d0779",
   "metadata": {},
   "outputs": [
    {
     "name": "stdout",
     "output_type": "stream",
     "text": [
      "           coefs stderr tvalues pvalues\n",
      "Intercept  7.068 19.154    0.37  0.7154\n",
      "Area      -0.024  0.022   -1.07  0.2963\n",
      "Elevation  0.319  0.054    5.95  0.0000\n",
      "Nearest    0.009  1.054    0.01  0.9932\n",
      "Scruz     -0.241  0.215   -1.12  0.2752\n",
      "Adjacent  -0.075  0.018   -4.23  0.0003\n",
      "\n",
      "n=30 p=6 Residual SD=60.975 R-squared=0.77\n"
     ]
    }
   ],
   "source": [
    "# Summary of OLS\n",
    "lmod.sumary()"
   ]
  },
  {
   "cell_type": "markdown",
   "id": "19a4274c-2f0d-4790-bdf9-b238f0e01c1b",
   "metadata": {},
   "source": [
    "- Least squares performs well with normal errors but struggles with long-tailed errors. Use the default robust regression in the RLM() function from statsmodels, which employs Huber’s T:"
   ]
  },
  {
   "cell_type": "code",
   "execution_count": 100,
   "id": "7d632282-e4c0-4e10-a440-cd9d22ad58bc",
   "metadata": {},
   "outputs": [
    {
     "data": {
      "text/html": [
       "<table class=\"simpletable\">\n",
       "<caption>Robust linear Model Regression Results</caption>\n",
       "<tr>\n",
       "  <th>Dep. Variable:</th>          <td>y</td>        <th>  No. Observations:  </th> <td>    30</td>\n",
       "</tr>\n",
       "<tr>\n",
       "  <th>Model:</th>                 <td>RLM</td>       <th>  Df Residuals:      </th> <td>    24</td>\n",
       "</tr>\n",
       "<tr>\n",
       "  <th>Method:</th>               <td>IRLS</td>       <th>  Df Model:          </th> <td>     5</td>\n",
       "</tr>\n",
       "<tr>\n",
       "  <th>Norm:</th>                <td>HuberT</td>      <th>                     </th>    <td> </td>  \n",
       "</tr>\n",
       "<tr>\n",
       "  <th>Scale Est.:</th>            <td>mad</td>       <th>                     </th>    <td> </td>  \n",
       "</tr>\n",
       "<tr>\n",
       "  <th>Cov Type:</th>              <td>H1</td>        <th>                     </th>    <td> </td>  \n",
       "</tr>\n",
       "<tr>\n",
       "  <th>Date:</th>           <td>Mon, 09 Dec 2024</td> <th>                     </th>    <td> </td>  \n",
       "</tr>\n",
       "<tr>\n",
       "  <th>Time:</th>               <td>21:04:07</td>     <th>                     </th>    <td> </td>  \n",
       "</tr>\n",
       "<tr>\n",
       "  <th>No. Iterations:</th>        <td>20</td>        <th>                     </th>    <td> </td>  \n",
       "</tr>\n",
       "</table>\n",
       "<table class=\"simpletable\">\n",
       "<tr>\n",
       "    <td></td>       <th>coef</th>     <th>std err</th>      <th>z</th>      <th>P>|z|</th>  <th>[0.025</th>    <th>0.975]</th>  \n",
       "</tr>\n",
       "<tr>\n",
       "  <th>const</th> <td>    6.3626</td> <td>   12.366</td> <td>    0.515</td> <td> 0.607</td> <td>  -17.875</td> <td>   30.600</td>\n",
       "</tr>\n",
       "<tr>\n",
       "  <th>x1</th>    <td>   -0.0061</td> <td>    0.014</td> <td>   -0.422</td> <td> 0.673</td> <td>   -0.034</td> <td>    0.022</td>\n",
       "</tr>\n",
       "<tr>\n",
       "  <th>x2</th>    <td>    0.2476</td> <td>    0.035</td> <td>    7.146</td> <td> 0.000</td> <td>    0.180</td> <td>    0.315</td>\n",
       "</tr>\n",
       "<tr>\n",
       "  <th>x3</th>    <td>    0.3590</td> <td>    0.681</td> <td>    0.528</td> <td> 0.598</td> <td>   -0.975</td> <td>    1.693</td>\n",
       "</tr>\n",
       "<tr>\n",
       "  <th>x4</th>    <td>   -0.1952</td> <td>    0.139</td> <td>   -1.404</td> <td> 0.160</td> <td>   -0.468</td> <td>    0.077</td>\n",
       "</tr>\n",
       "<tr>\n",
       "  <th>x5</th>    <td>   -0.0546</td> <td>    0.011</td> <td>   -4.774</td> <td> 0.000</td> <td>   -0.077</td> <td>   -0.032</td>\n",
       "</tr>\n",
       "</table><br/><br/>If the model instance has been used for another fit with different fit parameters, then the fit options might not be the correct ones anymore ."
      ],
      "text/latex": [
       "\\begin{center}\n",
       "\\begin{tabular}{lclc}\n",
       "\\toprule\n",
       "\\textbf{Dep. Variable:}  &        y         & \\textbf{  No. Observations:  } &       30    \\\\\n",
       "\\textbf{Model:}          &       RLM        & \\textbf{  Df Residuals:      } &       24    \\\\\n",
       "\\textbf{Method:}         &       IRLS       & \\textbf{  Df Model:          } &        5    \\\\\n",
       "\\textbf{Norm:}           &      HuberT      & \\textbf{                     } &             \\\\\n",
       "\\textbf{Scale Est.:}     &       mad        & \\textbf{                     } &             \\\\\n",
       "\\textbf{Cov Type:}       &        H1        & \\textbf{                     } &             \\\\\n",
       "\\textbf{Date:}           & Mon, 09 Dec 2024 & \\textbf{                     } &             \\\\\n",
       "\\textbf{Time:}           &     21:04:07     & \\textbf{                     } &             \\\\\n",
       "\\textbf{No. Iterations:} &        20        & \\textbf{                     } &             \\\\\n",
       "\\bottomrule\n",
       "\\end{tabular}\n",
       "\\begin{tabular}{lcccccc}\n",
       "               & \\textbf{coef} & \\textbf{std err} & \\textbf{z} & \\textbf{P$> |$z$|$} & \\textbf{[0.025} & \\textbf{0.975]}  \\\\\n",
       "\\midrule\n",
       "\\textbf{const} &       6.3626  &       12.366     &     0.515  &         0.607        &      -17.875    &       30.600     \\\\\n",
       "\\textbf{x1}    &      -0.0061  &        0.014     &    -0.422  &         0.673        &       -0.034    &        0.022     \\\\\n",
       "\\textbf{x2}    &       0.2476  &        0.035     &     7.146  &         0.000        &        0.180    &        0.315     \\\\\n",
       "\\textbf{x3}    &       0.3590  &        0.681     &     0.528  &         0.598        &       -0.975    &        1.693     \\\\\n",
       "\\textbf{x4}    &      -0.1952  &        0.139     &    -1.404  &         0.160        &       -0.468    &        0.077     \\\\\n",
       "\\textbf{x5}    &      -0.0546  &        0.011     &    -4.774  &         0.000        &       -0.077    &       -0.032     \\\\\n",
       "\\bottomrule\n",
       "\\end{tabular}\n",
       "%\\caption{Robust linear Model Regression Results}\n",
       "\\end{center}\n",
       "\n",
       "If the model instance has been used for another fit with different fit parameters, then the fit options might not be the correct ones anymore ."
      ],
      "text/plain": [
       "<class 'statsmodels.iolib.summary.Summary'>\n",
       "\"\"\"\n",
       "                    Robust linear Model Regression Results                    \n",
       "==============================================================================\n",
       "Dep. Variable:                      y   No. Observations:                   30\n",
       "Model:                            RLM   Df Residuals:                       24\n",
       "Method:                          IRLS   Df Model:                            5\n",
       "Norm:                          HuberT                                         \n",
       "Scale Est.:                       mad                                         \n",
       "Cov Type:                          H1                                         \n",
       "Date:                Mon, 09 Dec 2024                                         \n",
       "Time:                        21:04:07                                         \n",
       "No. Iterations:                    20                                         \n",
       "==============================================================================\n",
       "                 coef    std err          z      P>|z|      [0.025      0.975]\n",
       "------------------------------------------------------------------------------\n",
       "const          6.3626     12.366      0.515      0.607     -17.875      30.600\n",
       "x1            -0.0061      0.014     -0.422      0.673      -0.034       0.022\n",
       "x2             0.2476      0.035      7.146      0.000       0.180       0.315\n",
       "x3             0.3590      0.681      0.528      0.598      -0.975       1.693\n",
       "x4            -0.1952      0.139     -1.404      0.160      -0.468       0.077\n",
       "x5            -0.0546      0.011     -4.774      0.000      -0.077      -0.032\n",
       "==============================================================================\n",
       "\n",
       "If the model instance has been used for another fit with different fit parameters, then the fit options might not be the correct ones anymore .\n",
       "\"\"\""
      ]
     },
     "execution_count": 100,
     "metadata": {},
     "output_type": "execute_result"
    }
   ],
   "source": [
    "X = lmod.model.wexog \n",
    "y = lmod.model.wendog \n",
    "rlmod = sm.RLM(y,X).fit() \n",
    "rlmod.summary()"
   ]
  },
  {
   "cell_type": "markdown",
   "id": "085e0695-a128-4bf2-a37f-9d35311812c6",
   "metadata": {},
   "source": [
    "- The R$^2$ statistic is not given because it does not make sense in the context of a robust regression.\n",
    "- We see that the same two predictors, Elevation and Adjacent, are significant.\n",
    "- The coefficients’ numerical values have shifted slightly, and the standard errors are generally reduced.\n",
    "- It’s useful to examine the weights from the final fit. We extract and display those less than one, while the rest are all ones."
   ]
  },
  {
   "cell_type": "code",
   "execution_count": 101,
   "id": "79e4855d-086d-4192-a519-0fccd53ce921",
   "metadata": {},
   "outputs": [
    {
     "data": {
      "text/html": [
       "<div>\n",
       "<style scoped>\n",
       "    .dataframe tbody tr th:only-of-type {\n",
       "        vertical-align: middle;\n",
       "    }\n",
       "\n",
       "    .dataframe tbody tr th {\n",
       "        vertical-align: top;\n",
       "    }\n",
       "\n",
       "    .dataframe thead th {\n",
       "        text-align: right;\n",
       "    }\n",
       "</style>\n",
       "<table border=\"1\" class=\"dataframe\">\n",
       "  <thead>\n",
       "    <tr style=\"text-align: right;\">\n",
       "      <th></th>\n",
       "      <th>index</th>\n",
       "      <th>wts</th>\n",
       "    </tr>\n",
       "  </thead>\n",
       "  <tbody>\n",
       "    <tr>\n",
       "      <th>0</th>\n",
       "      <td>Espanola</td>\n",
       "      <td>0.679642</td>\n",
       "    </tr>\n",
       "    <tr>\n",
       "      <th>1</th>\n",
       "      <td>Gardner1</td>\n",
       "      <td>0.661450</td>\n",
       "    </tr>\n",
       "    <tr>\n",
       "      <th>2</th>\n",
       "      <td>Gardner2</td>\n",
       "      <td>0.850097</td>\n",
       "    </tr>\n",
       "    <tr>\n",
       "      <th>3</th>\n",
       "      <td>Pinta</td>\n",
       "      <td>0.537700</td>\n",
       "    </tr>\n",
       "    <tr>\n",
       "      <th>4</th>\n",
       "      <td>SanCristobal</td>\n",
       "      <td>0.414224</td>\n",
       "    </tr>\n",
       "    <tr>\n",
       "      <th>5</th>\n",
       "      <td>SantaCruz</td>\n",
       "      <td>0.174601</td>\n",
       "    </tr>\n",
       "    <tr>\n",
       "      <th>6</th>\n",
       "      <td>SantaMaria</td>\n",
       "      <td>0.307863</td>\n",
       "    </tr>\n",
       "  </tbody>\n",
       "</table>\n",
       "</div>"
      ],
      "text/plain": [
       "          index       wts\n",
       "0      Espanola  0.679642\n",
       "1      Gardner1  0.661450\n",
       "2      Gardner2  0.850097\n",
       "3         Pinta  0.537700\n",
       "4  SanCristobal  0.414224\n",
       "5     SantaCruz  0.174601\n",
       "6    SantaMaria  0.307863"
      ]
     },
     "execution_count": 101,
     "metadata": {},
     "output_type": "execute_result"
    }
   ],
   "source": [
    "wts = rlmod.weights\n",
    "pd.DataFrame({\n",
    "    'index': galapagos.index[np.where(wts < 1)],\n",
    "    'wts': wts[wts < 1]\n",
    "})"
   ]
  },
  {
   "cell_type": "markdown",
   "id": "787e92e6-0552-494e-a690-ad3549735005",
   "metadata": {},
   "source": [
    "- We notice that a few islands are significantly down-weighted in the robust fit calculation.\n",
    "- Assuming there are no data errors for these cases, we should carefully consider what might be unusual about these islands.\n",
    "- The main goal of analyzing these data is to explain the relationship between predictors and the response. While the robust fit yields different numerical results, the significant predictors remain the same, confirming the findings.\n",
    "- Additionally, it highlights a few islands that the model doesn’t fit well. If there were more discrepancies between the two regression outputs, we would know which islands to examine more closely. In cases of substantial differences, the robust fit is more reliable.\n",
    "- Robust regression isn't a cure-all solution. M-estimation doesn't tackle the issue of large leverage points or help in choosing predictors and transforming variables.\n",
    "- For this data, we have seen that a transformation of the response may be helpful which would completely change the robust fit. Thus, robust methods are just one part of the regression toolkit, not a replacement.\n",
    "- We can perform LAD regression using the QuantReg() function. By default, it executes LAD, but it also supports other quantile regression options."
   ]
  },
  {
   "cell_type": "code",
   "execution_count": 102,
   "id": "355ccff9-39e0-4510-b030-680e4d3cc593",
   "metadata": {},
   "outputs": [
    {
     "data": {
      "text/html": [
       "<table class=\"simpletable\">\n",
       "<caption>QuantReg Regression Results</caption>\n",
       "<tr>\n",
       "  <th>Dep. Variable:</th>         <td>y</td>        <th>  Pseudo R-squared:  </th> <td>  0.5064</td>\n",
       "</tr>\n",
       "<tr>\n",
       "  <th>Model:</th>             <td>QuantReg</td>     <th>  Bandwidth:         </th> <td>   56.17</td>\n",
       "</tr>\n",
       "<tr>\n",
       "  <th>Method:</th>          <td>Least Squares</td>  <th>  Sparsity:          </th> <td>   106.7</td>\n",
       "</tr>\n",
       "<tr>\n",
       "  <th>Date:</th>          <td>Mon, 09 Dec 2024</td> <th>  No. Observations:  </th>  <td>    30</td> \n",
       "</tr>\n",
       "<tr>\n",
       "  <th>Time:</th>              <td>21:04:07</td>     <th>  Df Residuals:      </th>  <td>    24</td> \n",
       "</tr>\n",
       "<tr>\n",
       "  <th> </th>                      <td> </td>        <th>  Df Model:          </th>  <td>     5</td> \n",
       "</tr>\n",
       "</table>\n",
       "<table class=\"simpletable\">\n",
       "<tr>\n",
       "    <td></td>       <th>coef</th>     <th>std err</th>      <th>t</th>      <th>P>|t|</th>  <th>[0.025</th>    <th>0.975]</th>  \n",
       "</tr>\n",
       "<tr>\n",
       "  <th>const</th> <td>    1.3145</td> <td>   16.754</td> <td>    0.078</td> <td> 0.938</td> <td>  -33.263</td> <td>   35.892</td>\n",
       "</tr>\n",
       "<tr>\n",
       "  <th>x1</th>    <td>   -0.0031</td> <td>    0.020</td> <td>   -0.156</td> <td> 0.877</td> <td>   -0.044</td> <td>    0.037</td>\n",
       "</tr>\n",
       "<tr>\n",
       "  <th>x2</th>    <td>    0.2321</td> <td>    0.047</td> <td>    4.945</td> <td> 0.000</td> <td>    0.135</td> <td>    0.329</td>\n",
       "</tr>\n",
       "<tr>\n",
       "  <th>x3</th>    <td>    0.1637</td> <td>    0.922</td> <td>    0.177</td> <td> 0.861</td> <td>   -1.739</td> <td>    2.067</td>\n",
       "</tr>\n",
       "<tr>\n",
       "  <th>x4</th>    <td>   -0.1231</td> <td>    0.188</td> <td>   -0.654</td> <td> 0.520</td> <td>   -0.512</td> <td>    0.266</td>\n",
       "</tr>\n",
       "<tr>\n",
       "  <th>x5</th>    <td>   -0.0519</td> <td>    0.015</td> <td>   -3.349</td> <td> 0.003</td> <td>   -0.084</td> <td>   -0.020</td>\n",
       "</tr>\n",
       "</table><br/><br/>The condition number is large, 1.9e+03. This might indicate that there are<br/>strong multicollinearity or other numerical problems."
      ],
      "text/latex": [
       "\\begin{center}\n",
       "\\begin{tabular}{lclc}\n",
       "\\toprule\n",
       "\\textbf{Dep. Variable:} &        y         & \\textbf{  Pseudo R-squared:  } &    0.5064   \\\\\n",
       "\\textbf{Model:}         &     QuantReg     & \\textbf{  Bandwidth:         } &     56.17   \\\\\n",
       "\\textbf{Method:}        &  Least Squares   & \\textbf{  Sparsity:          } &     106.7   \\\\\n",
       "\\textbf{Date:}          & Mon, 09 Dec 2024 & \\textbf{  No. Observations:  } &       30    \\\\\n",
       "\\textbf{Time:}          &     21:04:07     & \\textbf{  Df Residuals:      } &       24    \\\\\n",
       "\\textbf{ }              &                  & \\textbf{  Df Model:          } &        5    \\\\\n",
       "\\bottomrule\n",
       "\\end{tabular}\n",
       "\\begin{tabular}{lcccccc}\n",
       "               & \\textbf{coef} & \\textbf{std err} & \\textbf{t} & \\textbf{P$> |$t$|$} & \\textbf{[0.025} & \\textbf{0.975]}  \\\\\n",
       "\\midrule\n",
       "\\textbf{const} &       1.3145  &       16.754     &     0.078  &         0.938        &      -33.263    &       35.892     \\\\\n",
       "\\textbf{x1}    &      -0.0031  &        0.020     &    -0.156  &         0.877        &       -0.044    &        0.037     \\\\\n",
       "\\textbf{x2}    &       0.2321  &        0.047     &     4.945  &         0.000        &        0.135    &        0.329     \\\\\n",
       "\\textbf{x3}    &       0.1637  &        0.922     &     0.177  &         0.861        &       -1.739    &        2.067     \\\\\n",
       "\\textbf{x4}    &      -0.1231  &        0.188     &    -0.654  &         0.520        &       -0.512    &        0.266     \\\\\n",
       "\\textbf{x5}    &      -0.0519  &        0.015     &    -3.349  &         0.003        &       -0.084    &       -0.020     \\\\\n",
       "\\bottomrule\n",
       "\\end{tabular}\n",
       "%\\caption{QuantReg Regression Results}\n",
       "\\end{center}\n",
       "\n",
       "The condition number is large, 1.9e+03. This might indicate that there are \\newline\n",
       " strong multicollinearity or other numerical problems."
      ],
      "text/plain": [
       "<class 'statsmodels.iolib.summary.Summary'>\n",
       "\"\"\"\n",
       "                         QuantReg Regression Results                          \n",
       "==============================================================================\n",
       "Dep. Variable:                      y   Pseudo R-squared:               0.5064\n",
       "Model:                       QuantReg   Bandwidth:                       56.17\n",
       "Method:                 Least Squares   Sparsity:                        106.7\n",
       "Date:                Mon, 09 Dec 2024   No. Observations:                   30\n",
       "Time:                        21:04:07   Df Residuals:                       24\n",
       "                                        Df Model:                            5\n",
       "==============================================================================\n",
       "                 coef    std err          t      P>|t|      [0.025      0.975]\n",
       "------------------------------------------------------------------------------\n",
       "const          1.3145     16.754      0.078      0.938     -33.263      35.892\n",
       "x1            -0.0031      0.020     -0.156      0.877      -0.044       0.037\n",
       "x2             0.2321      0.047      4.945      0.000       0.135       0.329\n",
       "x3             0.1637      0.922      0.177      0.861      -1.739       2.067\n",
       "x4            -0.1231      0.188     -0.654      0.520      -0.512       0.266\n",
       "x5            -0.0519      0.015     -3.349      0.003      -0.084      -0.020\n",
       "==============================================================================\n",
       "\n",
       "The condition number is large, 1.9e+03. This might indicate that there are\n",
       "strong multicollinearity or other numerical problems.\n",
       "\"\"\""
      ]
     },
     "execution_count": 102,
     "metadata": {},
     "output_type": "execute_result"
    }
   ],
   "source": [
    "llmod = sm.QuantReg(y,X).fit() \n",
    "llmod.summary() "
   ]
  },
  {
   "cell_type": "markdown",
   "id": "6c652002-8116-461e-a2a7-fa347de09b9d",
   "metadata": {},
   "source": [
    "- Once again, the coefficients have changed somewhat, but the significant predictors remain the same.\n",
    "- In this example, there isn’t a significant qualitative difference in the coefficients.\n",
    "- Without evidence to the contrary, we might prefer to stick with least squares for its simplicity.\n",
    "- If we had observed notable differences, we would need to investigate the cause, possibly identifying a group of observations that weren’t well-fitted and were excluded by the robust regression."
   ]
  },
  {
   "cell_type": "markdown",
   "id": "0f1f5791-a61e-4c37-857c-cbb0c5fd6715",
   "metadata": {},
   "source": [
    "# 8. Transformation\n",
    "- When you use a log transformation on the response, the regression coefficients have a particular interpretation:\n",
    "    - $\\log{\\hat{y}}={\\hat{\\beta}}_0+{\\hat{\\beta}}_1x_1+\\ldots+{\\hat{\\beta}}_px_p$\n",
    "    - $\\hat{y}=e^{{\\hat{\\beta}}_0}e^{{\\hat{\\beta}}_1x_1}\\ldots e^{{\\hat{\\beta}}_px_p}$\n",
    "    - If we increase $x_1$ by one, the predicted response (in the original scale) is multiplied by ( $e^{\\hat{\\beta}_1}$ ). In a log scale, regression coefficients multiply the response. For small x, ( $\\log(1 + x) \\approx x $). For example, if ( $\\beta_1 = 0.09$ ), increasing ( $x_1$ ) by one raises ( $\\log(y)$ ) by 0.09, or y by 9%. This works well for x up to about ($\\pm 0.25$).\n",
    "- The Box-Cox method transforms positive responses y to $g_λ(y)$, with transformations based on λ:\n",
    "    - $g\\lambda\\left(y\\right)=\\left\\{\\begin{matrix}\\frac{y^\\lambda-1}{\\lambda}&\\lambda\\neq0\\\\\\log{y}&\\lambda=0\\\\\\end{matrix}\\right.$\n",
    "    - For a fixed $y > 0$, $g_\\lambda(y)$ changes smoothly with $\\lambda$. We can choose the optimal $\\lambda$ using maximum likelihood, which assumes model errors follow a normal distribution. The profile log-likelihood measures how well the model fits the data under this assumption:\n",
    "        - $L\\left(\\lambda\\right)=\\ -\\frac{n}{2}\\log{\\left(\\frac{RSS_\\lambda}{n}\\right)}+\\left(\\lambda-1\\right)\\sum\\log{y_i}$\n",
    "            - RSS$_λ$ is the residual sum of squares when $g_λ(y)$ is the response.\n",
    "            - We find the best value $\\hat{\\lambda}$ using a numerical method to maximize the profile log-likelihood.\n",
    "        - If using the regression model for prediction, we can take $y^\\lambda$ as the response. The expression $\\frac{y^\\lambda - 1}{\\lambda}$ is not required, as it's only used to ensure $g_\\lambda$ smoothly transitions to the natural logarithm as $\\lambda \\to 0$.\n",
    "        - To make the model easier to explain, we may round $\\lambda$ to a more interpretable value. For instance, if $\\hat{\\lambda} = 0.46$, the transformed response might be difficult to explain. However, rounding $\\lambda$ to 0.5 allows us to describe the response as $\\sqrt{y}$, which is simpler to understand.\n",
    "- Transforming the response complicates the model, so it should only be done if necessary. One way to check is by constructing a confidence interval for $\\lambda$. A $100(1-\\alpha)%$ confidence interval for $\\lambda$ is:\n",
    "    - $\\left\\{\\lambda:L\\left(\\lambda\\right)>L\\left(\\hat{\\lambda}\\right)-1/2\\chi_{1,1-\\alpha}^2\\right\\}$\n",
    "    - The interval is derived by inverting the likelihood ratio test for the hypothesis $H_0: \\lambda = \\lambda_0$. The test uses the statistic $2\\left(L\\left(\\hat{\\lambda}\\right) - L\\left(\\lambda_0\\right)\\right)$, which follows an approximate $\\chi_1^2$ distribution under the null. The confidence interval also indicates how much rounding $\\lambda$ for interpretability is reasonable."
   ]
  },
  {
   "cell_type": "code",
   "execution_count": 108,
   "id": "541fa6cc-2c79-4d18-996e-8226eed57470",
   "metadata": {},
   "outputs": [],
   "source": [
    "# Creating the Design Matrix\n",
    "# Uses the patsy to create X with the specified independent variables\n",
    "from patsy import dmatrix\n",
    "X = dmatrix('Area + Elevation + Nearest + Scruz + Adjacent', data=galapagos)"
   ]
  },
  {
   "cell_type": "code",
   "execution_count": 104,
   "id": "31923ee8-f0a2-4442-9c75-f231d77afaf2",
   "metadata": {},
   "outputs": [],
   "source": [
    "# Setting Up Variables for Box-Cox Transformation\n",
    "n = galapagos.shape[0] # number of observations\n",
    "sumlogy = np.sum(np.log(galapagos.Species)) # sum of log of y\n",
    "lam = np.linspace(-0.0, 0.65, 100) # array of 100 lambda values ranging from -0.0 to 0.65\n",
    "llk = np.empty(100) # empty array to store log-likelihood values"
   ]
  },
  {
   "cell_type": "code",
   "execution_count": 105,
   "id": "0ff2d403-e665-424f-a631-b1521fc3b813",
   "metadata": {},
   "outputs": [],
   "source": [
    "# Applies the Box-Cox transformation to the Species variable.\n",
    "# Fits an OLS model with the transformed Species and calculates the log-likelihood.\n",
    "for i in range(0, 100):\n",
    "    lmod = sm.OLS(sp.stats.boxcox(galapagos.Species, lam[i]), X).fit()\n",
    "    llk[i] = -(n/2)*np.log(lmod.ssr/n) + (lam[i]-1)*sumlogy"
   ]
  },
  {
   "cell_type": "code",
   "execution_count": 106,
   "id": "7ee2706e-6067-4c52-93d4-0b34820d79bd",
   "metadata": {},
   "outputs": [
    {
     "data": {
      "image/png": "[encoded data removed]",
      "text/plain": [
       "<Figure size 640x480 with 1 Axes>"
      ]
     },
     "metadata": {},
     "output_type": "display_data"
    }
   ],
   "source": [
    "fig, ax = plt.subplots()\n",
    "ax.plot(lam, llk)\n",
    "ax.set_xlabel('$\\lambda$'); ax.set_ylabel('log likelihood')\n",
    "# Highlighting the Maximum Log-Likelihood\n",
    "maxi = llk.argmax()\n",
    "ax.vlines(lam[maxi], ymin=min(llk), ymax=max(llk), linestyle='dashed')\n",
    "# Calculates the cutoff for the 95% confidence interval\n",
    "cicut = max(llk) - sp.stats.chi2.ppf(0.95, 1) / 2\n",
    "# Identifies the range of lambda values within this confidence interval\n",
    "rlam = lam[llk > cicut]\n",
    "# Draws horizontal and vertical dashed lines to show the confidence interval on plot\n",
    "ax.hlines(cicut, xmin=rlam[0], xmax=rlam[-1], linestyle='dashed')\n",
    "ax.vlines([rlam[0], rlam[-1]], ymin=min(llk), ymax=cicut, linestyle='dashed');"
   ]
  },
  {
   "cell_type": "markdown",
   "id": "b3a9410a-fa94-431c-b518-aa8455f1f099",
   "metadata": {},
   "source": [
    "- It seems a cube root transformation might be the best option here.\n",
    "- A square root could also work, as it falls within the confidence intervals.\n",
    "- Clearly, some transformation is necessary here."
   ]
  }
 ],
 "metadata": {
  "kernelspec": {
   "display_name": "Python 3 (ipykernel)",
   "language": "python",
   "name": "python3"
  },
  "language_info": {
   "codemirror_mode": {
    "name": "ipython",
    "version": 3
   },
   "file_extension": ".py",
   "mimetype": "text/x-python",
   "name": "python",
   "nbconvert_exporter": "python",
   "pygments_lexer": "ipython3",
   "version": "3.11.9"
  }
 },
 "nbformat": 4,
 "nbformat_minor": 5
}
