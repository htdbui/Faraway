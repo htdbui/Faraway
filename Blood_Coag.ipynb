{
 "cells": [
  {
   "cell_type": "markdown",
   "id": "f7267a03-e2bf-4db2-a29f-cdfc456b7104",
   "metadata": {},
   "source": [
    "# 1. Describe the data\n",
    "- It has 24 observations.\n",
    "- There are 2 variables:\n",
    "    - coag: Coagulation time (in seconds).\n",
    "    - diet: Type of diet, with levels “A”, “B”, “C”, and “D”.\n",
    "- Twenty-four animals were randomly assigned to four diets, and blood coagulation time was measured from random blood samples. Data from Box et al. (1978):"
   ]
  },
  {
   "cell_type": "markdown",
   "id": "f60cf815-b20f-4f35-9a83-d5df307743bc",
   "metadata": {},
   "source": [
    "# 2. Load packages and data"
   ]
  },
  {
   "cell_type": "code",
   "execution_count": 2,
   "id": "621de4d0-846b-478a-8abd-deef9a462030",
   "metadata": {},
   "outputs": [],
   "source": [
    "import pandas as pd\n",
    "import numpy as np\n",
    "import matplotlib.pyplot as plt\n",
    "import statsmodels.api as sm\n",
    "import statsmodels.formula.api as smf\n",
    "import seaborn as sns\n",
    "from scipy import stats\n",
    "import faraway.utils"
   ]
  },
  {
   "cell_type": "code",
   "execution_count": 3,
   "id": "e897e299-3808-4513-9b7d-b9b0a3dd1f97",
   "metadata": {},
   "outputs": [
    {
     "data": {
      "text/html": [
       "<div>\n",
       "<style scoped>\n",
       "    .dataframe tbody tr th:only-of-type {\n",
       "        vertical-align: middle;\n",
       "    }\n",
       "\n",
       "    .dataframe tbody tr th {\n",
       "        vertical-align: top;\n",
       "    }\n",
       "\n",
       "    .dataframe thead th {\n",
       "        text-align: right;\n",
       "    }\n",
       "</style>\n",
       "<table border=\"1\" class=\"dataframe\">\n",
       "  <thead>\n",
       "    <tr style=\"text-align: right;\">\n",
       "      <th></th>\n",
       "      <th>coag</th>\n",
       "      <th>diet</th>\n",
       "    </tr>\n",
       "  </thead>\n",
       "  <tbody>\n",
       "    <tr>\n",
       "      <th>1</th>\n",
       "      <td>62</td>\n",
       "      <td>A</td>\n",
       "    </tr>\n",
       "    <tr>\n",
       "      <th>2</th>\n",
       "      <td>60</td>\n",
       "      <td>A</td>\n",
       "    </tr>\n",
       "    <tr>\n",
       "      <th>3</th>\n",
       "      <td>63</td>\n",
       "      <td>A</td>\n",
       "    </tr>\n",
       "    <tr>\n",
       "      <th>4</th>\n",
       "      <td>59</td>\n",
       "      <td>A</td>\n",
       "    </tr>\n",
       "    <tr>\n",
       "      <th>5</th>\n",
       "      <td>63</td>\n",
       "      <td>B</td>\n",
       "    </tr>\n",
       "  </tbody>\n",
       "</table>\n",
       "</div>"
      ],
      "text/plain": [
       "   coag diet\n",
       "1    62    A\n",
       "2    60    A\n",
       "3    63    A\n",
       "4    59    A\n",
       "5    63    B"
      ]
     },
     "execution_count": 3,
     "metadata": {},
     "output_type": "execute_result"
    }
   ],
   "source": [
    "import faraway.datasets.coagulation\n",
    "coagulation = faraway.datasets.coagulation.load()\n",
    "coagulation.head()"
   ]
  },
  {
   "cell_type": "markdown",
   "id": "409e1dd3-b95a-4a32-9041-fb85cc535140",
   "metadata": {},
   "source": [
    "# 3. Pre-analysis\n",
    "- Preliminary graphical analysis is essential before fitting. Side-by-side boxplots are popular for comparison, but plotting individual points is better for smaller datasets."
   ]
  },
  {
   "cell_type": "code",
   "execution_count": 4,
   "id": "b44a968c-7c77-408e-9fbf-21172b2e6053",
   "metadata": {},
   "outputs": [
    {
     "data": {
      "image/png": "[encoded data removed]",
      "text/plain": [
       "<Figure size 640x480 with 1 Axes>"
      ]
     },
     "metadata": {},
     "output_type": "display_data"
    }
   ],
   "source": [
    "sns.boxplot(x=\"diet\", y=\"coag\", data=coagulation);"
   ]
  },
  {
   "cell_type": "markdown",
   "id": "99314ad9-f254-44bf-9b22-bb7e279f8d55",
   "metadata": {},
   "source": [
    "- The boxplot shows variation across the four levels, but diet C's median and upper quartile are the same.\n",
    "- In this data, several observations are identical. Direct plotting obscures this. A swarmplot perturbs identical points for distinction.\n",
    "- The swarmplot reveals ties in diets C and D."
   ]
  },
  {
   "cell_type": "code",
   "execution_count": 5,
   "id": "6c7cf54e-20cc-495f-9e10-c8ae434927f1",
   "metadata": {},
   "outputs": [
    {
     "data": {
      "image/png": "[encoded data removed]",
      "text/plain": [
       "<Figure size 640x480 with 1 Axes>"
      ]
     },
     "metadata": {},
     "output_type": "display_data"
    }
   ],
   "source": [
    "sns.swarmplot(x=\"diet\", y=\"coag\", data=coagulation);"
   ]
  },
  {
   "cell_type": "markdown",
   "id": "8f83324e-a019-4b46-92b2-620239385d0b",
   "metadata": {},
   "source": [
    "- We check for several features in these plots: equality of variance (satisfied here), skewness indicating non-normality (none here), and outliers (none here).\n",
    "- Diagnostics for influence are unnecessary, as leverages depend on $J_i$. If $J_i = 1$ (one observation per level), the effect estimate is based on that single point, making it clearly influential."
   ]
  },
  {
   "cell_type": "markdown",
   "id": "2a68d63d-8bf5-463d-b7ed-b6ca4b464cb1",
   "metadata": {},
   "source": [
    "# 4. One-factor models\n",
    "- Linear models with only categorical predictors (factors) are traditionally called ANOVA problems. The goal is to partition the response variance among predictors and error. Scheffé (1959) used specialized formulas for different models, but this approach is complex. Instead, we can use a regression-based approach: $y = X\\beta + \\epsilon$, applying our existing inferential methods.\n",
    "- In ANOVA problems, predictors are qualitative and called factors with different levels. Regression parameters are termed effects. We focus on fixed-effects models, where parameters are fixed but unknown. Random-effects models are not covered here."
   ]
  },
  {
   "cell_type": "markdown",
   "id": "26bcb2f1-c054-4f26-a77d-71afa78f0bfa",
   "metadata": {},
   "source": [
    "## 4.1. The model\n",
    "- Suppose we have a factor $\\alpha$ with levels $i = 1, \\ldots, I$, and observations within each level labeled $j = 1, \\ldots, J_i$. The model is $y_{ij} = \\mu + \\alpha_i + \\varepsilon_{ij}$.\n",
    "- The model parameters are not uniquely identifiable. For example, adding a constant to $\\mu$ and subtracting it from each $\\alpha_i$ keeps the fit unchanged. To resolve this, we impose restrictions on the parameters. Possible approaches include:\n",
    "    - One option is to remove $\\mu$ and estimate $I$ dummy variables for $\\alpha_i$ at each level $i = 1, \\ldots, I$. This works for a single factor but is challenging with multiple factors, requiring the removal of more parameters.\n",
    "    - Another approach is to set $ \\alpha_1 = 0 $, making $ \\mu $ the expected mean response for the first level, and $ \\alpha_i $ (for $ i \\neq 1 $) the difference from the first level. The first level is the reference or baseline level. This can be done using treatment contrasts.\n",
    "    - A third approach is to set the sum of all $ \\alpha_i $ values to 0. Here, $ \\mu $ represents the mean response across all levels, and $ \\alpha_i $ represents the difference between each level and the overall mean. This approach uses sum contrasts.\n",
    "- The choice of constraint determines how the $X$-matrix is generated in the code. Once the $X$-matrix is generated, the parameters (effects) can be estimated using standard methods, along with their standard errors. Regardless of the constraint and coding choice, the fitted values and residuals will remain the same.\n",
    "- After estimating the effects, the next step is to test for differences in factor levels. The null and alternative hypotheses depend on the coding used. For treatment coding with a reference level, the null hypothesis is $\\alpha_2 = \\alpha_3 = \\ldots = \\alpha_I = 0$. Hypotheses may differ for other coding methods. It is often easier to state the hypotheses in terms of models:\n",
    "$$H_0: y_{ij} = \\mu + \\epsilon_{ij}$ vs. $H_1: y_{ij} = \\mu + \\alpha_i + \\epsilon_{ij}$$\n",
    "- To test for differences in levels, we calculate the residual sum of squares and degrees of freedom for two models, then use an F-test. The outcome is the same regardless of coding or constraint. If we do not reject the null hypothesis, we check for transformations and outliers. If we reject it, we investigate which factor levels differ."
   ]
  },
  {
   "cell_type": "code",
   "execution_count": 6,
   "id": "223ef9a3-ccd0-43c2-ae05-57a907e7a08f",
   "metadata": {},
   "outputs": [
    {
     "name": "stdout",
     "output_type": "stream",
     "text": [
      "           coefs stderr tvalues pvalues\n",
      "Intercept 61.000  1.183   51.55  0.0000\n",
      "diet[T.B]  5.000  1.528    3.27  0.0038\n",
      "diet[T.C]  7.000  1.528    4.58  0.0002\n",
      "diet[T.D] -0.000  1.449   -0.00  1.0000\n",
      "\n",
      "n=24 p=4 Residual SD=2.366 R-squared=0.67\n"
     ]
    }
   ],
   "source": [
    "# Fit the model using the default treatment coding:\n",
    "lmod = smf.ols(\"coag ~ diet\", coagulation).fit()\n",
    "lmod.sumary()"
   ]
  },
  {
   "cell_type": "markdown",
   "id": "904ec355-03c7-4b30-9a7c-c8327e24a592",
   "metadata": {},
   "source": [
    "- Diet A is the reference level and has a mean response time of 61. Diets B, C, and D are 5, 7, and 0 seconds larger, respectively, on average. Examine the design matrix to understand the coding:"
   ]
  },
  {
   "cell_type": "code",
   "execution_count": 7,
   "id": "55798ee6-0e6e-414e-aea3-b69db6111864",
   "metadata": {},
   "outputs": [
    {
     "data": {
      "text/plain": [
       "array([[1., 0., 0., 0.],\n",
       "       [1., 1., 0., 0.],\n",
       "       [1., 0., 1., 0.],\n",
       "       [1., 0., 0., 1.]])"
      ]
     },
     "execution_count": 7,
     "metadata": {},
     "output_type": "execute_result"
    }
   ],
   "source": [
    "import patsy\n",
    "p = patsy.dmatrix('~ diet', coagulation)\n",
    "p[[0, 4, 10, 16],:]"
   ]
  },
  {
   "cell_type": "markdown",
   "id": "8f36a91e-f37a-42ef-b198-d430a70e989b",
   "metadata": {},
   "source": [
    "- We printed only the first observation of each group. The three test statistics compare each group to the reference level A. While interesting, they do not determine if there is a significant difference between any levels. This test can be obtained as:"
   ]
  },
  {
   "cell_type": "code",
   "execution_count": 8,
   "id": "7ae6a102-b482-4f59-9518-6ae87a63742a",
   "metadata": {},
   "outputs": [
    {
     "data": {
      "text/html": [
       "<div>\n",
       "<style scoped>\n",
       "    .dataframe tbody tr th:only-of-type {\n",
       "        vertical-align: middle;\n",
       "    }\n",
       "\n",
       "    .dataframe tbody tr th {\n",
       "        vertical-align: top;\n",
       "    }\n",
       "\n",
       "    .dataframe thead th {\n",
       "        text-align: right;\n",
       "    }\n",
       "</style>\n",
       "<table border=\"1\" class=\"dataframe\">\n",
       "  <thead>\n",
       "    <tr style=\"text-align: right;\">\n",
       "      <th></th>\n",
       "      <th>df</th>\n",
       "      <th>sum_sq</th>\n",
       "      <th>mean_sq</th>\n",
       "      <th>F</th>\n",
       "      <th>PR(&gt;F)</th>\n",
       "    </tr>\n",
       "  </thead>\n",
       "  <tbody>\n",
       "    <tr>\n",
       "      <th>diet</th>\n",
       "      <td>3.0</td>\n",
       "      <td>228.0</td>\n",
       "      <td>76.0</td>\n",
       "      <td>13.571429</td>\n",
       "      <td>0.000047</td>\n",
       "    </tr>\n",
       "    <tr>\n",
       "      <th>Residual</th>\n",
       "      <td>20.0</td>\n",
       "      <td>112.0</td>\n",
       "      <td>5.6</td>\n",
       "      <td>NaN</td>\n",
       "      <td>NaN</td>\n",
       "    </tr>\n",
       "  </tbody>\n",
       "</table>\n",
       "</div>"
      ],
      "text/plain": [
       "            df  sum_sq  mean_sq          F    PR(>F)\n",
       "diet       3.0   228.0     76.0  13.571429  0.000047\n",
       "Residual  20.0   112.0      5.6        NaN       NaN"
      ]
     },
     "execution_count": 8,
     "metadata": {},
     "output_type": "execute_result"
    }
   ],
   "source": [
    "sm.stats.anova_lm(lmod)"
   ]
  },
  {
   "cell_type": "markdown",
   "id": "f7fae679-971b-4acf-b474-566e4d63a72a",
   "metadata": {},
   "source": [
    "- We see a difference in the levels, but this test does not specify which levels differ.\n",
    "- We can fit the model without an intercept term as in:"
   ]
  },
  {
   "cell_type": "code",
   "execution_count": 9,
   "id": "1e5e2234-a663-4ffd-9659-c868c53420bf",
   "metadata": {},
   "outputs": [
    {
     "name": "stdout",
     "output_type": "stream",
     "text": [
      "         coefs stderr tvalues pvalues\n",
      "diet[A] 61.000  1.183   51.55  0.0000\n",
      "diet[B] 66.000  0.966   68.32  0.0000\n",
      "diet[C] 68.000  0.966   70.39  0.0000\n",
      "diet[D] 61.000  0.837   72.91  0.0000\n",
      "\n",
      "n=24 p=4 Residual SD=2.366 R-squared=0.67\n"
     ]
    }
   ],
   "source": [
    "lmodi = smf.ols(\"coag ~ diet-1\", coagulation).fit()\n",
    "lmodi.sumary()"
   ]
  },
  {
   "cell_type": "markdown",
   "id": "a34b2d27-f89b-4f1d-964c-ee98474133ea",
   "metadata": {},
   "source": [
    "- We can read the level means directly. To test if the means are equal, fit the null model and use an F-test:"
   ]
  },
  {
   "cell_type": "code",
   "execution_count": 10,
   "id": "5777cbb3-8631-4101-9bab-600b86099763",
   "metadata": {},
   "outputs": [
    {
     "data": {
      "text/html": [
       "<div>\n",
       "<style scoped>\n",
       "    .dataframe tbody tr th:only-of-type {\n",
       "        vertical-align: middle;\n",
       "    }\n",
       "\n",
       "    .dataframe tbody tr th {\n",
       "        vertical-align: top;\n",
       "    }\n",
       "\n",
       "    .dataframe thead th {\n",
       "        text-align: right;\n",
       "    }\n",
       "</style>\n",
       "<table border=\"1\" class=\"dataframe\">\n",
       "  <thead>\n",
       "    <tr style=\"text-align: right;\">\n",
       "      <th></th>\n",
       "      <th>df_resid</th>\n",
       "      <th>ssr</th>\n",
       "      <th>df_diff</th>\n",
       "      <th>ss_diff</th>\n",
       "      <th>F</th>\n",
       "      <th>Pr(&gt;F)</th>\n",
       "    </tr>\n",
       "  </thead>\n",
       "  <tbody>\n",
       "    <tr>\n",
       "      <th>0</th>\n",
       "      <td>23.0</td>\n",
       "      <td>340.0</td>\n",
       "      <td>0.0</td>\n",
       "      <td>NaN</td>\n",
       "      <td>NaN</td>\n",
       "      <td>NaN</td>\n",
       "    </tr>\n",
       "    <tr>\n",
       "      <th>1</th>\n",
       "      <td>20.0</td>\n",
       "      <td>112.0</td>\n",
       "      <td>3.0</td>\n",
       "      <td>228.0</td>\n",
       "      <td>13.571429</td>\n",
       "      <td>0.000047</td>\n",
       "    </tr>\n",
       "  </tbody>\n",
       "</table>\n",
       "</div>"
      ],
      "text/plain": [
       "   df_resid    ssr  df_diff  ss_diff          F    Pr(>F)\n",
       "0      23.0  340.0      0.0      NaN        NaN       NaN\n",
       "1      20.0  112.0      3.0    228.0  13.571429  0.000047"
      ]
     },
     "execution_count": 10,
     "metadata": {},
     "output_type": "execute_result"
    }
   ],
   "source": [
    "lmodnull = smf.ols(\"coag ~ 1\", coagulation).fit()\n",
    "sm.stats.anova_lm(lmodnull, lmod)"
   ]
  },
  {
   "cell_type": "markdown",
   "id": "07067925-03a8-4564-9d8c-bfdda58dcb10",
   "metadata": {},
   "source": [
    "- We get the same F-statistic and p-value as in the first coding."
   ]
  },
  {
   "cell_type": "code",
   "execution_count": 11,
   "id": "c2ffaeae-987a-4ed3-964e-93b51a7af1ff",
   "metadata": {},
   "outputs": [
    {
     "data": {
      "text/html": [
       "<div>\n",
       "<style scoped>\n",
       "    .dataframe tbody tr th:only-of-type {\n",
       "        vertical-align: middle;\n",
       "    }\n",
       "\n",
       "    .dataframe tbody tr th {\n",
       "        vertical-align: top;\n",
       "    }\n",
       "\n",
       "    .dataframe thead th {\n",
       "        text-align: right;\n",
       "    }\n",
       "</style>\n",
       "<table border=\"1\" class=\"dataframe\">\n",
       "  <thead>\n",
       "    <tr style=\"text-align: right;\">\n",
       "      <th></th>\n",
       "      <th>df_resid</th>\n",
       "      <th>ssr</th>\n",
       "      <th>df_diff</th>\n",
       "      <th>ss_diff</th>\n",
       "      <th>F</th>\n",
       "      <th>Pr(&gt;F)</th>\n",
       "    </tr>\n",
       "  </thead>\n",
       "  <tbody>\n",
       "    <tr>\n",
       "      <th>0</th>\n",
       "      <td>23.0</td>\n",
       "      <td>340.0</td>\n",
       "      <td>0.0</td>\n",
       "      <td>NaN</td>\n",
       "      <td>NaN</td>\n",
       "      <td>NaN</td>\n",
       "    </tr>\n",
       "    <tr>\n",
       "      <th>1</th>\n",
       "      <td>20.0</td>\n",
       "      <td>112.0</td>\n",
       "      <td>3.0</td>\n",
       "      <td>228.0</td>\n",
       "      <td>13.571429</td>\n",
       "      <td>0.000047</td>\n",
       "    </tr>\n",
       "  </tbody>\n",
       "</table>\n",
       "</div>"
      ],
      "text/plain": [
       "   df_resid    ssr  df_diff  ss_diff          F    Pr(>F)\n",
       "0      23.0  340.0      0.0      NaN        NaN       NaN\n",
       "1      20.0  112.0      3.0    228.0  13.571429  0.000047"
      ]
     },
     "execution_count": 11,
     "metadata": {},
     "output_type": "execute_result"
    }
   ],
   "source": [
    "sm.stats.anova_lm(lmodnull, lmodi)"
   ]
  },
  {
   "cell_type": "code",
   "execution_count": 12,
   "id": "27cb20ae-6172-4cb6-b03f-13c69c3d6055",
   "metadata": {},
   "outputs": [
    {
     "name": "stdout",
     "output_type": "stream",
     "text": [
      "                   coefs stderr tvalues pvalues\n",
      "Intercept         64.000  0.498  128.54  0.0000\n",
      "C(diet, Sum)[S.A] -3.000  0.974   -3.08  0.0059\n",
      "C(diet, Sum)[S.B]  2.000  0.845    2.37  0.0282\n",
      "C(diet, Sum)[S.C]  4.000  0.845    4.73  0.0001\n",
      "\n",
      "n=24 p=4 Residual SD=2.366 R-squared=0.67\n"
     ]
    }
   ],
   "source": [
    "# We can also use a sum coding:\n",
    "from patsy.contrasts import Sum\n",
    "lmods = smf.ols(\"coag ~ C(diet,Sum)\", coagulation).fit()\n",
    "lmods.sumary()"
   ]
  },
  {
   "cell_type": "markdown",
   "id": "c7e59438-98ad-4d05-80c5-c25698659224",
   "metadata": {},
   "source": [
    "- The estimated overall mean response is 64. The mean responses for A, B, and C are 61, 66, and 68, respectively. Using the sum constraint, $\\hat{\\alpha}_D = -(-3 + 2 + 4) = -3$, so the mean for D is $64 - 3 = 61$. Note that $\\hat{\\alpha}$ and $R^2$ remain unchanged.\n",
    "- Any of these three methods yield similar results.\n",
    "    - Dropping the intercept is less convenient due to the extra step for the F-test and doesn't scale well to multi-factor experiments.\n",
    "    - The other two methods can be chosen based on preference. Treatment coding is best when the reference level is a control group. We will use treatment coding by default in this book."
   ]
  },
  {
   "cell_type": "markdown",
   "id": "72e6f64a-e018-4061-8545-c68c4c316d49",
   "metadata": {},
   "source": [
    "## 4.2 Diagnostics\n",
    "- For ANOVA models, fewer diagnostics are needed, but it's still important to plot residuals vs. fitted values and create a Q-Q plot of the residuals. Transforming the predictor is unnecessary, but transforming the response is reasonable. These diagnostics are shown in Figure:"
   ]
  },
  {
   "cell_type": "code",
   "execution_count": 13,
   "id": "c4e45d22-3ae1-40a5-a775-2d912bc99713",
   "metadata": {},
   "outputs": [
    {
     "data": {
      "image/png": "[encoded data removed]",
      "text/plain": [
       "<Figure size 640x480 with 1 Axes>"
      ]
     },
     "metadata": {},
     "output_type": "display_data"
    },
    {
     "data": {
      "image/png": "[encoded data removed]",
      "text/plain": [
       "<Figure size 640x480 with 1 Axes>"
      ]
     },
     "metadata": {},
     "output_type": "display_data"
    }
   ],
   "source": [
    "p = sns.scatterplot(x=lmod.fittedvalues + \\\n",
    "    np.random.uniform(-0.1,0.1, len(coagulation)), y = lmod.resid)\n",
    "p.axhline(0, ls='--')\n",
    "plt.xlabel(\"Fitted values\"); plt.ylabel(\"Residuals\")\n",
    "sm.qqplot(lmod.resid, line=\"q\");"
   ]
  },
  {
   "cell_type": "markdown",
   "id": "fba3edc5-1521-4d44-8486-dd14428e0536",
   "metadata": {},
   "source": [
    "- The data and fitted values are integers, causing some discreteness in the Q-Q plot. Discrete data can't be normally distributed, but the residuals are approximately normal, allowing us to proceed with inference. The discreteness appears in the residual-fitted plot, where points are jittered for clarity.\n",
    "- Levene's test examines the homogeneity of error variance by using the absolute residuals as the response in a new one-way ANOVA. To minimize outlier influence, group medians should be used instead of means. A significant result indicates nonconstant variance.\n",
    "- Most tests and confidence intervals (CIs) are relatively insensitive to nonconstant variance. Action is only needed if the Levene test is significant at the 1% level."
   ]
  },
  {
   "cell_type": "code",
   "execution_count": 14,
   "id": "b243282c-85ac-4fad-a3c6-49dda9939491",
   "metadata": {},
   "outputs": [
    {
     "data": {
      "text/html": [
       "<div>\n",
       "<style scoped>\n",
       "    .dataframe tbody tr th:only-of-type {\n",
       "        vertical-align: middle;\n",
       "    }\n",
       "\n",
       "    .dataframe tbody tr th {\n",
       "        vertical-align: top;\n",
       "    }\n",
       "\n",
       "    .dataframe thead th {\n",
       "        text-align: right;\n",
       "    }\n",
       "</style>\n",
       "<table border=\"1\" class=\"dataframe\">\n",
       "  <thead>\n",
       "    <tr style=\"text-align: right;\">\n",
       "      <th></th>\n",
       "      <th>df</th>\n",
       "      <th>sum_sq</th>\n",
       "      <th>mean_sq</th>\n",
       "      <th>F</th>\n",
       "      <th>PR(&gt;F)</th>\n",
       "    </tr>\n",
       "  </thead>\n",
       "  <tbody>\n",
       "    <tr>\n",
       "      <th>diet</th>\n",
       "      <td>3.0</td>\n",
       "      <td>4.333333</td>\n",
       "      <td>1.444444</td>\n",
       "      <td>0.649189</td>\n",
       "      <td>0.592646</td>\n",
       "    </tr>\n",
       "    <tr>\n",
       "      <th>Residual</th>\n",
       "      <td>20.0</td>\n",
       "      <td>44.500000</td>\n",
       "      <td>2.225000</td>\n",
       "      <td>NaN</td>\n",
       "      <td>NaN</td>\n",
       "    </tr>\n",
       "  </tbody>\n",
       "</table>\n",
       "</div>"
      ],
      "text/plain": [
       "            df     sum_sq   mean_sq         F    PR(>F)\n",
       "diet       3.0   4.333333  1.444444  0.649189  0.592646\n",
       "Residual  20.0  44.500000  2.225000       NaN       NaN"
      ]
     },
     "execution_count": 14,
     "metadata": {},
     "output_type": "execute_result"
    }
   ],
   "source": [
    "# Calculate the median coagulation time for each diet group and assign it to a new column 'meds'\n",
    "coagulation['meds'] = coagulation.groupby('diet').coag.transform('median')\n",
    "\n",
    "# Calculate the absolute deviation from the median for each observation and assign it to a new column 'mads'\n",
    "coagulation['mads'] = abs(coagulation.coag - coagulation.meds)\n",
    "\n",
    "# Fit an ordinary least squares (OLS) regression model with 'mads' as the response variable and 'diet' as the predictor\n",
    "lmodb = smf.ols('mads ~ diet', coagulation).fit()\n",
    "\n",
    "# Perform an ANOVA on the fitted model to test for differences in the absolute deviations among diet groups\n",
    "sm.stats.anova_lm(lmodb)"
   ]
  },
  {
   "cell_type": "markdown",
   "id": "ce35054d-77e5-4cf8-b13c-9a807d110075",
   "metadata": {},
   "source": [
    "- The large p-value indicates no evidence of nonconstant variance. The `stats.levene` function from `scipy` can be used similarly."
   ]
  },
  {
   "cell_type": "code",
   "execution_count": 15,
   "id": "1ff7fd55-038a-43ee-9019-5b0aba296ec4",
   "metadata": {},
   "outputs": [
    {
     "data": {
      "text/plain": [
       "LeveneResult(statistic=0.6491885143570536, pvalue=0.5926459065720917)"
      ]
     },
     "execution_count": 15,
     "metadata": {},
     "output_type": "execute_result"
    }
   ],
   "source": [
    "# Split the data into groups based on the 'diet' column\n",
    "groups = [group['coag'].values for name, group in coagulation.groupby('diet')]\n",
    "\n",
    "# Perform Levene's test for homogeneity of variances\n",
    "stats.levene(*groups)"
   ]
  },
  {
   "cell_type": "code",
   "execution_count": 16,
   "id": "6b7002b0-9b75-4c4c-b15f-93c9463356fb",
   "metadata": {},
   "outputs": [
    {
     "data": {
      "text/plain": [
       "BartlettResult(statistic=1.6679561088149575, pvalue=0.6440812243179765)"
      ]
     },
     "execution_count": 16,
     "metadata": {},
     "output_type": "execute_result"
    }
   ],
   "source": [
    "# An alternative test is due to Bartlett\n",
    "# Perform Bartlett's test for homogeneity of variances on coagulation times for each diet group\n",
    "# The test compares the variances of the 'coag' column for diets A, B, C, and D\n",
    "stats.bartlett(coagulation.coag[coagulation.diet == \"A\"],\n",
    "               coagulation.coag[coagulation.diet == \"B\"],\n",
    "               coagulation.coag[coagulation.diet == \"C\"],\n",
    "               coagulation.coag[coagulation.diet == \"D\"])"
   ]
  },
  {
   "cell_type": "markdown",
   "id": "99c07117-c1ec-4178-a7db-3d2a3d675586",
   "metadata": {},
   "source": [
    "- Again, no difference is found. Levene's test is more robust to outliers."
   ]
  },
  {
   "cell_type": "markdown",
   "id": "6b3baeb0-d308-4a56-a5bd-4e32d961f9d8",
   "metadata": {},
   "source": [
    "## 4.3. Pairwise Comparisons\n",
    "- After detecting differences in factor levels, the focus shifts to identifying which levels or combinations differ. Asking if a particular level is significant is meaningless without a comparison. Any meaningful test must involve a comparison. A pairwise comparison of level i and j can be made using a CI for $α_i - α_j$ using:\n",
    "$$ {\\hat{\\alpha}}_i-{\\hat{\\alpha}}_j\\pm t_{df}^{{\\alpha}/{2}}se\\ \\left({\\hat{\\alpha}}_i-{\\hat{\\alpha}}_j\\right) $$\n",
    "- Where ${\\hat{\\alpha}}_i-{\\hat{\\alpha}}_j=\\hat{\\sigma}\\sqrt{\\frac{1}{J_i}+\\frac{1}{J_j}}$ and df = n – I.\n",
    "- A test for $α_i = α_j$ checks if zero lies in the interval. For example, a 95% CI for B - A shows a difference of 5.0 with a standard error of 1.53. Calculating differences not involving the reference level A requires more effort. The interval is:"
   ]
  },
  {
   "cell_type": "code",
   "execution_count": 17,
   "id": "585ccc62-e623-4809-8a25-c4a3ff761617",
   "metadata": {},
   "outputs": [
    {
     "data": {
      "text/plain": [
       "array([1.8136382, 8.1863618])"
      ]
     },
     "execution_count": 17,
     "metadata": {},
     "output_type": "execute_result"
    }
   ],
   "source": [
    "lmod.params.iat[1] + np.array([-1, 1]) * stats.t.ppf(0.975,20) * lmod.bse.iat[1]\n",
    "# lmod.params[1]: The estimated value of the second parameter in the model (B compared A)\n",
    "# np.array([-1, 1]): An array to create the lower and upper bounds of the confidence interval\n",
    "# stats.t.ppf(0.975, 20): The critical value from the t-distribution for a 95% confidence interval with 20 degrees of freedom\n",
    "# lmod.bse[1]: The standard error of the second parameter estimate"
   ]
  },
  {
   "cell_type": "markdown",
   "id": "152f91b4-fee7-4a0d-b694-1bd5b5aac26f",
   "metadata": {},
   "source": [
    "- Since zero is not in the interval, the difference is significant. This is fine for one test, but we often want multiple comparisons. With $\\alpha = 5\\%$ and the null hypothesis true, six pairwise comparisons among four levels have about a 20% chance of finding at least one significant difference.\n",
    "    - For one comparison at a 5% significance level, there's a 5% chance of a random significant difference. For six comparisons, the probability of no significant difference in any is $0.95^6 \\approx 0.735$. Thus, the chance of at least one significant difference is $1 - 0.735 = 0.265$, or about 26.5%.\n",
    "- When we have more levels (groups) in an experiment, the chance of making a Type I error (false positive) increases. A Type I error happens when you think there's a difference or effect when there really isn't.\n",
    "- The Least Significant Difference (LSD) method uses t-tests for multiple comparisons. It's not recommended because it doesn't control well for the increased risk of Type I errors.\n",
    "- One might argue that choosing only \"interesting\" comparisons reduces the number of tests and the problem's magnitude. If we perform only a few tests, we can use the Bonferroni adjustment for a simple correction. However, \"interesting\" comparisons are usually chosen after examining the fitted model, implying all comparisons are considered, even if not explicitly tested. If comparisons were pre-decided before examining the fit, a simple adjustment could be justified. However, this is rare and hard to prove. Typically, we need to adjust for all pairwise comparisons.\n",
    "- To make the adjustment, several approaches exist. One of the simplest is Tukey's honest significant difference (HSD), which uses the studentized range distribution, derived as follows:\n",
    "    - Consider i.i.d. random variables $X_1, X_2, \\ldots, X_n$ from a normal distribution with mean $\\mu$ and variance $\\sigma^2$. Let $R = max_i X_i - min_i X_i$ be the range, the difference between the maximum and minimum $X_i$. Dividing $R$ by an estimate of $\\sigma$ (denoted $\\hat{\\sigma}$) gives a new random variable following the studentized range distribution, $q_{n,\\nu}$, where $\\nu$ is the degrees of freedom used in estimating $\\sigma$.\n",
    "    - The Turkey Cis: ${\\hat{\\alpha}}_i-{\\hat{\\alpha}}_j\\pm\\frac{q_{I,df}}{\\sqrt2}\\hat{\\sigma}\\sqrt{\\frac{1}{J_i}+\\frac{1}{J_j}}$\n",
    "    - When group sample sizes differ greatly, Tukey's HSD test may be overly conservative, potentially failing to detect significant differences. This occurs because the test accounts for within-group variability, and unequal sample sizes can lead to an overly cautious result."
   ]
  },
  {
   "cell_type": "code",
   "execution_count": 18,
   "id": "caa26d37-5fe4-40e4-8839-55b36a964296",
   "metadata": {},
   "outputs": [
    {
     "data": {
      "text/html": [
       "<table class=\"simpletable\">\n",
       "<caption>Multiple Comparison of Means - Tukey HSD, FWER=0.05</caption>\n",
       "<tr>\n",
       "  <th>group1</th> <th>group2</th> <th>meandiff</th>  <th>p-adj</th>   <th>lower</th>   <th>upper</th>  <th>reject</th>\n",
       "</tr>\n",
       "<tr>\n",
       "     <td>A</td>      <td>B</td>      <td>5.0</td>   <td>0.0183</td>  <td>0.7246</td>  <td>9.2754</td>   <td>True</td> \n",
       "</tr>\n",
       "<tr>\n",
       "     <td>A</td>      <td>C</td>      <td>7.0</td>    <td>0.001</td>  <td>2.7246</td>  <td>11.2754</td>  <td>True</td> \n",
       "</tr>\n",
       "<tr>\n",
       "     <td>A</td>      <td>D</td>      <td>0.0</td>     <td>1.0</td>   <td>-4.056</td>   <td>4.056</td>   <td>False</td>\n",
       "</tr>\n",
       "<tr>\n",
       "     <td>B</td>      <td>C</td>      <td>2.0</td>   <td>0.4766</td>  <td>-1.8241</td> <td>5.8241</td>   <td>False</td>\n",
       "</tr>\n",
       "<tr>\n",
       "     <td>B</td>      <td>D</td>     <td>-5.0</td>   <td>0.0044</td>  <td>-8.5771</td> <td>-1.4229</td>  <td>True</td> \n",
       "</tr>\n",
       "<tr>\n",
       "     <td>C</td>      <td>D</td>     <td>-7.0</td>   <td>0.0001</td> <td>-10.5771</td> <td>-3.4229</td>  <td>True</td> \n",
       "</tr>\n",
       "</table>"
      ],
      "text/latex": [
       "\\begin{center}\n",
       "\\begin{tabular}{ccccccc}\n",
       "\\toprule\n",
       "\\textbf{group1} & \\textbf{group2} & \\textbf{meandiff} & \\textbf{p-adj} & \\textbf{lower} & \\textbf{upper} & \\textbf{reject}  \\\\\n",
       "\\midrule\n",
       "       A        &        B        &        5.0        &     0.0183     &     0.7246     &     9.2754     &       True       \\\\\n",
       "       A        &        C        &        7.0        &     0.001      &     2.7246     &    11.2754     &       True       \\\\\n",
       "       A        &        D        &        0.0        &      1.0       &     -4.056     &     4.056      &      False       \\\\\n",
       "       B        &        C        &        2.0        &     0.4766     &    -1.8241     &     5.8241     &      False       \\\\\n",
       "       B        &        D        &        -5.0       &     0.0044     &    -8.5771     &    -1.4229     &       True       \\\\\n",
       "       C        &        D        &        -7.0       &     0.0001     &    -10.5771    &    -3.4229     &       True       \\\\\n",
       "\\bottomrule\n",
       "\\end{tabular}\n",
       "%\\caption{Multiple Comparison of Means - Tukey HSD, FWER=0.05}\n",
       "\\end{center}"
      ],
      "text/plain": [
       "<class 'statsmodels.iolib.table.SimpleTable'>"
      ]
     },
     "execution_count": 18,
     "metadata": {},
     "output_type": "execute_result"
    }
   ],
   "source": [
    "thsd = sm.stats.multicomp.pairwise_tukeyhsd(coagulation.coag, coagulation.diet)\n",
    "thsd.summary()"
   ]
  },
  {
   "cell_type": "markdown",
   "id": "cf5490d7-7876-4c53-a5ab-bef83a7a98d6",
   "metadata": {},
   "source": [
    "- Only the A - D and B - C differences are not significant, confirming our impression. The intervals can be plotted as shown in Figure:"
   ]
  },
  {
   "cell_type": "code",
   "execution_count": 19,
   "id": "4a1f9c37-0213-4559-a4a4-919da1762609",
   "metadata": {},
   "outputs": [
    {
     "data": {
      "image/png": "[encoded data removed]",
      "text/plain": [
       "<Figure size 1000x600 with 1 Axes>"
      ]
     },
     "metadata": {},
     "output_type": "display_data"
    }
   ],
   "source": [
    "fig = thsd.plot_simultaneous()"
   ]
  },
  {
   "cell_type": "markdown",
   "id": "c9aa132a-5e31-446a-b6dd-1f1796022993",
   "metadata": {},
   "source": [
    "- The Tukey method focuses on the largest difference, assuming the worst. Alternatives like Newman-Keuls, Duncan's multiple range, and Waller-Duncan are less pessimistic or don't consider all pairwise comparisons. For more details, see Hsu (1996)."
   ]
  }
 ],
 "metadata": {
  "kernelspec": {
   "display_name": "Python 3 (ipykernel)",
   "language": "python",
   "name": "python3"
  },
  "language_info": {
   "codemirror_mode": {
    "name": "ipython",
    "version": 3
   },
   "file_extension": ".py",
   "mimetype": "text/x-python",
   "name": "python",
   "nbconvert_exporter": "python",
   "pygments_lexer": "ipython3",
   "version": "3.11.9"
  }
 },
 "nbformat": 4,
 "nbformat_minor": 5
}
