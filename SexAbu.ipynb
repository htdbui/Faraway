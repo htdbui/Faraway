{
 "cells": [
  {
   "cell_type": "markdown",
   "id": "b49ce9e0-f1f7-440b-b305-8f53ef6c17f8",
   "metadata": {},
   "source": [
    "# 1. Describe the data\n",
    "- It has 76 rows\n",
    "- There are 3 variables:\n",
    "    - csa: Indicator of childhood sexual abuse (1 = yes, 0 = no).\n",
    "    - cpa: Score on a standardized scale for childhood physical abuse.\n",
    "    - ptsd: Score on a standardized scale for post-traumatic stress disorder.\n",
    "- The data come from Rodriguez et al. (1997), studying the effects of childhood sexual abuse (CSA) on adult females. Forty-five women with CSA were measured for post-traumatic stress disorder (PTSD) and childhood physical abuse (CPA) on standardized scales. Thirty-one women without CSA were also measured."
   ]
  },
  {
   "cell_type": "markdown",
   "id": "6c5577fa-df08-4086-b72e-511872da94a0",
   "metadata": {},
   "source": [
    "# 2. Load packages and data"
   ]
  },
  {
   "cell_type": "code",
   "execution_count": 1,
   "id": "9e631291-b5bd-4060-a313-726ee4e1b8d9",
   "metadata": {},
   "outputs": [],
   "source": [
    "%%capture\n",
    "pip install faraway"
   ]
  },
  {
   "cell_type": "code",
   "execution_count": 2,
   "id": "b40c746f-82ed-4601-b41a-511616ad0d13",
   "metadata": {},
   "outputs": [],
   "source": [
    "import pandas as pd\n",
    "import numpy as np\n",
    "import matplotlib.pyplot as plt\n",
    "import statsmodels.api as sm\n",
    "import statsmodels.formula.api as smf\n",
    "import seaborn as sns\n",
    "from scipy import stats\n",
    "import faraway.utils"
   ]
  },
  {
   "cell_type": "code",
   "execution_count": 3,
   "id": "b63b02ee-a0af-42c1-b8ab-8f9627e12482",
   "metadata": {},
   "outputs": [
    {
     "data": {
      "text/html": [
       "<div>\n",
       "<style scoped>\n",
       "    .dataframe tbody tr th:only-of-type {\n",
       "        vertical-align: middle;\n",
       "    }\n",
       "\n",
       "    .dataframe tbody tr th {\n",
       "        vertical-align: top;\n",
       "    }\n",
       "\n",
       "    .dataframe thead th {\n",
       "        text-align: right;\n",
       "    }\n",
       "</style>\n",
       "<table border=\"1\" class=\"dataframe\">\n",
       "  <thead>\n",
       "    <tr style=\"text-align: right;\">\n",
       "      <th></th>\n",
       "      <th>cpa</th>\n",
       "      <th>ptsd</th>\n",
       "      <th>csa</th>\n",
       "    </tr>\n",
       "  </thead>\n",
       "  <tbody>\n",
       "    <tr>\n",
       "      <th>1</th>\n",
       "      <td>2.04786</td>\n",
       "      <td>9.71365</td>\n",
       "      <td>Abused</td>\n",
       "    </tr>\n",
       "    <tr>\n",
       "      <th>2</th>\n",
       "      <td>0.83895</td>\n",
       "      <td>6.16933</td>\n",
       "      <td>Abused</td>\n",
       "    </tr>\n",
       "    <tr>\n",
       "      <th>3</th>\n",
       "      <td>-0.24139</td>\n",
       "      <td>15.15926</td>\n",
       "      <td>Abused</td>\n",
       "    </tr>\n",
       "    <tr>\n",
       "      <th>4</th>\n",
       "      <td>-1.11461</td>\n",
       "      <td>11.31277</td>\n",
       "      <td>Abused</td>\n",
       "    </tr>\n",
       "    <tr>\n",
       "      <th>5</th>\n",
       "      <td>2.01468</td>\n",
       "      <td>9.95384</td>\n",
       "      <td>Abused</td>\n",
       "    </tr>\n",
       "  </tbody>\n",
       "</table>\n",
       "</div>"
      ],
      "text/plain": [
       "       cpa      ptsd     csa\n",
       "1  2.04786   9.71365  Abused\n",
       "2  0.83895   6.16933  Abused\n",
       "3 -0.24139  15.15926  Abused\n",
       "4 -1.11461  11.31277  Abused\n",
       "5  2.01468   9.95384  Abused"
      ]
     },
     "execution_count": 3,
     "metadata": {},
     "output_type": "execute_result"
    }
   ],
   "source": [
    "import faraway.datasets.sexab\n",
    "sexab = faraway.datasets.sexab.load()\n",
    "sexab.head()"
   ]
  },
  {
   "cell_type": "code",
   "execution_count": 5,
   "id": "a8097d22-6fa2-45e8-85cc-8115639cb8f4",
   "metadata": {},
   "outputs": [
    {
     "data": {
      "text/html": [
       "<div>\n",
       "<style scoped>\n",
       "    .dataframe tbody tr th:only-of-type {\n",
       "        vertical-align: middle;\n",
       "    }\n",
       "\n",
       "    .dataframe tbody tr th {\n",
       "        vertical-align: top;\n",
       "    }\n",
       "\n",
       "    .dataframe thead tr th {\n",
       "        text-align: left;\n",
       "    }\n",
       "\n",
       "    .dataframe thead tr:last-of-type th {\n",
       "        text-align: right;\n",
       "    }\n",
       "</style>\n",
       "<table border=\"1\" class=\"dataframe\">\n",
       "  <thead>\n",
       "    <tr>\n",
       "      <th></th>\n",
       "      <th colspan=\"3\" halign=\"left\">cpa</th>\n",
       "      <th colspan=\"3\" halign=\"left\">ptsd</th>\n",
       "    </tr>\n",
       "    <tr>\n",
       "      <th></th>\n",
       "      <th>min</th>\n",
       "      <th>median</th>\n",
       "      <th>max</th>\n",
       "      <th>min</th>\n",
       "      <th>median</th>\n",
       "      <th>max</th>\n",
       "    </tr>\n",
       "    <tr>\n",
       "      <th>csa</th>\n",
       "      <th></th>\n",
       "      <th></th>\n",
       "      <th></th>\n",
       "      <th></th>\n",
       "      <th></th>\n",
       "      <th></th>\n",
       "    </tr>\n",
       "  </thead>\n",
       "  <tbody>\n",
       "    <tr>\n",
       "      <th>Abused</th>\n",
       "      <td>-1.1</td>\n",
       "      <td>2.6</td>\n",
       "      <td>8.6</td>\n",
       "      <td>6.0</td>\n",
       "      <td>11.3</td>\n",
       "      <td>19.0</td>\n",
       "    </tr>\n",
       "    <tr>\n",
       "      <th>NotAbused</th>\n",
       "      <td>-3.1</td>\n",
       "      <td>1.3</td>\n",
       "      <td>5.0</td>\n",
       "      <td>-3.3</td>\n",
       "      <td>5.8</td>\n",
       "      <td>10.9</td>\n",
       "    </tr>\n",
       "  </tbody>\n",
       "</table>\n",
       "</div>"
      ],
      "text/plain": [
       "           cpa             ptsd             \n",
       "           min median  max  min median   max\n",
       "csa                                         \n",
       "Abused    -1.1    2.6  8.6  6.0   11.3  19.0\n",
       "NotAbused -3.1    1.3  5.0 -3.3    5.8  10.9"
      ]
     },
     "execution_count": 5,
     "metadata": {},
     "output_type": "execute_result"
    }
   ],
   "source": [
    "lfuncs = ['min', 'median', 'max']\n",
    "sexab.groupby('csa').agg({'cpa': lfuncs,'ptsd': lfuncs}).round(1)"
   ]
  },
  {
   "cell_type": "code",
   "execution_count": 7,
   "id": "6da85185-09cd-4a6b-ab0b-0536090127ce",
   "metadata": {},
   "outputs": [
    {
     "data": {
      "image/png": "[encoded data removed]",
      "text/plain": [
       "<Figure size 640x480 with 1 Axes>"
      ]
     },
     "metadata": {},
     "output_type": "display_data"
    }
   ],
   "source": [
    "sns.boxplot(x=\"csa\", y=\"ptsd\", data=sexab);"
   ]
  },
  {
   "cell_type": "code",
   "execution_count": 11,
   "id": "d53e0671-7c2c-43ab-8065-6c0299af6943",
   "metadata": {},
   "outputs": [
    {
     "data": {
      "image/png": "[encoded data removed]",
      "text/plain": [
       "<Figure size 376x250 with 1 Axes>"
      ]
     },
     "metadata": {},
     "output_type": "display_data"
    }
   ],
   "source": [
    "sns.pairplot(x_vars=\"cpa\", y_vars=\"ptsd\", data=sexab, hue=\"csa\", markers=[\"s\",\"o\"]);"
   ]
  },
  {
   "cell_type": "markdown",
   "id": "a28e7e7b-f9ce-40ae-a746-ec3cdbf965e8",
   "metadata": {},
   "source": [
    "- Individuals in the abused group exhibit higher PTSD levels compared to those in the non-abused group.\n",
    "- We test this difference and find that it is significant.\n",
    "    - This test assumes equal variance between the two groups. This assumption is reasonable and ensures the results are comparable with the upcoming linear modeling."
   ]
  },
  {
   "cell_type": "code",
   "execution_count": 12,
   "id": "f927991e-bd3c-4db8-a572-e1555397066a",
   "metadata": {},
   "outputs": [
    {
     "data": {
      "text/plain": [
       "TtestResult(statistic=8.938657095668173, pvalue=2.1719334389283135e-13, df=74.0)"
      ]
     },
     "execution_count": 12,
     "metadata": {},
     "output_type": "execute_result"
    }
   ],
   "source": [
    "stats.ttest_ind(sexab.ptsd[sexab.csa == 'Abused'], sexab.ptsd[sexab.csa == 'NotAbused'])"
   ]
  },
  {
   "cell_type": "markdown",
   "id": "707f22cf-d08e-4772-b63c-07245192ef62",
   "metadata": {},
   "source": [
    "- Our strategy is to include qualitative predictors to $y = X \\beta + \\varepsilon$, allowing us to use familiar estimation, inferential, and diagnostic techniques without learning new formulas for each configuration.\n",
    "- To include qualitative predictors in $ y = X\\beta + \\varepsilon $, we can code them using dummy variables.\n",
    "- We create two dummy variables, $d_1$ and $d_2$.\n",
    "$$ d_i =\\left\\{\\begin{matrix}0&\\text{is not level i}\\\\1&\\text{is level i}\\\\\\end{matrix}\\right.$$ "
   ]
  },
  {
   "cell_type": "code",
   "execution_count": 13,
   "id": "6bb17716-173d-4f22-8a04-4080570cb850",
   "metadata": {},
   "outputs": [
    {
     "name": "stdout",
     "output_type": "stream",
     "text": [
      "       coefs stderr tvalues pvalues\n",
      "const  5.546  0.270   20.53  0.0000\n",
      "x1     6.395  0.403   15.87  0.0000\n",
      "x2    -0.850  0.450   -1.89  0.0630\n",
      "\n",
      "n=76 p=2 Residual SD=3.473 R-squared=0.52\n",
      "Warning: Strong collinearity - design may be singular\n"
     ]
    }
   ],
   "source": [
    "df1 = (sexab.csa == 'Abused').astype(int)\n",
    "df2 = (sexab.csa == 'NotAbused').astype(int)\n",
    "X = np.column_stack((df1,df2))\n",
    "lmod = sm.OLS(sexab.ptsd,sm.add_constant(X)).fit()\n",
    "lmod.sumary()"
   ]
  },
  {
   "cell_type": "markdown",
   "id": "d8650599-1cfa-48ac-b995-bbc4dfc7f54c",
   "metadata": {},
   "source": [
    "- We see a warning about singularities.\n",
    "- Some model output is produced, but its meaning is unclear.\n",
    "- The NotAbused level appears insignificant, which is misleading and should be ignored.\n",
    "- This identifiability issue can be understood by examining the X model matrix. We show the first, two middle, and last rows:"
   ]
  },
  {
   "cell_type": "code",
   "execution_count": 14,
   "id": "6dec8365-94fd-4efc-9389-29f1509d4669",
   "metadata": {},
   "outputs": [
    {
     "data": {
      "text/plain": [
       "array([[1., 1., 0.],\n",
       "       [1., 1., 0.],\n",
       "       [1., 0., 1.],\n",
       "       [1., 0., 1.]])"
      ]
     },
     "execution_count": 14,
     "metadata": {},
     "output_type": "execute_result"
    }
   ],
   "source": [
    "sm.add_constant(X)[[0,44,45,75],:]"
   ]
  },
  {
   "cell_type": "markdown",
   "id": "3c942928-07dc-4dfd-9bf1-055931c85a99",
   "metadata": {},
   "source": [
    "- Using both in regression causes an error because their sum equals the intercept, leading to singularities. This means $X$ is not of full rank, having a rank of two instead of three. Thus, not all parameters can be identified, which is expected since we're using three parameters to model only two groups.\n",
    "- To fix this, we should remove one dummy variable or the intercept. Once choice would be to eliminate d1:"
   ]
  },
  {
   "cell_type": "code",
   "execution_count": 16,
   "id": "128849c1-f466-4857-a04e-fce5714fd136",
   "metadata": {},
   "outputs": [
    {
     "name": "stdout",
     "output_type": "stream",
     "text": [
      "       coefs stderr tvalues pvalues\n",
      "const 11.941  0.518   23.07  0.0000\n",
      "csa   -7.245  0.811   -8.94  0.0000\n",
      "\n",
      "n=76 p=2 Residual SD=3.473 R-squared=0.52\n"
     ]
    }
   ],
   "source": [
    "lmod = sm.OLS(sexab.ptsd,sm.add_constant(df2)).fit()\n",
    "lmod.sumary()"
   ]
  },
  {
   "cell_type": "markdown",
   "id": "de56dc0c-afd2-4f44-9427-cc1e15de72b5",
   "metadata": {},
   "source": [
    "- Compare this to the t-test output. The intercept of 11.941 is the mean for the \"Abused\" group. The parameter for $d_2$ represents the difference between the \"Abused\" and \"NotAbused\" groups. The mean for \"NotAbused\" groups is calculated as $11.941 - 7.245 = 4.696$. The t-value for $d_2$ is -8.94, which tests if this difference is zero and is identical (excepting \n",
    "the sign) to the test statistic from the t-test computed previously.\n",
    "- An alternative approach is to eliminate the intercept term:"
   ]
  },
  {
   "cell_type": "code",
   "execution_count": 17,
   "id": "499cc465-fd31-4955-9923-898e3dea4c84",
   "metadata": {},
   "outputs": [
    {
     "name": "stdout",
     "output_type": "stream",
     "text": [
      "    coefs stderr tvalues pvalues\n",
      "x1 11.941  0.518   23.07  0.0000\n",
      "x2  4.696  0.624    7.53  0.0000\n",
      "\n",
      "n=76 p=2 Residual SD=3.473 R-squared=0.52\n"
     ]
    }
   ],
   "source": [
    "lmod = sm.OLS(sexab.ptsd,X).fit()\n",
    "lmod.sumary()"
   ]
  },
  {
   "cell_type": "markdown",
   "id": "6b22ff6b-ec01-4bfc-8e70-90725e7f8efc",
   "metadata": {},
   "source": [
    "- This approach directly provides the means of the two groups from the dummy variable estimates. However, it doesn't give the t-test for the difference. The output tests whether the mean response in each group is zero, which is not interesting or believable.\n",
    "- Dropping the intercept only works for a single factor (categorical variable) and doesn't generalize to multiple factors. Therefore, we prefer dropping one of the dummy variables instead.\n",
    "- we don't need to manually create dummy variables; statsmodels with patsy can generate them directly by including the factor in the model formula:"
   ]
  },
  {
   "cell_type": "code",
   "execution_count": 18,
   "id": "71e6c477-2623-449e-83fd-cf0a3b56afda",
   "metadata": {},
   "outputs": [
    {
     "name": "stdout",
     "output_type": "stream",
     "text": [
      "                  coefs stderr tvalues pvalues\n",
      "Intercept        11.941  0.518   23.07  0.0000\n",
      "csa[T.NotAbused] -7.245  0.811   -8.94  0.0000\n",
      "\n",
      "n=76 p=2 Residual SD=3.473 R-squared=0.52\n"
     ]
    }
   ],
   "source": [
    "lmod = smf.ols('ptsd ~ csa', sexab).fit()\n",
    "lmod.sumary()"
   ]
  },
  {
   "cell_type": "code",
   "execution_count": 19,
   "id": "fe6b3d9d-2dc2-462b-9ff9-7766e83e6a02",
   "metadata": {},
   "outputs": [
    {
     "data": {
      "text/plain": [
       "(dtype('O'), dtype('float64'))"
      ]
     },
     "execution_count": 19,
     "metadata": {},
     "output_type": "execute_result"
    }
   ],
   "source": [
    "sexab.csa.dtype, sexab.ptsd.dtype"
   ]
  },
  {
   "cell_type": "markdown",
   "id": "444b046d-ef0d-491d-9ff8-9dd4ef85a28e",
   "metadata": {},
   "source": [
    "- When a variable is non-numeric, dummy variables are created automatically, with one dropped to ensure identifiability, known as the reference level. Here, \"Abused\" is the reference level, encoded in the intercept of 11.941. The parameter estimate for \"NotAbused\" (-7.245) represents the difference from the reference level, making the mean response for \"NotAbused\" 11.941 - 7.245 = 4.696. Previously, we dropped the dummy variable $d_1$ to get the same result.\n",
    "- Since “Abused” comes before “NotAbused” alphabetically, “Abused” is coded as 0 and “NotAbused” as 1.\n",
    "- We can also create dummy variables in pandas:"
   ]
  },
  {
   "cell_type": "code",
   "execution_count": 20,
   "id": "83eaa1a8-59ee-4c31-85d9-4afc0f8e7657",
   "metadata": {},
   "outputs": [
    {
     "data": {
      "text/html": [
       "<div>\n",
       "<style scoped>\n",
       "    .dataframe tbody tr th:only-of-type {\n",
       "        vertical-align: middle;\n",
       "    }\n",
       "\n",
       "    .dataframe tbody tr th {\n",
       "        vertical-align: top;\n",
       "    }\n",
       "\n",
       "    .dataframe thead th {\n",
       "        text-align: right;\n",
       "    }\n",
       "</style>\n",
       "<table border=\"1\" class=\"dataframe\">\n",
       "  <thead>\n",
       "    <tr style=\"text-align: right;\">\n",
       "      <th></th>\n",
       "      <th>cpa</th>\n",
       "      <th>ptsd</th>\n",
       "      <th>csa</th>\n",
       "      <th>Abused</th>\n",
       "      <th>NotAbused</th>\n",
       "    </tr>\n",
       "  </thead>\n",
       "  <tbody>\n",
       "    <tr>\n",
       "      <th>1</th>\n",
       "      <td>2.04786</td>\n",
       "      <td>9.71365</td>\n",
       "      <td>Abused</td>\n",
       "      <td>True</td>\n",
       "      <td>False</td>\n",
       "    </tr>\n",
       "    <tr>\n",
       "      <th>45</th>\n",
       "      <td>5.11921</td>\n",
       "      <td>11.12798</td>\n",
       "      <td>Abused</td>\n",
       "      <td>True</td>\n",
       "      <td>False</td>\n",
       "    </tr>\n",
       "    <tr>\n",
       "      <th>46</th>\n",
       "      <td>1.49181</td>\n",
       "      <td>6.14200</td>\n",
       "      <td>NotAbused</td>\n",
       "      <td>False</td>\n",
       "      <td>True</td>\n",
       "    </tr>\n",
       "    <tr>\n",
       "      <th>76</th>\n",
       "      <td>0.81138</td>\n",
       "      <td>7.12918</td>\n",
       "      <td>NotAbused</td>\n",
       "      <td>False</td>\n",
       "      <td>True</td>\n",
       "    </tr>\n",
       "  </tbody>\n",
       "</table>\n",
       "</div>"
      ],
      "text/plain": [
       "        cpa      ptsd        csa  Abused  NotAbused\n",
       "1   2.04786   9.71365     Abused    True      False\n",
       "45  5.11921  11.12798     Abused    True      False\n",
       "46  1.49181   6.14200  NotAbused   False       True\n",
       "76  0.81138   7.12918  NotAbused   False       True"
      ]
     },
     "execution_count": 20,
     "metadata": {},
     "output_type": "execute_result"
    }
   ],
   "source": [
    "sac = pd.concat([sexab, pd.get_dummies(sexab.csa)], axis=1)\n",
    "sac.iloc[[0,44,45,75],:]"
   ]
  },
  {
   "cell_type": "code",
   "execution_count": 21,
   "id": "7dff3b21-dbc6-4965-a5fe-0297bb06bb5f",
   "metadata": {},
   "outputs": [
    {
     "name": "stdout",
     "output_type": "stream",
     "text": [
      "               coefs stderr tvalues pvalues\n",
      "Intercept      4.696  0.624    7.53  0.0000\n",
      "Abused[T.True] 7.245  0.811    8.94  0.0000\n",
      "\n",
      "n=76 p=2 Residual SD=3.473 R-squared=0.52\n"
     ]
    }
   ],
   "source": [
    "lmod = smf.ols('ptsd ~ Abused', sac).fit()\n",
    "lmod.sumary()"
   ]
  },
  {
   "cell_type": "markdown",
   "id": "75de98d2-a3d2-4b14-8bf7-f1b38d712f95",
   "metadata": {},
   "source": [
    "- The reference level choice is arbitrary. Sometimes, a control or no-treatment level is the natural choice. Here, “NotAbused” is the natural reference level. By default, the first alphabetical level, “Abused,” is chosen. To change this, we use the relevel command:"
   ]
  },
  {
   "cell_type": "code",
   "execution_count": 23,
   "id": "16005455-c0d8-4915-8666-9c2fd37f0b8c",
   "metadata": {},
   "outputs": [
    {
     "name": "stdout",
     "output_type": "stream",
     "text": [
      "                                                   coefs stderr tvalues pvalues\n",
      "Intercept                                          4.696  0.624    7.53  0.0000\n",
      "C(csa, Treatment(reference=\"NotAbused\"))[T.Abused] 7.245  0.811    8.94  0.0000\n",
      "\n",
      "n=76 p=2 Residual SD=3.473 R-squared=0.52\n"
     ]
    }
   ],
   "source": [
    "lmod = smf.ols(\n",
    "    'ptsd ~ C(csa, Treatment(reference=\"NotAbused\"))',\n",
    "    sexab).fit()\n",
    "lmod.sumary()"
   ]
  },
  {
   "cell_type": "markdown",
   "id": "69295dd4-ed1d-462c-89f7-f65cfcccaee3",
   "metadata": {},
   "source": [
    "- Comparing the outputs shows that the fitted values, residuals, residual standard error, and $R^2$ are the same for either choice, but the parameterization differs.\n",
    "- While we've only constructed a t-test using linear modeling, understanding how factor variables are handled is crucial for more advanced models.\n",
    "- Our analysis shows that women who experienced childhood sexual abuse have higher PTSD levels. We also have data on varying levels of childhood physical abuse (CPA), which may affect PTSD. We need models to express how a factor like CSA and a quantitative variable like CPA relate to the response.\n",
    "- Suppose we have a response y, a quantitative predictor x and a two-level factor variable d:\n",
    "$$ d_i =\\left\\{\\begin{matrix}0&\\text{reference level}\\\\1&\\text{treatment level i}\\\\\\end{matrix}\\right.$$ \n",
    "    - The same regression line for both levels: $y = β_0 + β_1 x + ε$. There is no effect for the factor.\n",
    "    - Only with factor predictor: $y = β_0 + β_1 d + ε$.\n",
    "    - Separate regressions line for each group with the same slope: $y = β_0 + β_1 x + β_2 d + ε$. $β_2$ is the vertical distance between the regression lines (i.e., the effect of the treatment).\n",
    "    - Separate regressions line for each group with the different slopes:\n",
    "$y = β_0 + β_1 x + β_2 d + β_3 xd + ε$, written as $y \\sim x + d + d:x$ or $y \\sim x*d$.\n",
    "- To create the slope interaction term $d \\cdot x$ in the X-matrix, multiply each element of $x$ by the corresponding element of $d$. This means that any interpretation of the factor's effect will also depend on the quantitative predictor.\n",
    "- Estimation and testing remain the same. Interpretation is simpler without the interaction term."
   ]
  },
  {
   "cell_type": "code",
   "execution_count": 24,
   "id": "cb7b7c13-e07b-4d72-a4ea-984ba08ac249",
   "metadata": {},
   "outputs": [
    {
     "name": "stdout",
     "output_type": "stream",
     "text": [
      "                      coefs stderr tvalues pvalues\n",
      "Intercept            10.557  0.806   13.09  0.0000\n",
      "csa[T.NotAbused]     -6.861  1.075   -6.38  0.0000\n",
      "cpa                   0.450  0.208    2.16  0.0342\n",
      "csa[T.NotAbused]:cpa  0.314  0.368    0.85  0.3970\n",
      "\n",
      "n=76 p=4 Residual SD=3.279 R-squared=0.58\n"
     ]
    }
   ],
   "source": [
    "lmod4 = smf.ols('ptsd ~ csa*cpa', sexab).fit()\n",
    "lmod4.sumary()"
   ]
  },
  {
   "cell_type": "markdown",
   "id": "78907736-db07-445a-b9b5-841a6c47a48a",
   "metadata": {},
   "source": [
    "- We can discover the coding by examining the X-matrix:"
   ]
  },
  {
   "cell_type": "code",
   "execution_count": 25,
   "id": "5f565e0a-9f69-4e76-8689-b81012b94726",
   "metadata": {},
   "outputs": [
    {
     "data": {
      "text/plain": [
       "array([[1.     , 0.     , 2.04786, 0.     ],\n",
       "       [1.     , 0.     , 5.11921, 0.     ],\n",
       "       [1.     , 1.     , 1.49181, 1.49181],\n",
       "       [1.     , 1.     , 0.81138, 0.81138]])"
      ]
     },
     "execution_count": 25,
     "metadata": {},
     "output_type": "execute_result"
    }
   ],
   "source": [
    "import patsy\n",
    "patsy.dmatrix('~ csa*cpa', sexab)[[0, 44, 45, 75],]"
   ]
  },
  {
   "cell_type": "markdown",
   "id": "81532595-ac47-4e7a-942c-c501283216ce",
   "metadata": {},
   "source": [
    "- The interaction term cpa:csaAbused in the fourth column is the product of the second and third columns. It shows the slope change for the notAbused group. We display the fitted regression lines."
   ]
  },
  {
   "cell_type": "code",
   "execution_count": 28,
   "id": "2a8c054e-fd58-4219-b027-30865e84c8e6",
   "metadata": {},
   "outputs": [
    {
     "data": {
      "image/png": "[encoded data removed]",
      "text/plain": [
       "<Figure size 640x480 with 1 Axes>"
      ]
     },
     "metadata": {},
     "output_type": "display_data"
    }
   ],
   "source": [
    "abused = (sexab.csa == \"Abused\")\n",
    "plt.scatter(sexab.cpa[abused], sexab.ptsd[abused], marker='x')\n",
    "xl,xu = [-3, 9]\n",
    "a, b = (lmod4.params.iat[0], lmod4.params.iat[2])\n",
    "plt.plot([xl,xu], [a+xl*b,a+xu*b])\n",
    "plt.scatter(sexab.cpa[~abused], sexab.ptsd[~abused], marker='o')\n",
    "a, b = (lmod4.params.iat[0]+lmod4.params.iat[1], \n",
    "        lmod4.params.iat[2]+lmod4.params.iat[3])\n",
    "plt.plot([xl,xu], [a+xl*b,a+xu*b]);"
   ]
  },
  {
   "cell_type": "markdown",
   "id": "bb01b41a-bae5-4f1f-a12f-267e383b008a",
   "metadata": {},
   "source": [
    "- Since the interaction term is not significant, we can simplify the model by assuming the slopes are the same. This reduces the model to:"
   ]
  },
  {
   "cell_type": "code",
   "execution_count": 29,
   "id": "38c5b7f6-c4f1-4dcd-93ef-2caa5b4e9c53",
   "metadata": {},
   "outputs": [
    {
     "name": "stdout",
     "output_type": "stream",
     "text": [
      "                  coefs stderr tvalues pvalues\n",
      "Intercept        10.248  0.719   14.26  0.0000\n",
      "csa[T.NotAbused] -6.273  0.822   -7.63  0.0000\n",
      "cpa               0.551  0.172    3.21  0.0020\n",
      "\n",
      "n=76 p=3 Residual SD=3.273 R-squared=0.58\n"
     ]
    }
   ],
   "source": [
    "lmod3 = smf.ols('ptsd ~ csa+cpa', sexab).fit()\n",
    "lmod3.sumary()"
   ]
  },
  {
   "cell_type": "markdown",
   "id": "f18c1f99-02d9-4564-91fd-5d6bd8b29cdc",
   "metadata": {},
   "source": [
    "- No further simplification is possible as the remaining predictors are significant.\n",
    "- We plot the two parallel regression lines:"
   ]
  },
  {
   "cell_type": "code",
   "execution_count": 32,
   "id": "50d3992f-a02f-42cc-b68d-c83c106d37f9",
   "metadata": {},
   "outputs": [
    {
     "data": {
      "image/png": "[encoded data removed]",
      "text/plain": [
       "<Figure size 640x480 with 1 Axes>"
      ]
     },
     "metadata": {},
     "output_type": "display_data"
    }
   ],
   "source": [
    "plt.scatter(sexab.cpa[abused], sexab.ptsd[abused], marker='x')\n",
    "xl, xu = [-3, 9]\n",
    "a, b = (lmod3.params.iat[0], lmod3.params.iat[2])\n",
    "plt.plot([xl, xu], [a+xl*b, a+xu*b])\n",
    "plt.scatter(sexab.cpa[~abused], sexab.ptsd[~abused], marker='o')\n",
    "a, b = (lmod3.params.iat[0]+lmod4.params.iat[1], lmod3.params.iat[2])\n",
    "plt.plot([xl, xu], [a+xl*b, a+xu*b]);"
   ]
  },
  {
   "cell_type": "markdown",
   "id": "bd310dca-ce38-42ee-ae7c-ff1e5afb8593",
   "metadata": {},
   "source": [
    "- Both lines have a slope of 0.551, but the “Abused” line is 6.273 higher than the “NonAbused.”\n",
    "- The previous t-test showed an unadjusted effect of childhood sexual abuse at 7.245. After adjusting for childhood physical abuse, the effect on PTSD is slightly reduced.\n",
    "- We can also compare confidence intervals for the effect of csa:"
   ]
  },
  {
   "cell_type": "code",
   "execution_count": 37,
   "id": "3d4a1201-9c1a-4445-a021-be93b9d1f9d2",
   "metadata": {},
   "outputs": [
    {
     "data": {
      "text/html": [
       "<div>\n",
       "<style scoped>\n",
       "    .dataframe tbody tr th:only-of-type {\n",
       "        vertical-align: middle;\n",
       "    }\n",
       "\n",
       "    .dataframe tbody tr th {\n",
       "        vertical-align: top;\n",
       "    }\n",
       "\n",
       "    .dataframe thead th {\n",
       "        text-align: right;\n",
       "    }\n",
       "</style>\n",
       "<table border=\"1\" class=\"dataframe\">\n",
       "  <thead>\n",
       "    <tr style=\"text-align: right;\">\n",
       "      <th></th>\n",
       "      <th>0</th>\n",
       "      <th>1</th>\n",
       "    </tr>\n",
       "  </thead>\n",
       "  <tbody>\n",
       "    <tr>\n",
       "      <th>Intercept</th>\n",
       "      <td>8.82</td>\n",
       "      <td>11.68</td>\n",
       "    </tr>\n",
       "    <tr>\n",
       "      <th>csa[T.NotAbused]</th>\n",
       "      <td>-7.91</td>\n",
       "      <td>-4.63</td>\n",
       "    </tr>\n",
       "    <tr>\n",
       "      <th>cpa</th>\n",
       "      <td>0.21</td>\n",
       "      <td>0.89</td>\n",
       "    </tr>\n",
       "  </tbody>\n",
       "</table>\n",
       "</div>"
      ],
      "text/plain": [
       "                     0      1\n",
       "Intercept         8.82  11.68\n",
       "csa[T.NotAbused] -7.91  -4.63\n",
       "cpa               0.21   0.89"
      ]
     },
     "execution_count": 37,
     "metadata": {},
     "output_type": "execute_result"
    }
   ],
   "source": [
    "lmod3.conf_int().round(2)"
   ]
  },
  {
   "cell_type": "markdown",
   "id": "dec05c17-3b3b-488d-82e3-ab17a16c90c6",
   "metadata": {},
   "source": [
    "- Compared to the unadjusted difference of (5.6302, 8.8603), the confidence intervals in this case are similarly wide. However, in other scenarios, especially with designed experiments, adjusting for a covariate can improve the precision of effect estimates.\n",
    "- The usual diagnostics should be performed. It’s important to check for any differences related to the categorical variable, as demonstrated here:"
   ]
  },
  {
   "cell_type": "code",
   "execution_count": 39,
   "id": "025699ec-32a4-4b61-82dc-1a5402d4f5f1",
   "metadata": {},
   "outputs": [
    {
     "data": {
      "image/png": "[encoded data removed]",
      "text/plain": [
       "<Figure size 640x480 with 1 Axes>"
      ]
     },
     "metadata": {},
     "output_type": "display_data"
    }
   ],
   "source": [
    "plt.scatter(lmod3.fittedvalues[abused], lmod3.resid[abused], marker='x')\n",
    "plt.scatter(lmod3.fittedvalues[~abused], lmod3.resid[~abused], marker='o')\n",
    "plt.xlabel(\"Fitted values\"); plt.ylabel(\"Residuals\"); plt.axhline(0);"
   ]
  },
  {
   "cell_type": "markdown",
   "id": "3bec5f7d-567f-4703-97be-4c927810a9f4",
   "metadata": {},
   "source": [
    "- There are no clear problems. The two groups separate, showing similar variation. If they didn't, adjustments like using weights would be needed.\n",
    "- The effect of csa can be adjusted for cpa, and vice versa. Now, consider a model with just cpa:"
   ]
  },
  {
   "cell_type": "code",
   "execution_count": 40,
   "id": "0945629a-e554-4fd8-9545-30ac94d9bc59",
   "metadata": {},
   "outputs": [
    {
     "name": "stdout",
     "output_type": "stream",
     "text": [
      "          coefs stderr tvalues pvalues\n",
      "Intercept 6.552  0.707    9.26  0.0000\n",
      "cpa       1.033  0.212    4.87  0.0000\n",
      "\n",
      "n=76 p=2 Residual SD=4.359 R-squared=0.24\n"
     ]
    }
   ],
   "source": [
    "lmod1 = smf.ols('ptsd ~ cpa', sexab).fit()\n",
    "lmod1.sumary()"
   ]
  },
  {
   "cell_type": "markdown",
   "id": "77e921c4-b619-4d14-93ec-c080d3c74242",
   "metadata": {},
   "source": [
    "- After adjusting for csa, the effect of cpa is reduced from 1.033 to 0.551.\n",
    "- Finally, childhood physical abuse might not be the only factor affecting the impact of childhood sexual abuse. Other variables like socioeconomic status and age could also differ between the groups. Causal conclusions from observational studies should be approached with caution. For more details, see Rodriguez et al. (1997)."
   ]
  },
  {
   "cell_type": "code",
   "execution_count": null,
   "id": "98cf0e55-0df1-4f66-addf-8a50815cbb05",
   "metadata": {},
   "outputs": [],
   "source": []
  }
 ],
 "metadata": {
  "kernelspec": {
   "display_name": "Python 3 (ipykernel)",
   "language": "python",
   "name": "python3"
  },
  "language_info": {
   "codemirror_mode": {
    "name": "ipython",
    "version": 3
   },
   "file_extension": ".py",
   "mimetype": "text/x-python",
   "name": "python",
   "nbconvert_exporter": "python",
   "pygments_lexer": "ipython3",
   "version": "3.11.9"
  }
 },
 "nbformat": 4,
 "nbformat_minor": 5
}
