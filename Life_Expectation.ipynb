{
 "cells": [
  {
   "cell_type": "markdown",
   "id": "5c771361-5046-445e-960e-0267b7603b6d",
   "metadata": {},
   "source": [
    "# 1. Describe the data\n",
    "- It has 50 rows, which are 50 states\n",
    "- There are 8 variables:\n",
    "    - Population: population of the state in thousands (e.g., 3615 represents 3,615,000 people)  (Thousands of people)\n",
    "    - Income: per capita income of the state, likely in US dollars per year (US dollars per year)\n",
    "    - Illiteracy: percentage of people who are illiterate (unable to read and write) in the state's population (%).\n",
    "    - LifeExp: average life expectancy in the state, representing the average number of years a person is expected to live (Years)\n",
    "    - Murder: murder rate per 100,000 inhabitants in the state (Rate per 100,000 people)\n",
    "    - HSGrad: percentage of people who graduated from high school in the state (%)\n",
    "    - Frost: average number of days per year when the temperature in the state is below freezing (Days)\n",
    "    - Area: land area of the state in square miles (Square miles)"
   ]
  },
  {
   "cell_type": "markdown",
   "id": "f47f3754-3365-4724-a6d2-9e74b6160a55",
   "metadata": {},
   "source": [
    "# 2. Load packages and data"
   ]
  },
  {
   "cell_type": "code",
   "execution_count": 1,
   "id": "87c3178f-8794-42ee-a608-21df92e4ec06",
   "metadata": {},
   "outputs": [],
   "source": [
    "%%capture\n",
    "pip install faraway"
   ]
  },
  {
   "cell_type": "code",
   "execution_count": 21,
   "id": "6143d2c7-7182-4251-9953-0a997f494308",
   "metadata": {},
   "outputs": [],
   "source": [
    "import pandas as pd\n",
    "import numpy as np\n",
    "import matplotlib.pyplot as plt\n",
    "import scipy as sp\n",
    "import statsmodels.api as sm\n",
    "import statsmodels.formula.api as smf\n",
    "import seaborn as sns\n",
    "import faraway.utils"
   ]
  },
  {
   "cell_type": "code",
   "execution_count": 22,
   "id": "dc596055-ab57-4e78-8a8b-166c065d2f26",
   "metadata": {},
   "outputs": [
    {
     "data": {
      "text/html": [
       "<div>\n",
       "<style scoped>\n",
       "    .dataframe tbody tr th:only-of-type {\n",
       "        vertical-align: middle;\n",
       "    }\n",
       "\n",
       "    .dataframe tbody tr th {\n",
       "        vertical-align: top;\n",
       "    }\n",
       "\n",
       "    .dataframe thead th {\n",
       "        text-align: right;\n",
       "    }\n",
       "</style>\n",
       "<table border=\"1\" class=\"dataframe\">\n",
       "  <thead>\n",
       "    <tr style=\"text-align: right;\">\n",
       "      <th></th>\n",
       "      <th>Population</th>\n",
       "      <th>Income</th>\n",
       "      <th>Illiteracy</th>\n",
       "      <th>LifeExp</th>\n",
       "      <th>Murder</th>\n",
       "      <th>HSGrad</th>\n",
       "      <th>Frost</th>\n",
       "      <th>Area</th>\n",
       "    </tr>\n",
       "    <tr>\n",
       "      <th>State</th>\n",
       "      <th></th>\n",
       "      <th></th>\n",
       "      <th></th>\n",
       "      <th></th>\n",
       "      <th></th>\n",
       "      <th></th>\n",
       "      <th></th>\n",
       "      <th></th>\n",
       "    </tr>\n",
       "  </thead>\n",
       "  <tbody>\n",
       "    <tr>\n",
       "      <th>AL</th>\n",
       "      <td>3615</td>\n",
       "      <td>3624</td>\n",
       "      <td>2.1</td>\n",
       "      <td>69.05</td>\n",
       "      <td>15.1</td>\n",
       "      <td>41.3</td>\n",
       "      <td>20</td>\n",
       "      <td>50708</td>\n",
       "    </tr>\n",
       "    <tr>\n",
       "      <th>AK</th>\n",
       "      <td>365</td>\n",
       "      <td>6315</td>\n",
       "      <td>1.5</td>\n",
       "      <td>69.31</td>\n",
       "      <td>11.3</td>\n",
       "      <td>66.7</td>\n",
       "      <td>152</td>\n",
       "      <td>566432</td>\n",
       "    </tr>\n",
       "    <tr>\n",
       "      <th>AZ</th>\n",
       "      <td>2212</td>\n",
       "      <td>4530</td>\n",
       "      <td>1.8</td>\n",
       "      <td>70.55</td>\n",
       "      <td>7.8</td>\n",
       "      <td>58.1</td>\n",
       "      <td>15</td>\n",
       "      <td>113417</td>\n",
       "    </tr>\n",
       "    <tr>\n",
       "      <th>AR</th>\n",
       "      <td>2110</td>\n",
       "      <td>3378</td>\n",
       "      <td>1.9</td>\n",
       "      <td>70.66</td>\n",
       "      <td>10.1</td>\n",
       "      <td>39.9</td>\n",
       "      <td>65</td>\n",
       "      <td>51945</td>\n",
       "    </tr>\n",
       "    <tr>\n",
       "      <th>CA</th>\n",
       "      <td>21198</td>\n",
       "      <td>5114</td>\n",
       "      <td>1.1</td>\n",
       "      <td>71.71</td>\n",
       "      <td>10.3</td>\n",
       "      <td>62.6</td>\n",
       "      <td>20</td>\n",
       "      <td>156361</td>\n",
       "    </tr>\n",
       "  </tbody>\n",
       "</table>\n",
       "</div>"
      ],
      "text/plain": [
       "       Population  Income  Illiteracy  LifeExp  Murder  HSGrad  Frost    Area\n",
       "State                                                                        \n",
       "AL           3615    3624         2.1    69.05    15.1    41.3     20   50708\n",
       "AK            365    6315         1.5    69.31    11.3    66.7    152  566432\n",
       "AZ           2212    4530         1.8    70.55     7.8    58.1     15  113417\n",
       "AR           2110    3378         1.9    70.66    10.1    39.9     65   51945\n",
       "CA          21198    5114         1.1    71.71    10.3    62.6     20  156361"
      ]
     },
     "execution_count": 22,
     "metadata": {},
     "output_type": "execute_result"
    }
   ],
   "source": [
    "import faraway.datasets.statedata\n",
    "statedata = faraway.datasets.statedata.load()\n",
    "statedata.index = statedata['State']\n",
    "statedata = statedata.drop('State', axis=1)\n",
    "statedata.head()"
   ]
  },
  {
   "cell_type": "markdown",
   "id": "db0bf985-3aa3-4211-8b06-a58fc8cc402f",
   "metadata": {},
   "source": [
    "# 3. Linear Regression"
   ]
  },
  {
   "cell_type": "code",
   "execution_count": 5,
   "id": "d5732b22-e50f-49fc-ae8c-fdc5440a4c42",
   "metadata": {},
   "outputs": [
    {
     "name": "stdout",
     "output_type": "stream",
     "text": [
      "            coefs stderr tvalues pvalues\n",
      "Intercept  70.943  1.748   40.59  0.0000\n",
      "Population  0.000  0.000    1.77  0.0832\n",
      "Income     -0.000  0.000   -0.09  0.9293\n",
      "Illiteracy  0.034  0.366    0.09  0.9269\n",
      "Murder     -0.301  0.047   -6.46  0.0000\n",
      "HSGrad      0.049  0.023    2.10  0.0420\n",
      "Frost      -0.006  0.003   -1.82  0.0752\n",
      "Area       -0.000  0.000   -0.04  0.9649\n",
      "\n",
      "n=50 p=8 Residual SD=0.745 R-squared=0.74\n"
     ]
    }
   ],
   "source": [
    "lmod = smf.ols('LifeExp ~ Population + Income + Illiteracy + \\\n",
    "    Murder + HSGrad + Frost + Area', statedata).fit()\n",
    "lmod.sumary()"
   ]
  },
  {
   "cell_type": "markdown",
   "id": "0a158499-a19a-462c-a46f-343aa3b42134",
   "metadata": {},
   "source": [
    "- Some of the coefficients align with what we would reasonably expect regarding how the predictors influence the response. For instance, higher murder rates understandably reduce life expectancy. However, some variables, like income, do not show a significant impact, which is surprising."
   ]
  },
  {
   "cell_type": "markdown",
   "id": "004e7188-6859-48c4-a03c-19dc02f62ba5",
   "metadata": {},
   "source": [
    "## 3.1. Hypothesis Testing-Based Elimination Procedures \n",
    "- Backward Elimination is a straightforward method for selecting model variables. It can be done manually without special software, even in complex hierarchies, by identifying which variables to remove.\n",
    "    - The process begins with all predictors in the model. The predictor with the highest p-value above a critical value (αcrit) is removed, and the model is refitted. This continues, removing the least significant predictors with p-values above αcrit, until only significant predictors remain.\n",
    "    - The critical value ($α_{crit}$), or “p-to-remove,” doesn’t have to be 5%. For better prediction performance, a cutoff of 15% to 20% might be more effective. However, for optimal prediction, it’s best to use specialized methods.\n",
    "- In Forward Selection, we start with an empty model. We add predictors one by one, choosing those with the lowest p-values below αcrit. This process continues until no more predictors can be added, building a model with the strongest statistical relationships.\n",
    "- In Stepwise Regression, we blend backward elimination and forward selection. This allows us to add or remove variables at each stage, adjusting our decisions as needed.\n",
    "- Drawbacks of testing-based procedures:\n",
    "    - Adding or removing variables one by one can overlook the best combination for the most accurate model.\n",
    "    - P-values should be interpreted cautiously, as multiple tests can reduce their reliability. Removing less significant predictors can make the remaining ones seem more important than they are.\n",
    "    - Variable selection in model building isn’t always aligned with prediction or explanation goals. This can mean it doesn’t solve the specific problem. Dropped variables might still relate to the response but don’t add extra explanatory power beyond what’s included.\n",
    "    - Stepwise variable selection often results in smaller models than ideal for prediction. For instance, even if a predictor’s significance isn’t strong, it might still be useful to include it for better predictive accuracy.\n",
    "- Testing-based variable selection should generally be avoided, except in simple cases with few models or in highly structured hierarchical models."
   ]
  },
  {
   "cell_type": "code",
   "execution_count": 6,
   "id": "778e90c4-8ac5-4694-8b20-d2ca53667077",
   "metadata": {},
   "outputs": [
    {
     "data": {
      "text/plain": [
       "('Area', 0.9649075022276266)"
      ]
     },
     "execution_count": 6,
     "metadata": {},
     "output_type": "execute_result"
    }
   ],
   "source": [
    "# Identifying the variable having maximal p-value\n",
    "lmod.pvalues.idxmax(), lmod.pvalues.max()"
   ]
  },
  {
   "cell_type": "code",
   "execution_count": 7,
   "id": "e517b01a-bb13-4f2e-a54f-75bf3db24ee1",
   "metadata": {},
   "outputs": [
    {
     "data": {
      "text/plain": [
       "('Illiteracy', 0.9339977631843397)"
      ]
     },
     "execution_count": 7,
     "metadata": {},
     "output_type": "execute_result"
    }
   ],
   "source": [
    "# Fit the regression without Area\n",
    "lmod = smf.ols('LifeExp ~ Population + Income + Illiteracy + \\\n",
    "    Murder + HSGrad + Frost', statedata).fit()\n",
    "# Identifying the variable having maximal p-value\n",
    "lmod.pvalues.idxmax(), lmod.pvalues.max()"
   ]
  },
  {
   "cell_type": "code",
   "execution_count": 8,
   "id": "7994dacb-9762-45d5-82a8-01afac50fa85",
   "metadata": {},
   "outputs": [
    {
     "data": {
      "text/plain": [
       "('Income', 0.9153104342085178)"
      ]
     },
     "execution_count": 8,
     "metadata": {},
     "output_type": "execute_result"
    }
   ],
   "source": [
    "# Fit the regression without Area, Illiteracy\n",
    "lmod = smf.ols(\n",
    "    'LifeExp ~ Population + Income + Murder + HSGrad + Frost', \n",
    "    statedata).fit()\n",
    "# Identifying the variable having maximal p-value\n",
    "lmod.pvalues.idxmax(), lmod.pvalues.max()"
   ]
  },
  {
   "cell_type": "code",
   "execution_count": 9,
   "id": "3ef1c53f-3ec1-4d79-87c5-071c3718dff1",
   "metadata": {},
   "outputs": [
    {
     "data": {
      "text/plain": [
       "('Population', 0.0520051350334265)"
      ]
     },
     "execution_count": 9,
     "metadata": {},
     "output_type": "execute_result"
    }
   ],
   "source": [
    "# Fit the regression without Area, Illiteracy, Income\n",
    "lmod = smf.ols(\n",
    "    'LifeExp ~ Population + Murder + HSGrad + Frost', \n",
    "    statedata).fit()\n",
    "lmod.pvalues.idxmax(), lmod.pvalues.max()"
   ]
  },
  {
   "cell_type": "code",
   "execution_count": 10,
   "id": "7dc66332-e8ab-45c6-b886-457abbfcf7d7",
   "metadata": {},
   "outputs": [
    {
     "name": "stdout",
     "output_type": "stream",
     "text": [
      "           coefs stderr tvalues pvalues\n",
      "Intercept 71.036  0.983   72.25  0.0000\n",
      "Murder    -0.283  0.037   -7.71  0.0000\n",
      "HSGrad     0.050  0.015    3.29  0.0020\n",
      "Frost     -0.007  0.002   -2.82  0.0070\n",
      "\n",
      "n=50 p=4 Residual SD=0.743 R-squared=0.71\n"
     ]
    }
   ],
   "source": [
    "# Fit the regression without Area, Illiteracy, Income, Population\n",
    "lmod = smf.ols(\n",
    "    'LifeExp ~ Murder + HSGrad + Frost', statedata).fit()\n",
    "lmod.sumary()"
   ]
  },
  {
   "cell_type": "markdown",
   "id": "25c308d9-c98f-4627-bd0e-b4592dbb64c5",
   "metadata": {},
   "source": [
    "- The decision to remove the Population variable is a tough one. Including it could make interpretation easier.\n",
    "- The R² value only drops slightly from 0.74 to 0.71 after removing four predictors, showing a minor impact on the model’s fit.\n",
    "- It’s important to note that the omitted variables might still be related to the response."
   ]
  },
  {
   "cell_type": "code",
   "execution_count": 11,
   "id": "777647d3-7acf-4836-a79a-8c5da951f87c",
   "metadata": {},
   "outputs": [
    {
     "name": "stdout",
     "output_type": "stream",
     "text": [
      "            coefs stderr tvalues pvalues\n",
      "Intercept  74.557  0.584  127.61  0.0000\n",
      "Illiteracy -0.602  0.299   -2.01  0.0500\n",
      "Murder     -0.280  0.043   -6.45  0.0000\n",
      "Frost      -0.009  0.003   -2.94  0.0052\n",
      "\n",
      "n=50 p=4 Residual SD=0.791 R-squared=0.67\n"
     ]
    }
   ],
   "source": [
    "lmod = smf.ols(\n",
    "    'LifeExp ~ Illiteracy + Murder + Frost', statedata).fit()\n",
    "lmod.sumary()"
   ]
  },
  {
   "cell_type": "markdown",
   "id": "70c56fd6-b72c-4a51-b8e7-413c6a3f9852",
   "metadata": {},
   "source": [
    "- Illiteracy is associated with life expectancy. While replacing it with the high school graduation rate improves the model fit slightly, it doesn’t mean illiteracy isn’t important.\n",
    "- This procedure can’t always distinguish between significant and insignificant predictors."
   ]
  },
  {
   "cell_type": "markdown",
   "id": "170f70d1-cccf-41c9-b5fc-efbbdd8f0d9f",
   "metadata": {},
   "source": [
    "## 3.2. Criterion-Based Procedures\n",
    "- If we know a model’s purpose, we can measure how well it meets that goal and choose the one that best fits.\n",
    "- We choose a model g with parameters ( $\\theta$ ) that closely matches the true model f. The difference between g and f can be measured using the Kullback-Leibler distance:\n",
    "$$ I\\left(f,g\\right)=\\int{f\\left(x\\right)\\log{\\left(\\frac{f\\left(x\\right)}{g\\left(x\\middle|\\theta\\right)}\\right)}dx} $$\n",
    "    - This metric will have a positive value unless g is exactly equal to f, in which case it will be zero.\n",
    "    - We can’t directly use this metric because we don’t know the true model f.\n",
    "    - By substituting the maximum likelihood estimate (MLE) of $\\theta$ into the metric and rearranging the equation, we can derive a practical form.\n",
    "$$ \\hat{I}\\left(f,g\\right)=\\int{f\\left(x\\right)\\log{f\\left(x\\right)}dx}-\\int{f\\left(x\\right)\\log{g\\left(x\\middle|\\hat{\\theta}\\right)}dx} $$\n",
    "    - The first term is a constant that does not depend on the model g.\n",
    "- Akaike showed that $\\mathbb{E}\\left(\\hat{I}\\left(f,g\\right)\\right)$ can be estimated by $-\\log{L\\left(\\hat{\\theta}\\right)}+p+constant$\n",
    "    - Where p is the number of parameters in the model and the constant depends on the unknown true model.\n",
    "    - Akaike multipled this by two to get an information criterion: $AIC\\ =-2\\log{L\\left(\\hat{\\theta}\\right)}+2p$\n",
    "    - In linear regression models, the maximum log-likelihood is expressed as $-2\\log{L\\left(\\hat{\\theta}\\right)}=n\\log{\\left(\\frac{RSS}{n}\\right)}+constant$. This constant is consistent for a specific dataset and error distribution, so it can be ignored when comparing regression models on the same data. However, different types of models require additional considerations.\n",
    "    - We choose the model that minimizes the AIC, which balances fit and simplicity. The first term, based on RSS, measures fit, while the second term, a penalty (2p), prevents overfitting by discouraging too many predictors. This balance makes AIC a valuable tool for model selection.\n",
    "    - In Statistics and Machine Learning, the bias-variance trade-off is a key concept. When choosing a model, if the model is too simple, it will likely make biased predictions because it can’t capture the true relationship between the input variables and the output. On the other hand, if the model is too complex, it will overfit the data, leading to high variability in its predictions. The AIC (Akaike Information Criterion) is a method used to balance this trade-off.\n",
    "- Another popular option is the Bayesian Information Criterion (BIC), which modifies the AIC by replacing the 2p term with $p \\log n$. BIC penalizes larger models more strictly, so it tends to favor smaller models compared to AIC. Both AIC and BIC are commonly used to select models.\n",
    "- Both AIC and BIC are widely used to choose between different models. There’s some debate about which one is better, but generally, AIC is thought to be more suitable for prediction purposes.\n",
    "    - If we believe there is a true model and we want to choose it from a limited set of alternatives, BIC will likely select the true model as the sample size increases.\n",
    "    - If we don’t believe in a single true model and are open to considering more alternatives as our sample size grows, the model chosen by AIC will generally perform as well as the best available option.\n",
    "- Another simple option is the adjusted R². This criterion prefers models with a smaller Residual Sum of Squares (RSS) but avoids using too many degrees of freedom. It follows a similar idea to AIC and BIC but doesn’t have as much theoretical support."
   ]
  },
  {
   "cell_type": "code",
   "execution_count": 31,
   "id": "9e655bec-58e5-4c56-b89f-b63df4076381",
   "metadata": {},
   "outputs": [
    {
     "data": {
      "text/html": [
       "<div>\n",
       "<style scoped>\n",
       "    .dataframe tbody tr th:only-of-type {\n",
       "        vertical-align: middle;\n",
       "    }\n",
       "\n",
       "    .dataframe tbody tr th {\n",
       "        vertical-align: top;\n",
       "    }\n",
       "\n",
       "    .dataframe thead th {\n",
       "        text-align: right;\n",
       "    }\n",
       "</style>\n",
       "<table border=\"1\" class=\"dataframe\">\n",
       "  <thead>\n",
       "    <tr style=\"text-align: right;\">\n",
       "      <th></th>\n",
       "      <th>0</th>\n",
       "    </tr>\n",
       "  </thead>\n",
       "  <tbody>\n",
       "    <tr>\n",
       "      <th>0</th>\n",
       "      <td>Null</td>\n",
       "    </tr>\n",
       "    <tr>\n",
       "      <th>1</th>\n",
       "      <td>(Murder,)</td>\n",
       "    </tr>\n",
       "    <tr>\n",
       "      <th>2</th>\n",
       "      <td>(Murder, HSGrad)</td>\n",
       "    </tr>\n",
       "    <tr>\n",
       "      <th>3</th>\n",
       "      <td>(Murder, HSGrad, Frost)</td>\n",
       "    </tr>\n",
       "    <tr>\n",
       "      <th>4</th>\n",
       "      <td>(Population, Murder, HSGrad, Frost)</td>\n",
       "    </tr>\n",
       "    <tr>\n",
       "      <th>5</th>\n",
       "      <td>(Population, Income, Murder, HSGrad, Frost)</td>\n",
       "    </tr>\n",
       "    <tr>\n",
       "      <th>6</th>\n",
       "      <td>(Population, Income, Illiteracy, Murder, HSGrad, Frost)</td>\n",
       "    </tr>\n",
       "    <tr>\n",
       "      <th>7</th>\n",
       "      <td>(Population, Income, Illiteracy, Murder, HSGrad, Frost, Area)</td>\n",
       "    </tr>\n",
       "  </tbody>\n",
       "</table>\n",
       "</div>"
      ],
      "text/plain": [
       "                                                               0\n",
       "0                                                           Null\n",
       "1                                                      (Murder,)\n",
       "2                                               (Murder, HSGrad)\n",
       "3                                        (Murder, HSGrad, Frost)\n",
       "4                            (Population, Murder, HSGrad, Frost)\n",
       "5                    (Population, Income, Murder, HSGrad, Frost)\n",
       "6        (Population, Income, Illiteracy, Murder, HSGrad, Frost)\n",
       "7  (Population, Income, Illiteracy, Murder, HSGrad, Frost, Area)"
      ]
     },
     "execution_count": 31,
     "metadata": {},
     "output_type": "execute_result"
    }
   ],
   "source": [
    "import itertools  # For generating combinations of predictor variables\n",
    "# Step 1: Prepare the data\n",
    "# Assume 'statedata' is already loaded as shown previously\n",
    "# Get the list of columns (predictors) from the statedata dataset, excluding the target variable 'LifeExp'\n",
    "pcols = list(statedata.columns)\n",
    "pcols.remove('LifeExp')\n",
    "\n",
    "# Step 2: Initialize an array to store the Residual Sum of Squares (RSS)\n",
    "# The length of the array is one more than the number of predictors\n",
    "rss = np.empty(len(pcols) + 1)\n",
    "\n",
    "# Step 3: Calculate the Total Sum of Squares (TSS)\n",
    "# The TSS is the RSS for the null model, where we use the mean of 'LifeExp' as the predictor\n",
    "rss[0] = np.sum((statedata.LifeExp - np.mean(statedata.LifeExp)) ** 2)\n",
    "\n",
    "# Step 4: Initialize a list to store the selected variables\n",
    "selvar = ['Null']  # 'Null' represents the model without any predictors\n",
    "\n",
    "# Step 5: Perform exhaustive search for the best set of predictors at each level\n",
    "# Loop over the number of predictors (from 1 to the total number of predictors)\n",
    "for k in range(1, len(pcols) + 1):    \n",
    "    # Initialize a dictionary to store the RSS for each combination of k predictors\n",
    "    RSS = {}    \n",
    "    # Generate all combinations of k predictors using itertools.combinations\n",
    "    for variables in itertools.combinations(pcols, k):        \n",
    "        # Select the predictor variables for the current combination\n",
    "        predictors = statedata.loc[:, list(variables)]        \n",
    "        # Add an intercept (constant term) to the predictors\n",
    "        predictors['Intercept'] = 1        \n",
    "        # Fit an OLS model using the selected predictors\n",
    "        res = sm.OLS(statedata.LifeExp, predictors).fit()        \n",
    "        # Store the Residual Sum of Squares (RSS) for the current model\n",
    "        RSS[variables] = res.ssr    \n",
    "    # Find the minimum RSS among all combinations of k predictors\n",
    "    rss[k] = min(RSS.values())    \n",
    "    # Append the best set of variables (with the smallest RSS) to the selvar list\n",
    "    selvar.append(min(RSS, key=RSS.get))\n",
    "rss.round(3)\n",
    "# Step 6: Output the selected variables at each step\n",
    "pd.set_option('display.max_colwidth', None) # show full column\n",
    "pd.DataFrame(selvar)"
   ]
  },
  {
   "cell_type": "code",
   "execution_count": 32,
   "id": "5d872de9-80ea-4ab9-b335-f254f7a92645",
   "metadata": {},
   "outputs": [
    {
     "data": {
      "image/png": "[encoded data removed]",
      "text/plain": [
       "<Figure size 640x480 with 1 Axes>"
      ]
     },
     "metadata": {},
     "output_type": "display_data"
    }
   ],
   "source": [
    "# Computing AIC and plotting\n",
    "aic = 50 * np.log(rss/50) + np.arange(1,9)*2\n",
    "plt.plot(np.arange(1,8), aic[1:])\n",
    "plt.xlabel('Number of Predictors'); plt.ylabel('AIC'); "
   ]
  },
  {
   "cell_type": "code",
   "execution_count": 34,
   "id": "21fd6f90-5650-406a-958e-7e4edaedbc0f",
   "metadata": {},
   "outputs": [
    {
     "data": {
      "image/png": "[encoded data removed]",
      "text/plain": [
       "<Figure size 640x480 with 1 Axes>"
      ]
     },
     "metadata": {},
     "output_type": "display_data"
    }
   ],
   "source": [
    "# Computing adjusted R² and plotting\n",
    "adjr2 = 1 - (rss/(50 - np.arange(1,9)))/(rss[0]/49)\n",
    "plt.plot(np.arange(1,8),adjr2[1:])\n",
    "plt.xlabel('Number of Predictors'); plt.ylabel('Adjusted R^2');"
   ]
  },
  {
   "cell_type": "markdown",
   "id": "1ae8c792-126e-4faf-856d-50a4aa81d756",
   "metadata": {},
   "source": [
    "- The model chosen from these methods is the same - we pick the four predictor model using Population, Murder, HSGrad, Frost.\n",
    "- Computing the RSS for all subset models works well with few predictors. The number of subsets is $2^q$, where q is the number of predictors. As q increases, this becomes time-consuming. Efficient algorithms can help, but eventually, evaluating all subsets becomes impractical.\n",
    "- A quicker method is to create a series of models, each with a different number of predictors. While we can’t explore every possible subset, we can still find a good option more efficiently. The scikit-learn package makes this easy. First, standardize the variables to have a zero mean and unit standard deviation:\n",
    "    - Rescaling has the benefit of making the size of the regression coefficient reflect its importance in the model."
   ]
  },
  {
   "cell_type": "code",
   "execution_count": 35,
   "id": "301dd611-2f96-4574-8019-fdadf0f2a163",
   "metadata": {},
   "outputs": [
    {
     "data": {
      "text/html": [
       "<div>\n",
       "<style scoped>\n",
       "    .dataframe tbody tr th:only-of-type {\n",
       "        vertical-align: middle;\n",
       "    }\n",
       "\n",
       "    .dataframe tbody tr th {\n",
       "        vertical-align: top;\n",
       "    }\n",
       "\n",
       "    .dataframe thead th {\n",
       "        text-align: right;\n",
       "    }\n",
       "</style>\n",
       "<table border=\"1\" class=\"dataframe\">\n",
       "  <thead>\n",
       "    <tr style=\"text-align: right;\">\n",
       "      <th></th>\n",
       "      <th>Population</th>\n",
       "      <th>Income</th>\n",
       "      <th>Illiteracy</th>\n",
       "      <th>LifeExp</th>\n",
       "      <th>Murder</th>\n",
       "      <th>HSGrad</th>\n",
       "      <th>Frost</th>\n",
       "      <th>Area</th>\n",
       "    </tr>\n",
       "    <tr>\n",
       "      <th>State</th>\n",
       "      <th></th>\n",
       "      <th></th>\n",
       "      <th></th>\n",
       "      <th></th>\n",
       "      <th></th>\n",
       "      <th></th>\n",
       "      <th></th>\n",
       "      <th></th>\n",
       "    </tr>\n",
       "  </thead>\n",
       "  <tbody>\n",
       "    <tr>\n",
       "      <th>AL</th>\n",
       "      <td>-0.142867</td>\n",
       "      <td>-1.334552</td>\n",
       "      <td>1.541248</td>\n",
       "      <td>-1.376023</td>\n",
       "      <td>2.113047</td>\n",
       "      <td>-1.476772</td>\n",
       "      <td>-1.641325</td>\n",
       "      <td>-0.237101</td>\n",
       "    </tr>\n",
       "    <tr>\n",
       "      <th>AK</th>\n",
       "      <td>-0.878225</td>\n",
       "      <td>3.089295</td>\n",
       "      <td>0.546895</td>\n",
       "      <td>-1.180373</td>\n",
       "      <td>1.073216</td>\n",
       "      <td>1.699888</td>\n",
       "      <td>0.923853</td>\n",
       "      <td>5.868329</td>\n",
       "    </tr>\n",
       "    <tr>\n",
       "      <th>AZ</th>\n",
       "      <td>-0.460315</td>\n",
       "      <td>0.154859</td>\n",
       "      <td>1.044071</td>\n",
       "      <td>-0.247272</td>\n",
       "      <td>0.115476</td>\n",
       "      <td>0.624326</td>\n",
       "      <td>-1.738491</td>\n",
       "      <td>0.505283</td>\n",
       "    </tr>\n",
       "    <tr>\n",
       "      <th>AR</th>\n",
       "      <td>-0.483394</td>\n",
       "      <td>-1.738961</td>\n",
       "      <td>1.209797</td>\n",
       "      <td>-0.164497</td>\n",
       "      <td>0.744848</td>\n",
       "      <td>-1.651863</td>\n",
       "      <td>-0.766833</td>\n",
       "      <td>-0.222457</td>\n",
       "    </tr>\n",
       "    <tr>\n",
       "      <th>CA</th>\n",
       "      <td>3.835528</td>\n",
       "      <td>1.114921</td>\n",
       "      <td>-0.116008</td>\n",
       "      <td>0.625629</td>\n",
       "      <td>0.799576</td>\n",
       "      <td>1.187120</td>\n",
       "      <td>-1.641325</td>\n",
       "      <td>1.013678</td>\n",
       "    </tr>\n",
       "  </tbody>\n",
       "</table>\n",
       "</div>"
      ],
      "text/plain": [
       "       Population    Income  Illiteracy   LifeExp    Murder    HSGrad  \\\n",
       "State                                                                   \n",
       "AL      -0.142867 -1.334552    1.541248 -1.376023  2.113047 -1.476772   \n",
       "AK      -0.878225  3.089295    0.546895 -1.180373  1.073216  1.699888   \n",
       "AZ      -0.460315  0.154859    1.044071 -0.247272  0.115476  0.624326   \n",
       "AR      -0.483394 -1.738961    1.209797 -0.164497  0.744848 -1.651863   \n",
       "CA       3.835528  1.114921   -0.116008  0.625629  0.799576  1.187120   \n",
       "\n",
       "          Frost      Area  \n",
       "State                      \n",
       "AL    -1.641325 -0.237101  \n",
       "AK     0.923853  5.868329  \n",
       "AZ    -1.738491  0.505283  \n",
       "AR    -0.766833 -0.222457  \n",
       "CA    -1.641325  1.013678  "
      ]
     },
     "execution_count": 35,
     "metadata": {},
     "output_type": "execute_result"
    }
   ],
   "source": [
    "from sklearn.preprocessing import scale\n",
    "scalstat = pd.DataFrame(scale(statedata), index=statedata.index, \n",
    "    columns=statedata.columns)\n",
    "scalstat.head()"
   ]
  },
  {
   "cell_type": "code",
   "execution_count": 38,
   "id": "9b71d05c-207c-4506-a46c-5eb82a626fe4",
   "metadata": {},
   "outputs": [
    {
     "name": "stdout",
     "output_type": "stream",
     "text": [
      "[ 0.17227607 -0.00998072  0.0153566  -0.82807917  0.29440196 -0.22207364\n",
      " -0.004693  ]\n",
      "0.0\n"
     ]
    }
   ],
   "source": [
    "from sklearn import linear_model\n",
    "# Step 1: Create a linear regression model instance\n",
    "# 'fit_intercept=False' means we do not want the model to automatically include an intercept term\n",
    "reg = linear_model.LinearRegression(fit_intercept=False)\n",
    "# Step 2: Prepare the feature matrix X and the target variable y\n",
    "# X contains all the columns except 'LifeExp'\n",
    "X = scalstat.drop('LifeExp', axis=1)\n",
    "# Step 3: Fit the linear regression model\n",
    "# The model is trained using the feature matrix X and the target variable 'LifeExp'\n",
    "reg.fit(X, scalstat.LifeExp)\n",
    "# Step 5: Display the coefficients of the fitted model\n",
    "# 'reg.coef_' contains the coefficients (weights) for each feature in X\n",
    "print(reg.coef_)\n",
    "print(reg.intercept_)"
   ]
  },
  {
   "cell_type": "markdown",
   "id": "9e6162c8-ec54-45af-a5f2-8117281da2db",
   "metadata": {},
   "source": [
    "- The intercept is zero because we’ve standardized the data.\n",
    "- The coefficient for Murder is the largest, showing it’s the most important, while Area is the smallest, indicating it’s the least important.\n",
    "- Next, we use Recursive Feature Elimination (RFE), which removes the least important variable, refits the model, and repeats. This is similar to backward elimination, but while backward elimination selects the final model, RFE provides a sequence of potential models."
   ]
  },
  {
   "cell_type": "code",
   "execution_count": 40,
   "id": "b1960c63-a424-4d53-953e-667925587b78",
   "metadata": {},
   "outputs": [
    {
     "data": {
      "text/plain": [
       "array([4, 6, 5, 1, 2, 3, 7])"
      ]
     },
     "execution_count": 40,
     "metadata": {},
     "output_type": "execute_result"
    }
   ],
   "source": [
    "from sklearn.feature_selection import RFE\n",
    "# Step 1: Create a linear regression model instance\n",
    "# 'reg' is the linear regression model created in a previous step\n",
    "# We will use this model in the RFE process\n",
    "reg = linear_model.LinearRegression(fit_intercept=False)\n",
    "\n",
    "# Step 2: Set up Recursive Feature Elimination (RFE)\n",
    "# Initialize the RFE selector with the linear regression model and specify the number of features to select\n",
    "# n_features_to_select=1 means we will rank all features and identify the most important one\n",
    "selector = RFE(estimator=reg, n_features_to_select=1)\n",
    "\n",
    "# Step 3: Fit the RFE selector to the data\n",
    "# We pass the feature matrix X and target variable scalstat.LifeExp to fit the RFE model\n",
    "selector = selector.fit(X, scalstat.LifeExp)\n",
    "\n",
    "# Step 4: Display the feature ranking\n",
    "# selector.ranking_ returns an array that represents the rank of each feature\n",
    "# A rank of 1 means the feature is the most important, while higher ranks are less important\n",
    "selector.ranking_"
   ]
  },
  {
   "cell_type": "code",
   "execution_count": 54,
   "id": "b0069bad-9d5e-428f-9be8-8eb76771c978",
   "metadata": {},
   "outputs": [
    {
     "data": {
      "text/plain": [
       "['Population',\n",
       " 'Income',\n",
       " 'Illiteracy',\n",
       " 'LifeExp',\n",
       " 'Murder',\n",
       " 'HSGrad',\n",
       " 'Frost',\n",
       " 'Area']"
      ]
     },
     "execution_count": 54,
     "metadata": {},
     "output_type": "execute_result"
    }
   ],
   "source": [
    "list(scalstat.columns)"
   ]
  },
  {
   "cell_type": "code",
   "execution_count": 41,
   "id": "cd27f851-0a6f-4b98-a007-086acc351f2b",
   "metadata": {},
   "outputs": [
    {
     "data": {
      "text/plain": [
       "['Murder', 'HSGrad', 'Frost', 'Population', 'Illiteracy', 'Income', 'Area']"
      ]
     },
     "execution_count": 41,
     "metadata": {},
     "output_type": "execute_result"
    }
   ],
   "source": [
    "# Show ranked predictors\n",
    "X.columns[np.argsort(selector.ranking_)].tolist()"
   ]
  },
  {
   "cell_type": "markdown",
   "id": "5e7a7ceb-42f2-45eb-a425-d8583d831ba9",
   "metadata": {},
   "source": [
    "- Interestingly, this method produces the same sequence of candidate models as an exhaustive search, though this isn’t always the case.\n",
    "- We can use AIC to select the best model, which will make the same choice here.\n",
    "- With few predictors, an exhaustive search is preferable, but with more predictors, this method is more practical.\n",
    "- Variable selection methods can be affected by outliers and influential points.\n",
    "    - In this dataset, Alaska has very high leverage. If we exclude it and rerun the model selection, we get a different set of predictors.\n",
    "- These methods are also sensitive to variable transformations. For example, the Area and Population variables are skewed, so applying a log transformation and redoing the model selection will yield different predictors.\n",
    "- It’s best to start by fitting a model with all predictors, perform regression diagnostics, and address any unusual points or transformations before selecting the model."
   ]
  },
  {
   "cell_type": "code",
   "execution_count": null,
   "id": "cbe921b5-2e3a-4c8b-bd58-469ae347936f",
   "metadata": {},
   "outputs": [],
   "source": []
  },
  {
   "cell_type": "code",
   "execution_count": null,
   "id": "488da90b-cded-401c-8520-f8f633f78d7b",
   "metadata": {},
   "outputs": [],
   "source": []
  },
  {
   "cell_type": "code",
   "execution_count": null,
   "id": "e48c8d22-6838-4945-90d7-59d210a29102",
   "metadata": {},
   "outputs": [],
   "source": []
  },
  {
   "cell_type": "code",
   "execution_count": null,
   "id": "fd5529a8-5497-46b2-b770-452f20ae7975",
   "metadata": {},
   "outputs": [],
   "source": []
  }
 ],
 "metadata": {
  "kernelspec": {
   "display_name": "Python 3 (ipykernel)",
   "language": "python",
   "name": "python3"
  },
  "language_info": {
   "codemirror_mode": {
    "name": "ipython",
    "version": 3
   },
   "file_extension": ".py",
   "mimetype": "text/x-python",
   "name": "python",
   "nbconvert_exporter": "python",
   "pygments_lexer": "ipython3",
   "version": "3.11.9"
  }
 },
 "nbformat": 4,
 "nbformat_minor": 5
}
